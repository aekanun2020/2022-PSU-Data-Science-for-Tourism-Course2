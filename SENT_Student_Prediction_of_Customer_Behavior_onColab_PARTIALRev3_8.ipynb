{
  "nbformat": 4,
  "nbformat_minor": 0,
  "metadata": {
    "kernelspec": {
      "display_name": "Python 3",
      "language": "python",
      "name": "python3"
    },
    "language_info": {
      "codemirror_mode": {
        "name": "ipython",
        "version": 3
      },
      "file_extension": ".py",
      "mimetype": "text/x-python",
      "name": "python",
      "nbconvert_exporter": "python",
      "pygments_lexer": "ipython3",
      "version": "3.6.1"
    },
    "colab": {
      "name": "SENT-Student-Prediction_of_Customer_Behavior_onColab_PARTIALRev3.8.ipynb",
      "provenance": [],
      "collapsed_sections": [],
      "machine_shape": "hm",
      "include_colab_link": true
    }
  },
  "cells": [
    {
      "cell_type": "markdown",
      "metadata": {
        "id": "view-in-github",
        "colab_type": "text"
      },
      "source": [
        "<a href=\"https://colab.research.google.com/github/aekanun2020/2022-PSU-Data-Science-for-Tourism-Course2/blob/main/SENT_Student_Prediction_of_Customer_Behavior_onColab_PARTIALRev3_8.ipynb\" target=\"_parent\"><img src=\"https://colab.research.google.com/assets/colab-badge.svg\" alt=\"Open In Colab\"/></a>"
      ]
    },
    {
      "cell_type": "markdown",
      "source": [
        "# Setting up Spark Environment"
      ],
      "metadata": {
        "id": "SYq4wBqPMeUF"
      }
    },
    {
      "cell_type": "code",
      "metadata": {
        "id": "0dTkA-bDa5bm"
      },
      "source": [
        "!apt-get install openjdk-8-jdk-headless -qq > /dev/null\n",
        "!wget -q https://archive.apache.org/dist/spark/spark-3.1.2/spark-3.1.2-bin-hadoop2.7.tgz\n",
        "!tar xf spark-3.1.2-bin-hadoop2.7.tgz\n",
        "!pip install -q findspark"
      ],
      "execution_count": 1,
      "outputs": []
    },
    {
      "cell_type": "code",
      "metadata": {
        "id": "cy4_WOqEa5GJ"
      },
      "source": [
        "import os\n",
        "os.environ[\"JAVA_HOME\"] = \"/usr/lib/jvm/java-8-openjdk-amd64\"\n",
        "os.environ[\"SPARK_HOME\"] = \"/content/spark-3.1.2-bin-hadoop2.7\""
      ],
      "execution_count": 2,
      "outputs": []
    },
    {
      "cell_type": "code",
      "metadata": {
        "id": "kI7zVpqja4du"
      },
      "source": [
        "import findspark\n",
        "findspark.init()\n",
        "from pyspark.sql import SparkSession\n",
        "spark = SparkSession.builder.master(\"local[*]\").getOrCreate()"
      ],
      "execution_count": 3,
      "outputs": []
    },
    {
      "cell_type": "code",
      "metadata": {
        "collapsed": true,
        "id": "gLOiqgf1a2Ku"
      },
      "source": [
        "from pyspark.sql import SparkSession"
      ],
      "execution_count": 4,
      "outputs": []
    },
    {
      "cell_type": "code",
      "metadata": {
        "collapsed": true,
        "id": "GBqMbCCxa2Kv"
      },
      "source": [
        "sc = spark.sparkContext"
      ],
      "execution_count": 5,
      "outputs": []
    },
    {
      "cell_type": "code",
      "metadata": {
        "id": "MjoDgjaja2Kv",
        "colab": {
          "base_uri": "https://localhost:8080/",
          "height": 210
        },
        "outputId": "b3182d0f-a5f0-4c11-c035-9f116079e49e"
      },
      "source": [
        "sc"
      ],
      "execution_count": 6,
      "outputs": [
        {
          "output_type": "execute_result",
          "data": {
            "text/html": [
              "\n",
              "        <div>\n",
              "            <p><b>SparkContext</b></p>\n",
              "\n",
              "            <p><a href=\"http://9a80d2c123c3:4040\">Spark UI</a></p>\n",
              "\n",
              "            <dl>\n",
              "              <dt>Version</dt>\n",
              "                <dd><code>v3.1.2</code></dd>\n",
              "              <dt>Master</dt>\n",
              "                <dd><code>local[*]</code></dd>\n",
              "              <dt>AppName</dt>\n",
              "                <dd><code>pyspark-shell</code></dd>\n",
              "            </dl>\n",
              "        </div>\n",
              "        "
            ],
            "text/plain": [
              "<SparkContext master=local[*] appName=pyspark-shell>"
            ]
          },
          "metadata": {},
          "execution_count": 6
        }
      ]
    },
    {
      "cell_type": "markdown",
      "source": [
        "# Libraries and Modules Installation"
      ],
      "metadata": {
        "id": "7OpgrJBRMZ0_"
      }
    },
    {
      "cell_type": "code",
      "source": [
        "#Spark\n",
        "from pyspark.sql import functions as sparkf\n",
        "from pyspark.sql import Window as W\n",
        "from pyspark.sql.types import *\n",
        "from pyspark.ml.feature import StringIndexer, OneHotEncoder\n",
        "from pyspark.mllib.linalg import Vectors\n",
        "from pyspark.ml.feature import VectorAssembler\n",
        "from pyspark.ml import Pipeline\n",
        "from pyspark.ml.classification import RandomForestClassifier, LogisticRegression\n",
        "from pyspark.ml.tuning import CrossValidator, ParamGridBuilder\n",
        "from pyspark.ml.evaluation import BinaryClassificationEvaluator, MulticlassClassificationEvaluator\n",
        "\n",
        "#Python\n",
        "import matplotlib.pyplot as plt\n",
        "import pandas as pd\n",
        "import numpy as np\n",
        "import sys\n",
        "from functools import reduce"
      ],
      "metadata": {
        "id": "QeyucOzDM1hG"
      },
      "execution_count": 7,
      "outputs": []
    },
    {
      "cell_type": "markdown",
      "metadata": {
        "id": "hGSzhwXj3yeo"
      },
      "source": [
        "# 1. Business Understanding"
      ]
    },
    {
      "cell_type": "markdown",
      "source": [
        "**ธุรกิจต้องการได้รับ Machine Learning Model ที่ทำให้ทราบล่วงหน้าว่า ลูกค้าที่กำลังเลือกดูสินค้าอยู่ จะซื้อหรือไม่ซื้อสินค้าหรือไม่ (Binary Classification)**"
      ],
      "metadata": {
        "id": "dDaZFOMCNNuP"
      }
    },
    {
      "cell_type": "markdown",
      "source": [
        "(1) ไม่สนใจ timeOnScreen เนื่องจาก การ run รอบแรก ทำให้ที่ .describe() ว่าไม่มีค่าอะไรเลยใน attribute นี้\n",
        "(2) ไม่สนใจ hitReferer เนื่องจาก เป็น url ซึ่งเห็นจากการ run รอบแรก ที่เห็นช่วงข้อมูลจาก .describe() "
      ],
      "metadata": {
        "id": "t86-BqP4u5Ro"
      }
    },
    {
      "cell_type": "code",
      "source": [
        "business_NotRequired_col_list = [\\\n",
        "                        #'sourceKeyword'\\\n",
        "                        #,'fullVisitorId'\\\n",
        "                        #,'isVideoAd'\\\n",
        "                        #,'date'\\\n",
        "                        #,'isTrueDirect'\\\n",
        "                        #,'hitHour'\\\n",
        "                        #,'hitMin'\\\n",
        "                        #,'isClick'\\\n",
        "                        #,'productListName'\\\n",
        "                        #,'isImpression'\\\n",
        "                        #,'sessionQualityDim'\\\n",
        "                        'timeOnScreen'\\\n",
        "                        ,'hitReferer'\n",
        "                        #,'medium'\n",
        "                        #,'hitType'\n",
        "                        ]"
      ],
      "metadata": {
        "id": "6LNb4yc3GjN7"
      },
      "execution_count": 8,
      "outputs": []
    },
    {
      "cell_type": "markdown",
      "metadata": {
        "id": "QcjImh624NjJ"
      },
      "source": [
        "# 2. Data Understanding"
      ]
    },
    {
      "cell_type": "markdown",
      "source": [
        "### **2.1 Data Collection and Previewing Data**"
      ],
      "metadata": {
        "id": "dGE-VXFnlt7O"
      }
    },
    {
      "cell_type": "code",
      "metadata": {
        "id": "GsltUxZza2LE",
        "colab": {
          "base_uri": "https://localhost:8080/"
        },
        "outputId": "834c53b5-d8b0-43e5-ec0e-65d3409f0eba"
      },
      "source": [
        "! wget https://storage.googleapis.com/class25jan2022/share/testfunnel.csv"
      ],
      "execution_count": 9,
      "outputs": [
        {
          "output_type": "stream",
          "name": "stdout",
          "text": [
            "--2022-03-05 05:27:44--  https://storage.googleapis.com/class25jan2022/share/testfunnel.csv\n",
            "Resolving storage.googleapis.com (storage.googleapis.com)... 172.217.203.128, 142.251.107.128, 172.217.204.128, ...\n",
            "Connecting to storage.googleapis.com (storage.googleapis.com)|172.217.203.128|:443... connected.\n",
            "HTTP request sent, awaiting response... 200 OK\n",
            "Length: 1501012 (1.4M) [text/csv]\n",
            "Saving to: ‘testfunnel.csv’\n",
            "\n",
            "\rtestfunnel.csv        0%[                    ]       0  --.-KB/s               \rtestfunnel.csv      100%[===================>]   1.43M  --.-KB/s    in 0.02s   \n",
            "\n",
            "2022-03-05 05:27:44 (80.0 MB/s) - ‘testfunnel.csv’ saved [1501012/1501012]\n",
            "\n"
          ]
        }
      ]
    },
    {
      "cell_type": "code",
      "metadata": {
        "id": "Fn4-dQJpaeTW",
        "colab": {
          "base_uri": "https://localhost:8080/"
        },
        "outputId": "195f03e0-11ea-4a07-e8d3-9ff301bc73f7"
      },
      "source": [
        "! head -3 testfunnel.csv"
      ],
      "execution_count": 10,
      "outputs": [
        {
          "output_type": "stream",
          "name": "stdout",
          "text": [
            "source,isTrueDirect,sourceKeyword,medium,isVideoAd,fullVisitorId,visitId,date,newVisits,hitReferer,hitType,hitAction_type,hitNumber,hitHour,hitMin,timeMicroSec,v2ProductName,productListName,isClick,isImpression,sessionQualityDim,timeOnScreen,timeOnSite,totalTransactionRevenue\n",
            "google,true,(not provided),organic,,4988612949713423910,1489617360,20170315,,,PAGE,0,28,15,46,608771,Google Accent Insulated Stainless Steel Bottle,Category,,true,,,1897,\n",
            "google,true,(not provided),organic,,4988612949713423910,1489617360,20170315,,,PAGE,0,27,15,46,605064,Google Pocket Bluetooth Speaker,Category,,true,,,1897,\n"
          ]
        }
      ]
    },
    {
      "cell_type": "code",
      "source": [
        "! wc -l testfunnel.csv"
      ],
      "metadata": {
        "id": "ZPIGtjCqEFmS",
        "colab": {
          "base_uri": "https://localhost:8080/"
        },
        "outputId": "6e0d78e7-6ee5-4d8f-93ee-457d4f80f5cb"
      },
      "execution_count": 11,
      "outputs": [
        {
          "output_type": "stream",
          "name": "stdout",
          "text": [
            "10000 testfunnel.csv\n"
          ]
        }
      ]
    },
    {
      "cell_type": "code",
      "metadata": {
        "id": "DRVIPIh503XR"
      },
      "source": [
        "source_df = spark.read.option('header','true')\\\n",
        ".option(\"inferSchema\" , \"true\")\\\n",
        ".format('csv').load('./testfunnel.csv')"
      ],
      "execution_count": 12,
      "outputs": []
    },
    {
      "cell_type": "code",
      "source": [
        "raw_df = source_df.select([ col for col in source_df.columns if col not in business_NotRequired_col_list ])"
      ],
      "metadata": {
        "id": "Xai5egL_A4sF"
      },
      "execution_count": 13,
      "outputs": []
    },
    {
      "cell_type": "code",
      "source": [
        "business_NotRequired_col_list"
      ],
      "metadata": {
        "id": "NkPLHbarBr8j",
        "colab": {
          "base_uri": "https://localhost:8080/"
        },
        "outputId": "12e7fc94-7d1a-48fc-e2c1-b6789854d065"
      },
      "execution_count": 14,
      "outputs": [
        {
          "output_type": "execute_result",
          "data": {
            "text/plain": [
              "['timeOnScreen', 'hitReferer']"
            ]
          },
          "metadata": {},
          "execution_count": 14
        }
      ]
    },
    {
      "cell_type": "code",
      "metadata": {
        "id": "mBjlU_WkckEg",
        "colab": {
          "base_uri": "https://localhost:8080/"
        },
        "outputId": "253715bd-0764-433f-d82c-a2587448d6c3"
      },
      "source": [
        "len(raw_df.columns)"
      ],
      "execution_count": 15,
      "outputs": [
        {
          "output_type": "execute_result",
          "data": {
            "text/plain": [
              "22"
            ]
          },
          "metadata": {},
          "execution_count": 15
        }
      ]
    },
    {
      "cell_type": "code",
      "metadata": {
        "id": "eoEDqDr809CE",
        "colab": {
          "base_uri": "https://localhost:8080/",
          "height": 800
        },
        "outputId": "79bf321a-a44c-4dd1-98aa-9992c4f23ce3"
      },
      "source": [
        "raw_df.sample(0.001).limit(5).toPandas().transpose()"
      ],
      "execution_count": 16,
      "outputs": [
        {
          "output_type": "execute_result",
          "data": {
            "text/html": [
              "\n",
              "  <div id=\"df-105e01c5-13f7-41e4-afde-7872d89cb788\">\n",
              "    <div class=\"colab-df-container\">\n",
              "      <div>\n",
              "<style scoped>\n",
              "    .dataframe tbody tr th:only-of-type {\n",
              "        vertical-align: middle;\n",
              "    }\n",
              "\n",
              "    .dataframe tbody tr th {\n",
              "        vertical-align: top;\n",
              "    }\n",
              "\n",
              "    .dataframe thead th {\n",
              "        text-align: right;\n",
              "    }\n",
              "</style>\n",
              "<table border=\"1\" class=\"dataframe\">\n",
              "  <thead>\n",
              "    <tr style=\"text-align: right;\">\n",
              "      <th></th>\n",
              "      <th>0</th>\n",
              "      <th>1</th>\n",
              "      <th>2</th>\n",
              "      <th>3</th>\n",
              "      <th>4</th>\n",
              "    </tr>\n",
              "  </thead>\n",
              "  <tbody>\n",
              "    <tr>\n",
              "      <th>source</th>\n",
              "      <td>(direct)</td>\n",
              "      <td>google</td>\n",
              "      <td>(direct)</td>\n",
              "      <td>(direct)</td>\n",
              "      <td>(direct)</td>\n",
              "    </tr>\n",
              "    <tr>\n",
              "      <th>isTrueDirect</th>\n",
              "      <td>None</td>\n",
              "      <td>None</td>\n",
              "      <td>None</td>\n",
              "      <td>True</td>\n",
              "      <td>True</td>\n",
              "    </tr>\n",
              "    <tr>\n",
              "      <th>sourceKeyword</th>\n",
              "      <td>None</td>\n",
              "      <td>(not provided)</td>\n",
              "      <td>None</td>\n",
              "      <td>None</td>\n",
              "      <td>None</td>\n",
              "    </tr>\n",
              "    <tr>\n",
              "      <th>medium</th>\n",
              "      <td>(none)</td>\n",
              "      <td>organic</td>\n",
              "      <td>(none)</td>\n",
              "      <td>(none)</td>\n",
              "      <td>(none)</td>\n",
              "    </tr>\n",
              "    <tr>\n",
              "      <th>isVideoAd</th>\n",
              "      <td>None</td>\n",
              "      <td>None</td>\n",
              "      <td>None</td>\n",
              "      <td>None</td>\n",
              "      <td>None</td>\n",
              "    </tr>\n",
              "    <tr>\n",
              "      <th>fullVisitorId</th>\n",
              "      <td>4990075466656363861</td>\n",
              "      <td>4990095180157260404</td>\n",
              "      <td>4990634493822624181</td>\n",
              "      <td>4991710110216617350</td>\n",
              "      <td>499181803050305114</td>\n",
              "    </tr>\n",
              "    <tr>\n",
              "      <th>visitId</th>\n",
              "      <td>1480486355</td>\n",
              "      <td>1493943683</td>\n",
              "      <td>1492621822</td>\n",
              "      <td>1471605830</td>\n",
              "      <td>1492037213</td>\n",
              "    </tr>\n",
              "    <tr>\n",
              "      <th>date</th>\n",
              "      <td>20161129</td>\n",
              "      <td>20170504</td>\n",
              "      <td>20170419</td>\n",
              "      <td>20160819</td>\n",
              "      <td>20170412</td>\n",
              "    </tr>\n",
              "    <tr>\n",
              "      <th>newVisits</th>\n",
              "      <td>1</td>\n",
              "      <td>1</td>\n",
              "      <td>1</td>\n",
              "      <td>1</td>\n",
              "      <td>1</td>\n",
              "    </tr>\n",
              "    <tr>\n",
              "      <th>hitType</th>\n",
              "      <td>PAGE</td>\n",
              "      <td>PAGE</td>\n",
              "      <td>PAGE</td>\n",
              "      <td>PAGE</td>\n",
              "      <td>PAGE</td>\n",
              "    </tr>\n",
              "    <tr>\n",
              "      <th>hitAction_type</th>\n",
              "      <td>0</td>\n",
              "      <td>0</td>\n",
              "      <td>0</td>\n",
              "      <td>0</td>\n",
              "      <td>0</td>\n",
              "    </tr>\n",
              "    <tr>\n",
              "      <th>hitNumber</th>\n",
              "      <td>12</td>\n",
              "      <td>5</td>\n",
              "      <td>43</td>\n",
              "      <td>1</td>\n",
              "      <td>5</td>\n",
              "    </tr>\n",
              "    <tr>\n",
              "      <th>hitHour</th>\n",
              "      <td>22</td>\n",
              "      <td>17</td>\n",
              "      <td>10</td>\n",
              "      <td>4</td>\n",
              "      <td>15</td>\n",
              "    </tr>\n",
              "    <tr>\n",
              "      <th>hitMin</th>\n",
              "      <td>14</td>\n",
              "      <td>22</td>\n",
              "      <td>42</td>\n",
              "      <td>23</td>\n",
              "      <td>50</td>\n",
              "    </tr>\n",
              "    <tr>\n",
              "      <th>timeMicroSec</th>\n",
              "      <td>127595</td>\n",
              "      <td>68652</td>\n",
              "      <td>1935870</td>\n",
              "      <td>0</td>\n",
              "      <td>204910</td>\n",
              "    </tr>\n",
              "    <tr>\n",
              "      <th>v2ProductName</th>\n",
              "      <td>Google Men's Pullover Hoodie Grey</td>\n",
              "      <td>Micro Wireless Earbud</td>\n",
              "      <td>Sport Bag</td>\n",
              "      <td>Google Men's Short Sleeve Badge Tee Charcoal</td>\n",
              "      <td>Google 2200mAh Micro Charger</td>\n",
              "    </tr>\n",
              "    <tr>\n",
              "      <th>productListName</th>\n",
              "      <td>Related Products</td>\n",
              "      <td>Category</td>\n",
              "      <td>Category</td>\n",
              "      <td>Category</td>\n",
              "      <td>Category</td>\n",
              "    </tr>\n",
              "    <tr>\n",
              "      <th>isClick</th>\n",
              "      <td>None</td>\n",
              "      <td>None</td>\n",
              "      <td>None</td>\n",
              "      <td>None</td>\n",
              "      <td>None</td>\n",
              "    </tr>\n",
              "    <tr>\n",
              "      <th>isImpression</th>\n",
              "      <td>True</td>\n",
              "      <td>True</td>\n",
              "      <td>True</td>\n",
              "      <td>True</td>\n",
              "      <td>True</td>\n",
              "    </tr>\n",
              "    <tr>\n",
              "      <th>sessionQualityDim</th>\n",
              "      <td>NaN</td>\n",
              "      <td>NaN</td>\n",
              "      <td>NaN</td>\n",
              "      <td>NaN</td>\n",
              "      <td>NaN</td>\n",
              "    </tr>\n",
              "    <tr>\n",
              "      <th>timeOnSite</th>\n",
              "      <td>128.0</td>\n",
              "      <td>69.0</td>\n",
              "      <td>1966.0</td>\n",
              "      <td>NaN</td>\n",
              "      <td>567.0</td>\n",
              "    </tr>\n",
              "    <tr>\n",
              "      <th>totalTransactionRevenue</th>\n",
              "      <td>NaN</td>\n",
              "      <td>NaN</td>\n",
              "      <td>NaN</td>\n",
              "      <td>NaN</td>\n",
              "      <td>NaN</td>\n",
              "    </tr>\n",
              "  </tbody>\n",
              "</table>\n",
              "</div>\n",
              "      <button class=\"colab-df-convert\" onclick=\"convertToInteractive('df-105e01c5-13f7-41e4-afde-7872d89cb788')\"\n",
              "              title=\"Convert this dataframe to an interactive table.\"\n",
              "              style=\"display:none;\">\n",
              "        \n",
              "  <svg xmlns=\"http://www.w3.org/2000/svg\" height=\"24px\"viewBox=\"0 0 24 24\"\n",
              "       width=\"24px\">\n",
              "    <path d=\"M0 0h24v24H0V0z\" fill=\"none\"/>\n",
              "    <path d=\"M18.56 5.44l.94 2.06.94-2.06 2.06-.94-2.06-.94-.94-2.06-.94 2.06-2.06.94zm-11 1L8.5 8.5l.94-2.06 2.06-.94-2.06-.94L8.5 2.5l-.94 2.06-2.06.94zm10 10l.94 2.06.94-2.06 2.06-.94-2.06-.94-.94-2.06-.94 2.06-2.06.94z\"/><path d=\"M17.41 7.96l-1.37-1.37c-.4-.4-.92-.59-1.43-.59-.52 0-1.04.2-1.43.59L10.3 9.45l-7.72 7.72c-.78.78-.78 2.05 0 2.83L4 21.41c.39.39.9.59 1.41.59.51 0 1.02-.2 1.41-.59l7.78-7.78 2.81-2.81c.8-.78.8-2.07 0-2.86zM5.41 20L4 18.59l7.72-7.72 1.47 1.35L5.41 20z\"/>\n",
              "  </svg>\n",
              "      </button>\n",
              "      \n",
              "  <style>\n",
              "    .colab-df-container {\n",
              "      display:flex;\n",
              "      flex-wrap:wrap;\n",
              "      gap: 12px;\n",
              "    }\n",
              "\n",
              "    .colab-df-convert {\n",
              "      background-color: #E8F0FE;\n",
              "      border: none;\n",
              "      border-radius: 50%;\n",
              "      cursor: pointer;\n",
              "      display: none;\n",
              "      fill: #1967D2;\n",
              "      height: 32px;\n",
              "      padding: 0 0 0 0;\n",
              "      width: 32px;\n",
              "    }\n",
              "\n",
              "    .colab-df-convert:hover {\n",
              "      background-color: #E2EBFA;\n",
              "      box-shadow: 0px 1px 2px rgba(60, 64, 67, 0.3), 0px 1px 3px 1px rgba(60, 64, 67, 0.15);\n",
              "      fill: #174EA6;\n",
              "    }\n",
              "\n",
              "    [theme=dark] .colab-df-convert {\n",
              "      background-color: #3B4455;\n",
              "      fill: #D2E3FC;\n",
              "    }\n",
              "\n",
              "    [theme=dark] .colab-df-convert:hover {\n",
              "      background-color: #434B5C;\n",
              "      box-shadow: 0px 1px 3px 1px rgba(0, 0, 0, 0.15);\n",
              "      filter: drop-shadow(0px 1px 2px rgba(0, 0, 0, 0.3));\n",
              "      fill: #FFFFFF;\n",
              "    }\n",
              "  </style>\n",
              "\n",
              "      <script>\n",
              "        const buttonEl =\n",
              "          document.querySelector('#df-105e01c5-13f7-41e4-afde-7872d89cb788 button.colab-df-convert');\n",
              "        buttonEl.style.display =\n",
              "          google.colab.kernel.accessAllowed ? 'block' : 'none';\n",
              "\n",
              "        async function convertToInteractive(key) {\n",
              "          const element = document.querySelector('#df-105e01c5-13f7-41e4-afde-7872d89cb788');\n",
              "          const dataTable =\n",
              "            await google.colab.kernel.invokeFunction('convertToInteractive',\n",
              "                                                     [key], {});\n",
              "          if (!dataTable) return;\n",
              "\n",
              "          const docLinkHtml = 'Like what you see? Visit the ' +\n",
              "            '<a target=\"_blank\" href=https://colab.research.google.com/notebooks/data_table.ipynb>data table notebook</a>'\n",
              "            + ' to learn more about interactive tables.';\n",
              "          element.innerHTML = '';\n",
              "          dataTable['output_type'] = 'display_data';\n",
              "          await google.colab.output.renderOutput(dataTable, element);\n",
              "          const docLink = document.createElement('div');\n",
              "          docLink.innerHTML = docLinkHtml;\n",
              "          element.appendChild(docLink);\n",
              "        }\n",
              "      </script>\n",
              "    </div>\n",
              "  </div>\n",
              "  "
            ],
            "text/plain": [
              "                                                         0  \\\n",
              "source                                            (direct)   \n",
              "isTrueDirect                                          None   \n",
              "sourceKeyword                                         None   \n",
              "medium                                              (none)   \n",
              "isVideoAd                                             None   \n",
              "fullVisitorId                          4990075466656363861   \n",
              "visitId                                         1480486355   \n",
              "date                                              20161129   \n",
              "newVisits                                                1   \n",
              "hitType                                               PAGE   \n",
              "hitAction_type                                           0   \n",
              "hitNumber                                               12   \n",
              "hitHour                                                 22   \n",
              "hitMin                                                  14   \n",
              "timeMicroSec                                        127595   \n",
              "v2ProductName            Google Men's Pullover Hoodie Grey   \n",
              "productListName                           Related Products   \n",
              "isClick                                               None   \n",
              "isImpression                                          True   \n",
              "sessionQualityDim                                      NaN   \n",
              "timeOnSite                                           128.0   \n",
              "totalTransactionRevenue                                NaN   \n",
              "\n",
              "                                             1                    2  \\\n",
              "source                                  google             (direct)   \n",
              "isTrueDirect                              None                 None   \n",
              "sourceKeyword                   (not provided)                 None   \n",
              "medium                                 organic               (none)   \n",
              "isVideoAd                                 None                 None   \n",
              "fullVisitorId              4990095180157260404  4990634493822624181   \n",
              "visitId                             1493943683           1492621822   \n",
              "date                                  20170504             20170419   \n",
              "newVisits                                    1                    1   \n",
              "hitType                                   PAGE                 PAGE   \n",
              "hitAction_type                               0                    0   \n",
              "hitNumber                                    5                   43   \n",
              "hitHour                                     17                   10   \n",
              "hitMin                                      22                   42   \n",
              "timeMicroSec                             68652              1935870   \n",
              "v2ProductName            Micro Wireless Earbud            Sport Bag   \n",
              "productListName                       Category             Category   \n",
              "isClick                                   None                 None   \n",
              "isImpression                              True                 True   \n",
              "sessionQualityDim                          NaN                  NaN   \n",
              "timeOnSite                                69.0               1966.0   \n",
              "totalTransactionRevenue                    NaN                  NaN   \n",
              "\n",
              "                                                                    3  \\\n",
              "source                                                       (direct)   \n",
              "isTrueDirect                                                     True   \n",
              "sourceKeyword                                                    None   \n",
              "medium                                                         (none)   \n",
              "isVideoAd                                                        None   \n",
              "fullVisitorId                                     4991710110216617350   \n",
              "visitId                                                    1471605830   \n",
              "date                                                         20160819   \n",
              "newVisits                                                           1   \n",
              "hitType                                                          PAGE   \n",
              "hitAction_type                                                      0   \n",
              "hitNumber                                                           1   \n",
              "hitHour                                                             4   \n",
              "hitMin                                                             23   \n",
              "timeMicroSec                                                        0   \n",
              "v2ProductName            Google Men's Short Sleeve Badge Tee Charcoal   \n",
              "productListName                                              Category   \n",
              "isClick                                                          None   \n",
              "isImpression                                                     True   \n",
              "sessionQualityDim                                                 NaN   \n",
              "timeOnSite                                                        NaN   \n",
              "totalTransactionRevenue                                           NaN   \n",
              "\n",
              "                                                    4  \n",
              "source                                       (direct)  \n",
              "isTrueDirect                                     True  \n",
              "sourceKeyword                                    None  \n",
              "medium                                         (none)  \n",
              "isVideoAd                                        None  \n",
              "fullVisitorId                      499181803050305114  \n",
              "visitId                                    1492037213  \n",
              "date                                         20170412  \n",
              "newVisits                                           1  \n",
              "hitType                                          PAGE  \n",
              "hitAction_type                                      0  \n",
              "hitNumber                                           5  \n",
              "hitHour                                            15  \n",
              "hitMin                                             50  \n",
              "timeMicroSec                                   204910  \n",
              "v2ProductName            Google 2200mAh Micro Charger  \n",
              "productListName                              Category  \n",
              "isClick                                          None  \n",
              "isImpression                                     True  \n",
              "sessionQualityDim                                 NaN  \n",
              "timeOnSite                                      567.0  \n",
              "totalTransactionRevenue                           NaN  "
            ]
          },
          "metadata": {},
          "execution_count": 16
        }
      ]
    },
    {
      "cell_type": "code",
      "metadata": {
        "id": "eH8yD5VU4X2_",
        "colab": {
          "base_uri": "https://localhost:8080/"
        },
        "outputId": "c60fa089-ab74-49d7-bfb7-c35131d6b5c3"
      },
      "source": [
        "raw_df.printSchema()"
      ],
      "execution_count": 17,
      "outputs": [
        {
          "output_type": "stream",
          "name": "stdout",
          "text": [
            "root\n",
            " |-- source: string (nullable = true)\n",
            " |-- isTrueDirect: boolean (nullable = true)\n",
            " |-- sourceKeyword: string (nullable = true)\n",
            " |-- medium: string (nullable = true)\n",
            " |-- isVideoAd: boolean (nullable = true)\n",
            " |-- fullVisitorId: long (nullable = true)\n",
            " |-- visitId: integer (nullable = true)\n",
            " |-- date: integer (nullable = true)\n",
            " |-- newVisits: integer (nullable = true)\n",
            " |-- hitType: string (nullable = true)\n",
            " |-- hitAction_type: integer (nullable = true)\n",
            " |-- hitNumber: integer (nullable = true)\n",
            " |-- hitHour: integer (nullable = true)\n",
            " |-- hitMin: integer (nullable = true)\n",
            " |-- timeMicroSec: integer (nullable = true)\n",
            " |-- v2ProductName: string (nullable = true)\n",
            " |-- productListName: string (nullable = true)\n",
            " |-- isClick: boolean (nullable = true)\n",
            " |-- isImpression: boolean (nullable = true)\n",
            " |-- sessionQualityDim: integer (nullable = true)\n",
            " |-- timeOnSite: integer (nullable = true)\n",
            " |-- totalTransactionRevenue: integer (nullable = true)\n",
            "\n"
          ]
        }
      ]
    },
    {
      "cell_type": "code",
      "source": [
        ""
      ],
      "metadata": {
        "id": "mDBXTWOUiRED"
      },
      "execution_count": 17,
      "outputs": []
    },
    {
      "cell_type": "markdown",
      "source": [
        "### **2.2 Univariate Analysis**\n",
        "\n"
      ],
      "metadata": {
        "id": "aYgYTdPgPcai"
      }
    },
    {
      "cell_type": "markdown",
      "source": [
        "*ตรวจดูว่า (1) มี Missing Values แบบ NULL หรือ Empty Value หรือไม่ (2) มี Dispersion สูงหรือไม่ (3) Range ว่าถูกต้อง หรือกว้างมากเกินไปหรือไม่ (high range)*\n",
        "\n"
      ],
      "metadata": {
        "id": "uEiPqEbiVkuN"
      }
    },
    {
      "cell_type": "markdown",
      "source": [
        "*ระวังว่า .describe() ไม่ประมวลผล type: Boolean*"
      ],
      "metadata": {
        "id": "LY6pAjUkhv2n"
      }
    },
    {
      "cell_type": "code",
      "source": [
        "raw_df.describe().toPandas().transpose()"
      ],
      "metadata": {
        "id": "959Bt-IpRczV",
        "colab": {
          "base_uri": "https://localhost:8080/",
          "height": 648
        },
        "outputId": "2682c13d-c110-4744-a91e-08dad306615d"
      },
      "execution_count": 18,
      "outputs": [
        {
          "output_type": "execute_result",
          "data": {
            "text/html": [
              "\n",
              "  <div id=\"df-53200e1e-cf73-474e-9161-96ecfb4f0478\">\n",
              "    <div class=\"colab-df-container\">\n",
              "      <div>\n",
              "<style scoped>\n",
              "    .dataframe tbody tr th:only-of-type {\n",
              "        vertical-align: middle;\n",
              "    }\n",
              "\n",
              "    .dataframe tbody tr th {\n",
              "        vertical-align: top;\n",
              "    }\n",
              "\n",
              "    .dataframe thead th {\n",
              "        text-align: right;\n",
              "    }\n",
              "</style>\n",
              "<table border=\"1\" class=\"dataframe\">\n",
              "  <thead>\n",
              "    <tr style=\"text-align: right;\">\n",
              "      <th></th>\n",
              "      <th>0</th>\n",
              "      <th>1</th>\n",
              "      <th>2</th>\n",
              "      <th>3</th>\n",
              "      <th>4</th>\n",
              "    </tr>\n",
              "  </thead>\n",
              "  <tbody>\n",
              "    <tr>\n",
              "      <th>summary</th>\n",
              "      <td>count</td>\n",
              "      <td>mean</td>\n",
              "      <td>stddev</td>\n",
              "      <td>min</td>\n",
              "      <td>max</td>\n",
              "    </tr>\n",
              "    <tr>\n",
              "      <th>source</th>\n",
              "      <td>9999</td>\n",
              "      <td>None</td>\n",
              "      <td>None</td>\n",
              "      <td>(direct)</td>\n",
              "      <td>youtube.com</td>\n",
              "    </tr>\n",
              "    <tr>\n",
              "      <th>sourceKeyword</th>\n",
              "      <td>4042</td>\n",
              "      <td>None</td>\n",
              "      <td>None</td>\n",
              "      <td>(not provided)</td>\n",
              "      <td>youtube merch</td>\n",
              "    </tr>\n",
              "    <tr>\n",
              "      <th>medium</th>\n",
              "      <td>9999</td>\n",
              "      <td>None</td>\n",
              "      <td>None</td>\n",
              "      <td>(none)</td>\n",
              "      <td>referral</td>\n",
              "    </tr>\n",
              "    <tr>\n",
              "      <th>fullVisitorId</th>\n",
              "      <td>9999</td>\n",
              "      <td>4.5067648825526333E18</td>\n",
              "      <td>1.39995873491150899E18</td>\n",
              "      <td>49898505875812980</td>\n",
              "      <td>4995924842281653133</td>\n",
              "    </tr>\n",
              "    <tr>\n",
              "      <th>visitId</th>\n",
              "      <td>9999</td>\n",
              "      <td>1.4850613864552455E9</td>\n",
              "      <td>9020666.664979974</td>\n",
              "      <td>1470106850</td>\n",
              "      <td>1501649190</td>\n",
              "    </tr>\n",
              "    <tr>\n",
              "      <th>date</th>\n",
              "      <td>9999</td>\n",
              "      <td>2.016601000310031E7</td>\n",
              "      <td>4694.944823979139</td>\n",
              "      <td>20160801</td>\n",
              "      <td>20170801</td>\n",
              "    </tr>\n",
              "    <tr>\n",
              "      <th>newVisits</th>\n",
              "      <td>7269</td>\n",
              "      <td>1.0</td>\n",
              "      <td>0.0</td>\n",
              "      <td>1</td>\n",
              "      <td>1</td>\n",
              "    </tr>\n",
              "    <tr>\n",
              "      <th>hitType</th>\n",
              "      <td>9999</td>\n",
              "      <td>None</td>\n",
              "      <td>None</td>\n",
              "      <td>EVENT</td>\n",
              "      <td>PAGE</td>\n",
              "    </tr>\n",
              "    <tr>\n",
              "      <th>hitAction_type</th>\n",
              "      <td>9999</td>\n",
              "      <td>0.13831383138313832</td>\n",
              "      <td>0.6864877640641197</td>\n",
              "      <td>0</td>\n",
              "      <td>6</td>\n",
              "    </tr>\n",
              "    <tr>\n",
              "      <th>hitNumber</th>\n",
              "      <td>9999</td>\n",
              "      <td>8.662666266626662</td>\n",
              "      <td>9.871484517186275</td>\n",
              "      <td>1</td>\n",
              "      <td>56</td>\n",
              "    </tr>\n",
              "    <tr>\n",
              "      <th>hitHour</th>\n",
              "      <td>9999</td>\n",
              "      <td>12.168916891689168</td>\n",
              "      <td>5.910241630273632</td>\n",
              "      <td>0</td>\n",
              "      <td>23</td>\n",
              "    </tr>\n",
              "    <tr>\n",
              "      <th>hitMin</th>\n",
              "      <td>9999</td>\n",
              "      <td>31.84038403840384</td>\n",
              "      <td>16.330427485675383</td>\n",
              "      <td>0</td>\n",
              "      <td>59</td>\n",
              "    </tr>\n",
              "    <tr>\n",
              "      <th>timeMicroSec</th>\n",
              "      <td>9999</td>\n",
              "      <td>213867.12121212122</td>\n",
              "      <td>369723.31608154083</td>\n",
              "      <td>0</td>\n",
              "      <td>3513993</td>\n",
              "    </tr>\n",
              "    <tr>\n",
              "      <th>v2ProductName</th>\n",
              "      <td>9999</td>\n",
              "      <td>None</td>\n",
              "      <td>None</td>\n",
              "      <td>1 oz Hand Sanitizer</td>\n",
              "      <td>YouTube Youth Short Sleeve Tee Red</td>\n",
              "    </tr>\n",
              "    <tr>\n",
              "      <th>productListName</th>\n",
              "      <td>9999</td>\n",
              "      <td>None</td>\n",
              "      <td>None</td>\n",
              "      <td>(not set)</td>\n",
              "      <td>Search Results</td>\n",
              "    </tr>\n",
              "    <tr>\n",
              "      <th>sessionQualityDim</th>\n",
              "      <td>698</td>\n",
              "      <td>12.074498567335244</td>\n",
              "      <td>24.99957319792061</td>\n",
              "      <td>1</td>\n",
              "      <td>79</td>\n",
              "    </tr>\n",
              "    <tr>\n",
              "      <th>timeOnSite</th>\n",
              "      <td>8958</td>\n",
              "      <td>539.221478008484</td>\n",
              "      <td>689.0300130553856</td>\n",
              "      <td>3</td>\n",
              "      <td>3514</td>\n",
              "    </tr>\n",
              "    <tr>\n",
              "      <th>totalTransactionRevenue</th>\n",
              "      <td>707</td>\n",
              "      <td>4.211295615275814E7</td>\n",
              "      <td>2.4358685560020592E7</td>\n",
              "      <td>20580000</td>\n",
              "      <td>128970000</td>\n",
              "    </tr>\n",
              "  </tbody>\n",
              "</table>\n",
              "</div>\n",
              "      <button class=\"colab-df-convert\" onclick=\"convertToInteractive('df-53200e1e-cf73-474e-9161-96ecfb4f0478')\"\n",
              "              title=\"Convert this dataframe to an interactive table.\"\n",
              "              style=\"display:none;\">\n",
              "        \n",
              "  <svg xmlns=\"http://www.w3.org/2000/svg\" height=\"24px\"viewBox=\"0 0 24 24\"\n",
              "       width=\"24px\">\n",
              "    <path d=\"M0 0h24v24H0V0z\" fill=\"none\"/>\n",
              "    <path d=\"M18.56 5.44l.94 2.06.94-2.06 2.06-.94-2.06-.94-.94-2.06-.94 2.06-2.06.94zm-11 1L8.5 8.5l.94-2.06 2.06-.94-2.06-.94L8.5 2.5l-.94 2.06-2.06.94zm10 10l.94 2.06.94-2.06 2.06-.94-2.06-.94-.94-2.06-.94 2.06-2.06.94z\"/><path d=\"M17.41 7.96l-1.37-1.37c-.4-.4-.92-.59-1.43-.59-.52 0-1.04.2-1.43.59L10.3 9.45l-7.72 7.72c-.78.78-.78 2.05 0 2.83L4 21.41c.39.39.9.59 1.41.59.51 0 1.02-.2 1.41-.59l7.78-7.78 2.81-2.81c.8-.78.8-2.07 0-2.86zM5.41 20L4 18.59l7.72-7.72 1.47 1.35L5.41 20z\"/>\n",
              "  </svg>\n",
              "      </button>\n",
              "      \n",
              "  <style>\n",
              "    .colab-df-container {\n",
              "      display:flex;\n",
              "      flex-wrap:wrap;\n",
              "      gap: 12px;\n",
              "    }\n",
              "\n",
              "    .colab-df-convert {\n",
              "      background-color: #E8F0FE;\n",
              "      border: none;\n",
              "      border-radius: 50%;\n",
              "      cursor: pointer;\n",
              "      display: none;\n",
              "      fill: #1967D2;\n",
              "      height: 32px;\n",
              "      padding: 0 0 0 0;\n",
              "      width: 32px;\n",
              "    }\n",
              "\n",
              "    .colab-df-convert:hover {\n",
              "      background-color: #E2EBFA;\n",
              "      box-shadow: 0px 1px 2px rgba(60, 64, 67, 0.3), 0px 1px 3px 1px rgba(60, 64, 67, 0.15);\n",
              "      fill: #174EA6;\n",
              "    }\n",
              "\n",
              "    [theme=dark] .colab-df-convert {\n",
              "      background-color: #3B4455;\n",
              "      fill: #D2E3FC;\n",
              "    }\n",
              "\n",
              "    [theme=dark] .colab-df-convert:hover {\n",
              "      background-color: #434B5C;\n",
              "      box-shadow: 0px 1px 3px 1px rgba(0, 0, 0, 0.15);\n",
              "      filter: drop-shadow(0px 1px 2px rgba(0, 0, 0, 0.3));\n",
              "      fill: #FFFFFF;\n",
              "    }\n",
              "  </style>\n",
              "\n",
              "      <script>\n",
              "        const buttonEl =\n",
              "          document.querySelector('#df-53200e1e-cf73-474e-9161-96ecfb4f0478 button.colab-df-convert');\n",
              "        buttonEl.style.display =\n",
              "          google.colab.kernel.accessAllowed ? 'block' : 'none';\n",
              "\n",
              "        async function convertToInteractive(key) {\n",
              "          const element = document.querySelector('#df-53200e1e-cf73-474e-9161-96ecfb4f0478');\n",
              "          const dataTable =\n",
              "            await google.colab.kernel.invokeFunction('convertToInteractive',\n",
              "                                                     [key], {});\n",
              "          if (!dataTable) return;\n",
              "\n",
              "          const docLinkHtml = 'Like what you see? Visit the ' +\n",
              "            '<a target=\"_blank\" href=https://colab.research.google.com/notebooks/data_table.ipynb>data table notebook</a>'\n",
              "            + ' to learn more about interactive tables.';\n",
              "          element.innerHTML = '';\n",
              "          dataTable['output_type'] = 'display_data';\n",
              "          await google.colab.output.renderOutput(dataTable, element);\n",
              "          const docLink = document.createElement('div');\n",
              "          docLink.innerHTML = docLinkHtml;\n",
              "          element.appendChild(docLink);\n",
              "        }\n",
              "      </script>\n",
              "    </div>\n",
              "  </div>\n",
              "  "
            ],
            "text/plain": [
              "                             0                      1                       2  \\\n",
              "summary                  count                   mean                  stddev   \n",
              "source                    9999                   None                    None   \n",
              "sourceKeyword             4042                   None                    None   \n",
              "medium                    9999                   None                    None   \n",
              "fullVisitorId             9999  4.5067648825526333E18  1.39995873491150899E18   \n",
              "visitId                   9999   1.4850613864552455E9       9020666.664979974   \n",
              "date                      9999    2.016601000310031E7       4694.944823979139   \n",
              "newVisits                 7269                    1.0                     0.0   \n",
              "hitType                   9999                   None                    None   \n",
              "hitAction_type            9999    0.13831383138313832      0.6864877640641197   \n",
              "hitNumber                 9999      8.662666266626662       9.871484517186275   \n",
              "hitHour                   9999     12.168916891689168       5.910241630273632   \n",
              "hitMin                    9999      31.84038403840384      16.330427485675383   \n",
              "timeMicroSec              9999     213867.12121212122      369723.31608154083   \n",
              "v2ProductName             9999                   None                    None   \n",
              "productListName           9999                   None                    None   \n",
              "sessionQualityDim          698     12.074498567335244       24.99957319792061   \n",
              "timeOnSite                8958       539.221478008484       689.0300130553856   \n",
              "totalTransactionRevenue    707    4.211295615275814E7    2.4358685560020592E7   \n",
              "\n",
              "                                           3  \\\n",
              "summary                                  min   \n",
              "source                              (direct)   \n",
              "sourceKeyword                 (not provided)   \n",
              "medium                                (none)   \n",
              "fullVisitorId              49898505875812980   \n",
              "visitId                           1470106850   \n",
              "date                                20160801   \n",
              "newVisits                                  1   \n",
              "hitType                                EVENT   \n",
              "hitAction_type                             0   \n",
              "hitNumber                                  1   \n",
              "hitHour                                    0   \n",
              "hitMin                                     0   \n",
              "timeMicroSec                               0   \n",
              "v2ProductName            1 oz Hand Sanitizer   \n",
              "productListName                    (not set)   \n",
              "sessionQualityDim                          1   \n",
              "timeOnSite                                 3   \n",
              "totalTransactionRevenue             20580000   \n",
              "\n",
              "                                                          4  \n",
              "summary                                                 max  \n",
              "source                                          youtube.com  \n",
              "sourceKeyword                                 youtube merch  \n",
              "medium                                             referral  \n",
              "fullVisitorId                           4995924842281653133  \n",
              "visitId                                          1501649190  \n",
              "date                                               20170801  \n",
              "newVisits                                                 1  \n",
              "hitType                                                PAGE  \n",
              "hitAction_type                                            6  \n",
              "hitNumber                                                56  \n",
              "hitHour                                                  23  \n",
              "hitMin                                                   59  \n",
              "timeMicroSec                                        3513993  \n",
              "v2ProductName            YouTube Youth Short Sleeve Tee Red  \n",
              "productListName                              Search Results  \n",
              "sessionQualityDim                                        79  \n",
              "timeOnSite                                             3514  \n",
              "totalTransactionRevenue                           128970000  "
            ]
          },
          "metadata": {},
          "execution_count": 18
        }
      ]
    },
    {
      "cell_type": "markdown",
      "source": [
        "*แจกแจงว่าแต่ละ attribute มี Missing Values แบบ NULL กี่ตัว*"
      ],
      "metadata": {
        "id": "e0q683BJ-Lnx"
      }
    },
    {
      "cell_type": "code",
      "source": [
        "raw_df.select([sparkf.count(sparkf.when(sparkf.isnull(col),col)).alias(col) for col in raw_df.columns]).toPandas().transpose()"
      ],
      "metadata": {
        "id": "-hWgclXAbBsu",
        "colab": {
          "base_uri": "https://localhost:8080/",
          "height": 740
        },
        "outputId": "08a1e1d3-f768-4683-bf39-2e45a3afba2c"
      },
      "execution_count": 19,
      "outputs": [
        {
          "output_type": "execute_result",
          "data": {
            "text/html": [
              "\n",
              "  <div id=\"df-8a6ba698-7c23-495a-8a39-e1d899bc7d90\">\n",
              "    <div class=\"colab-df-container\">\n",
              "      <div>\n",
              "<style scoped>\n",
              "    .dataframe tbody tr th:only-of-type {\n",
              "        vertical-align: middle;\n",
              "    }\n",
              "\n",
              "    .dataframe tbody tr th {\n",
              "        vertical-align: top;\n",
              "    }\n",
              "\n",
              "    .dataframe thead th {\n",
              "        text-align: right;\n",
              "    }\n",
              "</style>\n",
              "<table border=\"1\" class=\"dataframe\">\n",
              "  <thead>\n",
              "    <tr style=\"text-align: right;\">\n",
              "      <th></th>\n",
              "      <th>0</th>\n",
              "    </tr>\n",
              "  </thead>\n",
              "  <tbody>\n",
              "    <tr>\n",
              "      <th>source</th>\n",
              "      <td>0</td>\n",
              "    </tr>\n",
              "    <tr>\n",
              "      <th>isTrueDirect</th>\n",
              "      <td>6648</td>\n",
              "    </tr>\n",
              "    <tr>\n",
              "      <th>sourceKeyword</th>\n",
              "      <td>5957</td>\n",
              "    </tr>\n",
              "    <tr>\n",
              "      <th>medium</th>\n",
              "      <td>0</td>\n",
              "    </tr>\n",
              "    <tr>\n",
              "      <th>isVideoAd</th>\n",
              "      <td>9538</td>\n",
              "    </tr>\n",
              "    <tr>\n",
              "      <th>fullVisitorId</th>\n",
              "      <td>0</td>\n",
              "    </tr>\n",
              "    <tr>\n",
              "      <th>visitId</th>\n",
              "      <td>0</td>\n",
              "    </tr>\n",
              "    <tr>\n",
              "      <th>date</th>\n",
              "      <td>0</td>\n",
              "    </tr>\n",
              "    <tr>\n",
              "      <th>newVisits</th>\n",
              "      <td>2730</td>\n",
              "    </tr>\n",
              "    <tr>\n",
              "      <th>hitType</th>\n",
              "      <td>0</td>\n",
              "    </tr>\n",
              "    <tr>\n",
              "      <th>hitAction_type</th>\n",
              "      <td>0</td>\n",
              "    </tr>\n",
              "    <tr>\n",
              "      <th>hitNumber</th>\n",
              "      <td>0</td>\n",
              "    </tr>\n",
              "    <tr>\n",
              "      <th>hitHour</th>\n",
              "      <td>0</td>\n",
              "    </tr>\n",
              "    <tr>\n",
              "      <th>hitMin</th>\n",
              "      <td>0</td>\n",
              "    </tr>\n",
              "    <tr>\n",
              "      <th>timeMicroSec</th>\n",
              "      <td>0</td>\n",
              "    </tr>\n",
              "    <tr>\n",
              "      <th>v2ProductName</th>\n",
              "      <td>0</td>\n",
              "    </tr>\n",
              "    <tr>\n",
              "      <th>productListName</th>\n",
              "      <td>0</td>\n",
              "    </tr>\n",
              "    <tr>\n",
              "      <th>isClick</th>\n",
              "      <td>9789</td>\n",
              "    </tr>\n",
              "    <tr>\n",
              "      <th>isImpression</th>\n",
              "      <td>562</td>\n",
              "    </tr>\n",
              "    <tr>\n",
              "      <th>sessionQualityDim</th>\n",
              "      <td>9301</td>\n",
              "    </tr>\n",
              "    <tr>\n",
              "      <th>timeOnSite</th>\n",
              "      <td>1041</td>\n",
              "    </tr>\n",
              "    <tr>\n",
              "      <th>totalTransactionRevenue</th>\n",
              "      <td>9292</td>\n",
              "    </tr>\n",
              "  </tbody>\n",
              "</table>\n",
              "</div>\n",
              "      <button class=\"colab-df-convert\" onclick=\"convertToInteractive('df-8a6ba698-7c23-495a-8a39-e1d899bc7d90')\"\n",
              "              title=\"Convert this dataframe to an interactive table.\"\n",
              "              style=\"display:none;\">\n",
              "        \n",
              "  <svg xmlns=\"http://www.w3.org/2000/svg\" height=\"24px\"viewBox=\"0 0 24 24\"\n",
              "       width=\"24px\">\n",
              "    <path d=\"M0 0h24v24H0V0z\" fill=\"none\"/>\n",
              "    <path d=\"M18.56 5.44l.94 2.06.94-2.06 2.06-.94-2.06-.94-.94-2.06-.94 2.06-2.06.94zm-11 1L8.5 8.5l.94-2.06 2.06-.94-2.06-.94L8.5 2.5l-.94 2.06-2.06.94zm10 10l.94 2.06.94-2.06 2.06-.94-2.06-.94-.94-2.06-.94 2.06-2.06.94z\"/><path d=\"M17.41 7.96l-1.37-1.37c-.4-.4-.92-.59-1.43-.59-.52 0-1.04.2-1.43.59L10.3 9.45l-7.72 7.72c-.78.78-.78 2.05 0 2.83L4 21.41c.39.39.9.59 1.41.59.51 0 1.02-.2 1.41-.59l7.78-7.78 2.81-2.81c.8-.78.8-2.07 0-2.86zM5.41 20L4 18.59l7.72-7.72 1.47 1.35L5.41 20z\"/>\n",
              "  </svg>\n",
              "      </button>\n",
              "      \n",
              "  <style>\n",
              "    .colab-df-container {\n",
              "      display:flex;\n",
              "      flex-wrap:wrap;\n",
              "      gap: 12px;\n",
              "    }\n",
              "\n",
              "    .colab-df-convert {\n",
              "      background-color: #E8F0FE;\n",
              "      border: none;\n",
              "      border-radius: 50%;\n",
              "      cursor: pointer;\n",
              "      display: none;\n",
              "      fill: #1967D2;\n",
              "      height: 32px;\n",
              "      padding: 0 0 0 0;\n",
              "      width: 32px;\n",
              "    }\n",
              "\n",
              "    .colab-df-convert:hover {\n",
              "      background-color: #E2EBFA;\n",
              "      box-shadow: 0px 1px 2px rgba(60, 64, 67, 0.3), 0px 1px 3px 1px rgba(60, 64, 67, 0.15);\n",
              "      fill: #174EA6;\n",
              "    }\n",
              "\n",
              "    [theme=dark] .colab-df-convert {\n",
              "      background-color: #3B4455;\n",
              "      fill: #D2E3FC;\n",
              "    }\n",
              "\n",
              "    [theme=dark] .colab-df-convert:hover {\n",
              "      background-color: #434B5C;\n",
              "      box-shadow: 0px 1px 3px 1px rgba(0, 0, 0, 0.15);\n",
              "      filter: drop-shadow(0px 1px 2px rgba(0, 0, 0, 0.3));\n",
              "      fill: #FFFFFF;\n",
              "    }\n",
              "  </style>\n",
              "\n",
              "      <script>\n",
              "        const buttonEl =\n",
              "          document.querySelector('#df-8a6ba698-7c23-495a-8a39-e1d899bc7d90 button.colab-df-convert');\n",
              "        buttonEl.style.display =\n",
              "          google.colab.kernel.accessAllowed ? 'block' : 'none';\n",
              "\n",
              "        async function convertToInteractive(key) {\n",
              "          const element = document.querySelector('#df-8a6ba698-7c23-495a-8a39-e1d899bc7d90');\n",
              "          const dataTable =\n",
              "            await google.colab.kernel.invokeFunction('convertToInteractive',\n",
              "                                                     [key], {});\n",
              "          if (!dataTable) return;\n",
              "\n",
              "          const docLinkHtml = 'Like what you see? Visit the ' +\n",
              "            '<a target=\"_blank\" href=https://colab.research.google.com/notebooks/data_table.ipynb>data table notebook</a>'\n",
              "            + ' to learn more about interactive tables.';\n",
              "          element.innerHTML = '';\n",
              "          dataTable['output_type'] = 'display_data';\n",
              "          await google.colab.output.renderOutput(dataTable, element);\n",
              "          const docLink = document.createElement('div');\n",
              "          docLink.innerHTML = docLinkHtml;\n",
              "          element.appendChild(docLink);\n",
              "        }\n",
              "      </script>\n",
              "    </div>\n",
              "  </div>\n",
              "  "
            ],
            "text/plain": [
              "                            0\n",
              "source                      0\n",
              "isTrueDirect             6648\n",
              "sourceKeyword            5957\n",
              "medium                      0\n",
              "isVideoAd                9538\n",
              "fullVisitorId               0\n",
              "visitId                     0\n",
              "date                        0\n",
              "newVisits                2730\n",
              "hitType                     0\n",
              "hitAction_type              0\n",
              "hitNumber                   0\n",
              "hitHour                     0\n",
              "hitMin                      0\n",
              "timeMicroSec                0\n",
              "v2ProductName               0\n",
              "productListName             0\n",
              "isClick                  9789\n",
              "isImpression              562\n",
              "sessionQualityDim        9301\n",
              "timeOnSite               1041\n",
              "totalTransactionRevenue  9292"
            ]
          },
          "metadata": {},
          "execution_count": 19
        }
      ]
    },
    {
      "cell_type": "code",
      "source": [
        "### ควรเก็บ NULL Column เป็น list ไว้ใช้ตอนทำ Data Prep. ต่อไป"
      ],
      "metadata": {
        "id": "84h_xYbBznl_"
      },
      "execution_count": 20,
      "outputs": []
    },
    {
      "cell_type": "markdown",
      "source": [
        "*แสดง Cardinality ของแต่ละ Attributes*"
      ],
      "metadata": {
        "id": "BtzfJuzrejPd"
      }
    },
    {
      "cell_type": "code",
      "source": [
        "## ทำให้เห็นว่าข้อมูลชุดนี้มีลูกค้าทั้งหมดกี่ราย"
      ],
      "metadata": {
        "id": "bCRlj7tr8rfM"
      },
      "execution_count": 21,
      "outputs": []
    },
    {
      "cell_type": "code",
      "source": [
        "raw_df.select(sparkf.countDistinct('fullVisitorId')).show()"
      ],
      "metadata": {
        "id": "MDpQkgj68UFS",
        "colab": {
          "base_uri": "https://localhost:8080/"
        },
        "outputId": "8b792f4a-4db4-48af-f753-bf9137ca07c2"
      },
      "execution_count": 22,
      "outputs": [
        {
          "output_type": "stream",
          "name": "stdout",
          "text": [
            "+-----------------------------+\n",
            "|count(DISTINCT fullVisitorId)|\n",
            "+-----------------------------+\n",
            "|                          242|\n",
            "+-----------------------------+\n",
            "\n"
          ]
        }
      ]
    },
    {
      "cell_type": "code",
      "source": [
        "## (1) ทำให้เห็นว่า fullVisitorId และ VisitId มี Cardinality ค่อนข้างสูง (จำนวนค่าที่แตกต่างกัน) จึงทำให้ต้องไปดู Distribution ให้แน่ใจอีกครั้ง\n",
        "## (2) TotolTransactionRevenue มีค่าเป็นหลักล้าน ผิดปกติหรือไม่ อาจต้องไปดู Data Dict.\n",
        "## (3) hitAction_type เลข 6 เกิดขึ้นทั้งหมด 40 ครั้ง แต่เหตุใดจึงมียอดซื้อ (totalTransactionRevenue >0) เกิดขึ้นมากกว่า 400 ครั้ง จึงทำให้ต้องไปทำ Multivariate ระหว่าง 2 ตัวแปรนี้ดูอีกที"
      ],
      "metadata": {
        "id": "TxQVOKmW74da"
      },
      "execution_count": 23,
      "outputs": []
    },
    {
      "cell_type": "code",
      "source": [
        "for a in raw_df.columns:\n",
        "  raw_df.groupBy(a).count().orderBy('count',ascending = False).show()"
      ],
      "metadata": {
        "id": "g0O4gulVh86Q",
        "colab": {
          "base_uri": "https://localhost:8080/"
        },
        "outputId": "fbba04ff-cd28-4baf-c670-2240d9107333"
      },
      "execution_count": 24,
      "outputs": [
        {
          "output_type": "stream",
          "name": "stdout",
          "text": [
            "+--------------------+-----+\n",
            "|              source|count|\n",
            "+--------------------+-----+\n",
            "|            (direct)| 4972|\n",
            "|              google| 4104|\n",
            "|         youtube.com|  346|\n",
            "|                 dfa|  185|\n",
            "|            Partners|   84|\n",
            "|       images.google|   75|\n",
            "|          reddit.com|   58|\n",
            "|analytics.google.com|   45|\n",
            "|          google.com|   43|\n",
            "|     blog.golang.org|   39|\n",
            "|      m.facebook.com|   19|\n",
            "| images.google.co.in|   12|\n",
            "|           quora.com|   12|\n",
            "|        facebook.com|    2|\n",
            "|                t.co|    2|\n",
            "|   groups.google.com|    1|\n",
            "+--------------------+-----+\n",
            "\n",
            "+------------+-----+\n",
            "|isTrueDirect|count|\n",
            "+------------+-----+\n",
            "|        null| 6648|\n",
            "|        true| 3351|\n",
            "+------------+-----+\n",
            "\n",
            "+--------------------+-----+\n",
            "|       sourceKeyword|count|\n",
            "+--------------------+-----+\n",
            "|                null| 5957|\n",
            "|      (not provided)| 3940|\n",
            "|    6qEhsCssdK0z36ri|   65|\n",
            "|google merchandis...|   13|\n",
            "| okay google youtube|   12|\n",
            "|       youtube merch|   12|\n",
            "+--------------------+-----+\n",
            "\n",
            "+---------+-----+\n",
            "|   medium|count|\n",
            "+---------+-----+\n",
            "|   (none)| 4972|\n",
            "|  organic| 3977|\n",
            "| referral|  579|\n",
            "|      cpm|  297|\n",
            "|      cpc|   90|\n",
            "|affiliate|   84|\n",
            "+---------+-----+\n",
            "\n",
            "+---------+-----+\n",
            "|isVideoAd|count|\n",
            "+---------+-----+\n",
            "|     null| 9538|\n",
            "|    false|  461|\n",
            "+---------+-----+\n",
            "\n",
            "+-------------------+-----+\n",
            "|      fullVisitorId|count|\n",
            "+-------------------+-----+\n",
            "|4992819126088253676|  360|\n",
            "|4992970334133037215|  357|\n",
            "|4992499749003799871|  352|\n",
            "|4995584940873803432|  350|\n",
            "| 499124294013106751|  268|\n",
            "|4990803917337260315|  267|\n",
            "|4988612949713423910|  218|\n",
            "|4993613447705442396|  210|\n",
            "|4995903322841177843|  189|\n",
            "|4993852637585406336|  170|\n",
            "|4990198874063509353|  169|\n",
            "|4990257633001131707|  167|\n",
            "|4995239461409228195|  152|\n",
            "| 498905464420111059|  147|\n",
            "|4990634493822624181|  147|\n",
            "|4989796484973187255|  145|\n",
            "| 499575320342848437|  139|\n",
            "|4991962803971844700|  139|\n",
            "|4995566005380940326|  138|\n",
            "|4992317753515158805|  133|\n",
            "+-------------------+-----+\n",
            "only showing top 20 rows\n",
            "\n",
            "+----------+-----+\n",
            "|   visitId|count|\n",
            "+----------+-----+\n",
            "|1472235854|  257|\n",
            "|1476938325|  209|\n",
            "|1474383410|  205|\n",
            "|1493223582|  189|\n",
            "|1489617360|  187|\n",
            "|1477021389|  169|\n",
            "|1485540848|  167|\n",
            "|1474396786|  152|\n",
            "|1473189127|  147|\n",
            "|1492621822|  147|\n",
            "|1473919452|  145|\n",
            "|1486916946|  144|\n",
            "|1476945917|  139|\n",
            "|1475876346|  139|\n",
            "|1472164694|  129|\n",
            "|1491752911|  128|\n",
            "|1496175863|  128|\n",
            "|1478983581|  124|\n",
            "|1488300417|  120|\n",
            "|1470147990|  117|\n",
            "+----------+-----+\n",
            "only showing top 20 rows\n",
            "\n",
            "+--------+-----+\n",
            "|    date|count|\n",
            "+--------+-----+\n",
            "|20160920|  357|\n",
            "|20160826|  350|\n",
            "|20161019|  309|\n",
            "|20161020|  220|\n",
            "|20170315|  202|\n",
            "|20161003|  202|\n",
            "|20170426|  201|\n",
            "|20160906|  173|\n",
            "|20170412|  173|\n",
            "|20170127|  167|\n",
            "|20170124|  148|\n",
            "|20170419|  147|\n",
            "|20160914|  145|\n",
            "|20170212|  144|\n",
            "|20170409|  140|\n",
            "|20161007|  139|\n",
            "|20161221|  133|\n",
            "|20160825|  129|\n",
            "|20170516|  128|\n",
            "|20170530|  128|\n",
            "+--------+-----+\n",
            "only showing top 20 rows\n",
            "\n",
            "+---------+-----+\n",
            "|newVisits|count|\n",
            "+---------+-----+\n",
            "|        1| 7269|\n",
            "|     null| 2730|\n",
            "+---------+-----+\n",
            "\n",
            "+-------+-----+\n",
            "|hitType|count|\n",
            "+-------+-----+\n",
            "|   PAGE| 9685|\n",
            "|  EVENT|  314|\n",
            "+-------+-----+\n",
            "\n",
            "+--------------+-----+\n",
            "|hitAction_type|count|\n",
            "+--------------+-----+\n",
            "|             0| 9437|\n",
            "|             1|  210|\n",
            "|             2|  163|\n",
            "|             5|   70|\n",
            "|             3|   59|\n",
            "|             6|   40|\n",
            "|             4|   20|\n",
            "+--------------+-----+\n",
            "\n",
            "+---------+-----+\n",
            "|hitNumber|count|\n",
            "+---------+-----+\n",
            "|        1| 1753|\n",
            "|        3| 1271|\n",
            "|        2| 1107|\n",
            "|        4|  924|\n",
            "|        5|  585|\n",
            "|        6|  440|\n",
            "|        7|  390|\n",
            "|       11|  345|\n",
            "|        8|  283|\n",
            "|       10|  266|\n",
            "|       12|  229|\n",
            "|       13|  221|\n",
            "|        9|  167|\n",
            "|       16|  153|\n",
            "|       14|  153|\n",
            "|       15|  137|\n",
            "|       19|  124|\n",
            "|       20|  123|\n",
            "|       28|  103|\n",
            "|       26|   94|\n",
            "+---------+-----+\n",
            "only showing top 20 rows\n",
            "\n",
            "+-------+-----+\n",
            "|hitHour|count|\n",
            "+-------+-----+\n",
            "|      9|  942|\n",
            "|     11|  931|\n",
            "|     10|  847|\n",
            "|     15|  696|\n",
            "|      8|  686|\n",
            "|     23|  618|\n",
            "|     12|  576|\n",
            "|     14|  492|\n",
            "|      7|  431|\n",
            "|     20|  395|\n",
            "|     21|  368|\n",
            "|     17|  356|\n",
            "|      5|  319|\n",
            "|     16|  316|\n",
            "|      0|  302|\n",
            "|      6|  268|\n",
            "|     22|  262|\n",
            "|     13|  229|\n",
            "|     19|  209|\n",
            "|      4|  202|\n",
            "+-------+-----+\n",
            "only showing top 20 rows\n",
            "\n",
            "+------+-----+\n",
            "|hitMin|count|\n",
            "+------+-----+\n",
            "|    26|  333|\n",
            "|    47|  275|\n",
            "|    39|  273|\n",
            "|    43|  267|\n",
            "|    45|  267|\n",
            "|    27|  252|\n",
            "|    23|  243|\n",
            "|    40|  243|\n",
            "|    14|  233|\n",
            "|    58|  227|\n",
            "|    46|  224|\n",
            "|    49|  219|\n",
            "|    32|  214|\n",
            "|    54|  206|\n",
            "|    28|  203|\n",
            "|    42|  199|\n",
            "|    37|  197|\n",
            "|     0|  195|\n",
            "|    48|  192|\n",
            "|    24|  192|\n",
            "+------+-----+\n",
            "only showing top 20 rows\n",
            "\n",
            "+------------+-----+\n",
            "|timeMicroSec|count|\n",
            "+------------+-----+\n",
            "|           0| 1753|\n",
            "|      218940|   34|\n",
            "|       91480|   34|\n",
            "|       20703|   34|\n",
            "|       71262|   34|\n",
            "|      133919|   34|\n",
            "|      202545|   34|\n",
            "|       13033|   34|\n",
            "|      129984|   34|\n",
            "|      673951|   34|\n",
            "|      176502|   34|\n",
            "|      142821|   34|\n",
            "|      128331|   34|\n",
            "|      229115|   34|\n",
            "|      252392|   34|\n",
            "|      242339|   34|\n",
            "|      140139|   34|\n",
            "|       61788|   34|\n",
            "|      191382|   34|\n",
            "|       82304|   34|\n",
            "+------------+-----+\n",
            "only showing top 20 rows\n",
            "\n",
            "+--------------------+-----+\n",
            "|       v2ProductName|count|\n",
            "+--------------------+-----+\n",
            "|Google Men's 100%...|  211|\n",
            "|Google Men's 100%...|  138|\n",
            "|Google Men's 100%...|  135|\n",
            "|Google Men's  Zip...|  123|\n",
            "|Google Men's Wate...|  119|\n",
            "|22 oz YouTube Bot...|  119|\n",
            "|YouTube Men's Sho...|  118|\n",
            "|   YouTube Twill Cap|  107|\n",
            "|Google Women's Sh...|  106|\n",
            "|Google Women's Sh...|  103|\n",
            "|YouTube Men's Sho...|  101|\n",
            "|YouTube Custom De...|   99|\n",
            "|Electronics Acces...|   95|\n",
            "|Google Men's 100%...|   89|\n",
            "|YouTube Men's Sho...|   88|\n",
            "|Android Men's  Zi...|   88|\n",
            "| Waterproof Backpack|   88|\n",
            "|Google Alpine Sty...|   85|\n",
            "|YouTube Leatheret...|   83|\n",
            "|YouTube Hard Cove...|   80|\n",
            "+--------------------+-----+\n",
            "only showing top 20 rows\n",
            "\n",
            "+----------------+-----+\n",
            "| productListName|count|\n",
            "+----------------+-----+\n",
            "|        Category| 9241|\n",
            "|Related Products|  338|\n",
            "|  Search Results|  228|\n",
            "|       (not set)|  192|\n",
            "+----------------+-----+\n",
            "\n",
            "+-------+-----+\n",
            "|isClick|count|\n",
            "+-------+-----+\n",
            "|   null| 9789|\n",
            "|   true|  210|\n",
            "+-------+-----+\n",
            "\n",
            "+------------+-----+\n",
            "|isImpression|count|\n",
            "+------------+-----+\n",
            "|        true| 9437|\n",
            "|        null|  562|\n",
            "+------------+-----+\n",
            "\n",
            "+-----------------+-----+\n",
            "|sessionQualityDim|count|\n",
            "+-----------------+-----+\n",
            "|             null| 9301|\n",
            "|                1|  425|\n",
            "|                2|   98|\n",
            "|               79|   83|\n",
            "|               16|   68|\n",
            "|                8|   14|\n",
            "|                5|   10|\n",
            "+-----------------+-----+\n",
            "\n",
            "+----------+-----+\n",
            "|timeOnSite|count|\n",
            "+----------+-----+\n",
            "|      null| 1041|\n",
            "|       674|  257|\n",
            "|       232|  252|\n",
            "|       537|  212|\n",
            "|      3052|  209|\n",
            "|       487|  207|\n",
            "|       977|  189|\n",
            "|      1897|  187|\n",
            "|       875|  169|\n",
            "|       867|  167|\n",
            "|       363|  152|\n",
            "|      1966|  147|\n",
            "|       290|  147|\n",
            "|       138|  145|\n",
            "|       359|  139|\n",
            "|       547|  129|\n",
            "|      1188|  128|\n",
            "|       341|  124|\n",
            "|       248|  120|\n",
            "|       436|  120|\n",
            "+----------+-----+\n",
            "only showing top 20 rows\n",
            "\n",
            "+-----------------------+-----+\n",
            "|totalTransactionRevenue|count|\n",
            "+-----------------------+-----+\n",
            "|                   null| 9292|\n",
            "|               29980000|  169|\n",
            "|               33990000|   90|\n",
            "|               33180000|   88|\n",
            "|               59960000|   78|\n",
            "|               30980000|   73|\n",
            "|               50790000|   55|\n",
            "|              116760000|   30|\n",
            "|               20580000|   28|\n",
            "|               36980000|   25|\n",
            "|               23990000|   21|\n",
            "|               28190000|   20|\n",
            "|              128970000|   20|\n",
            "|               34590000|   10|\n",
            "+-----------------------+-----+\n",
            "\n"
          ]
        }
      ]
    },
    {
      "cell_type": "markdown",
      "source": [
        "*แสดง Frequency Distribution ของ Attributes ที่สนใจ*"
      ],
      "metadata": {
        "id": "34XjrHHP-b2l"
      }
    },
    {
      "cell_type": "code",
      "source": [
        "all_obs = raw_df.count()"
      ],
      "metadata": {
        "id": "cBN8n3vBwGO0"
      },
      "execution_count": 25,
      "outputs": []
    },
    {
      "cell_type": "code",
      "source": [
        "def py_calPercentfunc(origi):\n",
        "  return (100/all_obs)*origi"
      ],
      "metadata": {
        "id": "sOUOPLMyt2Cv"
      },
      "execution_count": 26,
      "outputs": []
    },
    {
      "cell_type": "code",
      "source": [
        "calPercentfunc = sparkf.udf(lambda x: py_calPercentfunc(x),DoubleType())"
      ],
      "metadata": {
        "id": "spwBcVL_tNhV"
      },
      "execution_count": 27,
      "outputs": []
    },
    {
      "cell_type": "code",
      "source": [
        "hitAction_type_pd = raw_df.groupBy('hitAction_type').count().withColumn('percentage',calPercentfunc(sparkf.col('count')))\\\n",
        ".orderBy('percentage')\\\n",
        ".toPandas()"
      ],
      "metadata": {
        "id": "5RmQxTBlvxuu"
      },
      "execution_count": 28,
      "outputs": []
    },
    {
      "cell_type": "code",
      "source": [
        "hitAction_type_pd"
      ],
      "metadata": {
        "id": "COnQJwVnv1HD",
        "colab": {
          "base_uri": "https://localhost:8080/",
          "height": 282
        },
        "outputId": "99ef6424-6acb-41a8-e17a-38516379a068"
      },
      "execution_count": 29,
      "outputs": [
        {
          "output_type": "execute_result",
          "data": {
            "text/html": [
              "\n",
              "  <div id=\"df-581fd0fc-d774-47a0-9761-ce0bdc319a7c\">\n",
              "    <div class=\"colab-df-container\">\n",
              "      <div>\n",
              "<style scoped>\n",
              "    .dataframe tbody tr th:only-of-type {\n",
              "        vertical-align: middle;\n",
              "    }\n",
              "\n",
              "    .dataframe tbody tr th {\n",
              "        vertical-align: top;\n",
              "    }\n",
              "\n",
              "    .dataframe thead th {\n",
              "        text-align: right;\n",
              "    }\n",
              "</style>\n",
              "<table border=\"1\" class=\"dataframe\">\n",
              "  <thead>\n",
              "    <tr style=\"text-align: right;\">\n",
              "      <th></th>\n",
              "      <th>hitAction_type</th>\n",
              "      <th>count</th>\n",
              "      <th>percentage</th>\n",
              "    </tr>\n",
              "  </thead>\n",
              "  <tbody>\n",
              "    <tr>\n",
              "      <th>0</th>\n",
              "      <td>4</td>\n",
              "      <td>20</td>\n",
              "      <td>0.200020</td>\n",
              "    </tr>\n",
              "    <tr>\n",
              "      <th>1</th>\n",
              "      <td>6</td>\n",
              "      <td>40</td>\n",
              "      <td>0.400040</td>\n",
              "    </tr>\n",
              "    <tr>\n",
              "      <th>2</th>\n",
              "      <td>3</td>\n",
              "      <td>59</td>\n",
              "      <td>0.590059</td>\n",
              "    </tr>\n",
              "    <tr>\n",
              "      <th>3</th>\n",
              "      <td>5</td>\n",
              "      <td>70</td>\n",
              "      <td>0.700070</td>\n",
              "    </tr>\n",
              "    <tr>\n",
              "      <th>4</th>\n",
              "      <td>2</td>\n",
              "      <td>163</td>\n",
              "      <td>1.630163</td>\n",
              "    </tr>\n",
              "    <tr>\n",
              "      <th>5</th>\n",
              "      <td>1</td>\n",
              "      <td>210</td>\n",
              "      <td>2.100210</td>\n",
              "    </tr>\n",
              "    <tr>\n",
              "      <th>6</th>\n",
              "      <td>0</td>\n",
              "      <td>9437</td>\n",
              "      <td>94.379438</td>\n",
              "    </tr>\n",
              "  </tbody>\n",
              "</table>\n",
              "</div>\n",
              "      <button class=\"colab-df-convert\" onclick=\"convertToInteractive('df-581fd0fc-d774-47a0-9761-ce0bdc319a7c')\"\n",
              "              title=\"Convert this dataframe to an interactive table.\"\n",
              "              style=\"display:none;\">\n",
              "        \n",
              "  <svg xmlns=\"http://www.w3.org/2000/svg\" height=\"24px\"viewBox=\"0 0 24 24\"\n",
              "       width=\"24px\">\n",
              "    <path d=\"M0 0h24v24H0V0z\" fill=\"none\"/>\n",
              "    <path d=\"M18.56 5.44l.94 2.06.94-2.06 2.06-.94-2.06-.94-.94-2.06-.94 2.06-2.06.94zm-11 1L8.5 8.5l.94-2.06 2.06-.94-2.06-.94L8.5 2.5l-.94 2.06-2.06.94zm10 10l.94 2.06.94-2.06 2.06-.94-2.06-.94-.94-2.06-.94 2.06-2.06.94z\"/><path d=\"M17.41 7.96l-1.37-1.37c-.4-.4-.92-.59-1.43-.59-.52 0-1.04.2-1.43.59L10.3 9.45l-7.72 7.72c-.78.78-.78 2.05 0 2.83L4 21.41c.39.39.9.59 1.41.59.51 0 1.02-.2 1.41-.59l7.78-7.78 2.81-2.81c.8-.78.8-2.07 0-2.86zM5.41 20L4 18.59l7.72-7.72 1.47 1.35L5.41 20z\"/>\n",
              "  </svg>\n",
              "      </button>\n",
              "      \n",
              "  <style>\n",
              "    .colab-df-container {\n",
              "      display:flex;\n",
              "      flex-wrap:wrap;\n",
              "      gap: 12px;\n",
              "    }\n",
              "\n",
              "    .colab-df-convert {\n",
              "      background-color: #E8F0FE;\n",
              "      border: none;\n",
              "      border-radius: 50%;\n",
              "      cursor: pointer;\n",
              "      display: none;\n",
              "      fill: #1967D2;\n",
              "      height: 32px;\n",
              "      padding: 0 0 0 0;\n",
              "      width: 32px;\n",
              "    }\n",
              "\n",
              "    .colab-df-convert:hover {\n",
              "      background-color: #E2EBFA;\n",
              "      box-shadow: 0px 1px 2px rgba(60, 64, 67, 0.3), 0px 1px 3px 1px rgba(60, 64, 67, 0.15);\n",
              "      fill: #174EA6;\n",
              "    }\n",
              "\n",
              "    [theme=dark] .colab-df-convert {\n",
              "      background-color: #3B4455;\n",
              "      fill: #D2E3FC;\n",
              "    }\n",
              "\n",
              "    [theme=dark] .colab-df-convert:hover {\n",
              "      background-color: #434B5C;\n",
              "      box-shadow: 0px 1px 3px 1px rgba(0, 0, 0, 0.15);\n",
              "      filter: drop-shadow(0px 1px 2px rgba(0, 0, 0, 0.3));\n",
              "      fill: #FFFFFF;\n",
              "    }\n",
              "  </style>\n",
              "\n",
              "      <script>\n",
              "        const buttonEl =\n",
              "          document.querySelector('#df-581fd0fc-d774-47a0-9761-ce0bdc319a7c button.colab-df-convert');\n",
              "        buttonEl.style.display =\n",
              "          google.colab.kernel.accessAllowed ? 'block' : 'none';\n",
              "\n",
              "        async function convertToInteractive(key) {\n",
              "          const element = document.querySelector('#df-581fd0fc-d774-47a0-9761-ce0bdc319a7c');\n",
              "          const dataTable =\n",
              "            await google.colab.kernel.invokeFunction('convertToInteractive',\n",
              "                                                     [key], {});\n",
              "          if (!dataTable) return;\n",
              "\n",
              "          const docLinkHtml = 'Like what you see? Visit the ' +\n",
              "            '<a target=\"_blank\" href=https://colab.research.google.com/notebooks/data_table.ipynb>data table notebook</a>'\n",
              "            + ' to learn more about interactive tables.';\n",
              "          element.innerHTML = '';\n",
              "          dataTable['output_type'] = 'display_data';\n",
              "          await google.colab.output.renderOutput(dataTable, element);\n",
              "          const docLink = document.createElement('div');\n",
              "          docLink.innerHTML = docLinkHtml;\n",
              "          element.appendChild(docLink);\n",
              "        }\n",
              "      </script>\n",
              "    </div>\n",
              "  </div>\n",
              "  "
            ],
            "text/plain": [
              "   hitAction_type  count  percentage\n",
              "0               4     20    0.200020\n",
              "1               6     40    0.400040\n",
              "2               3     59    0.590059\n",
              "3               5     70    0.700070\n",
              "4               2    163    1.630163\n",
              "5               1    210    2.100210\n",
              "6               0   9437   94.379438"
            ]
          },
          "metadata": {},
          "execution_count": 29
        }
      ]
    },
    {
      "cell_type": "code",
      "source": [
        "freq_distribution_col_list = ['hitAction_type','hitHour','hitMin','productListName'\\\n",
        "                              ,'v2ProductName']"
      ],
      "metadata": {
        "id": "1E3cEpzP_LKv"
      },
      "execution_count": 30,
      "outputs": []
    },
    {
      "cell_type": "code",
      "source": [
        "for col in freq_distribution_col_list:\n",
        "  analysis_pd = raw_df.groupBy(col).count().withColumn('percentage',calPercentfunc(sparkf.col('count')))\\\n",
        "                  .orderBy('percentage')\\\n",
        "                  .toPandas()\n",
        "  analysis_pd\n",
        "\n",
        "  ## Ploting Bars Chart\n",
        "  plt.figure(figsize=(10,8), dpi= 80)\n",
        "  plt.bar(analysis_pd[col], analysis_pd['percentage'], color='gold', width=.5)\n",
        "\n",
        "  ## Decoration\n",
        "  plt.ylabel('#Frequency')\n",
        "  plt.xlabel(col)\n",
        "\n",
        "  del(analysis_pd)"
      ],
      "metadata": {
        "id": "kkI5gTmo_LIZ",
        "colab": {
          "base_uri": "https://localhost:8080/",
          "height": 1000
        },
        "outputId": "08f5a1ce-7ce2-4a62-e8d3-90d5207e24b0"
      },
      "execution_count": 31,
      "outputs": [
        {
          "output_type": "display_data",
          "data": {
            "image/png": "[encoded data removed]",
            "text/plain": [
              "<Figure size 800x640 with 1 Axes>"
            ]
          },
          "metadata": {
            "needs_background": "light"
          }
        },
        {
          "output_type": "display_data",
          "data": {
            "image/png": "[encoded data removed]",
            "text/plain": [
              "<Figure size 800x640 with 1 Axes>"
            ]
          },
          "metadata": {
            "needs_background": "light"
          }
        },
        {
          "output_type": "display_data",
          "data": {
            "image/png": "[encoded data removed]",
            "text/plain": [
              "<Figure size 800x640 with 1 Axes>"
            ]
          },
          "metadata": {
            "needs_background": "light"
          }
        },
        {
          "output_type": "display_data",
          "data": {
            "image/png": "[encoded data removed]",
            "text/plain": [
              "<Figure size 800x640 with 1 Axes>"
            ]
          },
          "metadata": {
            "needs_background": "light"
          }
        },
        {
          "output_type": "display_data",
          "data": {
            "image/png": "[encoded data removed]",
            "text/plain": [
              "<Figure size 800x640 with 1 Axes>"
            ]
          },
          "metadata": {
            "needs_background": "light"
          }
        }
      ]
    },
    {
      "cell_type": "code",
      "source": [
        "withLowSampling_freq_distribution_col_list = ['fullVisitorId','visitId']"
      ],
      "metadata": {
        "id": "F6tb2zDa_LEh"
      },
      "execution_count": 32,
      "outputs": []
    },
    {
      "cell_type": "code",
      "source": [
        "for col in withLowSampling_freq_distribution_col_list:\n",
        "  ## การมี .withColumn() ทำการ type casting เลย ก็เพราะว่า ต้องการปรับ type ของ variables ให้สอดคล้องกับเครื่องทางสถิติที่จะนำมาใช้ EDA\n",
        "  analysis_pd = raw_df.withColumn(col,sparkf.col(col).cast(StringType()))\\\n",
        "                  .groupBy(col).count().withColumn('percentage',calPercentfunc(sparkf.col('count')))\\\n",
        "                  .orderBy('percentage')\\\n",
        "                  .toPandas()\n",
        "  analysis_pd\n",
        "\n",
        "  ## Ploting Bars Chart\n",
        "  plt.figure(figsize=(10,8), dpi= 80)\n",
        "  plt.bar(analysis_pd[col], analysis_pd['percentage'], color='gold', width=.5)\n",
        "\n",
        "  ## Decoration\n",
        "  plt.ylabel('#Frequency')\n",
        "  plt.xlabel(col)\n",
        "\n",
        "  del(analysis_pd)"
      ],
      "metadata": {
        "id": "L3Qh81_OlqD8",
        "colab": {
          "base_uri": "https://localhost:8080/",
          "height": 1000
        },
        "outputId": "6f665ff1-05be-4bd7-cc40-e1225d7841d3"
      },
      "execution_count": 33,
      "outputs": [
        {
          "output_type": "display_data",
          "data": {
            "image/png": "[encoded data removed]",
            "text/plain": [
              "<Figure size 800x640 with 1 Axes>"
            ]
          },
          "metadata": {
            "needs_background": "light"
          }
        },
        {
          "output_type": "display_data",
          "data": {
            "image/png": "[encoded data removed]",
            "text/plain": [
              "<Figure size 800x640 with 1 Axes>"
            ]
          },
          "metadata": {
            "needs_background": "light"
          }
        }
      ]
    },
    {
      "cell_type": "code",
      "source": [
        "### (1) น่าสนใจมากท่ี่ Id ของข้อมูลนี้ไม่เป็น Uniform Distribution"
      ],
      "metadata": {
        "id": "YOXlZnJLlqAz"
      },
      "execution_count": 34,
      "outputs": []
    },
    {
      "cell_type": "markdown",
      "source": [
        "### **2.3 Multivariate Analysis**"
      ],
      "metadata": {
        "id": "gQa3zunTDrpp"
      }
    },
    {
      "cell_type": "markdown",
      "source": [
        "*แสดงความสัมพันธ์ระหว่างตัวแปร hitAction_type และ totalTransactionRevenue โดยใช้ .groupBy().count()*"
      ],
      "metadata": {
        "id": "wEL_WihCRxVr"
      }
    },
    {
      "cell_type": "code",
      "source": [
        "## ลองดูความสัมพันธ์ระหว่าง hitAction_type ที่ไม่เท่ากับ 6 กับ totalTransactionRevenue โดยแจกแจงความสัมพันธ์ออกมาเป็นความถี่"
      ],
      "metadata": {
        "id": "lY05r888SBK9"
      },
      "execution_count": 35,
      "outputs": []
    },
    {
      "cell_type": "code",
      "source": [
        "raw_df.select(['fullVisitorId','visitId','hitAction_type','totalTransactionRevenue'])\\\n",
        ".filter(sparkf.col('hitAction_type') != 6).groupBy('fullVisitorId','visitId','hitAction_type','totalTransactionRevenue')\\\n",
        ".count().orderBy(sparkf.col('totalTransactionRevenue').desc(),sparkf.col('count').desc()).show()"
      ],
      "metadata": {
        "id": "iyzNvPhGlp90",
        "colab": {
          "base_uri": "https://localhost:8080/"
        },
        "outputId": "fcccca7d-b588-40b2-f088-d20d6a4e5068"
      },
      "execution_count": 36,
      "outputs": [
        {
          "output_type": "stream",
          "name": "stdout",
          "text": [
            "+-------------------+----------+--------------+-----------------------+-----+\n",
            "|      fullVisitorId|   visitId|hitAction_type|totalTransactionRevenue|count|\n",
            "+-------------------+----------+--------------+-----------------------+-----+\n",
            "|4995924842281653133|1486131356|             0|              128970000|   15|\n",
            "|4995924842281653133|1486131356|             5|              128970000|    2|\n",
            "|4995924842281653133|1486131356|             2|              128970000|    1|\n",
            "|4995584940873803432|1498486477|             0|              116760000|   14|\n",
            "|4995584940873803432|1498486477|             5|              116760000|    8|\n",
            "|4995584940873803432|1498486477|             1|              116760000|    2|\n",
            "|4995584940873803432|1498486477|             3|              116760000|    1|\n",
            "|4995584940873803432|1498486477|             2|              116760000|    1|\n",
            "|4989274933392395231|1487773059|             0|               59960000|   60|\n",
            "|4989274933392395231|1487773059|             5|               59960000|    6|\n",
            "|4989274933392395231|1487773059|             1|               59960000|    2|\n",
            "|4989274933392395231|1487773059|             2|               59960000|    2|\n",
            "|4989274933392395231|1487773059|             3|               59960000|    2|\n",
            "|4988683855814257726|1492045051|             0|               50790000|   45|\n",
            "|4988683855814257726|1492045051|             5|               50790000|    3|\n",
            "|4988683855814257726|1492045051|             2|               50790000|    2|\n",
            "|4988683855814257726|1492045051|             1|               50790000|    2|\n",
            "|4988683855814257726|1492045051|             3|               50790000|    1|\n",
            "|4988612949713423910|1490043910|             5|               36980000|    8|\n",
            "|4988612949713423910|1490043910|             0|               36980000|    8|\n",
            "+-------------------+----------+--------------+-----------------------+-----+\n",
            "only showing top 20 rows\n",
            "\n"
          ]
        }
      ]
    },
    {
      "cell_type": "code",
      "source": [
        "## นับรวม count ข้างต้นแล้ว ได้กี่ observations"
      ],
      "metadata": {
        "id": "DrQUHAVoSyDl"
      },
      "execution_count": 37,
      "outputs": []
    },
    {
      "cell_type": "code",
      "source": [
        "raw_df.select(['fullVisitorId','visitId','hitAction_type','totalTransactionRevenue'])\\\n",
        ".filter(sparkf.col('hitAction_type') != 6).groupBy('fullVisitorId','visitId','hitAction_type','totalTransactionRevenue')\\\n",
        ".count().agg(sparkf.sum('count')).show()"
      ],
      "metadata": {
        "id": "nkQ-avAOlp61",
        "colab": {
          "base_uri": "https://localhost:8080/"
        },
        "outputId": "c49766ab-c80f-4753-bfee-dfc71571bd6c"
      },
      "execution_count": 38,
      "outputs": [
        {
          "output_type": "stream",
          "name": "stdout",
          "text": [
            "+----------+\n",
            "|sum(count)|\n",
            "+----------+\n",
            "|      9959|\n",
            "+----------+\n",
            "\n"
          ]
        }
      ]
    },
    {
      "cell_type": "code",
      "source": [
        "## ลองดูความสัมพันธ์ระหว่าง hitAction_type ที่เท่ากับ 6 กับ totalTransactionRevenue โดยแจกแจงความสัมพันธ์ออกมาเป็นความถี่"
      ],
      "metadata": {
        "id": "sQM0NQ0SSg0f"
      },
      "execution_count": 39,
      "outputs": []
    },
    {
      "cell_type": "code",
      "source": [
        "raw_df.select(['fullVisitorId','visitId','hitAction_type','totalTransactionRevenue'])\\\n",
        ".filter(sparkf.col('hitAction_type') == 6).groupBy('fullVisitorId','visitId','hitAction_type','totalTransactionRevenue')\\\n",
        ".count().orderBy(sparkf.col('totalTransactionRevenue').desc(),sparkf.col('count').desc()).show()"
      ],
      "metadata": {
        "id": "YFeZBDIQlp31",
        "colab": {
          "base_uri": "https://localhost:8080/"
        },
        "outputId": "331e90fb-fb80-4b36-a0b4-361382c44bd6"
      },
      "execution_count": 40,
      "outputs": [
        {
          "output_type": "stream",
          "name": "stdout",
          "text": [
            "+-------------------+----------+--------------+-----------------------+-----+\n",
            "|      fullVisitorId|   visitId|hitAction_type|totalTransactionRevenue|count|\n",
            "+-------------------+----------+--------------+-----------------------+-----+\n",
            "|4995924842281653133|1486131356|             6|              128970000|    2|\n",
            "|4995584940873803432|1498486477|             6|              116760000|    4|\n",
            "|4989274933392395231|1487773059|             6|               59960000|    6|\n",
            "|4988683855814257726|1492045051|             6|               50790000|    2|\n",
            "|4988612949713423910|1490043910|             6|               36980000|    4|\n",
            "|4993519711854402788|1487369367|             6|               34590000|    2|\n",
            "|4995899860057743088|1474047117|             6|               33990000|    2|\n",
            "|4993852637585406336|1494000490|             6|               33180000|    4|\n",
            "|4993450863033496114|1485313789|             6|               30980000|    4|\n",
            "|4990198874063509353|1477021389|             6|               29980000|    4|\n",
            "|4995584940873803432|1497289186|             6|               28190000|    2|\n",
            "|4993485206334150199|1470106850|             6|               23990000|    2|\n",
            "|4995606827430436569|1488143869|             6|               20580000|    2|\n",
            "+-------------------+----------+--------------+-----------------------+-----+\n",
            "\n"
          ]
        }
      ]
    },
    {
      "cell_type": "code",
      "source": [
        "## นับรวม count ข้างต้นแล้ว ได้กี่ observations"
      ],
      "metadata": {
        "id": "vNFN9MTyS6r7"
      },
      "execution_count": 41,
      "outputs": []
    },
    {
      "cell_type": "code",
      "source": [
        "raw_df.select(['fullVisitorId','visitId','hitAction_type','totalTransactionRevenue'])\\\n",
        ".filter(sparkf.col('hitAction_type') == 6).groupBy('fullVisitorId','visitId','hitAction_type','totalTransactionRevenue')\\\n",
        ".count().agg(sparkf.sum('count')).show()"
      ],
      "metadata": {
        "id": "Km5Jd60zlp0h",
        "colab": {
          "base_uri": "https://localhost:8080/"
        },
        "outputId": "5503b9ac-5499-456b-ce15-75c53085d0a5"
      },
      "execution_count": 42,
      "outputs": [
        {
          "output_type": "stream",
          "name": "stdout",
          "text": [
            "+----------+\n",
            "|sum(count)|\n",
            "+----------+\n",
            "|        40|\n",
            "+----------+\n",
            "\n"
          ]
        }
      ]
    },
    {
      "cell_type": "code",
      "source": [
        "## ข้อมูลผิดปกติจากทั่วไปหรือไม่"
      ],
      "metadata": {
        "id": "UxhNyCzTlpxq"
      },
      "execution_count": 43,
      "outputs": []
    },
    {
      "cell_type": "code",
      "source": [
        "raw_df.select(['fullVisitorId','visitId','hitAction_type','totalTransactionRevenue'])\\\n",
        ".filter(sparkf.col('hitAction_type') != 6)\\\n",
        ".filter(sparkf.col('totalTransactionRevenue') >0)\\\n",
        ".groupBy('fullVisitorId','visitId','hitAction_type','totalTransactionRevenue')\\\n",
        ".count().orderBy(sparkf.col('totalTransactionRevenue').desc(),sparkf.col('count').desc()).show(1000)"
      ],
      "metadata": {
        "id": "EvrZ855Slpud",
        "colab": {
          "base_uri": "https://localhost:8080/"
        },
        "outputId": "fa1fbc1d-5c18-4b1e-97aa-d4aa52d3df58"
      },
      "execution_count": 44,
      "outputs": [
        {
          "output_type": "stream",
          "name": "stdout",
          "text": [
            "+-------------------+----------+--------------+-----------------------+-----+\n",
            "|      fullVisitorId|   visitId|hitAction_type|totalTransactionRevenue|count|\n",
            "+-------------------+----------+--------------+-----------------------+-----+\n",
            "|4995924842281653133|1486131356|             0|              128970000|   15|\n",
            "|4995924842281653133|1486131356|             5|              128970000|    2|\n",
            "|4995924842281653133|1486131356|             2|              128970000|    1|\n",
            "|4995584940873803432|1498486477|             0|              116760000|   14|\n",
            "|4995584940873803432|1498486477|             5|              116760000|    8|\n",
            "|4995584940873803432|1498486477|             1|              116760000|    2|\n",
            "|4995584940873803432|1498486477|             3|              116760000|    1|\n",
            "|4995584940873803432|1498486477|             2|              116760000|    1|\n",
            "|4989274933392395231|1487773059|             0|               59960000|   60|\n",
            "|4989274933392395231|1487773059|             5|               59960000|    6|\n",
            "|4989274933392395231|1487773059|             2|               59960000|    2|\n",
            "|4989274933392395231|1487773059|             1|               59960000|    2|\n",
            "|4989274933392395231|1487773059|             3|               59960000|    2|\n",
            "|4988683855814257726|1492045051|             0|               50790000|   45|\n",
            "|4988683855814257726|1492045051|             5|               50790000|    3|\n",
            "|4988683855814257726|1492045051|             2|               50790000|    2|\n",
            "|4988683855814257726|1492045051|             1|               50790000|    2|\n",
            "|4988683855814257726|1492045051|             3|               50790000|    1|\n",
            "|4988612949713423910|1490043910|             0|               36980000|    8|\n",
            "|4988612949713423910|1490043910|             5|               36980000|    8|\n",
            "|4988612949713423910|1490043910|             3|               36980000|    3|\n",
            "|4988612949713423910|1490043910|             2|               36980000|    1|\n",
            "|4988612949713423910|1490043910|             1|               36980000|    1|\n",
            "|4993519711854402788|1487369367|             5|               34590000|    4|\n",
            "|4993519711854402788|1487369367|             0|               34590000|    3|\n",
            "|4993519711854402788|1487369367|             3|               34590000|    1|\n",
            "|4995899860057743088|1474047117|             0|               33990000|   74|\n",
            "|4995899860057743088|1474047117|             3|               33990000|    5|\n",
            "|4995899860057743088|1474047117|             5|               33990000|    4|\n",
            "|4995899860057743088|1474047117|             1|               33990000|    3|\n",
            "|4995899860057743088|1474047117|             2|               33990000|    2|\n",
            "|4993852637585406336|1494000490|             0|               33180000|   72|\n",
            "|4993852637585406336|1494000490|             5|               33180000|    8|\n",
            "|4993852637585406336|1494000490|             3|               33180000|    2|\n",
            "|4993852637585406336|1494000490|             2|               33180000|    1|\n",
            "|4993852637585406336|1494000490|             1|               33180000|    1|\n",
            "|4993450863033496114|1485313789|             0|               30980000|   53|\n",
            "|4993450863033496114|1485313789|             1|               30980000|    5|\n",
            "|4993450863033496114|1485313789|             2|               30980000|    5|\n",
            "|4993450863033496114|1485313789|             5|               30980000|    4|\n",
            "|4993450863033496114|1485313789|             3|               30980000|    2|\n",
            "|4990198874063509353|1477021389|             0|               29980000|  137|\n",
            "|4990198874063509353|1477021389|             5|               29980000|   10|\n",
            "|4990198874063509353|1477021389|             1|               29980000|    7|\n",
            "|4990198874063509353|1477021389|             2|               29980000|    6|\n",
            "|4990198874063509353|1477021389|             3|               29980000|    3|\n",
            "|4990198874063509353|1477021389|             4|               29980000|    2|\n",
            "|4995584940873803432|1497289186|             0|               28190000|   12|\n",
            "|4995584940873803432|1497289186|             5|               28190000|    3|\n",
            "|4995584940873803432|1497289186|             3|               28190000|    1|\n",
            "|4995584940873803432|1497289186|             1|               28190000|    1|\n",
            "|4995584940873803432|1497289186|             2|               28190000|    1|\n",
            "|4993485206334150199|1470106850|             0|               23990000|   15|\n",
            "|4993485206334150199|1470106850|             1|               23990000|    2|\n",
            "|4993485206334150199|1470106850|             2|               23990000|    1|\n",
            "|4993485206334150199|1470106850|             5|               23990000|    1|\n",
            "|4995606827430436569|1488143869|             0|               20580000|   20|\n",
            "|4995606827430436569|1488143869|             5|               20580000|    3|\n",
            "|4995606827430436569|1488143869|             1|               20580000|    1|\n",
            "|4995606827430436569|1488143869|             2|               20580000|    1|\n",
            "|4995606827430436569|1488143869|             3|               20580000|    1|\n",
            "+-------------------+----------+--------------+-----------------------+-----+\n",
            "\n"
          ]
        }
      ]
    },
    {
      "cell_type": "code",
      "source": [
        ""
      ],
      "metadata": {
        "id": "wkqkHDs5lpo6"
      },
      "execution_count": 44,
      "outputs": []
    },
    {
      "cell_type": "code",
      "source": [
        ""
      ],
      "metadata": {
        "id": "4SuqY0Hulpl0"
      },
      "execution_count": 44,
      "outputs": []
    },
    {
      "cell_type": "code",
      "source": [
        ""
      ],
      "metadata": {
        "id": "2pFURgP7_KrA"
      },
      "execution_count": 44,
      "outputs": []
    }
  ]
}