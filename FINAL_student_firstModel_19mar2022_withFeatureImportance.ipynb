{
  "cells": [
    {
      "cell_type": "markdown",
      "metadata": {
        "id": "view-in-github",
        "colab_type": "text"
      },
      "source": [
        "<a href=\"https://colab.research.google.com/github/aekanun2020/2022-PSU-Data-Science-for-Tourism-Course2/blob/main/FINAL_student_firstModel_19mar2022_withFeatureImportance.ipynb\" target=\"_parent\"><img src=\"https://colab.research.google.com/assets/colab-badge.svg\" alt=\"Open In Colab\"/></a>"
      ]
    },
    {
      "cell_type": "markdown",
      "metadata": {
        "id": "SYq4wBqPMeUF"
      },
      "source": [
        "# Setting up Spark Environment"
      ]
    },
    {
      "cell_type": "code",
      "source": [
        "!apt-get install openjdk-8-jdk-headless -qq > /dev/null\n",
        "!wget -q https://archive.apache.org/dist/spark/spark-3.1.2/spark-3.1.2-bin-hadoop2.7.tgz\n",
        "!tar xf spark-3.1.2-bin-hadoop2.7.tgz\n",
        "!pip install -q findspark"
      ],
      "metadata": {
        "id": "gTlBu3CHrhoc"
      },
      "execution_count": 1,
      "outputs": []
    },
    {
      "cell_type": "code",
      "source": [
        "import os\n",
        "os.environ[\"JAVA_HOME\"] = \"/usr/lib/jvm/java-8-openjdk-amd64\"\n",
        "os.environ[\"SPARK_HOME\"] = \"/content/spark-3.1.2-bin-hadoop2.7\""
      ],
      "metadata": {
        "id": "XoGMSQ2lrsv_"
      },
      "execution_count": 2,
      "outputs": []
    },
    {
      "cell_type": "code",
      "source": [
        "import findspark\n",
        "findspark.init()\n",
        "from pyspark.sql import SparkSession\n",
        "spark = SparkSession.builder.master(\"local[*]\").getOrCreate()"
      ],
      "metadata": {
        "id": "HHFRRIorrsmP"
      },
      "execution_count": 3,
      "outputs": []
    },
    {
      "cell_type": "code",
      "source": [
        "from pyspark.sql import SparkSession"
      ],
      "metadata": {
        "id": "ARyVHRUhrsa4"
      },
      "execution_count": 4,
      "outputs": []
    },
    {
      "cell_type": "code",
      "execution_count": 5,
      "metadata": {
        "id": "GBqMbCCxa2Kv"
      },
      "outputs": [],
      "source": [
        "sc = spark.sparkContext"
      ]
    },
    {
      "cell_type": "code",
      "execution_count": 6,
      "metadata": {
        "colab": {
          "base_uri": "https://localhost:8080/",
          "height": 195
        },
        "id": "MjoDgjaja2Kv",
        "outputId": "1b89912e-824f-41cf-ae95-d8d33f9d0a56"
      },
      "outputs": [
        {
          "output_type": "execute_result",
          "data": {
            "text/plain": [
              "<SparkContext master=local[*] appName=pyspark-shell>"
            ],
            "text/html": [
              "\n",
              "        <div>\n",
              "            <p><b>SparkContext</b></p>\n",
              "\n",
              "            <p><a href=\"http://7ef5040dba73:4040\">Spark UI</a></p>\n",
              "\n",
              "            <dl>\n",
              "              <dt>Version</dt>\n",
              "                <dd><code>v3.1.2</code></dd>\n",
              "              <dt>Master</dt>\n",
              "                <dd><code>local[*]</code></dd>\n",
              "              <dt>AppName</dt>\n",
              "                <dd><code>pyspark-shell</code></dd>\n",
              "            </dl>\n",
              "        </div>\n",
              "        "
            ]
          },
          "metadata": {},
          "execution_count": 6
        }
      ],
      "source": [
        "sc"
      ]
    },
    {
      "cell_type": "markdown",
      "metadata": {
        "id": "7OpgrJBRMZ0_"
      },
      "source": [
        "# Libraries and Modules Installation"
      ]
    },
    {
      "cell_type": "code",
      "execution_count": 7,
      "metadata": {
        "id": "QeyucOzDM1hG"
      },
      "outputs": [],
      "source": [
        "#Spark\n",
        "from pyspark.sql import functions as sparkf\n",
        "from pyspark.sql import Window as W\n",
        "from pyspark.sql.types import *\n",
        "from pyspark.ml.feature import StringIndexer, OneHotEncoder\n",
        "from pyspark.mllib.linalg import Vectors\n",
        "from pyspark.ml.feature import VectorAssembler\n",
        "from pyspark.ml import Pipeline\n",
        "from pyspark.ml.classification import RandomForestClassifier, LogisticRegression, DecisionTreeClassifier\n",
        "from pyspark.ml.tuning import CrossValidator, ParamGridBuilder\n",
        "from pyspark.ml.evaluation import BinaryClassificationEvaluator, MulticlassClassificationEvaluator\n",
        "\n",
        "#Python\n",
        "import matplotlib.pyplot as plt\n",
        "import seaborn as sns ##เพิ่งใส่ไป 12 มี.ค.\n",
        "import pandas as pd\n",
        "import numpy as np\n",
        "import sys\n",
        "from functools import reduce"
      ]
    },
    {
      "cell_type": "markdown",
      "metadata": {
        "id": "hGSzhwXj3yeo"
      },
      "source": [
        "# 1. Business Understanding"
      ]
    },
    {
      "cell_type": "markdown",
      "metadata": {
        "id": "dDaZFOMCNNuP"
      },
      "source": [
        "**Problem Statement-A: ธุรกิจต้องการได้รับ Machine Learning Model ที่ทำให้ทราบล่วงหน้าว่า ลูกค้าที่กำลังเลือกดูสินค้าอยู่ จะซื้อหรือไม่ซื้อสินค้าหรือไม่ (Binary Classification)**"
      ]
    },
    {
      "cell_type": "markdown",
      "metadata": {
        "id": "3m0DVSt4retv"
      },
      "source": [
        "**Problem Statement-B: ธุรกิจต้องการได้รับ Machine Learning Model ที่ทำให้ทราบล่วงหน้าว่า ลูกค้าที่กำลังเลือกดูสินค้าอยู่ จะมีพฤติกรรมสุดท้าย (Last hitAction_type) เป็นอะไร เช่น ไม่ซื้อโดยมีพฤติกรรมสุดท้ายเป็นหยิบของใส่ตะกร้าไว้เฉยๆ หรือ ไม่ซื้อโดยมีพฤติกรรมอื่นๆ หรือซื้อสินค้า (Complete purchase)  (Multiclasses Classification)**"
      ]
    },
    {
      "cell_type": "markdown",
      "metadata": {
        "id": "fb3gqHuSretw"
      },
      "source": [
        "**Project Objectitves: (1) ธุรกิจต้องการ Offer อะไรสักอย่างให้ลูกค้าตัดสินใจซื้อได้รวดเร็วขึ้น - มุ่งคนที่ตั้งใจซื้ออยู่แล้ว (2) ธุรกิจต้องการให้เกิดการซื้อเพิ่ม (Up-Selling, Cross-Selling) - มุ่งคนที่ตั้งใจซื้ออยู่แล้ว ให้ซื้อมากขึ้น**"
      ]
    },
    {
      "cell_type": "markdown",
      "metadata": {
        "id": "IT69C-jjretw"
      },
      "source": [
        "*** Analytics Approach: A, B: Classification => Possible types of Algorithm: Supervised, Information-based, Error-based ***"
      ]
    },
    {
      "cell_type": "markdown",
      "metadata": {
        "id": "5c2sgysWretw"
      },
      "source": [
        "**Requirement from Business Perspective: (1) ยังไม่ชัดเจนเรื่องข้อมูล รวมถึงคุณภาพข้อมูล (2) ปัจจัยที่มีอิทธิพลต่อการตัดสินใจซื้อหรือเลือกใช้บริการมีอะไรบ้าง และอะไรที่ไม่เกี่ยวข้องกับโจทย์นี้โดยตรงบ้าง**"
      ]
    },
    {
      "cell_type": "code",
      "execution_count": 8,
      "metadata": {
        "id": "6LNb4yc3GjN7"
      },
      "outputs": [],
      "source": [
        "business_NotRequired_col_list = [\\\n",
        "                        'sessionQualityDim'\\\n",
        "                        ,'timeOnScreen'\\\n",
        "                        ,'hitReferer'\n",
        "                        ]\n",
        "\n",
        "business_Required_col_list = [\\\n",
        "                        #'sourceKeyword'\\\n",
        "                        #,'fullVisitorId'\\\n",
        "                        #,'isVideoAd'\\\n",
        "                        #,'date'\\\n",
        "                        #,'isTrueDirect'\\\n",
        "                        #,'hitHour'\\\n",
        "                        #,'hitMin'\\\n",
        "                        #,'isClick'\\\n",
        "                        #,'productListName'\\\n",
        "                        #,'isImpression'\\\n",
        "                        #,'sessionQualityDim'\\\n",
        "                        #'timeOnScreen'\\\n",
        "                        #,'hitReferer'\\\n",
        "                        #,'medium'\\\n",
        "                        #,'hitType'\n",
        "                        ]"
      ]
    },
    {
      "cell_type": "markdown",
      "metadata": {
        "id": "T8HBRN6Zretx"
      },
      "source": [
        "**Success Criteria: ต้องการให้มีการทดลองหลายๆ รอบ แล้วมีการทดสอบกับข้อมูลจริงโดยทีมนักการตลาด ซึ่งหากโมเดลไหน นักการตลาดพอใจก็จะเลือกโมเดลนั้น ในเบื้องต้นกำหนดไว้ว่า โมเดลจะต้องมีค่า Recall ไม่น้อยกว่า 0.7 จึงจะนำเข้าสู่กระบวนการทดสอบโดยนักการตลาดได้**"
      ]
    },
    {
      "cell_type": "code",
      "execution_count": 9,
      "metadata": {
        "id": "_7Ou5_-Mretx"
      },
      "outputs": [],
      "source": [
        "recallThreshold = 0.7"
      ]
    },
    {
      "cell_type": "markdown",
      "metadata": {
        "id": "QcjImh624NjJ"
      },
      "source": [
        "# 2. Data Understanding"
      ]
    },
    {
      "cell_type": "markdown",
      "metadata": {
        "id": "dGE-VXFnlt7O"
      },
      "source": [
        "### **2.1 Data Collection and Previewing Data**"
      ]
    },
    {
      "cell_type": "code",
      "execution_count": 10,
      "metadata": {
        "colab": {
          "base_uri": "https://localhost:8080/"
        },
        "id": "GsltUxZza2LE",
        "outputId": "1cfa662d-b5e4-4dc4-9d61-3b676f326fcc"
      },
      "outputs": [
        {
          "output_type": "stream",
          "name": "stdout",
          "text": [
            "--2022-03-20 06:51:46--  https://storage.googleapis.com/grizzy-lab/testfunnel.csv\n",
            "Resolving storage.googleapis.com (storage.googleapis.com)... 173.194.210.128, 173.194.211.128, 173.194.213.128, ...\n",
            "Connecting to storage.googleapis.com (storage.googleapis.com)|173.194.210.128|:443... connected.\n",
            "HTTP request sent, awaiting response... 200 OK\n",
            "Length: 1501012 (1.4M) [text/csv]\n",
            "Saving to: ‘testfunnel.csv’\n",
            "\n",
            "\rtestfunnel.csv        0%[                    ]       0  --.-KB/s               \rtestfunnel.csv      100%[===================>]   1.43M  --.-KB/s    in 0.008s  \n",
            "\n",
            "2022-03-20 06:51:46 (169 MB/s) - ‘testfunnel.csv’ saved [1501012/1501012]\n",
            "\n"
          ]
        }
      ],
      "source": [
        "! wget https://storage.googleapis.com/grizzy-lab/testfunnel.csv"
      ]
    },
    {
      "cell_type": "code",
      "execution_count": 11,
      "metadata": {
        "colab": {
          "base_uri": "https://localhost:8080/"
        },
        "id": "Fn4-dQJpaeTW",
        "outputId": "f9382c26-7656-4753-95c1-c1bad79e4039"
      },
      "outputs": [
        {
          "output_type": "stream",
          "name": "stdout",
          "text": [
            "source,isTrueDirect,sourceKeyword,medium,isVideoAd,fullVisitorId,visitId,date,newVisits,hitReferer,hitType,hitAction_type,hitNumber,hitHour,hitMin,timeMicroSec,v2ProductName,productListName,isClick,isImpression,sessionQualityDim,timeOnScreen,timeOnSite,totalTransactionRevenue\n",
            "google,true,(not provided),organic,,4988612949713423910,1489617360,20170315,,,PAGE,0,28,15,46,608771,Google Accent Insulated Stainless Steel Bottle,Category,,true,,,1897,\n",
            "google,true,(not provided),organic,,4988612949713423910,1489617360,20170315,,,PAGE,0,27,15,46,605064,Google Pocket Bluetooth Speaker,Category,,true,,,1897,\n"
          ]
        }
      ],
      "source": [
        "! head -3 testfunnel.csv"
      ]
    },
    {
      "cell_type": "code",
      "execution_count": 12,
      "metadata": {
        "colab": {
          "base_uri": "https://localhost:8080/"
        },
        "id": "ZPIGtjCqEFmS",
        "outputId": "848d9700-c16f-4d17-8a68-8d072b08c503"
      },
      "outputs": [
        {
          "output_type": "stream",
          "name": "stdout",
          "text": [
            "10000 testfunnel.csv\n"
          ]
        }
      ],
      "source": [
        "! wc -l testfunnel.csv"
      ]
    },
    {
      "cell_type": "code",
      "execution_count": 13,
      "metadata": {
        "id": "DRVIPIh503XR"
      },
      "outputs": [],
      "source": [
        "## Spark ทำการ Load & Convert .csv เป็น Spark's DataFrame\n",
        "source_df = spark.read.option('header','true')\\\n",
        ".option(\"inferSchema\" , \"true\")\\\n",
        ".format('csv').load('testfunnel.csv')"
      ]
    },
    {
      "cell_type": "markdown",
      "metadata": {
        "id": "YOXlZnJLlqAz"
      },
      "source": [
        "### 2.2 EDA"
      ]
    },
    {
      "cell_type": "markdown",
      "metadata": {
        "id": "nkQ-avAOlp61"
      },
      "source": [
        "### 2.2.1 Univariate Analysis"
      ]
    },
    {
      "cell_type": "code",
      "execution_count": 14,
      "metadata": {
        "id": "YFeZBDIQlp31",
        "colab": {
          "base_uri": "https://localhost:8080/"
        },
        "outputId": "1c455e44-e18d-4353-e139-5fb3f8963612"
      },
      "outputs": [
        {
          "output_type": "execute_result",
          "data": {
            "text/plain": [
              "9999"
            ]
          },
          "metadata": {},
          "execution_count": 14
        }
      ],
      "source": [
        "## มีทั้งหมดกี่ observation\n",
        "source_df.count()"
      ]
    },
    {
      "cell_type": "code",
      "execution_count": 15,
      "metadata": {
        "id": "Km5Jd60zlp0h",
        "colab": {
          "base_uri": "https://localhost:8080/",
          "height": 789
        },
        "outputId": "ee0550b3-b960-4ced-fe04-d8ef80653947"
      },
      "outputs": [
        {
          "output_type": "execute_result",
          "data": {
            "text/plain": [
              "                             0                      1                       2  \\\n",
              "summary                  count                   mean                  stddev   \n",
              "source                    9999                   None                    None   \n",
              "sourceKeyword             4042                   None                    None   \n",
              "medium                    9999                   None                    None   \n",
              "fullVisitorId             9999  4.5067648825526333E18  1.39995873491150899E18   \n",
              "visitId                   9999   1.4850613864552455E9       9020666.664979974   \n",
              "date                      9999    2.016601000310031E7       4694.944823979139   \n",
              "newVisits                 7269                    1.0                     0.0   \n",
              "hitReferer                1333                   None                    None   \n",
              "hitType                   9999                   None                    None   \n",
              "hitAction_type            9999    0.13831383138313832      0.6864877640641197   \n",
              "hitNumber                 9999      8.662666266626662       9.871484517186275   \n",
              "hitHour                   9999     12.168916891689168       5.910241630273632   \n",
              "hitMin                    9999      31.84038403840384      16.330427485675383   \n",
              "timeMicroSec              9999     213867.12121212122      369723.31608154083   \n",
              "v2ProductName             9999                   None                    None   \n",
              "productListName           9999                   None                    None   \n",
              "sessionQualityDim          698     12.074498567335244       24.99957319792061   \n",
              "timeOnScreen                 0                   None                    None   \n",
              "timeOnSite                8958       539.221478008484       689.0300130553856   \n",
              "totalTransactionRevenue    707    4.211295615275814E7    2.4358685560020592E7   \n",
              "\n",
              "                                                                         3  \\\n",
              "summary                                                                min   \n",
              "source                                                            (direct)   \n",
              "sourceKeyword                                               (not provided)   \n",
              "medium                                                              (none)   \n",
              "fullVisitorId                                            49898505875812980   \n",
              "visitId                                                         1470106850   \n",
              "date                                                              20160801   \n",
              "newVisits                                                                1   \n",
              "hitReferer               http://images.google.co.in/imgres?imgurl=https...   \n",
              "hitType                                                              EVENT   \n",
              "hitAction_type                                                           0   \n",
              "hitNumber                                                                1   \n",
              "hitHour                                                                  0   \n",
              "hitMin                                                                   0   \n",
              "timeMicroSec                                                             0   \n",
              "v2ProductName                                          1 oz Hand Sanitizer   \n",
              "productListName                                                  (not set)   \n",
              "sessionQualityDim                                                        1   \n",
              "timeOnScreen                                                          None   \n",
              "timeOnSite                                                               3   \n",
              "totalTransactionRevenue                                           20580000   \n",
              "\n",
              "                                                               4  \n",
              "summary                                                      max  \n",
              "source                                               youtube.com  \n",
              "sourceKeyword                                      youtube merch  \n",
              "medium                                                  referral  \n",
              "fullVisitorId                                4995924842281653133  \n",
              "visitId                                               1501649190  \n",
              "date                                                    20170801  \n",
              "newVisits                                                      1  \n",
              "hitReferer               https://www.youtube.com/yt/about/press/  \n",
              "hitType                                                     PAGE  \n",
              "hitAction_type                                                 6  \n",
              "hitNumber                                                     56  \n",
              "hitHour                                                       23  \n",
              "hitMin                                                        59  \n",
              "timeMicroSec                                             3513993  \n",
              "v2ProductName                 YouTube Youth Short Sleeve Tee Red  \n",
              "productListName                                   Search Results  \n",
              "sessionQualityDim                                             79  \n",
              "timeOnScreen                                                None  \n",
              "timeOnSite                                                  3514  \n",
              "totalTransactionRevenue                                128970000  "
            ],
            "text/html": [
              "\n",
              "  <div id=\"df-6fa5a389-7b93-4465-a19f-87d9d67af439\">\n",
              "    <div class=\"colab-df-container\">\n",
              "      <div>\n",
              "<style scoped>\n",
              "    .dataframe tbody tr th:only-of-type {\n",
              "        vertical-align: middle;\n",
              "    }\n",
              "\n",
              "    .dataframe tbody tr th {\n",
              "        vertical-align: top;\n",
              "    }\n",
              "\n",
              "    .dataframe thead th {\n",
              "        text-align: right;\n",
              "    }\n",
              "</style>\n",
              "<table border=\"1\" class=\"dataframe\">\n",
              "  <thead>\n",
              "    <tr style=\"text-align: right;\">\n",
              "      <th></th>\n",
              "      <th>0</th>\n",
              "      <th>1</th>\n",
              "      <th>2</th>\n",
              "      <th>3</th>\n",
              "      <th>4</th>\n",
              "    </tr>\n",
              "  </thead>\n",
              "  <tbody>\n",
              "    <tr>\n",
              "      <th>summary</th>\n",
              "      <td>count</td>\n",
              "      <td>mean</td>\n",
              "      <td>stddev</td>\n",
              "      <td>min</td>\n",
              "      <td>max</td>\n",
              "    </tr>\n",
              "    <tr>\n",
              "      <th>source</th>\n",
              "      <td>9999</td>\n",
              "      <td>None</td>\n",
              "      <td>None</td>\n",
              "      <td>(direct)</td>\n",
              "      <td>youtube.com</td>\n",
              "    </tr>\n",
              "    <tr>\n",
              "      <th>sourceKeyword</th>\n",
              "      <td>4042</td>\n",
              "      <td>None</td>\n",
              "      <td>None</td>\n",
              "      <td>(not provided)</td>\n",
              "      <td>youtube merch</td>\n",
              "    </tr>\n",
              "    <tr>\n",
              "      <th>medium</th>\n",
              "      <td>9999</td>\n",
              "      <td>None</td>\n",
              "      <td>None</td>\n",
              "      <td>(none)</td>\n",
              "      <td>referral</td>\n",
              "    </tr>\n",
              "    <tr>\n",
              "      <th>fullVisitorId</th>\n",
              "      <td>9999</td>\n",
              "      <td>4.5067648825526333E18</td>\n",
              "      <td>1.39995873491150899E18</td>\n",
              "      <td>49898505875812980</td>\n",
              "      <td>4995924842281653133</td>\n",
              "    </tr>\n",
              "    <tr>\n",
              "      <th>visitId</th>\n",
              "      <td>9999</td>\n",
              "      <td>1.4850613864552455E9</td>\n",
              "      <td>9020666.664979974</td>\n",
              "      <td>1470106850</td>\n",
              "      <td>1501649190</td>\n",
              "    </tr>\n",
              "    <tr>\n",
              "      <th>date</th>\n",
              "      <td>9999</td>\n",
              "      <td>2.016601000310031E7</td>\n",
              "      <td>4694.944823979139</td>\n",
              "      <td>20160801</td>\n",
              "      <td>20170801</td>\n",
              "    </tr>\n",
              "    <tr>\n",
              "      <th>newVisits</th>\n",
              "      <td>7269</td>\n",
              "      <td>1.0</td>\n",
              "      <td>0.0</td>\n",
              "      <td>1</td>\n",
              "      <td>1</td>\n",
              "    </tr>\n",
              "    <tr>\n",
              "      <th>hitReferer</th>\n",
              "      <td>1333</td>\n",
              "      <td>None</td>\n",
              "      <td>None</td>\n",
              "      <td>http://images.google.co.in/imgres?imgurl=https...</td>\n",
              "      <td>https://www.youtube.com/yt/about/press/</td>\n",
              "    </tr>\n",
              "    <tr>\n",
              "      <th>hitType</th>\n",
              "      <td>9999</td>\n",
              "      <td>None</td>\n",
              "      <td>None</td>\n",
              "      <td>EVENT</td>\n",
              "      <td>PAGE</td>\n",
              "    </tr>\n",
              "    <tr>\n",
              "      <th>hitAction_type</th>\n",
              "      <td>9999</td>\n",
              "      <td>0.13831383138313832</td>\n",
              "      <td>0.6864877640641197</td>\n",
              "      <td>0</td>\n",
              "      <td>6</td>\n",
              "    </tr>\n",
              "    <tr>\n",
              "      <th>hitNumber</th>\n",
              "      <td>9999</td>\n",
              "      <td>8.662666266626662</td>\n",
              "      <td>9.871484517186275</td>\n",
              "      <td>1</td>\n",
              "      <td>56</td>\n",
              "    </tr>\n",
              "    <tr>\n",
              "      <th>hitHour</th>\n",
              "      <td>9999</td>\n",
              "      <td>12.168916891689168</td>\n",
              "      <td>5.910241630273632</td>\n",
              "      <td>0</td>\n",
              "      <td>23</td>\n",
              "    </tr>\n",
              "    <tr>\n",
              "      <th>hitMin</th>\n",
              "      <td>9999</td>\n",
              "      <td>31.84038403840384</td>\n",
              "      <td>16.330427485675383</td>\n",
              "      <td>0</td>\n",
              "      <td>59</td>\n",
              "    </tr>\n",
              "    <tr>\n",
              "      <th>timeMicroSec</th>\n",
              "      <td>9999</td>\n",
              "      <td>213867.12121212122</td>\n",
              "      <td>369723.31608154083</td>\n",
              "      <td>0</td>\n",
              "      <td>3513993</td>\n",
              "    </tr>\n",
              "    <tr>\n",
              "      <th>v2ProductName</th>\n",
              "      <td>9999</td>\n",
              "      <td>None</td>\n",
              "      <td>None</td>\n",
              "      <td>1 oz Hand Sanitizer</td>\n",
              "      <td>YouTube Youth Short Sleeve Tee Red</td>\n",
              "    </tr>\n",
              "    <tr>\n",
              "      <th>productListName</th>\n",
              "      <td>9999</td>\n",
              "      <td>None</td>\n",
              "      <td>None</td>\n",
              "      <td>(not set)</td>\n",
              "      <td>Search Results</td>\n",
              "    </tr>\n",
              "    <tr>\n",
              "      <th>sessionQualityDim</th>\n",
              "      <td>698</td>\n",
              "      <td>12.074498567335244</td>\n",
              "      <td>24.99957319792061</td>\n",
              "      <td>1</td>\n",
              "      <td>79</td>\n",
              "    </tr>\n",
              "    <tr>\n",
              "      <th>timeOnScreen</th>\n",
              "      <td>0</td>\n",
              "      <td>None</td>\n",
              "      <td>None</td>\n",
              "      <td>None</td>\n",
              "      <td>None</td>\n",
              "    </tr>\n",
              "    <tr>\n",
              "      <th>timeOnSite</th>\n",
              "      <td>8958</td>\n",
              "      <td>539.221478008484</td>\n",
              "      <td>689.0300130553856</td>\n",
              "      <td>3</td>\n",
              "      <td>3514</td>\n",
              "    </tr>\n",
              "    <tr>\n",
              "      <th>totalTransactionRevenue</th>\n",
              "      <td>707</td>\n",
              "      <td>4.211295615275814E7</td>\n",
              "      <td>2.4358685560020592E7</td>\n",
              "      <td>20580000</td>\n",
              "      <td>128970000</td>\n",
              "    </tr>\n",
              "  </tbody>\n",
              "</table>\n",
              "</div>\n",
              "      <button class=\"colab-df-convert\" onclick=\"convertToInteractive('df-6fa5a389-7b93-4465-a19f-87d9d67af439')\"\n",
              "              title=\"Convert this dataframe to an interactive table.\"\n",
              "              style=\"display:none;\">\n",
              "        \n",
              "  <svg xmlns=\"http://www.w3.org/2000/svg\" height=\"24px\"viewBox=\"0 0 24 24\"\n",
              "       width=\"24px\">\n",
              "    <path d=\"M0 0h24v24H0V0z\" fill=\"none\"/>\n",
              "    <path d=\"M18.56 5.44l.94 2.06.94-2.06 2.06-.94-2.06-.94-.94-2.06-.94 2.06-2.06.94zm-11 1L8.5 8.5l.94-2.06 2.06-.94-2.06-.94L8.5 2.5l-.94 2.06-2.06.94zm10 10l.94 2.06.94-2.06 2.06-.94-2.06-.94-.94-2.06-.94 2.06-2.06.94z\"/><path d=\"M17.41 7.96l-1.37-1.37c-.4-.4-.92-.59-1.43-.59-.52 0-1.04.2-1.43.59L10.3 9.45l-7.72 7.72c-.78.78-.78 2.05 0 2.83L4 21.41c.39.39.9.59 1.41.59.51 0 1.02-.2 1.41-.59l7.78-7.78 2.81-2.81c.8-.78.8-2.07 0-2.86zM5.41 20L4 18.59l7.72-7.72 1.47 1.35L5.41 20z\"/>\n",
              "  </svg>\n",
              "      </button>\n",
              "      \n",
              "  <style>\n",
              "    .colab-df-container {\n",
              "      display:flex;\n",
              "      flex-wrap:wrap;\n",
              "      gap: 12px;\n",
              "    }\n",
              "\n",
              "    .colab-df-convert {\n",
              "      background-color: #E8F0FE;\n",
              "      border: none;\n",
              "      border-radius: 50%;\n",
              "      cursor: pointer;\n",
              "      display: none;\n",
              "      fill: #1967D2;\n",
              "      height: 32px;\n",
              "      padding: 0 0 0 0;\n",
              "      width: 32px;\n",
              "    }\n",
              "\n",
              "    .colab-df-convert:hover {\n",
              "      background-color: #E2EBFA;\n",
              "      box-shadow: 0px 1px 2px rgba(60, 64, 67, 0.3), 0px 1px 3px 1px rgba(60, 64, 67, 0.15);\n",
              "      fill: #174EA6;\n",
              "    }\n",
              "\n",
              "    [theme=dark] .colab-df-convert {\n",
              "      background-color: #3B4455;\n",
              "      fill: #D2E3FC;\n",
              "    }\n",
              "\n",
              "    [theme=dark] .colab-df-convert:hover {\n",
              "      background-color: #434B5C;\n",
              "      box-shadow: 0px 1px 3px 1px rgba(0, 0, 0, 0.15);\n",
              "      filter: drop-shadow(0px 1px 2px rgba(0, 0, 0, 0.3));\n",
              "      fill: #FFFFFF;\n",
              "    }\n",
              "  </style>\n",
              "\n",
              "      <script>\n",
              "        const buttonEl =\n",
              "          document.querySelector('#df-6fa5a389-7b93-4465-a19f-87d9d67af439 button.colab-df-convert');\n",
              "        buttonEl.style.display =\n",
              "          google.colab.kernel.accessAllowed ? 'block' : 'none';\n",
              "\n",
              "        async function convertToInteractive(key) {\n",
              "          const element = document.querySelector('#df-6fa5a389-7b93-4465-a19f-87d9d67af439');\n",
              "          const dataTable =\n",
              "            await google.colab.kernel.invokeFunction('convertToInteractive',\n",
              "                                                     [key], {});\n",
              "          if (!dataTable) return;\n",
              "\n",
              "          const docLinkHtml = 'Like what you see? Visit the ' +\n",
              "            '<a target=\"_blank\" href=https://colab.research.google.com/notebooks/data_table.ipynb>data table notebook</a>'\n",
              "            + ' to learn more about interactive tables.';\n",
              "          element.innerHTML = '';\n",
              "          dataTable['output_type'] = 'display_data';\n",
              "          await google.colab.output.renderOutput(dataTable, element);\n",
              "          const docLink = document.createElement('div');\n",
              "          docLink.innerHTML = docLinkHtml;\n",
              "          element.appendChild(docLink);\n",
              "        }\n",
              "      </script>\n",
              "    </div>\n",
              "  </div>\n",
              "  "
            ]
          },
          "metadata": {},
          "execution_count": 15
        }
      ],
      "source": [
        "## ดู Missing Value - NULL ที่ col. count\n",
        "source_df.describe().toPandas().transpose()"
      ]
    },
    {
      "cell_type": "code",
      "execution_count": 16,
      "metadata": {
        "id": "NcUxc8a9ret0"
      },
      "outputs": [],
      "source": [
        "## กรองเอาเฉพาะที่ธุรกิจสนใจ หรือมีให้ หรือสำคัญต่อการวิเคราะห์ต่อไป\n",
        "raw_df = source_df.select([ col for col in source_df.columns if col not in business_NotRequired_col_list ])"
      ]
    },
    {
      "cell_type": "code",
      "execution_count": 17,
      "metadata": {
        "colab": {
          "base_uri": "https://localhost:8080/"
        },
        "id": "qm4PwFGeret0",
        "outputId": "6bff038d-c1c7-4358-c4b2-f30a008d4480"
      },
      "outputs": [
        {
          "output_type": "execute_result",
          "data": {
            "text/plain": [
              "DataFrame[source: string, isTrueDirect: boolean, sourceKeyword: string, medium: string, isVideoAd: boolean, fullVisitorId: bigint, visitId: int, date: int, newVisits: int, hitType: string, hitAction_type: int, hitNumber: int, hitHour: int, hitMin: int, timeMicroSec: int, v2ProductName: string, productListName: string, isClick: boolean, isImpression: boolean, timeOnSite: int, totalTransactionRevenue: int]"
            ]
          },
          "metadata": {},
          "execution_count": 17
        }
      ],
      "source": [
        "raw_df"
      ]
    },
    {
      "cell_type": "code",
      "execution_count": 18,
      "metadata": {
        "colab": {
          "base_uri": "https://localhost:8080/"
        },
        "id": "f5hI7YhPret1",
        "outputId": "b3df2d71-7d64-4e7f-f2ff-4e3542600f53"
      },
      "outputs": [
        {
          "output_type": "execute_result",
          "data": {
            "text/plain": [
              "['sessionQualityDim', 'timeOnScreen', 'hitReferer']"
            ]
          },
          "metadata": {},
          "execution_count": 18
        }
      ],
      "source": [
        "business_NotRequired_col_list"
      ]
    },
    {
      "cell_type": "code",
      "execution_count": 19,
      "metadata": {
        "colab": {
          "base_uri": "https://localhost:8080/"
        },
        "id": "Pd4kN0J-ret1",
        "outputId": "04c516a8-b7f3-41b5-8380-84cd1a06768b"
      },
      "outputs": [
        {
          "output_type": "execute_result",
          "data": {
            "text/plain": [
              "24"
            ]
          },
          "metadata": {},
          "execution_count": 19
        }
      ],
      "source": [
        "len(source_df.columns)"
      ]
    },
    {
      "cell_type": "code",
      "execution_count": 20,
      "metadata": {
        "id": "4SuqY0Hulpl0",
        "colab": {
          "base_uri": "https://localhost:8080/"
        },
        "outputId": "eff7aa8a-0a20-4519-eefb-dcb2747ac1bc"
      },
      "outputs": [
        {
          "output_type": "execute_result",
          "data": {
            "text/plain": [
              "21"
            ]
          },
          "metadata": {},
          "execution_count": 20
        }
      ],
      "source": [
        "len(raw_df.columns)"
      ]
    },
    {
      "cell_type": "code",
      "execution_count": 21,
      "metadata": {
        "colab": {
          "base_uri": "https://localhost:8080/"
        },
        "id": "BJct72Ksret1",
        "outputId": "247c9ab1-e8a3-4400-8ff1-b8f0251ad301"
      },
      "outputs": [
        {
          "output_type": "stream",
          "name": "stdout",
          "text": [
            "root\n",
            " |-- source: string (nullable = true)\n",
            " |-- isTrueDirect: boolean (nullable = true)\n",
            " |-- sourceKeyword: string (nullable = true)\n",
            " |-- medium: string (nullable = true)\n",
            " |-- isVideoAd: boolean (nullable = true)\n",
            " |-- fullVisitorId: long (nullable = true)\n",
            " |-- visitId: integer (nullable = true)\n",
            " |-- date: integer (nullable = true)\n",
            " |-- newVisits: integer (nullable = true)\n",
            " |-- hitType: string (nullable = true)\n",
            " |-- hitAction_type: integer (nullable = true)\n",
            " |-- hitNumber: integer (nullable = true)\n",
            " |-- hitHour: integer (nullable = true)\n",
            " |-- hitMin: integer (nullable = true)\n",
            " |-- timeMicroSec: integer (nullable = true)\n",
            " |-- v2ProductName: string (nullable = true)\n",
            " |-- productListName: string (nullable = true)\n",
            " |-- isClick: boolean (nullable = true)\n",
            " |-- isImpression: boolean (nullable = true)\n",
            " |-- timeOnSite: integer (nullable = true)\n",
            " |-- totalTransactionRevenue: integer (nullable = true)\n",
            "\n"
          ]
        }
      ],
      "source": [
        "##ตรวจสอบ type ของ var เพื่อทราบว่า เป็น Categorical หรือ Numerical ในแต่ละตัวแปร\n",
        "raw_df.printSchema()"
      ]
    },
    {
      "cell_type": "code",
      "execution_count": 22,
      "metadata": {
        "colab": {
          "base_uri": "https://localhost:8080/"
        },
        "id": "2QInjhc4ret1",
        "outputId": "5310b33b-4c39-4d01-f389-da9f52b4fa49"
      },
      "outputs": [
        {
          "output_type": "stream",
          "name": "stdout",
          "text": [
            "+---------+-----+\n",
            "|newVisits|count|\n",
            "+---------+-----+\n",
            "|     null| 2730|\n",
            "|        1| 7269|\n",
            "+---------+-----+\n",
            "\n"
          ]
        }
      ],
      "source": [
        "## ใช้ .groupBy().count() ทำการตรวจสอบ Cadinality ของตัวแปร เพื่อคิดต่อในเรื่อง Type of Variables \n",
        "## และประเด็นอื่นๆ เช่น Missing with Structural หรือไม่\n",
        "## ในที่นี้สรุปว่า newVisits เป็นแบบ Discrete Numeric\n",
        "raw_df.groupBy('newVisits').count().show()"
      ]
    },
    {
      "cell_type": "code",
      "execution_count": 23,
      "metadata": {
        "colab": {
          "base_uri": "https://localhost:8080/"
        },
        "id": "K4sXvoD5ret2",
        "outputId": "400a6cc4-caab-42d2-bb42-f9f0fb9710d5"
      },
      "outputs": [
        {
          "output_type": "stream",
          "name": "stdout",
          "text": [
            "+-------+-----+\n",
            "|hitHour|count|\n",
            "+-------+-----+\n",
            "|     12|  576|\n",
            "|     22|  262|\n",
            "|      1|  158|\n",
            "|     13|  229|\n",
            "|     16|  316|\n",
            "|      6|  268|\n",
            "|      3|  112|\n",
            "|     20|  395|\n",
            "|      5|  319|\n",
            "|     19|  209|\n",
            "|     15|  696|\n",
            "|     17|  356|\n",
            "|      9|  942|\n",
            "|      4|  202|\n",
            "|      8|  686|\n",
            "|     23|  618|\n",
            "|      7|  431|\n",
            "|     10|  847|\n",
            "|     21|  368|\n",
            "|     11|  931|\n",
            "|     14|  492|\n",
            "|      2|   96|\n",
            "|      0|  302|\n",
            "|     18|  188|\n",
            "+-------+-----+\n",
            "\n"
          ]
        }
      ],
      "source": [
        "raw_df.groupBy('hitHour').count().show(100)"
      ]
    },
    {
      "cell_type": "code",
      "execution_count": 24,
      "metadata": {
        "colab": {
          "base_uri": "https://localhost:8080/",
          "height": 695
        },
        "id": "UI9pLpu2ret2",
        "outputId": "91231a48-057d-4ece-ac04-06ee7fee5575"
      },
      "outputs": [
        {
          "output_type": "execute_result",
          "data": {
            "text/plain": [
              "                             0                      1                       2  \\\n",
              "summary                  count                   mean                  stddev   \n",
              "source                    9999                   None                    None   \n",
              "sourceKeyword             4042                   None                    None   \n",
              "medium                    9999                   None                    None   \n",
              "fullVisitorId             9999  4.5067648825526333E18  1.39995873491150899E18   \n",
              "visitId                   9999   1.4850613864552455E9       9020666.664979974   \n",
              "date                      9999    2.016601000310031E7       4694.944823979139   \n",
              "newVisits                 7269                    1.0                     0.0   \n",
              "hitType                   9999                   None                    None   \n",
              "hitAction_type            9999    0.13831383138313832      0.6864877640641197   \n",
              "hitNumber                 9999      8.662666266626662       9.871484517186275   \n",
              "hitHour                   9999     12.168916891689168       5.910241630273632   \n",
              "hitMin                    9999      31.84038403840384      16.330427485675383   \n",
              "timeMicroSec              9999     213867.12121212122      369723.31608154083   \n",
              "v2ProductName             9999                   None                    None   \n",
              "productListName           9999                   None                    None   \n",
              "timeOnSite                8958       539.221478008484       689.0300130553856   \n",
              "totalTransactionRevenue    707    4.211295615275814E7    2.4358685560020592E7   \n",
              "\n",
              "                                           3  \\\n",
              "summary                                  min   \n",
              "source                              (direct)   \n",
              "sourceKeyword                 (not provided)   \n",
              "medium                                (none)   \n",
              "fullVisitorId              49898505875812980   \n",
              "visitId                           1470106850   \n",
              "date                                20160801   \n",
              "newVisits                                  1   \n",
              "hitType                                EVENT   \n",
              "hitAction_type                             0   \n",
              "hitNumber                                  1   \n",
              "hitHour                                    0   \n",
              "hitMin                                     0   \n",
              "timeMicroSec                               0   \n",
              "v2ProductName            1 oz Hand Sanitizer   \n",
              "productListName                    (not set)   \n",
              "timeOnSite                                 3   \n",
              "totalTransactionRevenue             20580000   \n",
              "\n",
              "                                                          4  \n",
              "summary                                                 max  \n",
              "source                                          youtube.com  \n",
              "sourceKeyword                                 youtube merch  \n",
              "medium                                             referral  \n",
              "fullVisitorId                           4995924842281653133  \n",
              "visitId                                          1501649190  \n",
              "date                                               20170801  \n",
              "newVisits                                                 1  \n",
              "hitType                                                PAGE  \n",
              "hitAction_type                                            6  \n",
              "hitNumber                                                56  \n",
              "hitHour                                                  23  \n",
              "hitMin                                                   59  \n",
              "timeMicroSec                                        3513993  \n",
              "v2ProductName            YouTube Youth Short Sleeve Tee Red  \n",
              "productListName                              Search Results  \n",
              "timeOnSite                                             3514  \n",
              "totalTransactionRevenue                           128970000  "
            ],
            "text/html": [
              "\n",
              "  <div id=\"df-c338da5b-dbb2-42c5-a238-a3111afc5712\">\n",
              "    <div class=\"colab-df-container\">\n",
              "      <div>\n",
              "<style scoped>\n",
              "    .dataframe tbody tr th:only-of-type {\n",
              "        vertical-align: middle;\n",
              "    }\n",
              "\n",
              "    .dataframe tbody tr th {\n",
              "        vertical-align: top;\n",
              "    }\n",
              "\n",
              "    .dataframe thead th {\n",
              "        text-align: right;\n",
              "    }\n",
              "</style>\n",
              "<table border=\"1\" class=\"dataframe\">\n",
              "  <thead>\n",
              "    <tr style=\"text-align: right;\">\n",
              "      <th></th>\n",
              "      <th>0</th>\n",
              "      <th>1</th>\n",
              "      <th>2</th>\n",
              "      <th>3</th>\n",
              "      <th>4</th>\n",
              "    </tr>\n",
              "  </thead>\n",
              "  <tbody>\n",
              "    <tr>\n",
              "      <th>summary</th>\n",
              "      <td>count</td>\n",
              "      <td>mean</td>\n",
              "      <td>stddev</td>\n",
              "      <td>min</td>\n",
              "      <td>max</td>\n",
              "    </tr>\n",
              "    <tr>\n",
              "      <th>source</th>\n",
              "      <td>9999</td>\n",
              "      <td>None</td>\n",
              "      <td>None</td>\n",
              "      <td>(direct)</td>\n",
              "      <td>youtube.com</td>\n",
              "    </tr>\n",
              "    <tr>\n",
              "      <th>sourceKeyword</th>\n",
              "      <td>4042</td>\n",
              "      <td>None</td>\n",
              "      <td>None</td>\n",
              "      <td>(not provided)</td>\n",
              "      <td>youtube merch</td>\n",
              "    </tr>\n",
              "    <tr>\n",
              "      <th>medium</th>\n",
              "      <td>9999</td>\n",
              "      <td>None</td>\n",
              "      <td>None</td>\n",
              "      <td>(none)</td>\n",
              "      <td>referral</td>\n",
              "    </tr>\n",
              "    <tr>\n",
              "      <th>fullVisitorId</th>\n",
              "      <td>9999</td>\n",
              "      <td>4.5067648825526333E18</td>\n",
              "      <td>1.39995873491150899E18</td>\n",
              "      <td>49898505875812980</td>\n",
              "      <td>4995924842281653133</td>\n",
              "    </tr>\n",
              "    <tr>\n",
              "      <th>visitId</th>\n",
              "      <td>9999</td>\n",
              "      <td>1.4850613864552455E9</td>\n",
              "      <td>9020666.664979974</td>\n",
              "      <td>1470106850</td>\n",
              "      <td>1501649190</td>\n",
              "    </tr>\n",
              "    <tr>\n",
              "      <th>date</th>\n",
              "      <td>9999</td>\n",
              "      <td>2.016601000310031E7</td>\n",
              "      <td>4694.944823979139</td>\n",
              "      <td>20160801</td>\n",
              "      <td>20170801</td>\n",
              "    </tr>\n",
              "    <tr>\n",
              "      <th>newVisits</th>\n",
              "      <td>7269</td>\n",
              "      <td>1.0</td>\n",
              "      <td>0.0</td>\n",
              "      <td>1</td>\n",
              "      <td>1</td>\n",
              "    </tr>\n",
              "    <tr>\n",
              "      <th>hitType</th>\n",
              "      <td>9999</td>\n",
              "      <td>None</td>\n",
              "      <td>None</td>\n",
              "      <td>EVENT</td>\n",
              "      <td>PAGE</td>\n",
              "    </tr>\n",
              "    <tr>\n",
              "      <th>hitAction_type</th>\n",
              "      <td>9999</td>\n",
              "      <td>0.13831383138313832</td>\n",
              "      <td>0.6864877640641197</td>\n",
              "      <td>0</td>\n",
              "      <td>6</td>\n",
              "    </tr>\n",
              "    <tr>\n",
              "      <th>hitNumber</th>\n",
              "      <td>9999</td>\n",
              "      <td>8.662666266626662</td>\n",
              "      <td>9.871484517186275</td>\n",
              "      <td>1</td>\n",
              "      <td>56</td>\n",
              "    </tr>\n",
              "    <tr>\n",
              "      <th>hitHour</th>\n",
              "      <td>9999</td>\n",
              "      <td>12.168916891689168</td>\n",
              "      <td>5.910241630273632</td>\n",
              "      <td>0</td>\n",
              "      <td>23</td>\n",
              "    </tr>\n",
              "    <tr>\n",
              "      <th>hitMin</th>\n",
              "      <td>9999</td>\n",
              "      <td>31.84038403840384</td>\n",
              "      <td>16.330427485675383</td>\n",
              "      <td>0</td>\n",
              "      <td>59</td>\n",
              "    </tr>\n",
              "    <tr>\n",
              "      <th>timeMicroSec</th>\n",
              "      <td>9999</td>\n",
              "      <td>213867.12121212122</td>\n",
              "      <td>369723.31608154083</td>\n",
              "      <td>0</td>\n",
              "      <td>3513993</td>\n",
              "    </tr>\n",
              "    <tr>\n",
              "      <th>v2ProductName</th>\n",
              "      <td>9999</td>\n",
              "      <td>None</td>\n",
              "      <td>None</td>\n",
              "      <td>1 oz Hand Sanitizer</td>\n",
              "      <td>YouTube Youth Short Sleeve Tee Red</td>\n",
              "    </tr>\n",
              "    <tr>\n",
              "      <th>productListName</th>\n",
              "      <td>9999</td>\n",
              "      <td>None</td>\n",
              "      <td>None</td>\n",
              "      <td>(not set)</td>\n",
              "      <td>Search Results</td>\n",
              "    </tr>\n",
              "    <tr>\n",
              "      <th>timeOnSite</th>\n",
              "      <td>8958</td>\n",
              "      <td>539.221478008484</td>\n",
              "      <td>689.0300130553856</td>\n",
              "      <td>3</td>\n",
              "      <td>3514</td>\n",
              "    </tr>\n",
              "    <tr>\n",
              "      <th>totalTransactionRevenue</th>\n",
              "      <td>707</td>\n",
              "      <td>4.211295615275814E7</td>\n",
              "      <td>2.4358685560020592E7</td>\n",
              "      <td>20580000</td>\n",
              "      <td>128970000</td>\n",
              "    </tr>\n",
              "  </tbody>\n",
              "</table>\n",
              "</div>\n",
              "      <button class=\"colab-df-convert\" onclick=\"convertToInteractive('df-c338da5b-dbb2-42c5-a238-a3111afc5712')\"\n",
              "              title=\"Convert this dataframe to an interactive table.\"\n",
              "              style=\"display:none;\">\n",
              "        \n",
              "  <svg xmlns=\"http://www.w3.org/2000/svg\" height=\"24px\"viewBox=\"0 0 24 24\"\n",
              "       width=\"24px\">\n",
              "    <path d=\"M0 0h24v24H0V0z\" fill=\"none\"/>\n",
              "    <path d=\"M18.56 5.44l.94 2.06.94-2.06 2.06-.94-2.06-.94-.94-2.06-.94 2.06-2.06.94zm-11 1L8.5 8.5l.94-2.06 2.06-.94-2.06-.94L8.5 2.5l-.94 2.06-2.06.94zm10 10l.94 2.06.94-2.06 2.06-.94-2.06-.94-.94-2.06-.94 2.06-2.06.94z\"/><path d=\"M17.41 7.96l-1.37-1.37c-.4-.4-.92-.59-1.43-.59-.52 0-1.04.2-1.43.59L10.3 9.45l-7.72 7.72c-.78.78-.78 2.05 0 2.83L4 21.41c.39.39.9.59 1.41.59.51 0 1.02-.2 1.41-.59l7.78-7.78 2.81-2.81c.8-.78.8-2.07 0-2.86zM5.41 20L4 18.59l7.72-7.72 1.47 1.35L5.41 20z\"/>\n",
              "  </svg>\n",
              "      </button>\n",
              "      \n",
              "  <style>\n",
              "    .colab-df-container {\n",
              "      display:flex;\n",
              "      flex-wrap:wrap;\n",
              "      gap: 12px;\n",
              "    }\n",
              "\n",
              "    .colab-df-convert {\n",
              "      background-color: #E8F0FE;\n",
              "      border: none;\n",
              "      border-radius: 50%;\n",
              "      cursor: pointer;\n",
              "      display: none;\n",
              "      fill: #1967D2;\n",
              "      height: 32px;\n",
              "      padding: 0 0 0 0;\n",
              "      width: 32px;\n",
              "    }\n",
              "\n",
              "    .colab-df-convert:hover {\n",
              "      background-color: #E2EBFA;\n",
              "      box-shadow: 0px 1px 2px rgba(60, 64, 67, 0.3), 0px 1px 3px 1px rgba(60, 64, 67, 0.15);\n",
              "      fill: #174EA6;\n",
              "    }\n",
              "\n",
              "    [theme=dark] .colab-df-convert {\n",
              "      background-color: #3B4455;\n",
              "      fill: #D2E3FC;\n",
              "    }\n",
              "\n",
              "    [theme=dark] .colab-df-convert:hover {\n",
              "      background-color: #434B5C;\n",
              "      box-shadow: 0px 1px 3px 1px rgba(0, 0, 0, 0.15);\n",
              "      filter: drop-shadow(0px 1px 2px rgba(0, 0, 0, 0.3));\n",
              "      fill: #FFFFFF;\n",
              "    }\n",
              "  </style>\n",
              "\n",
              "      <script>\n",
              "        const buttonEl =\n",
              "          document.querySelector('#df-c338da5b-dbb2-42c5-a238-a3111afc5712 button.colab-df-convert');\n",
              "        buttonEl.style.display =\n",
              "          google.colab.kernel.accessAllowed ? 'block' : 'none';\n",
              "\n",
              "        async function convertToInteractive(key) {\n",
              "          const element = document.querySelector('#df-c338da5b-dbb2-42c5-a238-a3111afc5712');\n",
              "          const dataTable =\n",
              "            await google.colab.kernel.invokeFunction('convertToInteractive',\n",
              "                                                     [key], {});\n",
              "          if (!dataTable) return;\n",
              "\n",
              "          const docLinkHtml = 'Like what you see? Visit the ' +\n",
              "            '<a target=\"_blank\" href=https://colab.research.google.com/notebooks/data_table.ipynb>data table notebook</a>'\n",
              "            + ' to learn more about interactive tables.';\n",
              "          element.innerHTML = '';\n",
              "          dataTable['output_type'] = 'display_data';\n",
              "          await google.colab.output.renderOutput(dataTable, element);\n",
              "          const docLink = document.createElement('div');\n",
              "          docLink.innerHTML = docLinkHtml;\n",
              "          element.appendChild(docLink);\n",
              "        }\n",
              "      </script>\n",
              "    </div>\n",
              "  </div>\n",
              "  "
            ]
          },
          "metadata": {},
          "execution_count": 24
        }
      ],
      "source": [
        "raw_df.describe().toPandas().transpose()"
      ]
    },
    {
      "cell_type": "code",
      "execution_count": 25,
      "metadata": {
        "colab": {
          "base_uri": "https://localhost:8080/"
        },
        "id": "0v9l-_sxret2",
        "outputId": "82221509-efac-462c-cec6-216e45acbe9f"
      },
      "outputs": [
        {
          "output_type": "stream",
          "name": "stdout",
          "text": [
            "+-----------------------+-----+\n",
            "|totalTransactionRevenue|count|\n",
            "+-----------------------+-----+\n",
            "|               20580000|   28|\n",
            "|               23990000|   21|\n",
            "|               33180000|   88|\n",
            "|               33990000|   90|\n",
            "|                   null| 9292|\n",
            "|               59960000|   78|\n",
            "|               50790000|   55|\n",
            "|              116760000|   30|\n",
            "|               34590000|   10|\n",
            "|               28190000|   20|\n",
            "|               36980000|   25|\n",
            "|               30980000|   73|\n",
            "|              128970000|   20|\n",
            "|               29980000|  169|\n",
            "+-----------------------+-----+\n",
            "\n"
          ]
        }
      ],
      "source": [
        "raw_df.groupBy('totalTransactionRevenue').count().show(1000)"
      ]
    },
    {
      "cell_type": "code",
      "execution_count": 26,
      "metadata": {
        "colab": {
          "base_uri": "https://localhost:8080/"
        },
        "id": "yOHazD6Jret2",
        "outputId": "3c9a70b4-7815-40c7-f418-d53b8db1cd89"
      },
      "outputs": [
        {
          "output_type": "stream",
          "name": "stdout",
          "text": [
            "+--------------------+-----+\n",
            "|              source|count|\n",
            "+--------------------+-----+\n",
            "|            (direct)| 4972|\n",
            "|              google| 4104|\n",
            "|         youtube.com|  346|\n",
            "|                 dfa|  185|\n",
            "|            Partners|   84|\n",
            "|       images.google|   75|\n",
            "|          reddit.com|   58|\n",
            "|analytics.google.com|   45|\n",
            "|          google.com|   43|\n",
            "|     blog.golang.org|   39|\n",
            "|      m.facebook.com|   19|\n",
            "| images.google.co.in|   12|\n",
            "|           quora.com|   12|\n",
            "|        facebook.com|    2|\n",
            "|                t.co|    2|\n",
            "|   groups.google.com|    1|\n",
            "+--------------------+-----+\n",
            "\n",
            "+------------+-----+\n",
            "|isTrueDirect|count|\n",
            "+------------+-----+\n",
            "|        null| 6648|\n",
            "|        true| 3351|\n",
            "+------------+-----+\n",
            "\n",
            "+--------------------+-----+\n",
            "|       sourceKeyword|count|\n",
            "+--------------------+-----+\n",
            "|                null| 5957|\n",
            "|      (not provided)| 3940|\n",
            "|    6qEhsCssdK0z36ri|   65|\n",
            "|google merchandis...|   13|\n",
            "| okay google youtube|   12|\n",
            "|       youtube merch|   12|\n",
            "+--------------------+-----+\n",
            "\n",
            "+---------+-----+\n",
            "|   medium|count|\n",
            "+---------+-----+\n",
            "|   (none)| 4972|\n",
            "|  organic| 3977|\n",
            "| referral|  579|\n",
            "|      cpm|  297|\n",
            "|      cpc|   90|\n",
            "|affiliate|   84|\n",
            "+---------+-----+\n",
            "\n",
            "+---------+-----+\n",
            "|isVideoAd|count|\n",
            "+---------+-----+\n",
            "|     null| 9538|\n",
            "|    false|  461|\n",
            "+---------+-----+\n",
            "\n",
            "+-------------------+-----+\n",
            "|      fullVisitorId|count|\n",
            "+-------------------+-----+\n",
            "|4992819126088253676|  360|\n",
            "|4992970334133037215|  357|\n",
            "|4992499749003799871|  352|\n",
            "|4995584940873803432|  350|\n",
            "| 499124294013106751|  268|\n",
            "|4990803917337260315|  267|\n",
            "|4988612949713423910|  218|\n",
            "|4993613447705442396|  210|\n",
            "|4995903322841177843|  189|\n",
            "|4993852637585406336|  170|\n",
            "|4990198874063509353|  169|\n",
            "|4990257633001131707|  167|\n",
            "|4995239461409228195|  152|\n",
            "|4990634493822624181|  147|\n",
            "| 498905464420111059|  147|\n",
            "|4989796484973187255|  145|\n",
            "| 499575320342848437|  139|\n",
            "|4991962803971844700|  139|\n",
            "|4995566005380940326|  138|\n",
            "|4992317753515158805|  133|\n",
            "+-------------------+-----+\n",
            "only showing top 20 rows\n",
            "\n",
            "+----------+-----+\n",
            "|   visitId|count|\n",
            "+----------+-----+\n",
            "|1472235854|  257|\n",
            "|1476938325|  209|\n",
            "|1474383410|  205|\n",
            "|1493223582|  189|\n",
            "|1489617360|  187|\n",
            "|1477021389|  169|\n",
            "|1485540848|  167|\n",
            "|1474396786|  152|\n",
            "|1492621822|  147|\n",
            "|1473189127|  147|\n",
            "|1473919452|  145|\n",
            "|1486916946|  144|\n",
            "|1475876346|  139|\n",
            "|1476945917|  139|\n",
            "|1472164694|  129|\n",
            "|1491752911|  128|\n",
            "|1496175863|  128|\n",
            "|1478983581|  124|\n",
            "|1488300417|  120|\n",
            "|1470147990|  117|\n",
            "+----------+-----+\n",
            "only showing top 20 rows\n",
            "\n",
            "+--------+-----+\n",
            "|    date|count|\n",
            "+--------+-----+\n",
            "|20160920|  357|\n",
            "|20160826|  350|\n",
            "|20161019|  309|\n",
            "|20161020|  220|\n",
            "|20161003|  202|\n",
            "|20170315|  202|\n",
            "|20170426|  201|\n",
            "|20160906|  173|\n",
            "|20170412|  173|\n",
            "|20170127|  167|\n",
            "|20170124|  148|\n",
            "|20170419|  147|\n",
            "|20160914|  145|\n",
            "|20170212|  144|\n",
            "|20170409|  140|\n",
            "|20161007|  139|\n",
            "|20161221|  133|\n",
            "|20160825|  129|\n",
            "|20170516|  128|\n",
            "|20170530|  128|\n",
            "+--------+-----+\n",
            "only showing top 20 rows\n",
            "\n",
            "+---------+-----+\n",
            "|newVisits|count|\n",
            "+---------+-----+\n",
            "|        1| 7269|\n",
            "|     null| 2730|\n",
            "+---------+-----+\n",
            "\n",
            "+-------+-----+\n",
            "|hitType|count|\n",
            "+-------+-----+\n",
            "|   PAGE| 9685|\n",
            "|  EVENT|  314|\n",
            "+-------+-----+\n",
            "\n",
            "+--------------+-----+\n",
            "|hitAction_type|count|\n",
            "+--------------+-----+\n",
            "|             0| 9437|\n",
            "|             1|  210|\n",
            "|             2|  163|\n",
            "|             5|   70|\n",
            "|             3|   59|\n",
            "|             6|   40|\n",
            "|             4|   20|\n",
            "+--------------+-----+\n",
            "\n",
            "+---------+-----+\n",
            "|hitNumber|count|\n",
            "+---------+-----+\n",
            "|        1| 1753|\n",
            "|        3| 1271|\n",
            "|        2| 1107|\n",
            "|        4|  924|\n",
            "|        5|  585|\n",
            "|        6|  440|\n",
            "|        7|  390|\n",
            "|       11|  345|\n",
            "|        8|  283|\n",
            "|       10|  266|\n",
            "|       12|  229|\n",
            "|       13|  221|\n",
            "|        9|  167|\n",
            "|       14|  153|\n",
            "|       16|  153|\n",
            "|       15|  137|\n",
            "|       19|  124|\n",
            "|       20|  123|\n",
            "|       28|  103|\n",
            "|       26|   94|\n",
            "+---------+-----+\n",
            "only showing top 20 rows\n",
            "\n",
            "+-------+-----+\n",
            "|hitHour|count|\n",
            "+-------+-----+\n",
            "|      9|  942|\n",
            "|     11|  931|\n",
            "|     10|  847|\n",
            "|     15|  696|\n",
            "|      8|  686|\n",
            "|     23|  618|\n",
            "|     12|  576|\n",
            "|     14|  492|\n",
            "|      7|  431|\n",
            "|     20|  395|\n",
            "|     21|  368|\n",
            "|     17|  356|\n",
            "|      5|  319|\n",
            "|     16|  316|\n",
            "|      0|  302|\n",
            "|      6|  268|\n",
            "|     22|  262|\n",
            "|     13|  229|\n",
            "|     19|  209|\n",
            "|      4|  202|\n",
            "+-------+-----+\n",
            "only showing top 20 rows\n",
            "\n",
            "+------+-----+\n",
            "|hitMin|count|\n",
            "+------+-----+\n",
            "|    26|  333|\n",
            "|    47|  275|\n",
            "|    39|  273|\n",
            "|    43|  267|\n",
            "|    45|  267|\n",
            "|    27|  252|\n",
            "|    40|  243|\n",
            "|    23|  243|\n",
            "|    14|  233|\n",
            "|    58|  227|\n",
            "|    46|  224|\n",
            "|    49|  219|\n",
            "|    32|  214|\n",
            "|    54|  206|\n",
            "|    28|  203|\n",
            "|    42|  199|\n",
            "|    37|  197|\n",
            "|     0|  195|\n",
            "|    48|  192|\n",
            "|    24|  192|\n",
            "+------+-----+\n",
            "only showing top 20 rows\n",
            "\n",
            "+------------+-----+\n",
            "|timeMicroSec|count|\n",
            "+------------+-----+\n",
            "|           0| 1753|\n",
            "|       71262|   34|\n",
            "|      176502|   34|\n",
            "|       91480|   34|\n",
            "|      129984|   34|\n",
            "|      202545|   34|\n",
            "|       20703|   34|\n",
            "|       13033|   34|\n",
            "|      229115|   34|\n",
            "|      191382|   34|\n",
            "|      133919|   34|\n",
            "|      142821|   34|\n",
            "|      128331|   34|\n",
            "|      252392|   34|\n",
            "|      673951|   34|\n",
            "|      242339|   34|\n",
            "|      140139|   34|\n",
            "|      151218|   34|\n",
            "|       82304|   34|\n",
            "|       61788|   34|\n",
            "+------------+-----+\n",
            "only showing top 20 rows\n",
            "\n",
            "+--------------------+-----+\n",
            "|       v2ProductName|count|\n",
            "+--------------------+-----+\n",
            "|Google Men's 100%...|  211|\n",
            "|Google Men's 100%...|  138|\n",
            "|Google Men's 100%...|  135|\n",
            "|Google Men's  Zip...|  123|\n",
            "|22 oz YouTube Bot...|  119|\n",
            "|Google Men's Wate...|  119|\n",
            "|YouTube Men's Sho...|  118|\n",
            "|   YouTube Twill Cap|  107|\n",
            "|Google Women's Sh...|  106|\n",
            "|Google Women's Sh...|  103|\n",
            "|YouTube Men's Sho...|  101|\n",
            "|YouTube Custom De...|   99|\n",
            "|Electronics Acces...|   95|\n",
            "|Google Men's 100%...|   89|\n",
            "|Android Men's  Zi...|   88|\n",
            "|YouTube Men's Sho...|   88|\n",
            "| Waterproof Backpack|   88|\n",
            "|Google Alpine Sty...|   85|\n",
            "|YouTube Leatheret...|   83|\n",
            "|YouTube Hard Cove...|   80|\n",
            "+--------------------+-----+\n",
            "only showing top 20 rows\n",
            "\n",
            "+----------------+-----+\n",
            "| productListName|count|\n",
            "+----------------+-----+\n",
            "|        Category| 9241|\n",
            "|Related Products|  338|\n",
            "|  Search Results|  228|\n",
            "|       (not set)|  192|\n",
            "+----------------+-----+\n",
            "\n",
            "+-------+-----+\n",
            "|isClick|count|\n",
            "+-------+-----+\n",
            "|   null| 9789|\n",
            "|   true|  210|\n",
            "+-------+-----+\n",
            "\n",
            "+------------+-----+\n",
            "|isImpression|count|\n",
            "+------------+-----+\n",
            "|        true| 9437|\n",
            "|        null|  562|\n",
            "+------------+-----+\n",
            "\n",
            "+----------+-----+\n",
            "|timeOnSite|count|\n",
            "+----------+-----+\n",
            "|      null| 1041|\n",
            "|       674|  257|\n",
            "|       232|  252|\n",
            "|       537|  212|\n",
            "|      3052|  209|\n",
            "|       487|  207|\n",
            "|       977|  189|\n",
            "|      1897|  187|\n",
            "|       875|  169|\n",
            "|       867|  167|\n",
            "|       363|  152|\n",
            "|       290|  147|\n",
            "|      1966|  147|\n",
            "|       138|  145|\n",
            "|       359|  139|\n",
            "|       547|  129|\n",
            "|      1188|  128|\n",
            "|       341|  124|\n",
            "|       436|  120|\n",
            "|       248|  120|\n",
            "+----------+-----+\n",
            "only showing top 20 rows\n",
            "\n",
            "+-----------------------+-----+\n",
            "|totalTransactionRevenue|count|\n",
            "+-----------------------+-----+\n",
            "|                   null| 9292|\n",
            "|               29980000|  169|\n",
            "|               33990000|   90|\n",
            "|               33180000|   88|\n",
            "|               59960000|   78|\n",
            "|               30980000|   73|\n",
            "|               50790000|   55|\n",
            "|              116760000|   30|\n",
            "|               20580000|   28|\n",
            "|               36980000|   25|\n",
            "|               23990000|   21|\n",
            "|               28190000|   20|\n",
            "|              128970000|   20|\n",
            "|               34590000|   10|\n",
            "+-----------------------+-----+\n",
            "\n"
          ]
        }
      ],
      "source": [
        "## (1) ทำให้เห็นว่า fullVisitorId และ VisitId มี Cardinality ค่อนข้างสูง (จำนวนค่าที่แตกต่างกัน) \n",
        "## จึงทำให้ต้องไปดู Distribution ให้แน่ใจอีกครั้ง\n",
        "\n",
        "## (2) TotolTransactionRevenue มีค่าเป็นหลักล้าน ผิดปกติหรือไม่ อาจต้องไปดู Data Dict.\n",
        "\n",
        "## (3) hitAction_type เลข 6 เกิดขึ้นทั้งหมด 40 ครั้ง แต่เหตุใดจึงมียอดซื้อ (totalTransactionRevenue >0) \n",
        "## เกิดขึ้นมากกว่า 400 ครั้ง จึงทำให้ต้องไปทำ Multivariate ระหว่\n",
        "\n",
        "for a in raw_df.columns:\n",
        "  raw_df.groupBy(a).count().orderBy('count',ascending = False).show()"
      ]
    },
    {
      "cell_type": "code",
      "execution_count": 27,
      "metadata": {
        "id": "2YchL4gzret3"
      },
      "outputs": [],
      "source": [
        "## แสดง Frequency Distribution ของ variable ที่สนใจ ในที่นี้สนใจ hitAction_type\n",
        "\n",
        "all_obs = raw_df.count()\n",
        "\n",
        "\n",
        "def py_calPercentfunc(origi):\n",
        "  return (100/all_obs)*origi\n",
        "\n",
        "calPercentfunc = sparkf.udf(lambda x: py_calPercentfunc(x),DoubleType())\n",
        "\n",
        "\n",
        "hitAction_type_pd = raw_df.groupBy('hitAction_type').count()\\\n",
        ".withColumn('percentage',calPercentfunc(sparkf.col('count')))\\\n",
        ".orderBy('percentage')\\\n",
        ".toPandas()"
      ]
    },
    {
      "cell_type": "code",
      "execution_count": 28,
      "metadata": {
        "colab": {
          "base_uri": "https://localhost:8080/",
          "height": 269
        },
        "id": "JO4XhtIsret3",
        "outputId": "3e02a289-fb26-43f9-80bc-d9a9e42eb381"
      },
      "outputs": [
        {
          "output_type": "execute_result",
          "data": {
            "text/plain": [
              "   hitAction_type  count  percentage\n",
              "0               4     20    0.200020\n",
              "1               6     40    0.400040\n",
              "2               3     59    0.590059\n",
              "3               5     70    0.700070\n",
              "4               2    163    1.630163\n",
              "5               1    210    2.100210\n",
              "6               0   9437   94.379438"
            ],
            "text/html": [
              "\n",
              "  <div id=\"df-80f7afb9-c12c-499e-b776-867abeddfe86\">\n",
              "    <div class=\"colab-df-container\">\n",
              "      <div>\n",
              "<style scoped>\n",
              "    .dataframe tbody tr th:only-of-type {\n",
              "        vertical-align: middle;\n",
              "    }\n",
              "\n",
              "    .dataframe tbody tr th {\n",
              "        vertical-align: top;\n",
              "    }\n",
              "\n",
              "    .dataframe thead th {\n",
              "        text-align: right;\n",
              "    }\n",
              "</style>\n",
              "<table border=\"1\" class=\"dataframe\">\n",
              "  <thead>\n",
              "    <tr style=\"text-align: right;\">\n",
              "      <th></th>\n",
              "      <th>hitAction_type</th>\n",
              "      <th>count</th>\n",
              "      <th>percentage</th>\n",
              "    </tr>\n",
              "  </thead>\n",
              "  <tbody>\n",
              "    <tr>\n",
              "      <th>0</th>\n",
              "      <td>4</td>\n",
              "      <td>20</td>\n",
              "      <td>0.200020</td>\n",
              "    </tr>\n",
              "    <tr>\n",
              "      <th>1</th>\n",
              "      <td>6</td>\n",
              "      <td>40</td>\n",
              "      <td>0.400040</td>\n",
              "    </tr>\n",
              "    <tr>\n",
              "      <th>2</th>\n",
              "      <td>3</td>\n",
              "      <td>59</td>\n",
              "      <td>0.590059</td>\n",
              "    </tr>\n",
              "    <tr>\n",
              "      <th>3</th>\n",
              "      <td>5</td>\n",
              "      <td>70</td>\n",
              "      <td>0.700070</td>\n",
              "    </tr>\n",
              "    <tr>\n",
              "      <th>4</th>\n",
              "      <td>2</td>\n",
              "      <td>163</td>\n",
              "      <td>1.630163</td>\n",
              "    </tr>\n",
              "    <tr>\n",
              "      <th>5</th>\n",
              "      <td>1</td>\n",
              "      <td>210</td>\n",
              "      <td>2.100210</td>\n",
              "    </tr>\n",
              "    <tr>\n",
              "      <th>6</th>\n",
              "      <td>0</td>\n",
              "      <td>9437</td>\n",
              "      <td>94.379438</td>\n",
              "    </tr>\n",
              "  </tbody>\n",
              "</table>\n",
              "</div>\n",
              "      <button class=\"colab-df-convert\" onclick=\"convertToInteractive('df-80f7afb9-c12c-499e-b776-867abeddfe86')\"\n",
              "              title=\"Convert this dataframe to an interactive table.\"\n",
              "              style=\"display:none;\">\n",
              "        \n",
              "  <svg xmlns=\"http://www.w3.org/2000/svg\" height=\"24px\"viewBox=\"0 0 24 24\"\n",
              "       width=\"24px\">\n",
              "    <path d=\"M0 0h24v24H0V0z\" fill=\"none\"/>\n",
              "    <path d=\"M18.56 5.44l.94 2.06.94-2.06 2.06-.94-2.06-.94-.94-2.06-.94 2.06-2.06.94zm-11 1L8.5 8.5l.94-2.06 2.06-.94-2.06-.94L8.5 2.5l-.94 2.06-2.06.94zm10 10l.94 2.06.94-2.06 2.06-.94-2.06-.94-.94-2.06-.94 2.06-2.06.94z\"/><path d=\"M17.41 7.96l-1.37-1.37c-.4-.4-.92-.59-1.43-.59-.52 0-1.04.2-1.43.59L10.3 9.45l-7.72 7.72c-.78.78-.78 2.05 0 2.83L4 21.41c.39.39.9.59 1.41.59.51 0 1.02-.2 1.41-.59l7.78-7.78 2.81-2.81c.8-.78.8-2.07 0-2.86zM5.41 20L4 18.59l7.72-7.72 1.47 1.35L5.41 20z\"/>\n",
              "  </svg>\n",
              "      </button>\n",
              "      \n",
              "  <style>\n",
              "    .colab-df-container {\n",
              "      display:flex;\n",
              "      flex-wrap:wrap;\n",
              "      gap: 12px;\n",
              "    }\n",
              "\n",
              "    .colab-df-convert {\n",
              "      background-color: #E8F0FE;\n",
              "      border: none;\n",
              "      border-radius: 50%;\n",
              "      cursor: pointer;\n",
              "      display: none;\n",
              "      fill: #1967D2;\n",
              "      height: 32px;\n",
              "      padding: 0 0 0 0;\n",
              "      width: 32px;\n",
              "    }\n",
              "\n",
              "    .colab-df-convert:hover {\n",
              "      background-color: #E2EBFA;\n",
              "      box-shadow: 0px 1px 2px rgba(60, 64, 67, 0.3), 0px 1px 3px 1px rgba(60, 64, 67, 0.15);\n",
              "      fill: #174EA6;\n",
              "    }\n",
              "\n",
              "    [theme=dark] .colab-df-convert {\n",
              "      background-color: #3B4455;\n",
              "      fill: #D2E3FC;\n",
              "    }\n",
              "\n",
              "    [theme=dark] .colab-df-convert:hover {\n",
              "      background-color: #434B5C;\n",
              "      box-shadow: 0px 1px 3px 1px rgba(0, 0, 0, 0.15);\n",
              "      filter: drop-shadow(0px 1px 2px rgba(0, 0, 0, 0.3));\n",
              "      fill: #FFFFFF;\n",
              "    }\n",
              "  </style>\n",
              "\n",
              "      <script>\n",
              "        const buttonEl =\n",
              "          document.querySelector('#df-80f7afb9-c12c-499e-b776-867abeddfe86 button.colab-df-convert');\n",
              "        buttonEl.style.display =\n",
              "          google.colab.kernel.accessAllowed ? 'block' : 'none';\n",
              "\n",
              "        async function convertToInteractive(key) {\n",
              "          const element = document.querySelector('#df-80f7afb9-c12c-499e-b776-867abeddfe86');\n",
              "          const dataTable =\n",
              "            await google.colab.kernel.invokeFunction('convertToInteractive',\n",
              "                                                     [key], {});\n",
              "          if (!dataTable) return;\n",
              "\n",
              "          const docLinkHtml = 'Like what you see? Visit the ' +\n",
              "            '<a target=\"_blank\" href=https://colab.research.google.com/notebooks/data_table.ipynb>data table notebook</a>'\n",
              "            + ' to learn more about interactive tables.';\n",
              "          element.innerHTML = '';\n",
              "          dataTable['output_type'] = 'display_data';\n",
              "          await google.colab.output.renderOutput(dataTable, element);\n",
              "          const docLink = document.createElement('div');\n",
              "          docLink.innerHTML = docLinkHtml;\n",
              "          element.appendChild(docLink);\n",
              "        }\n",
              "      </script>\n",
              "    </div>\n",
              "  </div>\n",
              "  "
            ]
          },
          "metadata": {},
          "execution_count": 28
        }
      ],
      "source": [
        "## ได้แสดงแบบ ตารางข้อมูลเชิงสรุป\n",
        "hitAction_type_pd"
      ]
    },
    {
      "cell_type": "code",
      "execution_count": 29,
      "metadata": {
        "colab": {
          "base_uri": "https://localhost:8080/",
          "height": 566
        },
        "id": "fHC2vqEeret3",
        "outputId": "679494a2-1000-4d96-f112-0193d957311c"
      },
      "outputs": [
        {
          "output_type": "execute_result",
          "data": {
            "text/plain": [
              "Text(0.5, 0, 'hitAction_type')"
            ]
          },
          "metadata": {},
          "execution_count": 29
        },
        {
          "output_type": "display_data",
          "data": {
            "text/plain": [
              "<Figure size 800x640 with 1 Axes>"
            ],
            "image/png": "[encoded data removed]"
          },
          "metadata": {
            "needs_background": "light"
          }
        }
      ],
      "source": [
        "## เห็นว่าตัวแปร hitAction_type ซึ่งอาจจะนำไปเป็น target variable ได้นั้น มีความเป็น imbalance class ค่อนข้างสูง\n",
        "\n",
        "## Ploting Bars Chart\n",
        "plt.figure(figsize=(10,8), dpi= 80)\n",
        "plt.bar(hitAction_type_pd['hitAction_type'], hitAction_type_pd['percentage'], color='gold', width=.5)\n",
        "\n",
        "## Decoration\n",
        "plt.ylabel('#Frequency')\n",
        "plt.xlabel('hitAction_type')\n"
      ]
    },
    {
      "cell_type": "code",
      "execution_count": 30,
      "metadata": {
        "id": "da4nO-a9ret3"
      },
      "outputs": [],
      "source": [
        "freq_distribution_col_list = ['hitAction_type','hitHour','hitMin','productListName'\\\n",
        "                              ,'v2ProductName']"
      ]
    },
    {
      "cell_type": "code",
      "execution_count": 31,
      "metadata": {
        "colab": {
          "base_uri": "https://localhost:8080/",
          "height": 1000
        },
        "id": "eI0TPHqBret4",
        "outputId": "49ef4081-9840-426e-ae49-6a5512d49711"
      },
      "outputs": [
        {
          "output_type": "display_data",
          "data": {
            "text/plain": [
              "<Figure size 800x640 with 1 Axes>"
            ],
            "image/png": "[encoded data removed]"
          },
          "metadata": {
            "needs_background": "light"
          }
        },
        {
          "output_type": "display_data",
          "data": {
            "text/plain": [
              "<Figure size 800x640 with 1 Axes>"
            ],
            "image/png": "[encoded data removed]"
          },
          "metadata": {
            "needs_background": "light"
          }
        },
        {
          "output_type": "display_data",
          "data": {
            "text/plain": [
              "<Figure size 800x640 with 1 Axes>"
            ],
            "image/png": "[encoded data removed]"
          },
          "metadata": {
            "needs_background": "light"
          }
        },
        {
          "output_type": "display_data",
          "data": {
            "text/plain": [
              "<Figure size 800x640 with 1 Axes>"
            ],
            "image/png": "[encoded data removed]"
          },
          "metadata": {
            "needs_background": "light"
          }
        },
        {
          "output_type": "display_data",
          "data": {
            "text/plain": [
              "<Figure size 800x640 with 1 Axes>"
            ],
            "image/png": "[encoded data removed]"
          },
          "metadata": {
            "needs_background": "light"
          }
        }
      ],
      "source": [
        "for col in freq_distribution_col_list:\n",
        "  analysis_pd = raw_df.groupBy(col).count().withColumn('percentage',calPercentfunc(sparkf.col('count')))\\\n",
        "                  .orderBy('percentage')\\\n",
        "                  .toPandas()\n",
        "  analysis_pd\n",
        "\n",
        "  ## Ploting Bars Chart\n",
        "  plt.figure(figsize=(10,8), dpi= 80)\n",
        "  plt.bar(analysis_pd[col], analysis_pd['percentage'], color='gold', width=.5)\n",
        "\n",
        "  ## Decoration\n",
        "  plt.ylabel('#Frequency')\n",
        "  plt.xlabel(col)\n",
        "\n",
        "  del(analysis_pd)"
      ]
    },
    {
      "cell_type": "markdown",
      "metadata": {
        "id": "h1yc0IJIret4"
      },
      "source": [
        "### 2.2.2 Multivariate Analysis for Feature Selection/Removal"
      ]
    },
    {
      "cell_type": "code",
      "execution_count": 32,
      "metadata": {
        "id": "p2pQluwHret4"
      },
      "outputs": [],
      "source": [
        "### เพื่อจะทำ Feature Selection ผมอยากจะหยิบ Feature กับ Label คู่หนึ่งมาทดสอบ\n",
        "### ด้วยวิธีการ Plot Graph (Viz.)ในแบบ Histogram "
      ]
    },
    {
      "cell_type": "code",
      "execution_count": 33,
      "metadata": {
        "id": "SY0gKPsSret5"
      },
      "outputs": [],
      "source": [
        "### ในที่นี้หยิบ timeOnsite กับ Label มาทดสอบ"
      ]
    },
    {
      "cell_type": "code",
      "execution_count": 34,
      "metadata": {
        "colab": {
          "base_uri": "https://localhost:8080/"
        },
        "id": "rlz5g3APret5",
        "outputId": "0654d56a-def9-45f7-c2a2-a249b4764040"
      },
      "outputs": [
        {
          "output_type": "execute_result",
          "data": {
            "text/plain": [
              "DataFrame[source: string, isTrueDirect: boolean, sourceKeyword: string, medium: string, isVideoAd: boolean, fullVisitorId: bigint, visitId: int, date: int, newVisits: int, hitType: string, hitAction_type: int, hitNumber: int, hitHour: int, hitMin: int, timeMicroSec: int, v2ProductName: string, productListName: string, isClick: boolean, isImpression: boolean, timeOnSite: int, totalTransactionRevenue: int]"
            ]
          },
          "metadata": {},
          "execution_count": 34
        }
      ],
      "source": [
        "raw_df"
      ]
    },
    {
      "cell_type": "code",
      "execution_count": 35,
      "metadata": {
        "colab": {
          "base_uri": "https://localhost:8080/"
        },
        "id": "8sqN3pvXret5",
        "outputId": "4851289d-41b6-4c66-e4bc-31c41fa5ce14"
      },
      "outputs": [
        {
          "output_type": "stream",
          "name": "stdout",
          "text": [
            "root\n",
            " |-- source: string (nullable = true)\n",
            " |-- isTrueDirect: boolean (nullable = true)\n",
            " |-- sourceKeyword: string (nullable = true)\n",
            " |-- medium: string (nullable = true)\n",
            " |-- isVideoAd: boolean (nullable = true)\n",
            " |-- fullVisitorId: long (nullable = true)\n",
            " |-- visitId: integer (nullable = true)\n",
            " |-- date: integer (nullable = true)\n",
            " |-- newVisits: integer (nullable = true)\n",
            " |-- hitType: string (nullable = true)\n",
            " |-- hitAction_type: integer (nullable = true)\n",
            " |-- hitNumber: integer (nullable = true)\n",
            " |-- hitHour: integer (nullable = true)\n",
            " |-- hitMin: integer (nullable = true)\n",
            " |-- timeMicroSec: integer (nullable = true)\n",
            " |-- v2ProductName: string (nullable = true)\n",
            " |-- productListName: string (nullable = true)\n",
            " |-- isClick: boolean (nullable = true)\n",
            " |-- isImpression: boolean (nullable = true)\n",
            " |-- timeOnSite: integer (nullable = true)\n",
            " |-- totalTransactionRevenue: integer (nullable = true)\n",
            "\n"
          ]
        }
      ],
      "source": [
        "raw_df.printSchema()"
      ]
    },
    {
      "cell_type": "code",
      "execution_count": 35,
      "metadata": {
        "id": "yafBXtBZret5"
      },
      "outputs": [],
      "source": [
        ""
      ]
    },
    {
      "cell_type": "code",
      "execution_count": 36,
      "metadata": {
        "id": "7olnoLPMret5"
      },
      "outputs": [],
      "source": [
        "tos_df = raw_df.select('timeOnsite','totalTransactionRevenue')\\\n",
        ".withColumn('label',sparkf.when(sparkf.col('totalTransactionRevenue').isNull()\\\n",
        "                                ,'not_buy').otherwise('buy'))"
      ]
    },
    {
      "cell_type": "code",
      "execution_count": 37,
      "metadata": {
        "id": "hH68ATP1ret6"
      },
      "outputs": [],
      "source": [
        "tos_pd = tos_df.toPandas()"
      ]
    },
    {
      "cell_type": "code",
      "execution_count": 38,
      "metadata": {
        "colab": {
          "base_uri": "https://localhost:8080/",
          "height": 770
        },
        "id": "ZWzkFgb9ret6",
        "outputId": "3c19f382-c216-4add-92a4-5b04aa18560e"
      },
      "outputs": [
        {
          "output_type": "stream",
          "name": "stderr",
          "text": [
            "/usr/local/lib/python3.7/dist-packages/seaborn/distributions.py:2619: FutureWarning: `distplot` is a deprecated function and will be removed in a future version. Please adapt your code to use either `displot` (a figure-level function with similar flexibility) or `histplot` (an axes-level function for histograms).\n",
            "  warnings.warn(msg, FutureWarning)\n",
            "/usr/local/lib/python3.7/dist-packages/seaborn/distributions.py:2619: FutureWarning: `distplot` is a deprecated function and will be removed in a future version. Please adapt your code to use either `displot` (a figure-level function with similar flexibility) or `histplot` (an axes-level function for histograms).\n",
            "  warnings.warn(msg, FutureWarning)\n"
          ]
        },
        {
          "output_type": "display_data",
          "data": {
            "text/plain": [
              "<Figure size 1040x800 with 1 Axes>"
            ],
            "image/png": "[encoded data removed]"
          },
          "metadata": {
            "needs_background": "light"
          }
        }
      ],
      "source": [
        "# Draw Plot\n",
        "plt.figure(figsize=(13,10), dpi= 80)\n",
        "sns.distplot(tos_pd.loc[tos_pd.label=='buy', \"timeOnsite\"], color=\"dodgerblue\", label=\"buy\")\n",
        "sns.distplot(tos_pd.loc[tos_pd.label=='not_buy', \"timeOnsite\"], color=\"orange\", label=\"not_buy\")\n",
        "\n",
        "# Decoration\n",
        "plt.title('Density Plot of timeOnsite by label', fontsize=22)\n",
        "plt.legend()\n",
        "plt.show()"
      ]
    },
    {
      "cell_type": "markdown",
      "metadata": {
        "id": "z9DmxEB7ret6"
      },
      "source": [
        "### 2.3 การตรวจพบ Spurious Pattern ด้วย Multivariate Analysis"
      ]
    },
    {
      "cell_type": "code",
      "execution_count": 39,
      "metadata": {
        "colab": {
          "base_uri": "https://localhost:8080/"
        },
        "id": "mFqURqHrret6",
        "outputId": "2d644a54-db40-4d1c-acd7-f2f2cebedd0b"
      },
      "outputs": [
        {
          "output_type": "stream",
          "name": "stdout",
          "text": [
            "+--------------+-----------------------+-----+\n",
            "|hitAction_type|totalTransactionRevenue|count|\n",
            "+--------------+-----------------------+-----+\n",
            "|             6|               59960000|    6|\n",
            "|             6|               30980000|    4|\n",
            "|             6|               29980000|    4|\n",
            "|             6|              116760000|    4|\n",
            "|             6|               33180000|    4|\n",
            "|             6|               36980000|    4|\n",
            "|             6|               34590000|    2|\n",
            "|             6|               28190000|    2|\n",
            "|             6|               33990000|    2|\n",
            "|             6|              128970000|    2|\n",
            "|             6|               23990000|    2|\n",
            "|             6|               50790000|    2|\n",
            "|             6|               20580000|    2|\n",
            "|             5|               29980000|   10|\n",
            "|             5|               33180000|    8|\n",
            "|             5|              116760000|    8|\n",
            "|             5|               36980000|    8|\n",
            "|             5|                   null|    6|\n",
            "|             5|               59960000|    6|\n",
            "|             5|               33990000|    4|\n",
            "|             5|               30980000|    4|\n",
            "|             5|               34590000|    4|\n",
            "|             5|               50790000|    3|\n",
            "|             5|               20580000|    3|\n",
            "|             5|               28190000|    3|\n",
            "|             5|              128970000|    2|\n",
            "|             5|               23990000|    1|\n",
            "|             4|                   null|   18|\n",
            "|             4|               29980000|    2|\n",
            "|             3|                   null|   37|\n",
            "|             3|               33990000|    5|\n",
            "|             3|               36980000|    3|\n",
            "|             3|               29980000|    3|\n",
            "|             3|               33180000|    2|\n",
            "|             3|               30980000|    2|\n",
            "|             3|               59960000|    2|\n",
            "|             3|               28190000|    1|\n",
            "|             3|               50790000|    1|\n",
            "|             3|               34590000|    1|\n",
            "|             3|               20580000|    1|\n",
            "|             3|              116760000|    1|\n",
            "|             2|                   null|  139|\n",
            "|             2|               29980000|    6|\n",
            "|             2|               30980000|    5|\n",
            "|             2|               59960000|    2|\n",
            "|             2|               33990000|    2|\n",
            "|             2|               50790000|    2|\n",
            "|             2|              128970000|    1|\n",
            "|             2|               20580000|    1|\n",
            "|             2|               36980000|    1|\n",
            "|             2|              116760000|    1|\n",
            "|             2|               23990000|    1|\n",
            "|             2|               28190000|    1|\n",
            "|             2|               33180000|    1|\n",
            "|             1|                   null|  183|\n",
            "|             1|               29980000|    7|\n",
            "|             1|               30980000|    5|\n",
            "|             1|               33990000|    3|\n",
            "|             1|               59960000|    2|\n",
            "|             1|              116760000|    2|\n",
            "|             1|               50790000|    2|\n",
            "|             1|               23990000|    2|\n",
            "|             1|               28190000|    1|\n",
            "|             1|               33180000|    1|\n",
            "|             1|               20580000|    1|\n",
            "|             1|               36980000|    1|\n",
            "|             0|                   null| 8909|\n",
            "|             0|               29980000|  137|\n",
            "|             0|               33990000|   74|\n",
            "|             0|               33180000|   72|\n",
            "|             0|               59960000|   60|\n",
            "|             0|               30980000|   53|\n",
            "|             0|               50790000|   45|\n",
            "|             0|               20580000|   20|\n",
            "|             0|              128970000|   15|\n",
            "|             0|               23990000|   15|\n",
            "|             0|              116760000|   14|\n",
            "|             0|               28190000|   12|\n",
            "|             0|               36980000|    8|\n",
            "|             0|               34590000|    3|\n",
            "+--------------+-----------------------+-----+\n",
            "\n"
          ]
        }
      ],
      "source": [
        "###โค้ดด้านล่างนี้แสดงให้เห็นว่ามี Spurious Pattern ซึ่งหมายถึง ความสัมพันธ์ระหว่าง Feature กับ Label \n",
        "### ที่ยังไม่เหมาะกับการนำไปเป็น Training set ตอนนี้\n",
        "raw_df.select(['hitAction_type','totalTransactionRevenue'])\\\n",
        ".groupBy('hitAction_type','totalTransactionRevenue')\\\n",
        ".count()\\\n",
        ".orderBy(sparkf.col('hitAction_type').desc(),sparkf.col('count').desc()).show(100)"
      ]
    },
    {
      "cell_type": "markdown",
      "metadata": {
        "id": "hILgAHuWret6"
      },
      "source": [
        "# 3. Data Preparation"
      ]
    },
    {
      "cell_type": "code",
      "execution_count": 40,
      "metadata": {
        "id": "DkU8NXIPret6"
      },
      "outputs": [],
      "source": [
        "# เราจะแก้ไข Spurious Pattern ก่อนจะกลับมา Feature Selection/Removal อีกครั้ง"
      ]
    },
    {
      "cell_type": "markdown",
      "metadata": {
        "id": "vjVlufCXret7"
      },
      "source": [
        "### 3.1 Reduce Spurious Pattern"
      ]
    },
    {
      "cell_type": "markdown",
      "metadata": {
        "id": "R3AQU6cPret7"
      },
      "source": [
        "### 3.1.1 Define Window Partitions"
      ]
    },
    {
      "cell_type": "code",
      "execution_count": 41,
      "metadata": {
        "id": "5gsmtghgret7"
      },
      "outputs": [],
      "source": [
        "## สร้าง Window Partitions สำหรับแบ่งช่วงข้อมูล ด้วย Window \n",
        "## กรณีนี้เป็นการแบ่งช่วงข้อมูลตาม fullVisitorId ร่วมกับ VisitId"
      ]
    },
    {
      "cell_type": "code",
      "execution_count": 42,
      "metadata": {
        "id": "gUo5B5Utret7"
      },
      "outputs": [],
      "source": [
        "### กำหนดขอบเขตของ Partition of Rows\n",
        "sessionWindow = W.partitionBy('fullVisitorId','visitId')\\\n",
        ".orderBy(sparkf.col(\"hitNumber\").cast(\"long\"),sparkf.col('timeMicroSec').cast('long'))\\\n",
        "                 .rangeBetween(-sys.maxsize, sys.maxsize)"
      ]
    },
    {
      "cell_type": "markdown",
      "metadata": {
        "id": "JIBPWhkqret7"
      },
      "source": [
        "### 3.3.3 Declare Aggregation functions"
      ]
    },
    {
      "cell_type": "code",
      "execution_count": 43,
      "metadata": {
        "id": "PhZybV0Lret7"
      },
      "outputs": [],
      "source": [
        "### ประกาศฟังก์ชั่นที่ใช้ นับจำนวน hitAction_type ทั้งหมด\n",
        "num_HitAction_type = sparkf.expr(\"count('hitAction_type')\")"
      ]
    },
    {
      "cell_type": "code",
      "execution_count": 44,
      "metadata": {
        "id": "8JSEOCJQret7"
      },
      "outputs": [],
      "source": [
        "### ประกาศฟังก์ชั่นที่ใช้ Extract hitAction_type ตัวสุดท้ายออกมา\n",
        "Get_lastHitAction_Type = sparkf.last(sparkf.col('hitAction_type').cast(IntegerType()))"
      ]
    },
    {
      "cell_type": "code",
      "execution_count": 45,
      "metadata": {
        "id": "4K5djbR1ret7"
      },
      "outputs": [],
      "source": [
        "#ได้ session_df ซึ่งมี 1 row บรรจุ information ของทั้ง Session ไว้ - Spurious Pattern หายไปแล้ว\n",
        "new_session_df = raw_df.withColumn('numHitAction_type',num_HitAction_type.over(sessionWindow))\\\n",
        ".withColumn('lastHitAction_type',Get_lastHitAction_Type.over(sessionWindow))\\\n",
        ".select('fullVisitorId','VisitId','numHitAction_type','lastHitAction_type')\\\n",
        ".distinct()\n"
      ]
    },
    {
      "cell_type": "code",
      "execution_count": 46,
      "metadata": {
        "colab": {
          "base_uri": "https://localhost:8080/"
        },
        "id": "q1XJrL7cret7",
        "outputId": "066a933c-90b4-4110-a640-d58c3a013eca"
      },
      "outputs": [
        {
          "output_type": "stream",
          "name": "stdout",
          "text": [
            "+-------------------+----------+-----------------+------------------+\n",
            "|      fullVisitorId|   VisitId|numHitAction_type|lastHitAction_type|\n",
            "+-------------------+----------+-----------------+------------------+\n",
            "|  49898505875812980|1491367151|                2|                 0|\n",
            "|  49898679051871719|1494605584|               14|                 0|\n",
            "|  49898679051871719|1494616733|               18|                 0|\n",
            "|  49898679051871719|1494874385|                1|                 0|\n",
            "|  49898679051871719|1496681648|               12|                 0|\n",
            "|  49898679051871719|1496681649|               12|                 0|\n",
            "| 498878131324403508|1483764178|               12|                 0|\n",
            "| 498880063107182717|1485625044|               36|                 0|\n",
            "| 498905464420111059|1473189127|              147|                 0|\n",
            "| 498964599393241343|1498945637|               10|                 0|\n",
            "| 498979133020437362|1500661019|               12|                 0|\n",
            "| 499016873304988410|1492370317|               24|                 0|\n",
            "| 499053624239186718|1499280930|               10|                 0|\n",
            "| 499053624239186718|1499281383|                6|                 0|\n",
            "| 499081741479558991|1495501336|                2|                 0|\n",
            "| 499084809516894580|1478647221|               24|                 0|\n",
            "| 499113371508163067|1478638015|               12|                 0|\n",
            "| 499113371508163067|1478657308|               12|                 0|\n",
            "| 499124294013106751|1482346001|              102|                 0|\n",
            "| 499124294013106751|1484832915|               24|                 0|\n",
            "| 499124294013106751|1485290769|               60|                 0|\n",
            "| 499124294013106751|1486481439|               82|                 0|\n",
            "| 499181803050305114|1492037213|               58|                 0|\n",
            "| 499315898416606413|1495559213|                3|                 0|\n",
            "| 499317391147415753|1478734723|               36|                 0|\n",
            "| 499330715243719656|1477783393|               12|                 0|\n",
            "| 499367878552129112|1491995171|               12|                 0|\n",
            "| 499390063166522855|1500406967|               12|                 0|\n",
            "| 499394417292982650|1490761343|                3|                 0|\n",
            "| 499395870229603675|1496866674|               12|                 0|\n",
            "| 499436177875414384|1500997727|               35|                 0|\n",
            "| 499436177875414384|1501004595|               24|                 0|\n",
            "| 499439897126355128|1476510855|               11|                 0|\n",
            "| 499439897126355128|1476672257|                3|                 0|\n",
            "| 499442621169509875|1493226836|               12|                 0|\n",
            "| 499457486785108326|1493762657|               12|                 0|\n",
            "| 499457486785108326|1493779481|               22|                 0|\n",
            "| 499526296632222229|1478485368|               35|                 0|\n",
            "| 499575320342848437|1489389567|               68|                 0|\n",
            "| 499575320342848437|1495425471|               47|                 0|\n",
            "| 499575320342848437|1498731088|               12|                 0|\n",
            "| 499575320342848437|1498798848|               12|                 0|\n",
            "|4988612949713423910|1489617360|              187|                 2|\n",
            "|4988612949713423910|1489622233|                3|                 3|\n",
            "|4988612949713423910|1489683996|                3|                 0|\n",
            "|4988612949713423910|1490043910|               25|                 6|\n",
            "|4988621857896410082|1484012202|               44|                 5|\n",
            "|4988662207770909060|1480382029|               10|                 0|\n",
            "|4988669503317981853|1491752911|              128|                 0|\n",
            "|4988678797334870432|1482090260|               63|                 4|\n",
            "|4988678897377661015|1484462646|               37|                 0|\n",
            "|4988683855814257726|1492045051|               55|                 0|\n",
            "|4988720918896632511|1499755750|               68|                 0|\n",
            "|4988723707365502990|1501197330|               12|                 0|\n",
            "|4988726250599795681|1498359792|               31|                 0|\n",
            "|4988767692298160108|1497843591|               12|                 0|\n",
            "|4988812738664327947|1475109955|               34|                 0|\n",
            "|4988857276718887102|1496382237|               36|                 0|\n",
            "|4988884583018270490|1493487250|               12|                 0|\n",
            "|4988917331073296315|1490432148|                3|                 0|\n",
            "|4988969836981282102|1499259209|               12|                 0|\n",
            "|4988975267013071330|1498963740|               14|                 2|\n",
            "|4988975668567893834|1478358414|               24|                 0|\n",
            "|4988982175926672344|1479826661|               10|                 0|\n",
            "|4989018862235623282|1496391753|               11|                 0|\n",
            "|4989027615315057980|1501423170|               33|                 3|\n",
            "|4989027615315057980|1501436820|               12|                 0|\n",
            "|4989028356660672519|1493004260|                2|                 0|\n",
            "|4989127590533173792|1490035501|               39|                 0|\n",
            "|4989128074131027088|1499254061|               12|                 0|\n",
            "|4989152518700430825|1480631937|               15|                 0|\n",
            "|4989160850459084689|1490031020|               12|                 0|\n",
            "|4989274933392395231|1487773059|               78|                 0|\n",
            "|4989292940006707711|1494118338|               12|                 0|\n",
            "|4989396316959402298|1498665257|               13|                 0|\n",
            "|4989425631710413740|1484473722|               12|                 0|\n",
            "|4989437928111922465|1483439259|               12|                 0|\n",
            "|4989480968147129169|1501029259|               56|                 0|\n",
            "|4989502044260072033|1477585777|               24|                 0|\n",
            "|4989513651280416823|1499515628|               15|                 0|\n",
            "|4989589127587267583|1472592324|               10|                 0|\n",
            "|4989787451359584310|1501649054|               12|                 0|\n",
            "|4989787451359584310|1501649190|               24|                 0|\n",
            "|4989796484973187255|1473919452|              145|                 0|\n",
            "|4989802415230849281|1480383137|               41|                 0|\n",
            "|4989821450614702108|1493639669|               12|                 0|\n",
            "|4989979675980324054|1470284725|               33|                 0|\n",
            "|4990036009801904432|1491719715|               26|                 0|\n",
            "|4990058588497761621|1473991606|               65|                 0|\n",
            "|4990075466656363861|1480486355|               51|                 0|\n",
            "|4990095180157260404|1493943683|               36|                 0|\n",
            "|4990110272630236835|1492835411|               12|                 0|\n",
            "|4990161079063261487|1497050980|               15|                 0|\n",
            "|4990198874063509353|1477021389|              169|                 0|\n",
            "|4990224662018269743|1496756819|               24|                 0|\n",
            "|4990224662018269743|1497992031|               15|                 0|\n",
            "|4990257633001131707|1485540848|              167|                 4|\n",
            "|4990266240206734180|1477484417|               33|                 0|\n",
            "|4990313995410205385|1492360260|               16|                 3|\n",
            "|4990373158515959892|1476398670|               14|                 2|\n",
            "|4990384153613853615|1480534003|               48|                 0|\n",
            "|4990384153613853615|1480595762|               12|                 0|\n",
            "|4990486938862122515|1485296885|               15|                 0|\n",
            "|4990504964143670988|1481982458|               33|                 0|\n",
            "|4990510158876600710|1495835658|               24|                 0|\n",
            "|4990608618240939324|1487481509|               12|                 0|\n",
            "|4990634285393940076|1496560463|               48|                 0|\n",
            "|4990634493822624181|1492621822|              147|                 0|\n",
            "|4990687357001911346|1482494724|               10|                 0|\n",
            "|4990689924051348824|1494015660|                2|                 0|\n",
            "|4990697502077570091|1494612328|               63|                 2|\n",
            "|4990739953666415758|1501511503|               12|                 0|\n",
            "|4990766928900865232|1491363622|               14|                 1|\n",
            "|4990793863953446866|1501476045|               12|                 0|\n",
            "|4990803917337260315|1475521726|               64|                 0|\n",
            "|4990803917337260315|1475687474|               12|                 0|\n",
            "|4990803917337260315|1476202026|              107|                 0|\n",
            "|4990803917337260315|1477067425|               84|                 0|\n",
            "|4990813446442267483|1501591128|               11|                 0|\n",
            "|4990898198322176351|1487773956|               12|                 0|\n",
            "|4990914182408058641|1477322537|               24|                 0|\n",
            "|4990941148940559922|1501199042|                5|                 0|\n",
            "|4990955117732204143|1490136764|               42|                 0|\n",
            "|4990964761833624877|1484019668|                3|                 0|\n",
            "|4991056830142893462|1480314568|               12|                 0|\n",
            "|4991056830142893462|1480341159|               12|                 0|\n",
            "|4991099898987459525|1482341291|               31|                 0|\n",
            "|4991105026836415438|1488300417|              120|                 0|\n",
            "|4991148397009295696|1493697860|                3|                 0|\n",
            "|4991188690619425546|1492014312|               48|                 0|\n",
            "|4991197139889084904|1487721256|               24|                 0|\n",
            "|4991222072181495366|1472391078|               34|                 0|\n",
            "|4991315443667882035|1489472100|               31|                 0|\n",
            "|4991406001994306546|1493597755|               12|                 0|\n",
            "|4991430258257050394|1484941558|               26|                 0|\n",
            "|4991483662680959001|1487740469|               12|                 0|\n",
            "|4991508383848014634|1498253209|               12|                 0|\n",
            "|4991515809111534259|1495093015|               12|                 0|\n",
            "|4991535023471841607|1491728262|               12|                 0|\n",
            "|4991536060599177108|1495501367|               12|                 0|\n",
            "|4991702350825434867|1500347675|               24|                 0|\n",
            "|4991710110216617350|1471605830|               34|                 0|\n",
            "|4991819171725588463|1476741224|                9|                 2|\n",
            "|4991921031321593208|1482881052|               81|                 0|\n",
            "|4991962803971844700|1475876346|              139|                 0|\n",
            "|4992019787600077350|1479909731|               12|                 0|\n",
            "|4992199182632638095|1478798637|               28|                 3|\n",
            "|4992202737619649328|1494333107|               24|                 0|\n",
            "|4992235045300539915|1479812222|               12|                 0|\n",
            "|4992253129769294276|1484243133|                8|                 0|\n",
            "|4992317753515158805|1496175863|              128|                 0|\n",
            "|4992317753515158805|1497470010|                5|                 0|\n",
            "|4992368529336131202|1485404780|                9|                 0|\n",
            "|4992408491484467549|1495435253|               36|                 0|\n",
            "|4992476253831332236|1493440482|                2|                 0|\n",
            "|4992499749003799871|1472235854|              257|                 0|\n",
            "|4992499749003799871|1472247332|               59|                 0|\n",
            "|4992499749003799871|1479262207|               24|                 0|\n",
            "|4992499749003799871|1479271117|               12|                 0|\n",
            "|4992705034110056864|1493573173|               21|                 0|\n",
            "|4992737865022403291|1489606317|               12|                 0|\n",
            "|4992765236887987093|1487539613|               12|                 0|\n",
            "|4992772271736200092|1478983581|              124|                 0|\n",
            "|4992798655938080790|1479134657|               12|                 0|\n",
            "|4992819126088253676|1476938325|              209|                 0|\n",
            "|4992819126088253676|1476945917|              139|                 0|\n",
            "|4992819126088253676|1477002316|               12|                 0|\n",
            "|4992825232100275341|1493188415|               17|                 5|\n",
            "|4992849727599178667|1476040829|               29|                 0|\n",
            "|4992865200061175142|1495417760|                1|                 4|\n",
            "|4992876868987625217|1500851875|               14|                 0|\n",
            "|4992923987507531999|1491163146|               24|                 0|\n",
            "|4992933767878756042|1490260048|               12|                 0|\n",
            "|4992947358019338059|1491933483|               36|                 0|\n",
            "|4992956253730216797|1498694137|               50|                 0|\n",
            "|4992970334133037215|1474383410|              205|                 0|\n",
            "|4992970334133037215|1474396786|              152|                 0|\n",
            "|4993013381882999248|1487691409|               31|                 0|\n",
            "|4993072845336626464|1500317271|               14|                 1|\n",
            "|4993159267264764572|1488755124|               12|                 0|\n",
            "|4993218711598105610|1487484373|               12|                 0|\n",
            "|4993222234802078361|1480926692|               24|                 0|\n",
            "|4993222234802078361|1481881370|               12|                 0|\n",
            "|4993270170655707519|1491475915|               12|                 0|\n",
            "|4993294484927124819|1500478621|               12|                 0|\n",
            "|4993310291882560718|1488222598|                3|                 0|\n",
            "|4993318568809544603|1479819761|               12|                 0|\n",
            "|4993450863033496114|1485313789|               73|                 0|\n",
            "|4993450863033496114|1485362303|               12|                 0|\n",
            "|4993450863033496114|1485364895|               12|                 0|\n",
            "|4993461888792026979|1480376731|               12|                 0|\n",
            "|4993461888792026979|1480395071|               12|                 0|\n",
            "|4993461888792026979|1480398667|               24|                 0|\n",
            "|4993475235318269661|1492917397|               24|                 0|\n",
            "|4993485206334150199|1470106850|               21|                 6|\n",
            "|4993504901841646644|1487904093|                3|                 0|\n",
            "|4993519711854402788|1487369367|               10|                 6|\n",
            "|4993519711854402788|1487706210|                3|                 0|\n",
            "|4993568304018073807|1485764065|               12|                 0|\n",
            "|4993587854904799754|1500869687|               12|                 0|\n",
            "|4993606814220081420|1479041823|               15|                 3|\n",
            "|4993609829989507413|1498549707|               12|                 0|\n",
            "|4993613447705442396|1482272813|               24|                 0|\n",
            "|4993613447705442396|1482272940|               24|                 0|\n",
            "|4993613447705442396|1482297870|               12|                 0|\n",
            "|4993613447705442396|1482396413|               24|                 0|\n",
            "|4993613447705442396|1482398855|               12|                 0|\n",
            "|4993613447705442396|1482402379|               12|                 0|\n",
            "|4993613447705442396|1482692780|               54|                 0|\n",
            "|4993613447705442396|1483366329|               12|                 0|\n",
            "|4993613447705442396|1483380895|               12|                 0|\n",
            "|4993613447705442396|1483383792|               12|                 0|\n",
            "|4993613447705442396|1483430590|               12|                 0|\n",
            "|4993620301495103843|1494779714|               14|                 2|\n",
            "|4993667846900005320|1481114338|               75|                 0|\n",
            "|4993692613545178117|1489528333|               92|                 0|\n",
            "|4993765950393871160|1489424896|               12|                 0|\n",
            "|4993800846865057922|1483693233|               12|                 0|\n",
            "|4993803173017071214|1479730555|               11|                 0|\n",
            "|4993852637585406336|1489938502|               24|                 0|\n",
            "|4993852637585406336|1489949902|               21|                 0|\n",
            "|4993852637585406336|1490377737|               37|                 0|\n",
            "|4993852637585406336|1494000490|               88|                 6|\n",
            "|4993876156962247418|1482859342|                3|                 0|\n",
            "|4993876737142975317|1493496187|                2|                 0|\n",
            "|4993879913940194059|1495266051|               48|                 0|\n",
            "|4993879913940194059|1495269189|               24|                 0|\n",
            "|4993888514053304960|1492820576|               12|                 0|\n",
            "|4993907273327840084|1491680252|               12|                 0|\n",
            "|4993919130694894668|1475433944|               12|                 0|\n",
            "|4993976644920771840|1500996456|                2|                 0|\n",
            "|4994061560767948769|1495002036|               24|                 0|\n",
            "|4994073064670445183|1497488792|                3|                 0|\n",
            "|4994111360155053596|1477588737|               12|                 0|\n",
            "|4994140640541591336|1492693848|                5|                 0|\n",
            "|4994199815596337286|1483986074|               12|                 0|\n",
            "|4994205137593013538|1499898511|               12|                 0|\n",
            "|4994248346633828032|1488049502|                3|                 0|\n",
            "|4994285371665186309|1495069899|               16|                 0|\n",
            "|4994319889838750000|1472164694|              129|                 0|\n",
            "|4994497108711145043|1498086476|               41|                 0|\n",
            "|4994505939729940755|1490063707|               24|                 0|\n",
            "|4994637941992050864|1493969058|                3|                 0|\n",
            "|4994656948755372249|1500056124|               12|                 0|\n",
            "|4994662117345585865|1484261089|               24|                 0|\n",
            "|4994675439572059411|1470147990|              117|                 0|\n",
            "|4994683974525428594|1496293139|               12|                 0|\n",
            "|4994715450918937680|1493591748|                3|                 0|\n",
            "|4994715450918937680|1494042966|                4|                 0|\n",
            "|4994742182872868429|1477292041|               12|                 0|\n",
            "|4994742182872868429|1477292042|               84|                 0|\n",
            "|4994742514259933278|1490264507|               29|                 0|\n",
            "|4994757665368813690|1481864300|               12|                 0|\n",
            "|4994772285651228757|1492559643|               12|                 0|\n",
            "|4994838533905163807|1484098287|                2|                 0|\n",
            "|4994855995081050813|1495711333|               24|                 0|\n",
            "|4994917197170264047|1473748699|               51|                 0|\n",
            "|4994919064441828349|1499024160|                2|                 0|\n",
            "|4995013970880979359|1490971653|               12|                 0|\n",
            "|4995034057411093396|1481605140|               36|                 0|\n",
            "|4995133684572120885|1497977683|                1|                 0|\n",
            "|4995138665597110468|1470635081|               17|                 0|\n",
            "|4995160527713338261|1478510279|               12|                 0|\n",
            "|4995162652666435830|1499954074|               12|                 0|\n",
            "|4995226058622070114|1489366789|               12|                 0|\n",
            "|4995239461409228195|1486916946|              144|                 0|\n",
            "|4995239461409228195|1487299362|                8|                 0|\n",
            "|4995251874694255755|1495500364|               12|                 0|\n",
            "|4995251874694255755|1498096680|               33|                 0|\n",
            "|4995280515010061307|1479316504|               12|                 0|\n",
            "|4995307417401747374|1493981832|                2|                 0|\n",
            "|4995329888193995600|1481054018|               38|                 0|\n",
            "|4995337747080973623|1482306195|               12|                 0|\n",
            "|4995356988620593823|1481560042|               82|                 0|\n",
            "|4995382641921129387|1494851969|               12|                 0|\n",
            "|4995419041749356780|1481931419|               55|                 5|\n",
            "|4995444876703557251|1501637175|               12|                 0|\n",
            "|4995453606073785539|1477559897|               48|                 0|\n",
            "|4995455754007791333|1475996120|               12|                 0|\n",
            "|4995525264843538431|1470240518|               17|                 0|\n",
            "|4995548322577594811|1472199227|               34|                 0|\n",
            "|4995566005380940326|1475533246|               20|                 2|\n",
            "|4995566005380940326|1475535833|              112|                 0|\n",
            "|4995566005380940326|1475539377|                6|                 0|\n",
            "|4995566125302907221|1493837003|               23|                 2|\n",
            "|4995584940873803432|1494938090|              104|                 1|\n",
            "|4995584940873803432|1496942204|               17|                 0|\n",
            "|4995584940873803432|1497289186|               20|                 6|\n",
            "|4995584940873803432|1497463936|               58|                 0|\n",
            "|4995584940873803432|1497988407|               13|                 0|\n",
            "|4995584940873803432|1498486477|               30|                 6|\n",
            "|4995584940873803432|1500474103|               10|                 0|\n",
            "|4995584940873803432|1500910511|               83|                 4|\n",
            "|4995584940873803432|1500920362|                1|                 4|\n",
            "|4995584940873803432|1501519381|               14|                 4|\n",
            "|4995606827430436569|1488143869|               28|                 6|\n",
            "|4995606827430436569|1491875459|                5|                 0|\n",
            "|4995609291526730194|1491327253|                2|                 0|\n",
            "|4995615722515935791|1482453723|                3|                 0|\n",
            "|4995734035040389032|1499305477|                1|                 0|\n",
            "|4995746215650417469|1473207154|               26|                 0|\n",
            "|4995761608613395195|1491092144|               12|                 0|\n",
            "|4995817611652484340|1475325127|               12|                 0|\n",
            "|4995822119511242764|1475060063|               57|                 0|\n",
            "|4995845223254722667|1486823509|               31|                 3|\n",
            "|4995879313347005519|1499358145|               68|                 2|\n",
            "|4995893751144962003|1495702015|               14|                 2|\n",
            "|4995899860057743088|1473965221|                6|                 0|\n",
            "|4995899860057743088|1474047117|               90|                 6|\n",
            "|4995903322841177843|1493223582|              189|                 0|\n",
            "|4995924709498690342|1485985447|               30|                 0|\n",
            "|4995924842281653133|1485802641|               74|                 0|\n",
            "|4995924842281653133|1486131356|               20|                 6|\n",
            "+-------------------+----------+-----------------+------------------+\n",
            "\n"
          ]
        }
      ],
      "source": [
        "new_session_df.orderBy(sparkf.col('fullVisitorId').asc()\\\n",
        "                       ,sparkf.col('VisitId').asc(),sparkf.col('lastHitAction_type'))\\\n",
        ".show(1000)"
      ]
    },
    {
      "cell_type": "raw",
      "metadata": {
        "id": "lFLHSoEIret8"
      },
      "source": [
        "raw_df.filter((sparkf.col('fullVisitorId') == 4988612949713423910)&(sparkf.col('visitId')==1489617360))\\\n",
        ".orderBy('hitNumber')\\\n",
        ".select('fullVisitorId','VisitId','hitHour','hitMin','hitAction_type').show(200)"
      ]
    },
    {
      "cell_type": "code",
      "execution_count": 46,
      "metadata": {
        "id": "rMoXof2Hret8"
      },
      "outputs": [],
      "source": [
        ""
      ]
    },
    {
      "cell_type": "code",
      "execution_count": 47,
      "metadata": {
        "colab": {
          "base_uri": "https://localhost:8080/"
        },
        "id": "XKThZu91ret8",
        "outputId": "d92d2a15-bea6-4455-ae6f-789b6d79e8f9"
      },
      "outputs": [
        {
          "output_type": "execute_result",
          "data": {
            "text/plain": [
              "313"
            ]
          },
          "metadata": {},
          "execution_count": 47
        }
      ],
      "source": [
        "new_session_df.count()"
      ]
    },
    {
      "cell_type": "code",
      "execution_count": 48,
      "metadata": {
        "colab": {
          "base_uri": "https://localhost:8080/"
        },
        "id": "n8pAFf5Aret8",
        "outputId": "c9a1df22-138c-4f87-dca8-9faaffb5d84f"
      },
      "outputs": [
        {
          "output_type": "execute_result",
          "data": {
            "text/plain": [
              "313"
            ]
          },
          "metadata": {},
          "execution_count": 48
        }
      ],
      "source": [
        "raw_df.select('fullVisitorId','visitId').distinct().count()"
      ]
    },
    {
      "cell_type": "code",
      "execution_count": 49,
      "metadata": {
        "colab": {
          "base_uri": "https://localhost:8080/"
        },
        "id": "R8PCkM2bret8",
        "outputId": "b96f4ab0-be30-4288-d950-c52e2b5724d7"
      },
      "outputs": [
        {
          "output_type": "stream",
          "name": "stdout",
          "text": [
            "+-------------------+----------+-----------------+------------------+\n",
            "|      fullVisitorId|   VisitId|numHitAction_type|lastHitAction_type|\n",
            "+-------------------+----------+-----------------+------------------+\n",
            "|4990955117732204143|1490136764|               42|                 0|\n",
            "|4989425631710413740|1484473722|               12|                 0|\n",
            "|4994662117345585865|1484261089|               24|                 0|\n",
            "|4995606827430436569|1488143869|               28|                 6|\n",
            "| 499439897126355128|1476672257|                3|                 0|\n",
            "|4988812738664327947|1475109955|               34|                 0|\n",
            "|4991536060599177108|1495501367|               12|                 0|\n",
            "|4993620301495103843|1494779714|               14|                 2|\n",
            "|4991515809111534259|1495093015|               12|                 0|\n",
            "|4988683855814257726|1492045051|               55|                 0|\n",
            "|4990198874063509353|1477021389|              169|                 0|\n",
            "|4990384153613853615|1480534003|               48|                 0|\n",
            "|4990793863953446866|1501476045|               12|                 0|\n",
            "|4993450863033496114|1485362303|               12|                 0|\n",
            "|4995356988620593823|1481560042|               82|                 0|\n",
            "|4994715450918937680|1494042966|                4|                 0|\n",
            "|4991056830142893462|1480341159|               12|                 0|\n",
            "|4995822119511242764|1475060063|               57|                 0|\n",
            "|4995924842281653133|1486131356|               20|                 6|\n",
            "|  49898679051871719|1494874385|                1|                 0|\n",
            "+-------------------+----------+-----------------+------------------+\n",
            "only showing top 20 rows\n",
            "\n"
          ]
        }
      ],
      "source": [
        "new_session_df.show()"
      ]
    },
    {
      "cell_type": "code",
      "execution_count": 50,
      "metadata": {
        "id": "haJqE6ttret9"
      },
      "outputs": [],
      "source": [
        "partitionCal_df = raw_df.withColumn('numHitAction_type',num_HitAction_type.over(sessionWindow))\\\n",
        ".withColumn('lastHitAction_type',Get_lastHitAction_Type.over(sessionWindow))"
      ]
    },
    {
      "cell_type": "code",
      "execution_count": 51,
      "metadata": {
        "colab": {
          "base_uri": "https://localhost:8080/"
        },
        "id": "t2rsc4c6ret9",
        "outputId": "4b51e5e4-a773-4b39-8211-d7ed4be6f94f"
      },
      "outputs": [
        {
          "output_type": "execute_result",
          "data": {
            "text/plain": [
              "DataFrame[source: string, isTrueDirect: boolean, sourceKeyword: string, medium: string, isVideoAd: boolean, fullVisitorId: bigint, visitId: int, date: int, newVisits: int, hitType: string, hitAction_type: int, hitNumber: int, hitHour: int, hitMin: int, timeMicroSec: int, v2ProductName: string, productListName: string, isClick: boolean, isImpression: boolean, timeOnSite: int, totalTransactionRevenue: int, numHitAction_type: bigint, lastHitAction_type: int]"
            ]
          },
          "metadata": {},
          "execution_count": 51
        }
      ],
      "source": [
        "partitionCal_df"
      ]
    },
    {
      "cell_type": "code",
      "execution_count": 52,
      "metadata": {
        "colab": {
          "base_uri": "https://localhost:8080/"
        },
        "id": "5Dn8X9gRret9",
        "outputId": "b2a8d8aa-c262-457e-af12-9f275269dedf"
      },
      "outputs": [
        {
          "output_type": "stream",
          "name": "stdout",
          "text": [
            "root\n",
            " |-- source: string (nullable = true)\n",
            " |-- isTrueDirect: boolean (nullable = true)\n",
            " |-- sourceKeyword: string (nullable = true)\n",
            " |-- medium: string (nullable = true)\n",
            " |-- isVideoAd: boolean (nullable = true)\n",
            " |-- fullVisitorId: long (nullable = true)\n",
            " |-- visitId: integer (nullable = true)\n",
            " |-- date: integer (nullable = true)\n",
            " |-- newVisits: integer (nullable = true)\n",
            " |-- hitType: string (nullable = true)\n",
            " |-- hitAction_type: integer (nullable = true)\n",
            " |-- hitNumber: integer (nullable = true)\n",
            " |-- hitHour: integer (nullable = true)\n",
            " |-- hitMin: integer (nullable = true)\n",
            " |-- timeMicroSec: integer (nullable = true)\n",
            " |-- v2ProductName: string (nullable = true)\n",
            " |-- productListName: string (nullable = true)\n",
            " |-- isClick: boolean (nullable = true)\n",
            " |-- isImpression: boolean (nullable = true)\n",
            " |-- timeOnSite: integer (nullable = true)\n",
            " |-- totalTransactionRevenue: integer (nullable = true)\n",
            " |-- numHitAction_type: long (nullable = false)\n",
            " |-- lastHitAction_type: integer (nullable = true)\n",
            "\n"
          ]
        }
      ],
      "source": [
        "partitionCal_df.printSchema()"
      ]
    },
    {
      "cell_type": "code",
      "execution_count": 53,
      "metadata": {
        "colab": {
          "base_uri": "https://localhost:8080/",
          "height": 757
        },
        "id": "HpQEMZIHret9",
        "outputId": "67c48afb-c7cc-4e90-a198-6fd912edf20f"
      },
      "outputs": [
        {
          "output_type": "execute_result",
          "data": {
            "text/plain": [
              "                             0                      1                       2  \\\n",
              "summary                  count                   mean                  stddev   \n",
              "source                    9999                   None                    None   \n",
              "sourceKeyword             4042                   None                    None   \n",
              "medium                    9999                   None                    None   \n",
              "fullVisitorId             9999  4.5067648825529631E18  1.39995873491150797E18   \n",
              "visitId                   9999   1.4850613864552455E9       9020666.664979743   \n",
              "date                      9999    2.016601000310031E7       4694.944823986464   \n",
              "newVisits                 7269                    1.0                     0.0   \n",
              "hitType                   9999                   None                    None   \n",
              "hitAction_type            9999    0.13831383138313832      0.6864877640641195   \n",
              "hitNumber                 9999      8.662666266626662       9.871484517186248   \n",
              "hitHour                   9999     12.168916891689168       5.910241630273619   \n",
              "hitMin                    9999      31.84038403840384      16.330427485675386   \n",
              "timeMicroSec              9999     213867.12121212122       369723.3160815403   \n",
              "v2ProductName             9999                   None                    None   \n",
              "productListName           9999                   None                    None   \n",
              "timeOnSite                8958       539.221478008484       689.0300130553862   \n",
              "totalTransactionRevenue    707    4.211295615275814E7    2.4358685560020592E7   \n",
              "numHitAction_type         9999      81.92749274927493       65.07655825957075   \n",
              "lastHitAction_type        9999      0.525052505250525      1.4259572593751149   \n",
              "\n",
              "                                           3  \\\n",
              "summary                                  min   \n",
              "source                              (direct)   \n",
              "sourceKeyword                 (not provided)   \n",
              "medium                                (none)   \n",
              "fullVisitorId              49898505875812980   \n",
              "visitId                           1470106850   \n",
              "date                                20160801   \n",
              "newVisits                                  1   \n",
              "hitType                                EVENT   \n",
              "hitAction_type                             0   \n",
              "hitNumber                                  1   \n",
              "hitHour                                    0   \n",
              "hitMin                                     0   \n",
              "timeMicroSec                               0   \n",
              "v2ProductName            1 oz Hand Sanitizer   \n",
              "productListName                    (not set)   \n",
              "timeOnSite                                 3   \n",
              "totalTransactionRevenue             20580000   \n",
              "numHitAction_type                          1   \n",
              "lastHitAction_type                         0   \n",
              "\n",
              "                                                          4  \n",
              "summary                                                 max  \n",
              "source                                          youtube.com  \n",
              "sourceKeyword                                 youtube merch  \n",
              "medium                                             referral  \n",
              "fullVisitorId                           4995924842281653133  \n",
              "visitId                                          1501649190  \n",
              "date                                               20170801  \n",
              "newVisits                                                 1  \n",
              "hitType                                                PAGE  \n",
              "hitAction_type                                            6  \n",
              "hitNumber                                                56  \n",
              "hitHour                                                  23  \n",
              "hitMin                                                   59  \n",
              "timeMicroSec                                        3513993  \n",
              "v2ProductName            YouTube Youth Short Sleeve Tee Red  \n",
              "productListName                              Search Results  \n",
              "timeOnSite                                             3514  \n",
              "totalTransactionRevenue                           128970000  \n",
              "numHitAction_type                                       257  \n",
              "lastHitAction_type                                        6  "
            ],
            "text/html": [
              "\n",
              "  <div id=\"df-520855e2-3839-4ef9-97d0-09490cb32743\">\n",
              "    <div class=\"colab-df-container\">\n",
              "      <div>\n",
              "<style scoped>\n",
              "    .dataframe tbody tr th:only-of-type {\n",
              "        vertical-align: middle;\n",
              "    }\n",
              "\n",
              "    .dataframe tbody tr th {\n",
              "        vertical-align: top;\n",
              "    }\n",
              "\n",
              "    .dataframe thead th {\n",
              "        text-align: right;\n",
              "    }\n",
              "</style>\n",
              "<table border=\"1\" class=\"dataframe\">\n",
              "  <thead>\n",
              "    <tr style=\"text-align: right;\">\n",
              "      <th></th>\n",
              "      <th>0</th>\n",
              "      <th>1</th>\n",
              "      <th>2</th>\n",
              "      <th>3</th>\n",
              "      <th>4</th>\n",
              "    </tr>\n",
              "  </thead>\n",
              "  <tbody>\n",
              "    <tr>\n",
              "      <th>summary</th>\n",
              "      <td>count</td>\n",
              "      <td>mean</td>\n",
              "      <td>stddev</td>\n",
              "      <td>min</td>\n",
              "      <td>max</td>\n",
              "    </tr>\n",
              "    <tr>\n",
              "      <th>source</th>\n",
              "      <td>9999</td>\n",
              "      <td>None</td>\n",
              "      <td>None</td>\n",
              "      <td>(direct)</td>\n",
              "      <td>youtube.com</td>\n",
              "    </tr>\n",
              "    <tr>\n",
              "      <th>sourceKeyword</th>\n",
              "      <td>4042</td>\n",
              "      <td>None</td>\n",
              "      <td>None</td>\n",
              "      <td>(not provided)</td>\n",
              "      <td>youtube merch</td>\n",
              "    </tr>\n",
              "    <tr>\n",
              "      <th>medium</th>\n",
              "      <td>9999</td>\n",
              "      <td>None</td>\n",
              "      <td>None</td>\n",
              "      <td>(none)</td>\n",
              "      <td>referral</td>\n",
              "    </tr>\n",
              "    <tr>\n",
              "      <th>fullVisitorId</th>\n",
              "      <td>9999</td>\n",
              "      <td>4.5067648825529631E18</td>\n",
              "      <td>1.39995873491150797E18</td>\n",
              "      <td>49898505875812980</td>\n",
              "      <td>4995924842281653133</td>\n",
              "    </tr>\n",
              "    <tr>\n",
              "      <th>visitId</th>\n",
              "      <td>9999</td>\n",
              "      <td>1.4850613864552455E9</td>\n",
              "      <td>9020666.664979743</td>\n",
              "      <td>1470106850</td>\n",
              "      <td>1501649190</td>\n",
              "    </tr>\n",
              "    <tr>\n",
              "      <th>date</th>\n",
              "      <td>9999</td>\n",
              "      <td>2.016601000310031E7</td>\n",
              "      <td>4694.944823986464</td>\n",
              "      <td>20160801</td>\n",
              "      <td>20170801</td>\n",
              "    </tr>\n",
              "    <tr>\n",
              "      <th>newVisits</th>\n",
              "      <td>7269</td>\n",
              "      <td>1.0</td>\n",
              "      <td>0.0</td>\n",
              "      <td>1</td>\n",
              "      <td>1</td>\n",
              "    </tr>\n",
              "    <tr>\n",
              "      <th>hitType</th>\n",
              "      <td>9999</td>\n",
              "      <td>None</td>\n",
              "      <td>None</td>\n",
              "      <td>EVENT</td>\n",
              "      <td>PAGE</td>\n",
              "    </tr>\n",
              "    <tr>\n",
              "      <th>hitAction_type</th>\n",
              "      <td>9999</td>\n",
              "      <td>0.13831383138313832</td>\n",
              "      <td>0.6864877640641195</td>\n",
              "      <td>0</td>\n",
              "      <td>6</td>\n",
              "    </tr>\n",
              "    <tr>\n",
              "      <th>hitNumber</th>\n",
              "      <td>9999</td>\n",
              "      <td>8.662666266626662</td>\n",
              "      <td>9.871484517186248</td>\n",
              "      <td>1</td>\n",
              "      <td>56</td>\n",
              "    </tr>\n",
              "    <tr>\n",
              "      <th>hitHour</th>\n",
              "      <td>9999</td>\n",
              "      <td>12.168916891689168</td>\n",
              "      <td>5.910241630273619</td>\n",
              "      <td>0</td>\n",
              "      <td>23</td>\n",
              "    </tr>\n",
              "    <tr>\n",
              "      <th>hitMin</th>\n",
              "      <td>9999</td>\n",
              "      <td>31.84038403840384</td>\n",
              "      <td>16.330427485675386</td>\n",
              "      <td>0</td>\n",
              "      <td>59</td>\n",
              "    </tr>\n",
              "    <tr>\n",
              "      <th>timeMicroSec</th>\n",
              "      <td>9999</td>\n",
              "      <td>213867.12121212122</td>\n",
              "      <td>369723.3160815403</td>\n",
              "      <td>0</td>\n",
              "      <td>3513993</td>\n",
              "    </tr>\n",
              "    <tr>\n",
              "      <th>v2ProductName</th>\n",
              "      <td>9999</td>\n",
              "      <td>None</td>\n",
              "      <td>None</td>\n",
              "      <td>1 oz Hand Sanitizer</td>\n",
              "      <td>YouTube Youth Short Sleeve Tee Red</td>\n",
              "    </tr>\n",
              "    <tr>\n",
              "      <th>productListName</th>\n",
              "      <td>9999</td>\n",
              "      <td>None</td>\n",
              "      <td>None</td>\n",
              "      <td>(not set)</td>\n",
              "      <td>Search Results</td>\n",
              "    </tr>\n",
              "    <tr>\n",
              "      <th>timeOnSite</th>\n",
              "      <td>8958</td>\n",
              "      <td>539.221478008484</td>\n",
              "      <td>689.0300130553862</td>\n",
              "      <td>3</td>\n",
              "      <td>3514</td>\n",
              "    </tr>\n",
              "    <tr>\n",
              "      <th>totalTransactionRevenue</th>\n",
              "      <td>707</td>\n",
              "      <td>4.211295615275814E7</td>\n",
              "      <td>2.4358685560020592E7</td>\n",
              "      <td>20580000</td>\n",
              "      <td>128970000</td>\n",
              "    </tr>\n",
              "    <tr>\n",
              "      <th>numHitAction_type</th>\n",
              "      <td>9999</td>\n",
              "      <td>81.92749274927493</td>\n",
              "      <td>65.07655825957075</td>\n",
              "      <td>1</td>\n",
              "      <td>257</td>\n",
              "    </tr>\n",
              "    <tr>\n",
              "      <th>lastHitAction_type</th>\n",
              "      <td>9999</td>\n",
              "      <td>0.525052505250525</td>\n",
              "      <td>1.4259572593751149</td>\n",
              "      <td>0</td>\n",
              "      <td>6</td>\n",
              "    </tr>\n",
              "  </tbody>\n",
              "</table>\n",
              "</div>\n",
              "      <button class=\"colab-df-convert\" onclick=\"convertToInteractive('df-520855e2-3839-4ef9-97d0-09490cb32743')\"\n",
              "              title=\"Convert this dataframe to an interactive table.\"\n",
              "              style=\"display:none;\">\n",
              "        \n",
              "  <svg xmlns=\"http://www.w3.org/2000/svg\" height=\"24px\"viewBox=\"0 0 24 24\"\n",
              "       width=\"24px\">\n",
              "    <path d=\"M0 0h24v24H0V0z\" fill=\"none\"/>\n",
              "    <path d=\"M18.56 5.44l.94 2.06.94-2.06 2.06-.94-2.06-.94-.94-2.06-.94 2.06-2.06.94zm-11 1L8.5 8.5l.94-2.06 2.06-.94-2.06-.94L8.5 2.5l-.94 2.06-2.06.94zm10 10l.94 2.06.94-2.06 2.06-.94-2.06-.94-.94-2.06-.94 2.06-2.06.94z\"/><path d=\"M17.41 7.96l-1.37-1.37c-.4-.4-.92-.59-1.43-.59-.52 0-1.04.2-1.43.59L10.3 9.45l-7.72 7.72c-.78.78-.78 2.05 0 2.83L4 21.41c.39.39.9.59 1.41.59.51 0 1.02-.2 1.41-.59l7.78-7.78 2.81-2.81c.8-.78.8-2.07 0-2.86zM5.41 20L4 18.59l7.72-7.72 1.47 1.35L5.41 20z\"/>\n",
              "  </svg>\n",
              "      </button>\n",
              "      \n",
              "  <style>\n",
              "    .colab-df-container {\n",
              "      display:flex;\n",
              "      flex-wrap:wrap;\n",
              "      gap: 12px;\n",
              "    }\n",
              "\n",
              "    .colab-df-convert {\n",
              "      background-color: #E8F0FE;\n",
              "      border: none;\n",
              "      border-radius: 50%;\n",
              "      cursor: pointer;\n",
              "      display: none;\n",
              "      fill: #1967D2;\n",
              "      height: 32px;\n",
              "      padding: 0 0 0 0;\n",
              "      width: 32px;\n",
              "    }\n",
              "\n",
              "    .colab-df-convert:hover {\n",
              "      background-color: #E2EBFA;\n",
              "      box-shadow: 0px 1px 2px rgba(60, 64, 67, 0.3), 0px 1px 3px 1px rgba(60, 64, 67, 0.15);\n",
              "      fill: #174EA6;\n",
              "    }\n",
              "\n",
              "    [theme=dark] .colab-df-convert {\n",
              "      background-color: #3B4455;\n",
              "      fill: #D2E3FC;\n",
              "    }\n",
              "\n",
              "    [theme=dark] .colab-df-convert:hover {\n",
              "      background-color: #434B5C;\n",
              "      box-shadow: 0px 1px 3px 1px rgba(0, 0, 0, 0.15);\n",
              "      filter: drop-shadow(0px 1px 2px rgba(0, 0, 0, 0.3));\n",
              "      fill: #FFFFFF;\n",
              "    }\n",
              "  </style>\n",
              "\n",
              "      <script>\n",
              "        const buttonEl =\n",
              "          document.querySelector('#df-520855e2-3839-4ef9-97d0-09490cb32743 button.colab-df-convert');\n",
              "        buttonEl.style.display =\n",
              "          google.colab.kernel.accessAllowed ? 'block' : 'none';\n",
              "\n",
              "        async function convertToInteractive(key) {\n",
              "          const element = document.querySelector('#df-520855e2-3839-4ef9-97d0-09490cb32743');\n",
              "          const dataTable =\n",
              "            await google.colab.kernel.invokeFunction('convertToInteractive',\n",
              "                                                     [key], {});\n",
              "          if (!dataTable) return;\n",
              "\n",
              "          const docLinkHtml = 'Like what you see? Visit the ' +\n",
              "            '<a target=\"_blank\" href=https://colab.research.google.com/notebooks/data_table.ipynb>data table notebook</a>'\n",
              "            + ' to learn more about interactive tables.';\n",
              "          element.innerHTML = '';\n",
              "          dataTable['output_type'] = 'display_data';\n",
              "          await google.colab.output.renderOutput(dataTable, element);\n",
              "          const docLink = document.createElement('div');\n",
              "          docLink.innerHTML = docLinkHtml;\n",
              "          element.appendChild(docLink);\n",
              "        }\n",
              "      </script>\n",
              "    </div>\n",
              "  </div>\n",
              "  "
            ]
          },
          "metadata": {},
          "execution_count": 53
        }
      ],
      "source": [
        "partitionCal_df.describe().toPandas().transpose()"
      ]
    },
    {
      "cell_type": "code",
      "execution_count": 54,
      "metadata": {
        "id": "BpCZOdKVret9"
      },
      "outputs": [],
      "source": [
        "hitAction_type_session_df  = partitionCal_df\\\n",
        ".withColumn('totalTransactionRevenue',sparkf.when(sparkf.col('totalTransactionRevenue').isNull(),0)\\\n",
        "            .otherwise(sparkf.col('totalTransactionRevenue')))\\\n",
        ".groupBy([\n",
        " 'fullVisitorId',\\\n",
        " 'visitId',\\\n",
        " 'numHitAction_type'\\\n",
        "    ,'lastHitAction_type'\\\n",
        "]).agg(sparkf.collect_list('hitAction_type')\\\n",
        "       ,sparkf.max('totalTransactionRevenue').alias('max_totalTransactionRevenue'))"
      ]
    },
    {
      "cell_type": "code",
      "execution_count": 55,
      "metadata": {
        "colab": {
          "base_uri": "https://localhost:8080/"
        },
        "id": "zxJgsHVjret9",
        "outputId": "239d6aba-17b0-4520-e395-307c1b1772ab"
      },
      "outputs": [
        {
          "output_type": "execute_result",
          "data": {
            "text/plain": [
              "313"
            ]
          },
          "metadata": {},
          "execution_count": 55
        }
      ],
      "source": [
        "## นับจำนวน row/observation ของผลลัพธ์จากการทำ .groupBy() with .agg()\n",
        "hitAction_type_session_df.count()"
      ]
    },
    {
      "cell_type": "code",
      "execution_count": 56,
      "metadata": {
        "colab": {
          "base_uri": "https://localhost:8080/"
        },
        "id": "QeiD38rIret-",
        "outputId": "c0953a31-620c-4a09-b387-5cddf607de3d"
      },
      "outputs": [
        {
          "output_type": "execute_result",
          "data": {
            "text/plain": [
              "313"
            ]
          },
          "metadata": {},
          "execution_count": 56
        }
      ],
      "source": [
        "## ตรวจสอบว่า combination of fullVistorId, visitId มี cardinality จำนวนเท่าใด\n",
        "raw_df.select( 'fullVisitorId',\\\n",
        " 'visitId').distinct().count()"
      ]
    },
    {
      "cell_type": "code",
      "execution_count": 57,
      "metadata": {
        "colab": {
          "base_uri": "https://localhost:8080/"
        },
        "id": "lTdumqYkret-",
        "outputId": "e498634a-d9b9-4d46-eacb-87a4309dc47c"
      },
      "outputs": [
        {
          "output_type": "execute_result",
          "data": {
            "text/plain": [
              "9999"
            ]
          },
          "metadata": {},
          "execution_count": 57
        }
      ],
      "source": [
        "raw_df.count()"
      ]
    },
    {
      "cell_type": "code",
      "execution_count": 58,
      "metadata": {
        "colab": {
          "base_uri": "https://localhost:8080/"
        },
        "id": "V5Qh7xFwret-",
        "outputId": "eeeb6ccd-1a83-4f16-9422-70f4139ce6e1"
      },
      "outputs": [
        {
          "output_type": "stream",
          "name": "stdout",
          "text": [
            "root\n",
            " |-- fullVisitorId: long (nullable = true)\n",
            " |-- visitId: integer (nullable = true)\n",
            " |-- numHitAction_type: long (nullable = false)\n",
            " |-- lastHitAction_type: integer (nullable = true)\n",
            " |-- collect_list(hitAction_type): array (nullable = false)\n",
            " |    |-- element: integer (containsNull = false)\n",
            " |-- max_totalTransactionRevenue: integer (nullable = true)\n",
            "\n"
          ]
        }
      ],
      "source": [
        "hitAction_type_session_df.printSchema()"
      ]
    },
    {
      "cell_type": "code",
      "execution_count": 59,
      "metadata": {
        "colab": {
          "base_uri": "https://localhost:8080/"
        },
        "id": "DcEBZ_0Fret-",
        "outputId": "6e0642f3-3668-480c-a8a2-02bb7859bce1"
      },
      "outputs": [
        {
          "output_type": "execute_result",
          "data": {
            "text/plain": [
              "[Row(fullVisitorId=4995606827430436569, visitId=1488143869, numHitAction_type=28, lastHitAction_type=6, collect_list(hitAction_type)=[0, 0, 0, 0, 0, 0, 0, 0, 0, 0, 0, 0, 0, 0, 0, 0, 0, 0, 0, 0, 2, 1, 3, 5, 5, 5, 6, 6], max_totalTransactionRevenue=20580000),\n",
              " Row(fullVisitorId=4988683855814257726, visitId=1492045051, numHitAction_type=55, lastHitAction_type=0, collect_list(hitAction_type)=[0, 0, 0, 0, 0, 0, 0, 0, 0, 0, 0, 0, 0, 0, 0, 0, 0, 0, 0, 0, 0, 0, 0, 0, 1, 2, 3, 2, 1, 0, 0, 0, 0, 0, 0, 0, 0, 0, 0, 0, 0, 5, 5, 5, 6, 6, 0, 0, 0, 0, 0, 0, 0, 0, 0], max_totalTransactionRevenue=50790000),\n",
              " Row(fullVisitorId=4990198874063509353, visitId=1477021389, numHitAction_type=169, lastHitAction_type=0, collect_list(hitAction_type)=[0, 0, 0, 0, 0, 0, 0, 0, 0, 0, 0, 2, 1, 1, 0, 0, 0, 3, 0, 0, 0, 0, 0, 0, 0, 0, 0, 0, 0, 1, 2, 3, 0, 0, 0, 0, 0, 0, 0, 0, 0, 0, 0, 0, 4, 5, 5, 0, 0, 0, 0, 0, 0, 0, 0, 0, 0, 0, 0, 0, 0, 0, 0, 0, 0, 0, 0, 0, 0, 0, 0, 0, 0, 0, 4, 0, 0, 0, 0, 0, 0, 0, 0, 0, 0, 0, 0, 0, 0, 0, 0, 0, 0, 0, 0, 0, 0, 0, 0, 0, 0, 0, 0, 0, 1, 2, 1, 2, 0, 0, 0, 0, 0, 0, 0, 0, 0, 0, 0, 0, 0, 0, 0, 0, 0, 0, 0, 0, 0, 0, 0, 2, 1, 0, 0, 0, 1, 2, 3, 5, 5, 5, 5, 5, 5, 5, 5, 6, 6, 6, 6, 0, 0, 0, 0, 0, 0, 0, 0, 0, 0, 0, 0, 0, 0, 0, 0, 0, 0], max_totalTransactionRevenue=29980000),\n",
              " Row(fullVisitorId=4995924842281653133, visitId=1486131356, numHitAction_type=20, lastHitAction_type=6, collect_list(hitAction_type)=[0, 0, 0, 0, 0, 2, 0, 0, 0, 0, 0, 0, 0, 0, 0, 0, 5, 5, 6, 6], max_totalTransactionRevenue=128970000),\n",
              " Row(fullVisitorId=4995899860057743088, visitId=1474047117, numHitAction_type=90, lastHitAction_type=6, collect_list(hitAction_type)=[0, 0, 0, 0, 0, 0, 0, 0, 0, 0, 0, 0, 0, 0, 0, 0, 0, 0, 0, 0, 0, 0, 0, 0, 0, 0, 0, 0, 0, 0, 0, 0, 0, 0, 0, 0, 0, 1, 2, 1, 0, 0, 0, 3, 3, 0, 0, 0, 0, 0, 0, 0, 0, 0, 0, 0, 0, 0, 0, 0, 0, 0, 0, 0, 0, 0, 0, 0, 0, 0, 0, 0, 0, 0, 0, 0, 0, 0, 0, 1, 2, 3, 3, 3, 5, 5, 5, 5, 6, 6], max_totalTransactionRevenue=33990000),\n",
              " Row(fullVisitorId=4993450863033496114, visitId=1485313789, numHitAction_type=73, lastHitAction_type=0, collect_list(hitAction_type)=[0, 0, 0, 0, 0, 0, 0, 0, 0, 0, 0, 0, 1, 2, 0, 0, 0, 0, 0, 1, 2, 1, 2, 0, 0, 0, 0, 0, 0, 0, 0, 0, 0, 0, 0, 1, 2, 3, 0, 0, 0, 0, 0, 0, 0, 0, 0, 0, 0, 0, 2, 1, 3, 5, 5, 5, 5, 6, 6, 6, 6, 0, 0, 0, 0, 0, 0, 0, 0, 0, 0, 0, 0], max_totalTransactionRevenue=30980000),\n",
              " Row(fullVisitorId=4989274933392395231, visitId=1487773059, numHitAction_type=78, lastHitAction_type=0, collect_list(hitAction_type)=[0, 0, 0, 0, 0, 0, 0, 0, 0, 0, 0, 0, 1, 2, 3, 0, 0, 0, 0, 0, 0, 0, 0, 0, 0, 0, 0, 0, 0, 0, 0, 0, 0, 0, 0, 0, 0, 0, 0, 1, 2, 3, 5, 5, 5, 5, 5, 5, 6, 6, 6, 6, 6, 6, 0, 0, 0, 0, 0, 0, 0, 0, 0, 0, 0, 0, 0, 0, 0, 0, 0, 0, 0, 0, 0, 0, 0, 0], max_totalTransactionRevenue=59960000),\n",
              " Row(fullVisitorId=4988612949713423910, visitId=1490043910, numHitAction_type=25, lastHitAction_type=6, collect_list(hitAction_type)=[0, 0, 0, 1, 2, 3, 0, 0, 3, 0, 0, 0, 3, 5, 5, 5, 5, 5, 5, 5, 5, 6, 6, 6, 6], max_totalTransactionRevenue=36980000),\n",
              " Row(fullVisitorId=4995584940873803432, visitId=1498486477, numHitAction_type=30, lastHitAction_type=6, collect_list(hitAction_type)=[0, 0, 0, 0, 0, 0, 0, 0, 0, 0, 0, 0, 1, 2, 1, 0, 0, 3, 5, 5, 5, 5, 5, 5, 5, 5, 6, 6, 6, 6], max_totalTransactionRevenue=116760000),\n",
              " Row(fullVisitorId=4993519711854402788, visitId=1487369367, numHitAction_type=10, lastHitAction_type=6, collect_list(hitAction_type)=[0, 0, 0, 3, 5, 5, 5, 5, 6, 6], max_totalTransactionRevenue=34590000)]"
            ]
          },
          "metadata": {},
          "execution_count": 59
        }
      ],
      "source": [
        "hitAction_type_session_df.filter(sparkf.col('max_totalTransactionRevenue')>0).take(10)"
      ]
    },
    {
      "cell_type": "code",
      "execution_count": 59,
      "metadata": {
        "id": "cMC__TVEret-"
      },
      "outputs": [],
      "source": [
        ""
      ]
    },
    {
      "cell_type": "code",
      "execution_count": 60,
      "metadata": {
        "id": "i4TaSfDqret-"
      },
      "outputs": [],
      "source": [
        "### ประกาศฟังก์ชั่นสำหรับทำ Deduplicated element ของ list\n",
        "def py_DedupList(seq):\n",
        "    seen = []\n",
        "    result = []\n",
        "    for x in seq:\n",
        "      #print(x)\n",
        "      if not(x in seen):\n",
        "        try:\n",
        "          if x != result[-1]:\n",
        "            seen.append(x)\n",
        "            #print('first',seen,'\\n')\n",
        "        except:\n",
        "          seen.append(x)\n",
        "          #print('second',seen,'\\n')\n",
        "        result.append(x)\n",
        "      else:\n",
        "        try:\n",
        "          if x != result[-1]:\n",
        "            result.append(x)\n",
        "        except:\n",
        "          result.append(x)\n",
        "          #print('second_last',seen,'\\n')\n",
        "\n",
        "    return result\n",
        "Spark_Deduplist_type = sparkf.udf(lambda x: py_DedupList(x),ArrayType(IntegerType()))"
      ]
    },
    {
      "cell_type": "code",
      "execution_count": 61,
      "metadata": {
        "id": "SfsGau-eret_"
      },
      "outputs": [],
      "source": [
        "### ประกาศฟังก์ชั่นสำหรับสร้าง label - \"buy\", \"not_buy\"\n",
        "def py_make_label(origi_a):\n",
        "    if origi_a > 0:\n",
        "        result_a = 'buy'\n",
        "    else:\n",
        "        result_a = 'not_buy'\n",
        "    \n",
        "    return result_a\n",
        "\n",
        "spark_make_label = sparkf.udf(lambda a: py_make_label(a))"
      ]
    },
    {
      "cell_type": "code",
      "execution_count": 62,
      "metadata": {
        "id": "Hpqq14wAret_"
      },
      "outputs": [],
      "source": [
        "### ประกาศฟังก์ชั่นสำหรับตรวจสอบ argument ที่รับมานั่นเป็นเลข 6 หรือไม่\n",
        "is_completePurchase = lambda x: x == 6"
      ]
    },
    {
      "cell_type": "code",
      "execution_count": 63,
      "metadata": {
        "id": "eF7edEf0ret_"
      },
      "outputs": [],
      "source": [
        "### ประกาศฟังก์ชั่นสำหรับเปลี่ยนเป็น String\n",
        "spark_toString = sparkf.udf(lambda x: x, StringType())"
      ]
    },
    {
      "cell_type": "code",
      "execution_count": 64,
      "metadata": {
        "colab": {
          "base_uri": "https://localhost:8080/",
          "height": 301
        },
        "id": "WmqhxiRxret_",
        "outputId": "5967cd94-c409-41f7-e18a-3494e853ff2f"
      },
      "outputs": [
        {
          "output_type": "execute_result",
          "data": {
            "text/plain": [
              "                                 0                      1  \\\n",
              "summary                      count                   mean   \n",
              "fullVisitorId                  313  4.3810734822723041E18   \n",
              "visitId                        313   1.4880686929808307E9   \n",
              "numHitAction_type              313     31.945686900958467   \n",
              "lastHitAction_type             313     0.4281150159744409   \n",
              "max_totalTransactionRevenue    313     2009392.9712460064   \n",
              "\n",
              "                                                  2                  3  \\\n",
              "summary                                      stddev                min   \n",
              "fullVisitorId                1.55701158219550106E18  49898505875812980   \n",
              "visitId                           8696164.878413878         1470106850   \n",
              "numHitAction_type                  40.0227530110204                  1   \n",
              "lastHitAction_type               1.3090324620607872                  0   \n",
              "max_totalTransactionRevenue    1.1828056468526127E7                  0   \n",
              "\n",
              "                                               4  \n",
              "summary                                      max  \n",
              "fullVisitorId                4995924842281653133  \n",
              "visitId                               1501649190  \n",
              "numHitAction_type                            257  \n",
              "lastHitAction_type                             6  \n",
              "max_totalTransactionRevenue            128970000  "
            ],
            "text/html": [
              "\n",
              "  <div id=\"df-1512ecda-61ec-4d9b-a057-6428ea614c8d\">\n",
              "    <div class=\"colab-df-container\">\n",
              "      <div>\n",
              "<style scoped>\n",
              "    .dataframe tbody tr th:only-of-type {\n",
              "        vertical-align: middle;\n",
              "    }\n",
              "\n",
              "    .dataframe tbody tr th {\n",
              "        vertical-align: top;\n",
              "    }\n",
              "\n",
              "    .dataframe thead th {\n",
              "        text-align: right;\n",
              "    }\n",
              "</style>\n",
              "<table border=\"1\" class=\"dataframe\">\n",
              "  <thead>\n",
              "    <tr style=\"text-align: right;\">\n",
              "      <th></th>\n",
              "      <th>0</th>\n",
              "      <th>1</th>\n",
              "      <th>2</th>\n",
              "      <th>3</th>\n",
              "      <th>4</th>\n",
              "    </tr>\n",
              "  </thead>\n",
              "  <tbody>\n",
              "    <tr>\n",
              "      <th>summary</th>\n",
              "      <td>count</td>\n",
              "      <td>mean</td>\n",
              "      <td>stddev</td>\n",
              "      <td>min</td>\n",
              "      <td>max</td>\n",
              "    </tr>\n",
              "    <tr>\n",
              "      <th>fullVisitorId</th>\n",
              "      <td>313</td>\n",
              "      <td>4.3810734822723041E18</td>\n",
              "      <td>1.55701158219550106E18</td>\n",
              "      <td>49898505875812980</td>\n",
              "      <td>4995924842281653133</td>\n",
              "    </tr>\n",
              "    <tr>\n",
              "      <th>visitId</th>\n",
              "      <td>313</td>\n",
              "      <td>1.4880686929808307E9</td>\n",
              "      <td>8696164.878413878</td>\n",
              "      <td>1470106850</td>\n",
              "      <td>1501649190</td>\n",
              "    </tr>\n",
              "    <tr>\n",
              "      <th>numHitAction_type</th>\n",
              "      <td>313</td>\n",
              "      <td>31.945686900958467</td>\n",
              "      <td>40.0227530110204</td>\n",
              "      <td>1</td>\n",
              "      <td>257</td>\n",
              "    </tr>\n",
              "    <tr>\n",
              "      <th>lastHitAction_type</th>\n",
              "      <td>313</td>\n",
              "      <td>0.4281150159744409</td>\n",
              "      <td>1.3090324620607872</td>\n",
              "      <td>0</td>\n",
              "      <td>6</td>\n",
              "    </tr>\n",
              "    <tr>\n",
              "      <th>max_totalTransactionRevenue</th>\n",
              "      <td>313</td>\n",
              "      <td>2009392.9712460064</td>\n",
              "      <td>1.1828056468526127E7</td>\n",
              "      <td>0</td>\n",
              "      <td>128970000</td>\n",
              "    </tr>\n",
              "  </tbody>\n",
              "</table>\n",
              "</div>\n",
              "      <button class=\"colab-df-convert\" onclick=\"convertToInteractive('df-1512ecda-61ec-4d9b-a057-6428ea614c8d')\"\n",
              "              title=\"Convert this dataframe to an interactive table.\"\n",
              "              style=\"display:none;\">\n",
              "        \n",
              "  <svg xmlns=\"http://www.w3.org/2000/svg\" height=\"24px\"viewBox=\"0 0 24 24\"\n",
              "       width=\"24px\">\n",
              "    <path d=\"M0 0h24v24H0V0z\" fill=\"none\"/>\n",
              "    <path d=\"M18.56 5.44l.94 2.06.94-2.06 2.06-.94-2.06-.94-.94-2.06-.94 2.06-2.06.94zm-11 1L8.5 8.5l.94-2.06 2.06-.94-2.06-.94L8.5 2.5l-.94 2.06-2.06.94zm10 10l.94 2.06.94-2.06 2.06-.94-2.06-.94-.94-2.06-.94 2.06-2.06.94z\"/><path d=\"M17.41 7.96l-1.37-1.37c-.4-.4-.92-.59-1.43-.59-.52 0-1.04.2-1.43.59L10.3 9.45l-7.72 7.72c-.78.78-.78 2.05 0 2.83L4 21.41c.39.39.9.59 1.41.59.51 0 1.02-.2 1.41-.59l7.78-7.78 2.81-2.81c.8-.78.8-2.07 0-2.86zM5.41 20L4 18.59l7.72-7.72 1.47 1.35L5.41 20z\"/>\n",
              "  </svg>\n",
              "      </button>\n",
              "      \n",
              "  <style>\n",
              "    .colab-df-container {\n",
              "      display:flex;\n",
              "      flex-wrap:wrap;\n",
              "      gap: 12px;\n",
              "    }\n",
              "\n",
              "    .colab-df-convert {\n",
              "      background-color: #E8F0FE;\n",
              "      border: none;\n",
              "      border-radius: 50%;\n",
              "      cursor: pointer;\n",
              "      display: none;\n",
              "      fill: #1967D2;\n",
              "      height: 32px;\n",
              "      padding: 0 0 0 0;\n",
              "      width: 32px;\n",
              "    }\n",
              "\n",
              "    .colab-df-convert:hover {\n",
              "      background-color: #E2EBFA;\n",
              "      box-shadow: 0px 1px 2px rgba(60, 64, 67, 0.3), 0px 1px 3px 1px rgba(60, 64, 67, 0.15);\n",
              "      fill: #174EA6;\n",
              "    }\n",
              "\n",
              "    [theme=dark] .colab-df-convert {\n",
              "      background-color: #3B4455;\n",
              "      fill: #D2E3FC;\n",
              "    }\n",
              "\n",
              "    [theme=dark] .colab-df-convert:hover {\n",
              "      background-color: #434B5C;\n",
              "      box-shadow: 0px 1px 3px 1px rgba(0, 0, 0, 0.15);\n",
              "      filter: drop-shadow(0px 1px 2px rgba(0, 0, 0, 0.3));\n",
              "      fill: #FFFFFF;\n",
              "    }\n",
              "  </style>\n",
              "\n",
              "      <script>\n",
              "        const buttonEl =\n",
              "          document.querySelector('#df-1512ecda-61ec-4d9b-a057-6428ea614c8d button.colab-df-convert');\n",
              "        buttonEl.style.display =\n",
              "          google.colab.kernel.accessAllowed ? 'block' : 'none';\n",
              "\n",
              "        async function convertToInteractive(key) {\n",
              "          const element = document.querySelector('#df-1512ecda-61ec-4d9b-a057-6428ea614c8d');\n",
              "          const dataTable =\n",
              "            await google.colab.kernel.invokeFunction('convertToInteractive',\n",
              "                                                     [key], {});\n",
              "          if (!dataTable) return;\n",
              "\n",
              "          const docLinkHtml = 'Like what you see? Visit the ' +\n",
              "            '<a target=\"_blank\" href=https://colab.research.google.com/notebooks/data_table.ipynb>data table notebook</a>'\n",
              "            + ' to learn more about interactive tables.';\n",
              "          element.innerHTML = '';\n",
              "          dataTable['output_type'] = 'display_data';\n",
              "          await google.colab.output.renderOutput(dataTable, element);\n",
              "          const docLink = document.createElement('div');\n",
              "          docLink.innerHTML = docLinkHtml;\n",
              "          element.appendChild(docLink);\n",
              "        }\n",
              "      </script>\n",
              "    </div>\n",
              "  </div>\n",
              "  "
            ]
          },
          "metadata": {},
          "execution_count": 64
        }
      ],
      "source": [
        "hitAction_type_session_df.describe().toPandas().transpose()"
      ]
    },
    {
      "cell_type": "code",
      "execution_count": 65,
      "metadata": {
        "id": "LWfEo8cqret_"
      },
      "outputs": [],
      "source": [
        "labelingFutureRemove_df = hitAction_type_session_df\\\n",
        ".withColumn('DedupListHitAction_type',Spark_Deduplist_type(sparkf.col('collect_list(hitAction_type)')))\\\n",
        ".withColumn(\"no6DeDupHitAction_type\", sparkf.expr(\"filter(DedupListHitAction_type, x -> not(x <=> 6))\"))\\\n",
        ".withColumn('all_6',sparkf.filter(sparkf.col('DedupListHitAction_type'),is_completePurchase))\\\n",
        ".withColumn('label',spark_make_label(sparkf.col('max_totalTransactionRevenue')))"
      ]
    },
    {
      "cell_type": "code",
      "execution_count": 66,
      "metadata": {
        "colab": {
          "base_uri": "https://localhost:8080/"
        },
        "id": "ER3a1rX-ret_",
        "outputId": "a1a58f89-94c7-447a-b489-adc0dfb440df"
      },
      "outputs": [
        {
          "output_type": "execute_result",
          "data": {
            "text/plain": [
              "[Row(fullVisitorId=4995606827430436569, visitId=1488143869, numHitAction_type=28, lastHitAction_type=6, collect_list(hitAction_type)=[0, 0, 0, 0, 0, 0, 0, 0, 0, 0, 0, 0, 0, 0, 0, 0, 0, 0, 0, 0, 2, 1, 3, 5, 5, 5, 6, 6], max_totalTransactionRevenue=20580000, DedupListHitAction_type=[0, 2, 1, 3, 5, 6], no6DeDupHitAction_type=[0, 2, 1, 3, 5], all_6=[6], label='buy'),\n",
              " Row(fullVisitorId=4988683855814257726, visitId=1492045051, numHitAction_type=55, lastHitAction_type=0, collect_list(hitAction_type)=[0, 0, 0, 0, 0, 0, 0, 0, 0, 0, 0, 0, 0, 0, 0, 0, 0, 0, 0, 0, 0, 0, 0, 0, 1, 2, 3, 2, 1, 0, 0, 0, 0, 0, 0, 0, 0, 0, 0, 0, 0, 5, 5, 5, 6, 6, 0, 0, 0, 0, 0, 0, 0, 0, 0], max_totalTransactionRevenue=50790000, DedupListHitAction_type=[0, 1, 2, 3, 2, 1, 0, 5, 6, 0], no6DeDupHitAction_type=[0, 1, 2, 3, 2, 1, 0, 5, 0], all_6=[6], label='buy'),\n",
              " Row(fullVisitorId=4990198874063509353, visitId=1477021389, numHitAction_type=169, lastHitAction_type=0, collect_list(hitAction_type)=[0, 0, 0, 0, 0, 0, 0, 0, 0, 0, 0, 2, 1, 1, 0, 0, 0, 3, 0, 0, 0, 0, 0, 0, 0, 0, 0, 0, 0, 1, 2, 3, 0, 0, 0, 0, 0, 0, 0, 0, 0, 0, 0, 0, 4, 5, 5, 0, 0, 0, 0, 0, 0, 0, 0, 0, 0, 0, 0, 0, 0, 0, 0, 0, 0, 0, 0, 0, 0, 0, 0, 0, 0, 0, 4, 0, 0, 0, 0, 0, 0, 0, 0, 0, 0, 0, 0, 0, 0, 0, 0, 0, 0, 0, 0, 0, 0, 0, 0, 0, 0, 0, 0, 0, 1, 2, 1, 2, 0, 0, 0, 0, 0, 0, 0, 0, 0, 0, 0, 0, 0, 0, 0, 0, 0, 0, 0, 0, 0, 0, 0, 2, 1, 0, 0, 0, 1, 2, 3, 5, 5, 5, 5, 5, 5, 5, 5, 6, 6, 6, 6, 0, 0, 0, 0, 0, 0, 0, 0, 0, 0, 0, 0, 0, 0, 0, 0, 0, 0], max_totalTransactionRevenue=29980000, DedupListHitAction_type=[0, 2, 1, 0, 3, 0, 1, 2, 3, 0, 4, 5, 0, 4, 0, 1, 2, 1, 2, 0, 2, 1, 0, 1, 2, 3, 5, 6, 0], no6DeDupHitAction_type=[0, 2, 1, 0, 3, 0, 1, 2, 3, 0, 4, 5, 0, 4, 0, 1, 2, 1, 2, 0, 2, 1, 0, 1, 2, 3, 5, 0], all_6=[6], label='buy'),\n",
              " Row(fullVisitorId=4995924842281653133, visitId=1486131356, numHitAction_type=20, lastHitAction_type=6, collect_list(hitAction_type)=[0, 0, 0, 0, 0, 2, 0, 0, 0, 0, 0, 0, 0, 0, 0, 0, 5, 5, 6, 6], max_totalTransactionRevenue=128970000, DedupListHitAction_type=[0, 2, 0, 5, 6], no6DeDupHitAction_type=[0, 2, 0, 5], all_6=[6], label='buy'),\n",
              " Row(fullVisitorId=4995899860057743088, visitId=1474047117, numHitAction_type=90, lastHitAction_type=6, collect_list(hitAction_type)=[0, 0, 0, 0, 0, 0, 0, 0, 0, 0, 0, 0, 0, 0, 0, 0, 0, 0, 0, 0, 0, 0, 0, 0, 0, 0, 0, 0, 0, 0, 0, 0, 0, 0, 0, 0, 0, 1, 2, 1, 0, 0, 0, 3, 3, 0, 0, 0, 0, 0, 0, 0, 0, 0, 0, 0, 0, 0, 0, 0, 0, 0, 0, 0, 0, 0, 0, 0, 0, 0, 0, 0, 0, 0, 0, 0, 0, 0, 0, 1, 2, 3, 3, 3, 5, 5, 5, 5, 6, 6], max_totalTransactionRevenue=33990000, DedupListHitAction_type=[0, 1, 2, 1, 0, 3, 0, 1, 2, 3, 5, 6], no6DeDupHitAction_type=[0, 1, 2, 1, 0, 3, 0, 1, 2, 3, 5], all_6=[6], label='buy'),\n",
              " Row(fullVisitorId=4993450863033496114, visitId=1485313789, numHitAction_type=73, lastHitAction_type=0, collect_list(hitAction_type)=[0, 0, 0, 0, 0, 0, 0, 0, 0, 0, 0, 0, 1, 2, 0, 0, 0, 0, 0, 1, 2, 1, 2, 0, 0, 0, 0, 0, 0, 0, 0, 0, 0, 0, 0, 1, 2, 3, 0, 0, 0, 0, 0, 0, 0, 0, 0, 0, 0, 0, 2, 1, 3, 5, 5, 5, 5, 6, 6, 6, 6, 0, 0, 0, 0, 0, 0, 0, 0, 0, 0, 0, 0], max_totalTransactionRevenue=30980000, DedupListHitAction_type=[0, 1, 2, 0, 1, 2, 1, 2, 0, 1, 2, 3, 0, 2, 1, 3, 5, 6, 0], no6DeDupHitAction_type=[0, 1, 2, 0, 1, 2, 1, 2, 0, 1, 2, 3, 0, 2, 1, 3, 5, 0], all_6=[6], label='buy'),\n",
              " Row(fullVisitorId=4989274933392395231, visitId=1487773059, numHitAction_type=78, lastHitAction_type=0, collect_list(hitAction_type)=[0, 0, 0, 0, 0, 0, 0, 0, 0, 0, 0, 0, 1, 2, 3, 0, 0, 0, 0, 0, 0, 0, 0, 0, 0, 0, 0, 0, 0, 0, 0, 0, 0, 0, 0, 0, 0, 0, 0, 1, 2, 3, 5, 5, 5, 5, 5, 5, 6, 6, 6, 6, 6, 6, 0, 0, 0, 0, 0, 0, 0, 0, 0, 0, 0, 0, 0, 0, 0, 0, 0, 0, 0, 0, 0, 0, 0, 0], max_totalTransactionRevenue=59960000, DedupListHitAction_type=[0, 1, 2, 3, 0, 1, 2, 3, 5, 6, 0], no6DeDupHitAction_type=[0, 1, 2, 3, 0, 1, 2, 3, 5, 0], all_6=[6], label='buy'),\n",
              " Row(fullVisitorId=4988612949713423910, visitId=1490043910, numHitAction_type=25, lastHitAction_type=6, collect_list(hitAction_type)=[0, 0, 0, 1, 2, 3, 0, 0, 3, 0, 0, 0, 3, 5, 5, 5, 5, 5, 5, 5, 5, 6, 6, 6, 6], max_totalTransactionRevenue=36980000, DedupListHitAction_type=[0, 1, 2, 3, 0, 3, 0, 3, 5, 6], no6DeDupHitAction_type=[0, 1, 2, 3, 0, 3, 0, 3, 5], all_6=[6], label='buy'),\n",
              " Row(fullVisitorId=4995584940873803432, visitId=1498486477, numHitAction_type=30, lastHitAction_type=6, collect_list(hitAction_type)=[0, 0, 0, 0, 0, 0, 0, 0, 0, 0, 0, 0, 1, 2, 1, 0, 0, 3, 5, 5, 5, 5, 5, 5, 5, 5, 6, 6, 6, 6], max_totalTransactionRevenue=116760000, DedupListHitAction_type=[0, 1, 2, 1, 0, 3, 5, 6], no6DeDupHitAction_type=[0, 1, 2, 1, 0, 3, 5], all_6=[6], label='buy'),\n",
              " Row(fullVisitorId=4993519711854402788, visitId=1487369367, numHitAction_type=10, lastHitAction_type=6, collect_list(hitAction_type)=[0, 0, 0, 3, 5, 5, 5, 5, 6, 6], max_totalTransactionRevenue=34590000, DedupListHitAction_type=[0, 3, 5, 6], no6DeDupHitAction_type=[0, 3, 5], all_6=[6], label='buy')]"
            ]
          },
          "metadata": {},
          "execution_count": 66
        }
      ],
      "source": [
        "labelingFutureRemove_df.filter(sparkf.col('max_totalTransactionRevenue')>0).take(10)"
      ]
    },
    {
      "cell_type": "code",
      "execution_count": 67,
      "metadata": {
        "colab": {
          "base_uri": "https://localhost:8080/"
        },
        "id": "Ogcpx3Ycret_",
        "outputId": "19985efd-fd33-4970-aed0-fcebd9ae1da7"
      },
      "outputs": [
        {
          "output_type": "execute_result",
          "data": {
            "text/plain": [
              "313"
            ]
          },
          "metadata": {},
          "execution_count": 67
        }
      ],
      "source": [
        "labelingFutureRemove_df.count()"
      ]
    },
    {
      "cell_type": "code",
      "execution_count": 68,
      "metadata": {
        "id": "BU94hL4Fret_"
      },
      "outputs": [],
      "source": [
        "crunched_df = labelingFutureRemove_df"
      ]
    },
    {
      "cell_type": "code",
      "execution_count": 69,
      "metadata": {
        "colab": {
          "base_uri": "https://localhost:8080/",
          "height": 333
        },
        "id": "-LbXUUggreuA",
        "outputId": "342c2613-f9a7-4daa-95b4-4d6625453e7f"
      },
      "outputs": [
        {
          "output_type": "execute_result",
          "data": {
            "text/plain": [
              "                                 0                      1  \\\n",
              "summary                      count                   mean   \n",
              "fullVisitorId                  313  4.3810734822723041E18   \n",
              "visitId                        313   1.4880686929808307E9   \n",
              "numHitAction_type              313     31.945686900958467   \n",
              "lastHitAction_type             313     0.4281150159744409   \n",
              "max_totalTransactionRevenue    313     2009392.9712460064   \n",
              "label                          313                   None   \n",
              "\n",
              "                                                  2                  3  \\\n",
              "summary                                      stddev                min   \n",
              "fullVisitorId                1.55701158219550106E18  49898505875812980   \n",
              "visitId                           8696164.878413878         1470106850   \n",
              "numHitAction_type                  40.0227530110204                  1   \n",
              "lastHitAction_type               1.3090324620607872                  0   \n",
              "max_totalTransactionRevenue    1.1828056468526127E7                  0   \n",
              "label                                          None                buy   \n",
              "\n",
              "                                               4  \n",
              "summary                                      max  \n",
              "fullVisitorId                4995924842281653133  \n",
              "visitId                               1501649190  \n",
              "numHitAction_type                            257  \n",
              "lastHitAction_type                             6  \n",
              "max_totalTransactionRevenue            128970000  \n",
              "label                                    not_buy  "
            ],
            "text/html": [
              "\n",
              "  <div id=\"df-b815ee36-eba2-48d5-8839-df0e25178bc2\">\n",
              "    <div class=\"colab-df-container\">\n",
              "      <div>\n",
              "<style scoped>\n",
              "    .dataframe tbody tr th:only-of-type {\n",
              "        vertical-align: middle;\n",
              "    }\n",
              "\n",
              "    .dataframe tbody tr th {\n",
              "        vertical-align: top;\n",
              "    }\n",
              "\n",
              "    .dataframe thead th {\n",
              "        text-align: right;\n",
              "    }\n",
              "</style>\n",
              "<table border=\"1\" class=\"dataframe\">\n",
              "  <thead>\n",
              "    <tr style=\"text-align: right;\">\n",
              "      <th></th>\n",
              "      <th>0</th>\n",
              "      <th>1</th>\n",
              "      <th>2</th>\n",
              "      <th>3</th>\n",
              "      <th>4</th>\n",
              "    </tr>\n",
              "  </thead>\n",
              "  <tbody>\n",
              "    <tr>\n",
              "      <th>summary</th>\n",
              "      <td>count</td>\n",
              "      <td>mean</td>\n",
              "      <td>stddev</td>\n",
              "      <td>min</td>\n",
              "      <td>max</td>\n",
              "    </tr>\n",
              "    <tr>\n",
              "      <th>fullVisitorId</th>\n",
              "      <td>313</td>\n",
              "      <td>4.3810734822723041E18</td>\n",
              "      <td>1.55701158219550106E18</td>\n",
              "      <td>49898505875812980</td>\n",
              "      <td>4995924842281653133</td>\n",
              "    </tr>\n",
              "    <tr>\n",
              "      <th>visitId</th>\n",
              "      <td>313</td>\n",
              "      <td>1.4880686929808307E9</td>\n",
              "      <td>8696164.878413878</td>\n",
              "      <td>1470106850</td>\n",
              "      <td>1501649190</td>\n",
              "    </tr>\n",
              "    <tr>\n",
              "      <th>numHitAction_type</th>\n",
              "      <td>313</td>\n",
              "      <td>31.945686900958467</td>\n",
              "      <td>40.0227530110204</td>\n",
              "      <td>1</td>\n",
              "      <td>257</td>\n",
              "    </tr>\n",
              "    <tr>\n",
              "      <th>lastHitAction_type</th>\n",
              "      <td>313</td>\n",
              "      <td>0.4281150159744409</td>\n",
              "      <td>1.3090324620607872</td>\n",
              "      <td>0</td>\n",
              "      <td>6</td>\n",
              "    </tr>\n",
              "    <tr>\n",
              "      <th>max_totalTransactionRevenue</th>\n",
              "      <td>313</td>\n",
              "      <td>2009392.9712460064</td>\n",
              "      <td>1.1828056468526127E7</td>\n",
              "      <td>0</td>\n",
              "      <td>128970000</td>\n",
              "    </tr>\n",
              "    <tr>\n",
              "      <th>label</th>\n",
              "      <td>313</td>\n",
              "      <td>None</td>\n",
              "      <td>None</td>\n",
              "      <td>buy</td>\n",
              "      <td>not_buy</td>\n",
              "    </tr>\n",
              "  </tbody>\n",
              "</table>\n",
              "</div>\n",
              "      <button class=\"colab-df-convert\" onclick=\"convertToInteractive('df-b815ee36-eba2-48d5-8839-df0e25178bc2')\"\n",
              "              title=\"Convert this dataframe to an interactive table.\"\n",
              "              style=\"display:none;\">\n",
              "        \n",
              "  <svg xmlns=\"http://www.w3.org/2000/svg\" height=\"24px\"viewBox=\"0 0 24 24\"\n",
              "       width=\"24px\">\n",
              "    <path d=\"M0 0h24v24H0V0z\" fill=\"none\"/>\n",
              "    <path d=\"M18.56 5.44l.94 2.06.94-2.06 2.06-.94-2.06-.94-.94-2.06-.94 2.06-2.06.94zm-11 1L8.5 8.5l.94-2.06 2.06-.94-2.06-.94L8.5 2.5l-.94 2.06-2.06.94zm10 10l.94 2.06.94-2.06 2.06-.94-2.06-.94-.94-2.06-.94 2.06-2.06.94z\"/><path d=\"M17.41 7.96l-1.37-1.37c-.4-.4-.92-.59-1.43-.59-.52 0-1.04.2-1.43.59L10.3 9.45l-7.72 7.72c-.78.78-.78 2.05 0 2.83L4 21.41c.39.39.9.59 1.41.59.51 0 1.02-.2 1.41-.59l7.78-7.78 2.81-2.81c.8-.78.8-2.07 0-2.86zM5.41 20L4 18.59l7.72-7.72 1.47 1.35L5.41 20z\"/>\n",
              "  </svg>\n",
              "      </button>\n",
              "      \n",
              "  <style>\n",
              "    .colab-df-container {\n",
              "      display:flex;\n",
              "      flex-wrap:wrap;\n",
              "      gap: 12px;\n",
              "    }\n",
              "\n",
              "    .colab-df-convert {\n",
              "      background-color: #E8F0FE;\n",
              "      border: none;\n",
              "      border-radius: 50%;\n",
              "      cursor: pointer;\n",
              "      display: none;\n",
              "      fill: #1967D2;\n",
              "      height: 32px;\n",
              "      padding: 0 0 0 0;\n",
              "      width: 32px;\n",
              "    }\n",
              "\n",
              "    .colab-df-convert:hover {\n",
              "      background-color: #E2EBFA;\n",
              "      box-shadow: 0px 1px 2px rgba(60, 64, 67, 0.3), 0px 1px 3px 1px rgba(60, 64, 67, 0.15);\n",
              "      fill: #174EA6;\n",
              "    }\n",
              "\n",
              "    [theme=dark] .colab-df-convert {\n",
              "      background-color: #3B4455;\n",
              "      fill: #D2E3FC;\n",
              "    }\n",
              "\n",
              "    [theme=dark] .colab-df-convert:hover {\n",
              "      background-color: #434B5C;\n",
              "      box-shadow: 0px 1px 3px 1px rgba(0, 0, 0, 0.15);\n",
              "      filter: drop-shadow(0px 1px 2px rgba(0, 0, 0, 0.3));\n",
              "      fill: #FFFFFF;\n",
              "    }\n",
              "  </style>\n",
              "\n",
              "      <script>\n",
              "        const buttonEl =\n",
              "          document.querySelector('#df-b815ee36-eba2-48d5-8839-df0e25178bc2 button.colab-df-convert');\n",
              "        buttonEl.style.display =\n",
              "          google.colab.kernel.accessAllowed ? 'block' : 'none';\n",
              "\n",
              "        async function convertToInteractive(key) {\n",
              "          const element = document.querySelector('#df-b815ee36-eba2-48d5-8839-df0e25178bc2');\n",
              "          const dataTable =\n",
              "            await google.colab.kernel.invokeFunction('convertToInteractive',\n",
              "                                                     [key], {});\n",
              "          if (!dataTable) return;\n",
              "\n",
              "          const docLinkHtml = 'Like what you see? Visit the ' +\n",
              "            '<a target=\"_blank\" href=https://colab.research.google.com/notebooks/data_table.ipynb>data table notebook</a>'\n",
              "            + ' to learn more about interactive tables.';\n",
              "          element.innerHTML = '';\n",
              "          dataTable['output_type'] = 'display_data';\n",
              "          await google.colab.output.renderOutput(dataTable, element);\n",
              "          const docLink = document.createElement('div');\n",
              "          docLink.innerHTML = docLinkHtml;\n",
              "          element.appendChild(docLink);\n",
              "        }\n",
              "      </script>\n",
              "    </div>\n",
              "  </div>\n",
              "  "
            ]
          },
          "metadata": {},
          "execution_count": 69
        }
      ],
      "source": [
        "crunched_df.describe().toPandas().transpose()"
      ]
    },
    {
      "cell_type": "code",
      "execution_count": 70,
      "metadata": {
        "colab": {
          "base_uri": "https://localhost:8080/"
        },
        "id": "RiSJRTaLreuA",
        "outputId": "6eb4b4ee-006b-4117-bcb9-811d1818128e"
      },
      "outputs": [
        {
          "output_type": "stream",
          "name": "stdout",
          "text": [
            "root\n",
            " |-- fullVisitorId: long (nullable = true)\n",
            " |-- visitId: integer (nullable = true)\n",
            " |-- numHitAction_type: long (nullable = false)\n",
            " |-- lastHitAction_type: integer (nullable = true)\n",
            " |-- collect_list(hitAction_type): array (nullable = false)\n",
            " |    |-- element: integer (containsNull = false)\n",
            " |-- max_totalTransactionRevenue: integer (nullable = true)\n",
            " |-- DedupListHitAction_type: array (nullable = true)\n",
            " |    |-- element: integer (containsNull = true)\n",
            " |-- no6DeDupHitAction_type: array (nullable = true)\n",
            " |    |-- element: integer (containsNull = true)\n",
            " |-- all_6: array (nullable = true)\n",
            " |    |-- element: integer (containsNull = true)\n",
            " |-- label: string (nullable = true)\n",
            "\n"
          ]
        }
      ],
      "source": [
        "crunched_df.printSchema()"
      ]
    },
    {
      "cell_type": "code",
      "execution_count": 71,
      "metadata": {
        "id": "aTzs3Sn8reuA"
      },
      "outputs": [],
      "source": [
        "### get ABT!\n",
        "final_df = crunched_df.withColumn('no6DeDupHitAction_typeStr'\\\n",
        "                                  , spark_toString(sparkf.col('no6DeDupHitAction_type')))"
      ]
    },
    {
      "cell_type": "code",
      "execution_count": 72,
      "metadata": {
        "colab": {
          "base_uri": "https://localhost:8080/",
          "height": 381
        },
        "id": "2oNGiNPyreuA",
        "outputId": "8ddd22ef-b125-4aa6-a636-11edb05d6b98"
      },
      "outputs": [
        {
          "output_type": "execute_result",
          "data": {
            "text/plain": [
              "                                 0                      1  \\\n",
              "summary                      count                   mean   \n",
              "fullVisitorId                  313  4.3810734822723041E18   \n",
              "visitId                        313   1.4880686929808307E9   \n",
              "numHitAction_type              313     31.945686900958467   \n",
              "lastHitAction_type             313     0.4281150159744409   \n",
              "max_totalTransactionRevenue    313     2009392.9712460064   \n",
              "label                          313                   None   \n",
              "no6DeDupHitAction_typeStr      313                   None   \n",
              "\n",
              "                                                  2  \\\n",
              "summary                                      stddev   \n",
              "fullVisitorId                1.55701158219550106E18   \n",
              "visitId                           8696164.878413878   \n",
              "numHitAction_type                  40.0227530110204   \n",
              "lastHitAction_type               1.3090324620607872   \n",
              "max_totalTransactionRevenue    1.1828056468526127E7   \n",
              "label                                          None   \n",
              "no6DeDupHitAction_typeStr                      None   \n",
              "\n",
              "                                                                             3  \\\n",
              "summary                                                                    min   \n",
              "fullVisitorId                                                49898505875812980   \n",
              "visitId                                                             1470106850   \n",
              "numHitAction_type                                                            1   \n",
              "lastHitAction_type                                                           0   \n",
              "max_totalTransactionRevenue                                                  0   \n",
              "label                                                                      buy   \n",
              "no6DeDupHitAction_typeStr    [0, 1, 2, 0, 1, 2, 1, 2, 0, 1, 2, 3, 0, 2, 1, ...   \n",
              "\n",
              "                                               4  \n",
              "summary                                      max  \n",
              "fullVisitorId                4995924842281653133  \n",
              "visitId                               1501649190  \n",
              "numHitAction_type                            257  \n",
              "lastHitAction_type                             6  \n",
              "max_totalTransactionRevenue            128970000  \n",
              "label                                    not_buy  \n",
              "no6DeDupHitAction_typeStr                    [4]  "
            ],
            "text/html": [
              "\n",
              "  <div id=\"df-6dfb7a98-5aad-4c39-b770-11f815f35c0d\">\n",
              "    <div class=\"colab-df-container\">\n",
              "      <div>\n",
              "<style scoped>\n",
              "    .dataframe tbody tr th:only-of-type {\n",
              "        vertical-align: middle;\n",
              "    }\n",
              "\n",
              "    .dataframe tbody tr th {\n",
              "        vertical-align: top;\n",
              "    }\n",
              "\n",
              "    .dataframe thead th {\n",
              "        text-align: right;\n",
              "    }\n",
              "</style>\n",
              "<table border=\"1\" class=\"dataframe\">\n",
              "  <thead>\n",
              "    <tr style=\"text-align: right;\">\n",
              "      <th></th>\n",
              "      <th>0</th>\n",
              "      <th>1</th>\n",
              "      <th>2</th>\n",
              "      <th>3</th>\n",
              "      <th>4</th>\n",
              "    </tr>\n",
              "  </thead>\n",
              "  <tbody>\n",
              "    <tr>\n",
              "      <th>summary</th>\n",
              "      <td>count</td>\n",
              "      <td>mean</td>\n",
              "      <td>stddev</td>\n",
              "      <td>min</td>\n",
              "      <td>max</td>\n",
              "    </tr>\n",
              "    <tr>\n",
              "      <th>fullVisitorId</th>\n",
              "      <td>313</td>\n",
              "      <td>4.3810734822723041E18</td>\n",
              "      <td>1.55701158219550106E18</td>\n",
              "      <td>49898505875812980</td>\n",
              "      <td>4995924842281653133</td>\n",
              "    </tr>\n",
              "    <tr>\n",
              "      <th>visitId</th>\n",
              "      <td>313</td>\n",
              "      <td>1.4880686929808307E9</td>\n",
              "      <td>8696164.878413878</td>\n",
              "      <td>1470106850</td>\n",
              "      <td>1501649190</td>\n",
              "    </tr>\n",
              "    <tr>\n",
              "      <th>numHitAction_type</th>\n",
              "      <td>313</td>\n",
              "      <td>31.945686900958467</td>\n",
              "      <td>40.0227530110204</td>\n",
              "      <td>1</td>\n",
              "      <td>257</td>\n",
              "    </tr>\n",
              "    <tr>\n",
              "      <th>lastHitAction_type</th>\n",
              "      <td>313</td>\n",
              "      <td>0.4281150159744409</td>\n",
              "      <td>1.3090324620607872</td>\n",
              "      <td>0</td>\n",
              "      <td>6</td>\n",
              "    </tr>\n",
              "    <tr>\n",
              "      <th>max_totalTransactionRevenue</th>\n",
              "      <td>313</td>\n",
              "      <td>2009392.9712460064</td>\n",
              "      <td>1.1828056468526127E7</td>\n",
              "      <td>0</td>\n",
              "      <td>128970000</td>\n",
              "    </tr>\n",
              "    <tr>\n",
              "      <th>label</th>\n",
              "      <td>313</td>\n",
              "      <td>None</td>\n",
              "      <td>None</td>\n",
              "      <td>buy</td>\n",
              "      <td>not_buy</td>\n",
              "    </tr>\n",
              "    <tr>\n",
              "      <th>no6DeDupHitAction_typeStr</th>\n",
              "      <td>313</td>\n",
              "      <td>None</td>\n",
              "      <td>None</td>\n",
              "      <td>[0, 1, 2, 0, 1, 2, 1, 2, 0, 1, 2, 3, 0, 2, 1, ...</td>\n",
              "      <td>[4]</td>\n",
              "    </tr>\n",
              "  </tbody>\n",
              "</table>\n",
              "</div>\n",
              "      <button class=\"colab-df-convert\" onclick=\"convertToInteractive('df-6dfb7a98-5aad-4c39-b770-11f815f35c0d')\"\n",
              "              title=\"Convert this dataframe to an interactive table.\"\n",
              "              style=\"display:none;\">\n",
              "        \n",
              "  <svg xmlns=\"http://www.w3.org/2000/svg\" height=\"24px\"viewBox=\"0 0 24 24\"\n",
              "       width=\"24px\">\n",
              "    <path d=\"M0 0h24v24H0V0z\" fill=\"none\"/>\n",
              "    <path d=\"M18.56 5.44l.94 2.06.94-2.06 2.06-.94-2.06-.94-.94-2.06-.94 2.06-2.06.94zm-11 1L8.5 8.5l.94-2.06 2.06-.94-2.06-.94L8.5 2.5l-.94 2.06-2.06.94zm10 10l.94 2.06.94-2.06 2.06-.94-2.06-.94-.94-2.06-.94 2.06-2.06.94z\"/><path d=\"M17.41 7.96l-1.37-1.37c-.4-.4-.92-.59-1.43-.59-.52 0-1.04.2-1.43.59L10.3 9.45l-7.72 7.72c-.78.78-.78 2.05 0 2.83L4 21.41c.39.39.9.59 1.41.59.51 0 1.02-.2 1.41-.59l7.78-7.78 2.81-2.81c.8-.78.8-2.07 0-2.86zM5.41 20L4 18.59l7.72-7.72 1.47 1.35L5.41 20z\"/>\n",
              "  </svg>\n",
              "      </button>\n",
              "      \n",
              "  <style>\n",
              "    .colab-df-container {\n",
              "      display:flex;\n",
              "      flex-wrap:wrap;\n",
              "      gap: 12px;\n",
              "    }\n",
              "\n",
              "    .colab-df-convert {\n",
              "      background-color: #E8F0FE;\n",
              "      border: none;\n",
              "      border-radius: 50%;\n",
              "      cursor: pointer;\n",
              "      display: none;\n",
              "      fill: #1967D2;\n",
              "      height: 32px;\n",
              "      padding: 0 0 0 0;\n",
              "      width: 32px;\n",
              "    }\n",
              "\n",
              "    .colab-df-convert:hover {\n",
              "      background-color: #E2EBFA;\n",
              "      box-shadow: 0px 1px 2px rgba(60, 64, 67, 0.3), 0px 1px 3px 1px rgba(60, 64, 67, 0.15);\n",
              "      fill: #174EA6;\n",
              "    }\n",
              "\n",
              "    [theme=dark] .colab-df-convert {\n",
              "      background-color: #3B4455;\n",
              "      fill: #D2E3FC;\n",
              "    }\n",
              "\n",
              "    [theme=dark] .colab-df-convert:hover {\n",
              "      background-color: #434B5C;\n",
              "      box-shadow: 0px 1px 3px 1px rgba(0, 0, 0, 0.15);\n",
              "      filter: drop-shadow(0px 1px 2px rgba(0, 0, 0, 0.3));\n",
              "      fill: #FFFFFF;\n",
              "    }\n",
              "  </style>\n",
              "\n",
              "      <script>\n",
              "        const buttonEl =\n",
              "          document.querySelector('#df-6dfb7a98-5aad-4c39-b770-11f815f35c0d button.colab-df-convert');\n",
              "        buttonEl.style.display =\n",
              "          google.colab.kernel.accessAllowed ? 'block' : 'none';\n",
              "\n",
              "        async function convertToInteractive(key) {\n",
              "          const element = document.querySelector('#df-6dfb7a98-5aad-4c39-b770-11f815f35c0d');\n",
              "          const dataTable =\n",
              "            await google.colab.kernel.invokeFunction('convertToInteractive',\n",
              "                                                     [key], {});\n",
              "          if (!dataTable) return;\n",
              "\n",
              "          const docLinkHtml = 'Like what you see? Visit the ' +\n",
              "            '<a target=\"_blank\" href=https://colab.research.google.com/notebooks/data_table.ipynb>data table notebook</a>'\n",
              "            + ' to learn more about interactive tables.';\n",
              "          element.innerHTML = '';\n",
              "          dataTable['output_type'] = 'display_data';\n",
              "          await google.colab.output.renderOutput(dataTable, element);\n",
              "          const docLink = document.createElement('div');\n",
              "          docLink.innerHTML = docLinkHtml;\n",
              "          element.appendChild(docLink);\n",
              "        }\n",
              "      </script>\n",
              "    </div>\n",
              "  </div>\n",
              "  "
            ]
          },
          "metadata": {},
          "execution_count": 72
        }
      ],
      "source": [
        "final_df.describe().toPandas().transpose()"
      ]
    },
    {
      "cell_type": "code",
      "execution_count": 73,
      "metadata": {
        "colab": {
          "base_uri": "https://localhost:8080/"
        },
        "id": "ynP8Cx1hreuA",
        "outputId": "686f6094-60f3-4951-aa30-359ecd7e1c91"
      },
      "outputs": [
        {
          "output_type": "stream",
          "name": "stdout",
          "text": [
            "root\n",
            " |-- fullVisitorId: long (nullable = true)\n",
            " |-- visitId: integer (nullable = true)\n",
            " |-- numHitAction_type: long (nullable = false)\n",
            " |-- lastHitAction_type: integer (nullable = true)\n",
            " |-- collect_list(hitAction_type): array (nullable = false)\n",
            " |    |-- element: integer (containsNull = false)\n",
            " |-- max_totalTransactionRevenue: integer (nullable = true)\n",
            " |-- DedupListHitAction_type: array (nullable = true)\n",
            " |    |-- element: integer (containsNull = true)\n",
            " |-- no6DeDupHitAction_type: array (nullable = true)\n",
            " |    |-- element: integer (containsNull = true)\n",
            " |-- all_6: array (nullable = true)\n",
            " |    |-- element: integer (containsNull = true)\n",
            " |-- label: string (nullable = true)\n",
            " |-- no6DeDupHitAction_typeStr: string (nullable = true)\n",
            "\n"
          ]
        }
      ],
      "source": [
        "final_df.printSchema()"
      ]
    },
    {
      "cell_type": "code",
      "execution_count": 73,
      "metadata": {
        "id": "W7DXSHkCreuA"
      },
      "outputs": [],
      "source": [
        ""
      ]
    },
    {
      "cell_type": "markdown",
      "metadata": {
        "id": "udSlFveVreuA"
      },
      "source": [
        "# 4. Modeling"
      ]
    },
    {
      "cell_type": "code",
      "execution_count": 74,
      "metadata": {
        "colab": {
          "base_uri": "https://localhost:8080/"
        },
        "id": "Zz7vkK7ireuB",
        "outputId": "b454c39e-1695-4949-c8c5-970fa6fe63d4"
      },
      "outputs": [
        {
          "output_type": "stream",
          "name": "stdout",
          "text": [
            "Training Dataset: 253\n",
            "Testing Dataset: 60\n"
          ]
        }
      ],
      "source": [
        "train_df, test_df = final_df.randomSplit([0.8, 0.2], seed=49)\n",
        "print(\"Training Dataset: \" + str(train_df.count()))\n",
        "print(\"Testing Dataset: \" + str(test_df.count()))"
      ]
    },
    {
      "cell_type": "code",
      "execution_count": 75,
      "metadata": {
        "id": "XMBVMfMOreuB"
      },
      "outputs": [],
      "source": [
        "label_stringIndexer = StringIndexer(inputCol = 'label', outputCol = 'label_indexed')\n",
        "\n",
        "seq_hitActionType_stringIndexer = StringIndexer(handleInvalid = 'keep',inputCol = 'no6DeDupHitAction_typeStr'\\\n",
        "                                                , outputCol = 'seq_hitActionType_indexed')\n",
        "\n",
        "seq_hitActionType_oneHotEncoder = OneHotEncoder(inputCol='seq_hitActionType_indexed'\\\n",
        "                                                , outputCol='seq_hitActionType_encoded')"
      ]
    },
    {
      "cell_type": "code",
      "execution_count": 76,
      "metadata": {
        "id": "ijeNvBqOreuB"
      },
      "outputs": [],
      "source": [
        "vector_assembler = VectorAssembler\\\n",
        "(handleInvalid = \"skip\", \\\n",
        " inputCols = [\\\n",
        "              'seq_hitActionType_encoded'\\\n",
        "              ,'numHitAction_type'\n",
        "             ], outputCol = 'features')"
      ]
    },
    {
      "cell_type": "code",
      "execution_count": 77,
      "metadata": {
        "id": "bRgzsnEwreuB"
      },
      "outputs": [],
      "source": [
        "algo = RandomForestClassifier(labelCol='label_indexed', featuresCol='features')"
      ]
    },
    {
      "cell_type": "code",
      "execution_count": 78,
      "metadata": {
        "id": "UdK-UrstreuB"
      },
      "outputs": [],
      "source": [
        "ABTtoModel_pipeline = Pipeline(stages=[label_stringIndexer, seq_hitActionType_stringIndexer\\\n",
        "                                      , seq_hitActionType_oneHotEncoder, vector_assembler,algo])"
      ]
    },
    {
      "cell_type": "code",
      "execution_count": 79,
      "metadata": {
        "id": "T2FhXI9treuB"
      },
      "outputs": [],
      "source": [
        "mlModel = ABTtoModel_pipeline.fit(train_df)"
      ]
    },
    {
      "cell_type": "markdown",
      "metadata": {
        "id": "crOfF1DareuB"
      },
      "source": [
        "# 5. Model Evaluation"
      ]
    },
    {
      "cell_type": "code",
      "execution_count": 80,
      "metadata": {
        "id": "L9l-C-KMreuB"
      },
      "outputs": [],
      "source": [
        "result_df = mlModel.transform(test_df)"
      ]
    },
    {
      "cell_type": "code",
      "execution_count": 81,
      "metadata": {
        "colab": {
          "base_uri": "https://localhost:8080/"
        },
        "id": "OtHg1aUlreuC",
        "outputId": "ca516451-c266-4e7e-dd9c-3dc095c64f0a"
      },
      "outputs": [
        {
          "output_type": "execute_result",
          "data": {
            "text/plain": [
              "['fullVisitorId',\n",
              " 'visitId',\n",
              " 'numHitAction_type',\n",
              " 'lastHitAction_type',\n",
              " 'collect_list(hitAction_type)',\n",
              " 'max_totalTransactionRevenue',\n",
              " 'DedupListHitAction_type',\n",
              " 'no6DeDupHitAction_type',\n",
              " 'all_6',\n",
              " 'label',\n",
              " 'no6DeDupHitAction_typeStr']"
            ]
          },
          "metadata": {},
          "execution_count": 81
        }
      ],
      "source": [
        "test_df.columns"
      ]
    },
    {
      "cell_type": "code",
      "execution_count": 82,
      "metadata": {
        "colab": {
          "base_uri": "https://localhost:8080/"
        },
        "id": "Q_GbavqwreuC",
        "outputId": "1ffd67d9-5b7a-47ac-b5d1-1531f0844c2c"
      },
      "outputs": [
        {
          "output_type": "execute_result",
          "data": {
            "text/plain": [
              "['fullVisitorId',\n",
              " 'visitId',\n",
              " 'numHitAction_type',\n",
              " 'lastHitAction_type',\n",
              " 'collect_list(hitAction_type)',\n",
              " 'max_totalTransactionRevenue',\n",
              " 'DedupListHitAction_type',\n",
              " 'no6DeDupHitAction_type',\n",
              " 'all_6',\n",
              " 'label',\n",
              " 'no6DeDupHitAction_typeStr',\n",
              " 'label_indexed',\n",
              " 'seq_hitActionType_indexed',\n",
              " 'seq_hitActionType_encoded',\n",
              " 'features',\n",
              " 'rawPrediction',\n",
              " 'probability',\n",
              " 'prediction']"
            ]
          },
          "metadata": {},
          "execution_count": 82
        }
      ],
      "source": [
        "result_df.columns"
      ]
    },
    {
      "cell_type": "code",
      "execution_count": 83,
      "metadata": {
        "colab": {
          "base_uri": "https://localhost:8080/"
        },
        "id": "Wn49ku-freuC",
        "outputId": "efe16269-5d9b-45d4-c1cc-ad8ed9176d06"
      },
      "outputs": [
        {
          "output_type": "stream",
          "name": "stdout",
          "text": [
            "+-------+-------------+----------+\n",
            "|  label|label_indexed|prediction|\n",
            "+-------+-------------+----------+\n",
            "|not_buy|          0.0|       0.0|\n",
            "|    buy|          1.0|       0.0|\n",
            "|    buy|          1.0|       0.0|\n",
            "|not_buy|          0.0|       0.0|\n",
            "|not_buy|          0.0|       0.0|\n",
            "|not_buy|          0.0|       0.0|\n",
            "|not_buy|          0.0|       0.0|\n",
            "|not_buy|          0.0|       0.0|\n",
            "|not_buy|          0.0|       0.0|\n",
            "|    buy|          1.0|       0.0|\n",
            "|not_buy|          0.0|       0.0|\n",
            "|not_buy|          0.0|       0.0|\n",
            "|not_buy|          0.0|       0.0|\n",
            "|not_buy|          0.0|       0.0|\n",
            "|not_buy|          0.0|       0.0|\n",
            "|not_buy|          0.0|       0.0|\n",
            "|not_buy|          0.0|       0.0|\n",
            "|not_buy|          0.0|       0.0|\n",
            "|not_buy|          0.0|       0.0|\n",
            "|not_buy|          0.0|       0.0|\n",
            "+-------+-------------+----------+\n",
            "only showing top 20 rows\n",
            "\n"
          ]
        }
      ],
      "source": [
        "result_df.select('label','label_indexed','prediction').show()"
      ]
    },
    {
      "cell_type": "code",
      "execution_count": 84,
      "metadata": {
        "colab": {
          "base_uri": "https://localhost:8080/"
        },
        "id": "eGVOPqglreuE",
        "outputId": "d32b29da-3ff2-4395-ac8e-f1bc5ac47b2f"
      },
      "outputs": [
        {
          "output_type": "stream",
          "name": "stdout",
          "text": [
            "+-------+-------------+----------+-----+\n",
            "|  label|label_indexed|prediction|count|\n",
            "+-------+-------------+----------+-----+\n",
            "|    buy|          1.0|       0.0|    5|\n",
            "|not_buy|          0.0|       1.0|    1|\n",
            "|not_buy|          0.0|       0.0|   54|\n",
            "+-------+-------------+----------+-----+\n",
            "\n"
          ]
        }
      ],
      "source": [
        "result_df.groupBy('label','label_indexed','prediction')\\\n",
        ".count()\\\n",
        ".orderBy('label',sparkf.col('prediction').desc()).show()"
      ]
    },
    {
      "cell_type": "code",
      "execution_count": 85,
      "metadata": {
        "id": "HDKZ-_d5reuC"
      },
      "outputs": [],
      "source": [
        "positive_side = 'buy' ### positive_side = 1.0"
      ]
    },
    {
      "cell_type": "code",
      "execution_count": 86,
      "metadata": {
        "id": "DtDr3DuureuC"
      },
      "outputs": [],
      "source": [
        "##TP\n",
        "TP = result_df.filter(sparkf.col('prediction') \\\n",
        "                 == sparkf.col('label_indexed')).\\\n",
        "filter(sparkf.col('label') == positive_side).count()\n",
        "\n",
        "##FN\n",
        "FN = result_df.filter(sparkf.col('prediction') \\\n",
        "                 != sparkf.col('label_indexed')).\\\n",
        "filter(sparkf.col('label') == positive_side).count()\n",
        "\n",
        "##TN\n",
        "TN = result_df.filter(sparkf.col('prediction') \\\n",
        "                 == sparkf.col('label_indexed')).\\\n",
        "filter(sparkf.col('label') != positive_side).count()\n",
        "\n",
        "##FP\n",
        "FP = result_df.filter(sparkf.col('prediction') \\\n",
        "                 != sparkf.col('label_indexed')).\\\n",
        "filter(sparkf.col('label') != positive_side).count()"
      ]
    },
    {
      "cell_type": "code",
      "source": [
        "print('TP: ',TP);print('FN: ',FN);print('TN: ',TN);print('FP: ',FP)"
      ],
      "metadata": {
        "colab": {
          "base_uri": "https://localhost:8080/"
        },
        "id": "Lb-iRLCSvOSv",
        "outputId": "13e08204-eac5-402d-8b1d-ac614a4e7d3d"
      },
      "execution_count": 87,
      "outputs": [
        {
          "output_type": "stream",
          "name": "stdout",
          "text": [
            "TP:  0\n",
            "FN:  5\n",
            "TN:  54\n",
            "FP:  1\n"
          ]
        }
      ]
    },
    {
      "cell_type": "code",
      "source": [
        "TPR = TP/(TP+FN)\n",
        "FNR = FN/(TP+FN)\n",
        "\n",
        "TNR = TN/(TN+FP)\n",
        "FPR = FP/(TN+FP)\n",
        "\n",
        "ACC = (TP+TN)/(TP+TN+FP+FN)"
      ],
      "metadata": {
        "id": "hECCvV_yvIcm"
      },
      "execution_count": 88,
      "outputs": []
    },
    {
      "cell_type": "code",
      "source": [
        "print('TPR: ',TPR);print('FNR: ',FNR);print('TNR: ',TNR);print('FPR: ',FPR);print('ACC: ', ACC)"
      ],
      "metadata": {
        "colab": {
          "base_uri": "https://localhost:8080/"
        },
        "id": "OuCJU_sxvIQG",
        "outputId": "a7053c49-3cf5-43f8-cfbb-c36bd9893777"
      },
      "execution_count": 89,
      "outputs": [
        {
          "output_type": "stream",
          "name": "stdout",
          "text": [
            "TPR:  0.0\n",
            "FNR:  1.0\n",
            "TNR:  0.9818181818181818\n",
            "FPR:  0.01818181818181818\n",
            "ACC:  0.9\n"
          ]
        }
      ]
    },
    {
      "cell_type": "code",
      "source": [
        "## Feature Importance"
      ],
      "metadata": {
        "id": "bL0PHHe5FXJ6"
      },
      "execution_count": 90,
      "outputs": []
    },
    {
      "cell_type": "code",
      "source": [
        "featureImportances = mlModel.stages[4].featureImportances.toArray()"
      ],
      "metadata": {
        "id": "BZzdnO-Ts-Ov"
      },
      "execution_count": 91,
      "outputs": []
    },
    {
      "cell_type": "code",
      "source": [
        "def ExtractFeatureImp(featureImp, dataset, featuresCol):\n",
        "    list_extract = []\n",
        "    for i in dataset.schema[featuresCol].metadata[\"ml_attr\"][\"attrs\"]:\n",
        "        list_extract = list_extract + dataset.schema[featuresCol].metadata[\"ml_attr\"][\"attrs\"][i]\n",
        "    varlist = pd.DataFrame(list_extract)\n",
        "    varlist['score'] = varlist['idx'].apply(lambda x: featureImp[x])\n",
        "    return(varlist.sort_values('score', ascending = False))"
      ],
      "metadata": {
        "id": "1oKbGjuPEj1b"
      },
      "execution_count": 92,
      "outputs": []
    },
    {
      "cell_type": "code",
      "source": [
        "ExtractFeatureImp(featureImportances, result_df, \"features\").head(30)"
      ],
      "metadata": {
        "colab": {
          "base_uri": "https://localhost:8080/",
          "height": 989
        },
        "id": "eFWpaYJoFDXL",
        "outputId": "c81c5c98-20fb-4722-9d87-b7c99912a21d"
      },
      "execution_count": 93,
      "outputs": [
        {
          "output_type": "execute_result",
          "data": {
            "text/plain": [
              "    idx                                               name     score\n",
              "16   15    seq_hitActionType_encoded_[0, 1, 2, 1, 0, 3, 5]  0.218093\n",
              "36   35          seq_hitActionType_encoded_[0, 2, 1, 3, 5]  0.138913\n",
              "23   22  seq_hitActionType_encoded_[0, 1, 2, 3, 0, 1, 2...  0.138560\n",
              "38   37                seq_hitActionType_encoded_[0, 3, 5]  0.110690\n",
              "15   14  seq_hitActionType_encoded_[0, 1, 2, 1, 0, 3, 0...  0.109013\n",
              "24   23  seq_hitActionType_encoded_[0, 1, 2, 3, 0, 3, 0...  0.108630\n",
              "30   29  seq_hitActionType_encoded_[0, 2, 1, 0, 3, 0, 1...  0.053179\n",
              "9     8          seq_hitActionType_encoded_[0, 1, 2, 3, 5]  0.047536\n",
              "1     0                      seq_hitActionType_encoded_[0]  0.042543\n",
              "0    44                                  numHitAction_type  0.030784\n",
              "3     2                seq_hitActionType_encoded_[0, 1, 2]  0.001159\n",
              "5     4  seq_hitActionType_encoded_[0, 1, 2, 1, 0, 1, 2...  0.000244\n",
              "10    9                seq_hitActionType_encoded_[0, 2, 1]  0.000229\n",
              "2     1          seq_hitActionType_encoded_[0, 1, 2, 1, 0]  0.000187\n",
              "27   26          seq_hitActionType_encoded_[0, 1, 2, 3, 1]  0.000089\n",
              "4     3             seq_hitActionType_encoded_[0, 2, 1, 0]  0.000043\n",
              "7     6  seq_hitActionType_encoded_[0, 1, 2, 1, 0, 1, 2...  0.000035\n",
              "25   24  seq_hitActionType_encoded_[0, 1, 2, 3, 0, 4, 0...  0.000033\n",
              "29   28    seq_hitActionType_encoded_[0, 2, 1, 0, 1, 2, 0]  0.000022\n",
              "34   33  seq_hitActionType_encoded_[0, 2, 1, 2, 1, 2, 1...  0.000015\n",
              "17   16  seq_hitActionType_encoded_[0, 1, 2, 1, 2, 1, 0...  0.000002\n",
              "31   30       seq_hitActionType_encoded_[0, 2, 1, 0, 3, 0]  0.000000\n",
              "37   36             seq_hitActionType_encoded_[0, 2, 1, 3]  0.000000\n",
              "42   41  seq_hitActionType_encoded_[2, 1, 0, 1, 2, 1, 2...  0.000000\n",
              "35   34  seq_hitActionType_encoded_[0, 2, 1, 2, 1, 2, 3...  0.000000\n",
              "43   42                seq_hitActionType_encoded_[2, 1, 0]  0.000000\n",
              "39   38                   seq_hitActionType_encoded_[0, 4]  0.000000\n",
              "40   39                   seq_hitActionType_encoded_[0, 5]  0.000000\n",
              "33   32    seq_hitActionType_encoded_[0, 2, 1, 2, 1, 0, 3]  0.000000\n",
              "41   40  seq_hitActionType_encoded_[1, 2, 0, 1, 2, 1, 2...  0.000000"
            ],
            "text/html": [
              "\n",
              "  <div id=\"df-e42ad89c-68ad-4a08-8d9e-cf44740b0c88\">\n",
              "    <div class=\"colab-df-container\">\n",
              "      <div>\n",
              "<style scoped>\n",
              "    .dataframe tbody tr th:only-of-type {\n",
              "        vertical-align: middle;\n",
              "    }\n",
              "\n",
              "    .dataframe tbody tr th {\n",
              "        vertical-align: top;\n",
              "    }\n",
              "\n",
              "    .dataframe thead th {\n",
              "        text-align: right;\n",
              "    }\n",
              "</style>\n",
              "<table border=\"1\" class=\"dataframe\">\n",
              "  <thead>\n",
              "    <tr style=\"text-align: right;\">\n",
              "      <th></th>\n",
              "      <th>idx</th>\n",
              "      <th>name</th>\n",
              "      <th>score</th>\n",
              "    </tr>\n",
              "  </thead>\n",
              "  <tbody>\n",
              "    <tr>\n",
              "      <th>16</th>\n",
              "      <td>15</td>\n",
              "      <td>seq_hitActionType_encoded_[0, 1, 2, 1, 0, 3, 5]</td>\n",
              "      <td>0.218093</td>\n",
              "    </tr>\n",
              "    <tr>\n",
              "      <th>36</th>\n",
              "      <td>35</td>\n",
              "      <td>seq_hitActionType_encoded_[0, 2, 1, 3, 5]</td>\n",
              "      <td>0.138913</td>\n",
              "    </tr>\n",
              "    <tr>\n",
              "      <th>23</th>\n",
              "      <td>22</td>\n",
              "      <td>seq_hitActionType_encoded_[0, 1, 2, 3, 0, 1, 2...</td>\n",
              "      <td>0.138560</td>\n",
              "    </tr>\n",
              "    <tr>\n",
              "      <th>38</th>\n",
              "      <td>37</td>\n",
              "      <td>seq_hitActionType_encoded_[0, 3, 5]</td>\n",
              "      <td>0.110690</td>\n",
              "    </tr>\n",
              "    <tr>\n",
              "      <th>15</th>\n",
              "      <td>14</td>\n",
              "      <td>seq_hitActionType_encoded_[0, 1, 2, 1, 0, 3, 0...</td>\n",
              "      <td>0.109013</td>\n",
              "    </tr>\n",
              "    <tr>\n",
              "      <th>24</th>\n",
              "      <td>23</td>\n",
              "      <td>seq_hitActionType_encoded_[0, 1, 2, 3, 0, 3, 0...</td>\n",
              "      <td>0.108630</td>\n",
              "    </tr>\n",
              "    <tr>\n",
              "      <th>30</th>\n",
              "      <td>29</td>\n",
              "      <td>seq_hitActionType_encoded_[0, 2, 1, 0, 3, 0, 1...</td>\n",
              "      <td>0.053179</td>\n",
              "    </tr>\n",
              "    <tr>\n",
              "      <th>9</th>\n",
              "      <td>8</td>\n",
              "      <td>seq_hitActionType_encoded_[0, 1, 2, 3, 5]</td>\n",
              "      <td>0.047536</td>\n",
              "    </tr>\n",
              "    <tr>\n",
              "      <th>1</th>\n",
              "      <td>0</td>\n",
              "      <td>seq_hitActionType_encoded_[0]</td>\n",
              "      <td>0.042543</td>\n",
              "    </tr>\n",
              "    <tr>\n",
              "      <th>0</th>\n",
              "      <td>44</td>\n",
              "      <td>numHitAction_type</td>\n",
              "      <td>0.030784</td>\n",
              "    </tr>\n",
              "    <tr>\n",
              "      <th>3</th>\n",
              "      <td>2</td>\n",
              "      <td>seq_hitActionType_encoded_[0, 1, 2]</td>\n",
              "      <td>0.001159</td>\n",
              "    </tr>\n",
              "    <tr>\n",
              "      <th>5</th>\n",
              "      <td>4</td>\n",
              "      <td>seq_hitActionType_encoded_[0, 1, 2, 1, 0, 1, 2...</td>\n",
              "      <td>0.000244</td>\n",
              "    </tr>\n",
              "    <tr>\n",
              "      <th>10</th>\n",
              "      <td>9</td>\n",
              "      <td>seq_hitActionType_encoded_[0, 2, 1]</td>\n",
              "      <td>0.000229</td>\n",
              "    </tr>\n",
              "    <tr>\n",
              "      <th>2</th>\n",
              "      <td>1</td>\n",
              "      <td>seq_hitActionType_encoded_[0, 1, 2, 1, 0]</td>\n",
              "      <td>0.000187</td>\n",
              "    </tr>\n",
              "    <tr>\n",
              "      <th>27</th>\n",
              "      <td>26</td>\n",
              "      <td>seq_hitActionType_encoded_[0, 1, 2, 3, 1]</td>\n",
              "      <td>0.000089</td>\n",
              "    </tr>\n",
              "    <tr>\n",
              "      <th>4</th>\n",
              "      <td>3</td>\n",
              "      <td>seq_hitActionType_encoded_[0, 2, 1, 0]</td>\n",
              "      <td>0.000043</td>\n",
              "    </tr>\n",
              "    <tr>\n",
              "      <th>7</th>\n",
              "      <td>6</td>\n",
              "      <td>seq_hitActionType_encoded_[0, 1, 2, 1, 0, 1, 2...</td>\n",
              "      <td>0.000035</td>\n",
              "    </tr>\n",
              "    <tr>\n",
              "      <th>25</th>\n",
              "      <td>24</td>\n",
              "      <td>seq_hitActionType_encoded_[0, 1, 2, 3, 0, 4, 0...</td>\n",
              "      <td>0.000033</td>\n",
              "    </tr>\n",
              "    <tr>\n",
              "      <th>29</th>\n",
              "      <td>28</td>\n",
              "      <td>seq_hitActionType_encoded_[0, 2, 1, 0, 1, 2, 0]</td>\n",
              "      <td>0.000022</td>\n",
              "    </tr>\n",
              "    <tr>\n",
              "      <th>34</th>\n",
              "      <td>33</td>\n",
              "      <td>seq_hitActionType_encoded_[0, 2, 1, 2, 1, 2, 1...</td>\n",
              "      <td>0.000015</td>\n",
              "    </tr>\n",
              "    <tr>\n",
              "      <th>17</th>\n",
              "      <td>16</td>\n",
              "      <td>seq_hitActionType_encoded_[0, 1, 2, 1, 2, 1, 0...</td>\n",
              "      <td>0.000002</td>\n",
              "    </tr>\n",
              "    <tr>\n",
              "      <th>31</th>\n",
              "      <td>30</td>\n",
              "      <td>seq_hitActionType_encoded_[0, 2, 1, 0, 3, 0]</td>\n",
              "      <td>0.000000</td>\n",
              "    </tr>\n",
              "    <tr>\n",
              "      <th>37</th>\n",
              "      <td>36</td>\n",
              "      <td>seq_hitActionType_encoded_[0, 2, 1, 3]</td>\n",
              "      <td>0.000000</td>\n",
              "    </tr>\n",
              "    <tr>\n",
              "      <th>42</th>\n",
              "      <td>41</td>\n",
              "      <td>seq_hitActionType_encoded_[2, 1, 0, 1, 2, 1, 2...</td>\n",
              "      <td>0.000000</td>\n",
              "    </tr>\n",
              "    <tr>\n",
              "      <th>35</th>\n",
              "      <td>34</td>\n",
              "      <td>seq_hitActionType_encoded_[0, 2, 1, 2, 1, 2, 3...</td>\n",
              "      <td>0.000000</td>\n",
              "    </tr>\n",
              "    <tr>\n",
              "      <th>43</th>\n",
              "      <td>42</td>\n",
              "      <td>seq_hitActionType_encoded_[2, 1, 0]</td>\n",
              "      <td>0.000000</td>\n",
              "    </tr>\n",
              "    <tr>\n",
              "      <th>39</th>\n",
              "      <td>38</td>\n",
              "      <td>seq_hitActionType_encoded_[0, 4]</td>\n",
              "      <td>0.000000</td>\n",
              "    </tr>\n",
              "    <tr>\n",
              "      <th>40</th>\n",
              "      <td>39</td>\n",
              "      <td>seq_hitActionType_encoded_[0, 5]</td>\n",
              "      <td>0.000000</td>\n",
              "    </tr>\n",
              "    <tr>\n",
              "      <th>33</th>\n",
              "      <td>32</td>\n",
              "      <td>seq_hitActionType_encoded_[0, 2, 1, 2, 1, 0, 3]</td>\n",
              "      <td>0.000000</td>\n",
              "    </tr>\n",
              "    <tr>\n",
              "      <th>41</th>\n",
              "      <td>40</td>\n",
              "      <td>seq_hitActionType_encoded_[1, 2, 0, 1, 2, 1, 2...</td>\n",
              "      <td>0.000000</td>\n",
              "    </tr>\n",
              "  </tbody>\n",
              "</table>\n",
              "</div>\n",
              "      <button class=\"colab-df-convert\" onclick=\"convertToInteractive('df-e42ad89c-68ad-4a08-8d9e-cf44740b0c88')\"\n",
              "              title=\"Convert this dataframe to an interactive table.\"\n",
              "              style=\"display:none;\">\n",
              "        \n",
              "  <svg xmlns=\"http://www.w3.org/2000/svg\" height=\"24px\"viewBox=\"0 0 24 24\"\n",
              "       width=\"24px\">\n",
              "    <path d=\"M0 0h24v24H0V0z\" fill=\"none\"/>\n",
              "    <path d=\"M18.56 5.44l.94 2.06.94-2.06 2.06-.94-2.06-.94-.94-2.06-.94 2.06-2.06.94zm-11 1L8.5 8.5l.94-2.06 2.06-.94-2.06-.94L8.5 2.5l-.94 2.06-2.06.94zm10 10l.94 2.06.94-2.06 2.06-.94-2.06-.94-.94-2.06-.94 2.06-2.06.94z\"/><path d=\"M17.41 7.96l-1.37-1.37c-.4-.4-.92-.59-1.43-.59-.52 0-1.04.2-1.43.59L10.3 9.45l-7.72 7.72c-.78.78-.78 2.05 0 2.83L4 21.41c.39.39.9.59 1.41.59.51 0 1.02-.2 1.41-.59l7.78-7.78 2.81-2.81c.8-.78.8-2.07 0-2.86zM5.41 20L4 18.59l7.72-7.72 1.47 1.35L5.41 20z\"/>\n",
              "  </svg>\n",
              "      </button>\n",
              "      \n",
              "  <style>\n",
              "    .colab-df-container {\n",
              "      display:flex;\n",
              "      flex-wrap:wrap;\n",
              "      gap: 12px;\n",
              "    }\n",
              "\n",
              "    .colab-df-convert {\n",
              "      background-color: #E8F0FE;\n",
              "      border: none;\n",
              "      border-radius: 50%;\n",
              "      cursor: pointer;\n",
              "      display: none;\n",
              "      fill: #1967D2;\n",
              "      height: 32px;\n",
              "      padding: 0 0 0 0;\n",
              "      width: 32px;\n",
              "    }\n",
              "\n",
              "    .colab-df-convert:hover {\n",
              "      background-color: #E2EBFA;\n",
              "      box-shadow: 0px 1px 2px rgba(60, 64, 67, 0.3), 0px 1px 3px 1px rgba(60, 64, 67, 0.15);\n",
              "      fill: #174EA6;\n",
              "    }\n",
              "\n",
              "    [theme=dark] .colab-df-convert {\n",
              "      background-color: #3B4455;\n",
              "      fill: #D2E3FC;\n",
              "    }\n",
              "\n",
              "    [theme=dark] .colab-df-convert:hover {\n",
              "      background-color: #434B5C;\n",
              "      box-shadow: 0px 1px 3px 1px rgba(0, 0, 0, 0.15);\n",
              "      filter: drop-shadow(0px 1px 2px rgba(0, 0, 0, 0.3));\n",
              "      fill: #FFFFFF;\n",
              "    }\n",
              "  </style>\n",
              "\n",
              "      <script>\n",
              "        const buttonEl =\n",
              "          document.querySelector('#df-e42ad89c-68ad-4a08-8d9e-cf44740b0c88 button.colab-df-convert');\n",
              "        buttonEl.style.display =\n",
              "          google.colab.kernel.accessAllowed ? 'block' : 'none';\n",
              "\n",
              "        async function convertToInteractive(key) {\n",
              "          const element = document.querySelector('#df-e42ad89c-68ad-4a08-8d9e-cf44740b0c88');\n",
              "          const dataTable =\n",
              "            await google.colab.kernel.invokeFunction('convertToInteractive',\n",
              "                                                     [key], {});\n",
              "          if (!dataTable) return;\n",
              "\n",
              "          const docLinkHtml = 'Like what you see? Visit the ' +\n",
              "            '<a target=\"_blank\" href=https://colab.research.google.com/notebooks/data_table.ipynb>data table notebook</a>'\n",
              "            + ' to learn more about interactive tables.';\n",
              "          element.innerHTML = '';\n",
              "          dataTable['output_type'] = 'display_data';\n",
              "          await google.colab.output.renderOutput(dataTable, element);\n",
              "          const docLink = document.createElement('div');\n",
              "          docLink.innerHTML = docLinkHtml;\n",
              "          element.appendChild(docLink);\n",
              "        }\n",
              "      </script>\n",
              "    </div>\n",
              "  </div>\n",
              "  "
            ]
          },
          "metadata": {},
          "execution_count": 93
        }
      ]
    },
    {
      "cell_type": "code",
      "source": [
        ""
      ],
      "metadata": {
        "id": "kLzxMUr8FKQc"
      },
      "execution_count": 93,
      "outputs": []
    }
  ],
  "metadata": {
    "colab": {
      "collapsed_sections": [],
      "machine_shape": "hm",
      "name": "FINAL-student-firstModel-19mar2022-withFeatureImportance.ipynb",
      "provenance": [],
      "include_colab_link": true
    },
    "kernelspec": {
      "display_name": "Python 3",
      "name": "python3"
    },
    "language_info": {
      "name": "python"
    }
  },
  "nbformat": 4,
  "nbformat_minor": 0
}