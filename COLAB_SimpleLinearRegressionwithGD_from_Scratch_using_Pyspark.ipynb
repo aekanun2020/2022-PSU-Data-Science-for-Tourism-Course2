{
  "nbformat": 4,
  "nbformat_minor": 0,
  "metadata": {
    "kernelspec": {
      "display_name": "Python 3",
      "language": "python",
      "name": "python3"
    },
    "language_info": {
      "codemirror_mode": {
        "name": "ipython",
        "version": 3
      },
      "file_extension": ".py",
      "mimetype": "text/x-python",
      "name": "python",
      "nbconvert_exporter": "python",
      "pygments_lexer": "ipython3",
      "version": "3.6.1"
    },
    "colab": {
      "name": "COLAB-NN_from_Scratch_using_Pyspark.ipynb",
      "provenance": [],
      "collapsed_sections": [
        "EQ2QjE8pa2K4",
        "NCd1UwPfa2LB"
      ]
    }
  },
  "cells": [
    {
      "cell_type": "code",
      "metadata": {
        "id": "0dTkA-bDa5bm"
      },
      "source": [
        "!apt-get install openjdk-8-jdk-headless -qq > /dev/null\n",
        "!wget -q https://archive.apache.org/dist/spark/spark-2.4.1/spark-2.4.1-bin-hadoop2.7.tgz\n",
        "!tar xf spark-2.4.1-bin-hadoop2.7.tgz\n",
        "!pip install -q findspark"
      ],
      "execution_count": 1,
      "outputs": []
    },
    {
      "cell_type": "code",
      "metadata": {
        "id": "cy4_WOqEa5GJ"
      },
      "source": [
        "import os\n",
        "os.environ[\"JAVA_HOME\"] = \"/usr/lib/jvm/java-8-openjdk-amd64\"\n",
        "os.environ[\"SPARK_HOME\"] = \"/content/spark-2.4.1-bin-hadoop2.7\""
      ],
      "execution_count": 2,
      "outputs": []
    },
    {
      "cell_type": "code",
      "metadata": {
        "id": "kI7zVpqja4du"
      },
      "source": [
        "import findspark\n",
        "findspark.init()\n",
        "from pyspark.sql import SparkSession\n",
        "spark = SparkSession.builder.master(\"local[*]\").getOrCreate()"
      ],
      "execution_count": 3,
      "outputs": []
    },
    {
      "cell_type": "code",
      "metadata": {
        "collapsed": true,
        "id": "gLOiqgf1a2Ku"
      },
      "source": [
        "from pyspark.sql import SparkSession"
      ],
      "execution_count": 4,
      "outputs": []
    },
    {
      "cell_type": "code",
      "metadata": {
        "collapsed": true,
        "id": "GBqMbCCxa2Kv"
      },
      "source": [
        "spark = SparkSession.builder \\\n",
        "   .appName(\"Neural Network Model\") \\\n",
        "   .config(\"spark.executor.memory\", \"3gb\") \\\n",
        "   .getOrCreate()\n",
        "   \n",
        "sc = spark.sparkContext"
      ],
      "execution_count": 5,
      "outputs": []
    },
    {
      "cell_type": "code",
      "metadata": {
        "id": "MjoDgjaja2Kv",
        "colab": {
          "base_uri": "https://localhost:8080/",
          "height": 218
        },
        "outputId": "116c0ce8-075a-468e-cb0b-1484d3d0ed5c"
      },
      "source": [
        "sc"
      ],
      "execution_count": 6,
      "outputs": [
        {
          "output_type": "execute_result",
          "data": {
            "text/html": [
              "\n",
              "        <div>\n",
              "            <p><b>SparkContext</b></p>\n",
              "\n",
              "            <p><a href=\"http://a6ceb52bd915:4040\">Spark UI</a></p>\n",
              "\n",
              "            <dl>\n",
              "              <dt>Version</dt>\n",
              "                <dd><code>v2.4.1</code></dd>\n",
              "              <dt>Master</dt>\n",
              "                <dd><code>local[*]</code></dd>\n",
              "              <dt>AppName</dt>\n",
              "                <dd><code>pyspark-shell</code></dd>\n",
              "            </dl>\n",
              "        </div>\n",
              "        "
            ],
            "text/plain": [
              "<SparkContext master=local[*] appName=pyspark-shell>"
            ]
          },
          "metadata": {},
          "execution_count": 6
        }
      ]
    },
    {
      "cell_type": "markdown",
      "metadata": {
        "id": "ny9-KLrFa2Kw"
      },
      "source": [
        "### DataFrame - Generating a dataset"
      ]
    },
    {
      "cell_type": "code",
      "metadata": {
        "collapsed": true,
        "id": "AW9nbKd9a2Kw"
      },
      "source": [
        "raw_df = spark.createDataFrame([(2,15)\\\n",
        "                                ,(3,28)\\\n",
        "                                ,(5,42)\\\n",
        "                                ,(13,64)\\\n",
        "                                ,(8,50)\\\n",
        "                                ,(16,58)\\\n",
        "                                ,(1,8)\\\n",
        "                                ,(9,54)], \n",
        "                           ['yoe','salary']) # insert header values"
      ],
      "execution_count": 7,
      "outputs": []
    },
    {
      "cell_type": "code",
      "metadata": {
        "id": "9UmmZAB_a2Kx",
        "colab": {
          "base_uri": "https://localhost:8080/"
        },
        "outputId": "9818508a-9ae0-4987-fe0f-0eb5fcfb5b1a"
      },
      "source": [
        "raw_df.show(20)"
      ],
      "execution_count": 8,
      "outputs": [
        {
          "output_type": "stream",
          "name": "stdout",
          "text": [
            "+---+------+\n",
            "|yoe|salary|\n",
            "+---+------+\n",
            "|  2|    15|\n",
            "|  3|    28|\n",
            "|  5|    42|\n",
            "| 13|    64|\n",
            "|  8|    50|\n",
            "| 16|    58|\n",
            "|  1|     8|\n",
            "|  9|    54|\n",
            "+---+------+\n",
            "\n"
          ]
        }
      ]
    },
    {
      "cell_type": "markdown",
      "metadata": {
        "id": "fO87R5dGa2Kx"
      },
      "source": [
        "### DataFrame - Converting categorical values to numerical ones"
      ]
    },
    {
      "cell_type": "code",
      "metadata": {
        "collapsed": true,
        "id": "hFwhMn9Ma2Ky"
      },
      "source": [
        "from pyspark.sql import functions"
      ],
      "execution_count": 9,
      "outputs": []
    },
    {
      "cell_type": "code",
      "metadata": {
        "collapsed": true,
        "id": "nBKyVW6ga2Ky"
      },
      "source": [
        "numerical_df = raw_df"
      ],
      "execution_count": 10,
      "outputs": []
    },
    {
      "cell_type": "markdown",
      "metadata": {
        "id": "bjosWphAa2Ky"
      },
      "source": [
        "### DataFrame -  Sorting columns"
      ]
    },
    {
      "cell_type": "code",
      "metadata": {
        "collapsed": true,
        "id": "Q-SsIK8va2Ky"
      },
      "source": [
        "orderedcolumns_df = numerical_df"
      ],
      "execution_count": 11,
      "outputs": []
    },
    {
      "cell_type": "code",
      "metadata": {
        "id": "V1nOxPSVa2Kz",
        "colab": {
          "base_uri": "https://localhost:8080/"
        },
        "outputId": "b00426c6-98a0-4232-8937-ce8045a034a2"
      },
      "source": [
        "orderedcolumns_df.show(5)"
      ],
      "execution_count": 12,
      "outputs": [
        {
          "output_type": "stream",
          "name": "stdout",
          "text": [
            "+---+------+\n",
            "|yoe|salary|\n",
            "+---+------+\n",
            "|  2|    15|\n",
            "|  3|    28|\n",
            "|  5|    42|\n",
            "| 13|    64|\n",
            "|  8|    50|\n",
            "+---+------+\n",
            "only showing top 5 rows\n",
            "\n"
          ]
        }
      ]
    },
    {
      "cell_type": "code",
      "metadata": {
        "collapsed": true,
        "id": "UzvyHBsEa2Kz"
      },
      "source": [
        "import numpy as np"
      ],
      "execution_count": 13,
      "outputs": []
    },
    {
      "cell_type": "code",
      "metadata": {
        "id": "wQvEi6xIa2K0",
        "colab": {
          "base_uri": "https://localhost:8080/"
        },
        "outputId": "8a2049e5-14f5-4b56-c9d9-a993283cf000"
      },
      "source": [
        "orderedcolumns_df.collect()"
      ],
      "execution_count": 14,
      "outputs": [
        {
          "output_type": "execute_result",
          "data": {
            "text/plain": [
              "[Row(yoe=2, salary=15),\n",
              " Row(yoe=3, salary=28),\n",
              " Row(yoe=5, salary=42),\n",
              " Row(yoe=13, salary=64),\n",
              " Row(yoe=8, salary=50),\n",
              " Row(yoe=16, salary=58),\n",
              " Row(yoe=1, salary=8),\n",
              " Row(yoe=9, salary=54)]"
            ]
          },
          "metadata": {},
          "execution_count": 14
        }
      ]
    },
    {
      "cell_type": "markdown",
      "metadata": {
        "id": "v9MnNblOa2K0"
      },
      "source": [
        "## 1. Transform Spark’s DataFrame to Numpy’s Array."
      ]
    },
    {
      "cell_type": "code",
      "metadata": {
        "collapsed": true,
        "id": "lZClruLWa2K0"
      },
      "source": [
        "data_array = np.array(orderedcolumns_df.collect())"
      ],
      "execution_count": 15,
      "outputs": []
    },
    {
      "cell_type": "code",
      "metadata": {
        "id": "WskuUp00a2K0",
        "colab": {
          "base_uri": "https://localhost:8080/"
        },
        "outputId": "31bcdec9-05a4-47ea-83ca-8f5b52ed239c"
      },
      "source": [
        "data_array"
      ],
      "execution_count": 16,
      "outputs": [
        {
          "output_type": "execute_result",
          "data": {
            "text/plain": [
              "array([[ 2, 15],\n",
              "       [ 3, 28],\n",
              "       [ 5, 42],\n",
              "       [13, 64],\n",
              "       [ 8, 50],\n",
              "       [16, 58],\n",
              "       [ 1,  8],\n",
              "       [ 9, 54]])"
            ]
          },
          "metadata": {},
          "execution_count": 16
        }
      ]
    },
    {
      "cell_type": "code",
      "metadata": {
        "id": "pL8kgIE9a2K1",
        "colab": {
          "base_uri": "https://localhost:8080/"
        },
        "outputId": "bb6b8f40-2b83-47da-80fa-f159f40d63c2"
      },
      "source": [
        "data_array.shape"
      ],
      "execution_count": 17,
      "outputs": [
        {
          "output_type": "execute_result",
          "data": {
            "text/plain": [
              "(8, 2)"
            ]
          },
          "metadata": {},
          "execution_count": 17
        }
      ]
    },
    {
      "cell_type": "code",
      "metadata": {
        "id": "2w-HVA19a2K1",
        "colab": {
          "base_uri": "https://localhost:8080/"
        },
        "outputId": "bcc7360c-c8c4-45bd-dfef-e16a712575d9"
      },
      "source": [
        "data_array[:]"
      ],
      "execution_count": 18,
      "outputs": [
        {
          "output_type": "execute_result",
          "data": {
            "text/plain": [
              "array([[ 2, 15],\n",
              "       [ 3, 28],\n",
              "       [ 5, 42],\n",
              "       [13, 64],\n",
              "       [ 8, 50],\n",
              "       [16, 58],\n",
              "       [ 1,  8],\n",
              "       [ 9, 54]])"
            ]
          },
          "metadata": {},
          "execution_count": 18
        }
      ]
    },
    {
      "cell_type": "code",
      "metadata": {
        "id": "f-16ikiga2K2",
        "colab": {
          "base_uri": "https://localhost:8080/"
        },
        "outputId": "4fb6039c-6b53-4bed-e949-2f0981831e8f"
      },
      "source": [
        "data_array[7]"
      ],
      "execution_count": 19,
      "outputs": [
        {
          "output_type": "execute_result",
          "data": {
            "text/plain": [
              "array([ 9, 54])"
            ]
          },
          "metadata": {},
          "execution_count": 19
        }
      ]
    },
    {
      "cell_type": "markdown",
      "metadata": {
        "id": "7TNEsez3a2K2"
      },
      "source": [
        "##### Visualizing the data using Numpy and Matplotlib"
      ]
    },
    {
      "cell_type": "code",
      "metadata": {
        "id": "urG0F73ma2K2",
        "colab": {
          "base_uri": "https://localhost:8080/"
        },
        "outputId": "59c2326e-2aaf-411f-dda7-1aa123e2d7f9"
      },
      "source": [
        "data_array.max(axis=0)"
      ],
      "execution_count": 20,
      "outputs": [
        {
          "output_type": "execute_result",
          "data": {
            "text/plain": [
              "array([16, 64])"
            ]
          },
          "metadata": {},
          "execution_count": 20
        }
      ]
    },
    {
      "cell_type": "code",
      "metadata": {
        "id": "KijcEvcma2K2",
        "colab": {
          "base_uri": "https://localhost:8080/"
        },
        "outputId": "586e6e6f-e12a-427f-abc4-9fb176b7e700"
      },
      "source": [
        "data_array.min(axis=0)"
      ],
      "execution_count": 21,
      "outputs": [
        {
          "output_type": "execute_result",
          "data": {
            "text/plain": [
              "array([1, 8])"
            ]
          },
          "metadata": {},
          "execution_count": 21
        }
      ]
    },
    {
      "cell_type": "code",
      "metadata": {
        "collapsed": true,
        "id": "5OvS5U_ua2K3"
      },
      "source": [
        "import matplotlib.pyplot as plt\n",
        "%matplotlib inline"
      ],
      "execution_count": 22,
      "outputs": []
    },
    {
      "cell_type": "markdown",
      "metadata": {
        "id": "4ansM4BNa2K3"
      },
      "source": [
        "##### Define range of x and range of y."
      ]
    },
    {
      "cell_type": "code",
      "metadata": {
        "collapsed": true,
        "id": "NCm-XB_Fa2K3"
      },
      "source": [
        "min_x = data_array.min(axis=0)[0]-10\n",
        "max_x = data_array.max(axis=0)[0]+10\n",
        "min_y = data_array.min(axis=0)[1]-10\n",
        "max_y = data_array.max(axis=0)[1]+10"
      ],
      "execution_count": 23,
      "outputs": []
    },
    {
      "cell_type": "code",
      "metadata": {
        "id": "JWjWPUcoa2K3",
        "colab": {
          "base_uri": "https://localhost:8080/"
        },
        "outputId": "07ccbba6-b89c-47ad-af0a-475139ec41c0"
      },
      "source": [
        "min_x, max_x, min_y, max_y"
      ],
      "execution_count": 24,
      "outputs": [
        {
          "output_type": "execute_result",
          "data": {
            "text/plain": [
              "(-9, 26, -2, 74)"
            ]
          },
          "metadata": {},
          "execution_count": 24
        }
      ]
    },
    {
      "cell_type": "markdown",
      "metadata": {
        "id": "EQ2QjE8pa2K4"
      },
      "source": [
        "### 2. Making Standardization of x"
      ]
    },
    {
      "cell_type": "code",
      "metadata": {
        "id": "F8wgLCH8a2K4",
        "colab": {
          "base_uri": "https://localhost:8080/"
        },
        "outputId": "37d1f4ac-03a6-44f2-957a-664b6a36394e"
      },
      "source": [
        "type(data_array)"
      ],
      "execution_count": 25,
      "outputs": [
        {
          "output_type": "execute_result",
          "data": {
            "text/plain": [
              "numpy.ndarray"
            ]
          },
          "metadata": {},
          "execution_count": 25
        }
      ]
    },
    {
      "cell_type": "code",
      "metadata": {
        "id": "R6rJuH6xa2K5",
        "colab": {
          "base_uri": "https://localhost:8080/"
        },
        "outputId": "74fe3417-66c4-40ab-b628-7ce904f92696"
      },
      "source": [
        "data_array"
      ],
      "execution_count": 26,
      "outputs": [
        {
          "output_type": "execute_result",
          "data": {
            "text/plain": [
              "array([[ 2, 15],\n",
              "       [ 3, 28],\n",
              "       [ 5, 42],\n",
              "       [13, 64],\n",
              "       [ 8, 50],\n",
              "       [16, 58],\n",
              "       [ 1,  8],\n",
              "       [ 9, 54]])"
            ]
          },
          "metadata": {},
          "execution_count": 26
        }
      ]
    },
    {
      "cell_type": "markdown",
      "metadata": {
        "id": "PWZnnsGSa2K5"
      },
      "source": [
        "##### x only contains both of height and weight"
      ]
    },
    {
      "cell_type": "code",
      "metadata": {
        "collapsed": true,
        "id": "omJCe4vya2K5"
      },
      "source": [
        "x = data_array[:,:1]"
      ],
      "execution_count": 27,
      "outputs": []
    },
    {
      "cell_type": "code",
      "metadata": {
        "id": "JH18n2wga2K6",
        "colab": {
          "base_uri": "https://localhost:8080/"
        },
        "outputId": "54736734-b70a-473f-abf7-a0e56abb4f29"
      },
      "source": [
        "x"
      ],
      "execution_count": 28,
      "outputs": [
        {
          "output_type": "execute_result",
          "data": {
            "text/plain": [
              "array([[ 2],\n",
              "       [ 3],\n",
              "       [ 5],\n",
              "       [13],\n",
              "       [ 8],\n",
              "       [16],\n",
              "       [ 1],\n",
              "       [ 9]])"
            ]
          },
          "metadata": {},
          "execution_count": 28
        }
      ]
    },
    {
      "cell_type": "markdown",
      "metadata": {
        "id": "7_yJu6wfa2K6"
      },
      "source": [
        "##### Calculate Mean and Std. of x"
      ]
    },
    {
      "cell_type": "code",
      "metadata": {
        "collapsed": true,
        "id": "MppJmB0la2K7"
      },
      "source": [
        "x_mean = x.mean(axis=0)\n",
        "x_std = x.std(axis=0)"
      ],
      "execution_count": 29,
      "outputs": []
    },
    {
      "cell_type": "code",
      "metadata": {
        "collapsed": true,
        "id": "G9ar5lYla2K7"
      },
      "source": [
        "def normalize(origi):\n",
        "    #origi_mean = origi.mean(axis=0)\n",
        "    #origi_std = origi.std(axis=0)\n",
        "    #new = (origi - origi_mean)/origi_std\n",
        "    new = origi\n",
        "    return new"
      ],
      "execution_count": 30,
      "outputs": []
    },
    {
      "cell_type": "code",
      "metadata": {
        "collapsed": true,
        "id": "ebTGaTu-a2K8"
      },
      "source": [
        "x_normalized = normalize(x)"
      ],
      "execution_count": 31,
      "outputs": []
    },
    {
      "cell_type": "code",
      "metadata": {
        "id": "ChSGZD35a2K8",
        "colab": {
          "base_uri": "https://localhost:8080/"
        },
        "outputId": "568c3779-dfbc-4f9a-ce83-2720efc46b2a"
      },
      "source": [
        "x_normalized"
      ],
      "execution_count": 32,
      "outputs": [
        {
          "output_type": "execute_result",
          "data": {
            "text/plain": [
              "array([[ 2],\n",
              "       [ 3],\n",
              "       [ 5],\n",
              "       [13],\n",
              "       [ 8],\n",
              "       [16],\n",
              "       [ 1],\n",
              "       [ 9]])"
            ]
          },
          "metadata": {},
          "execution_count": 32
        }
      ]
    },
    {
      "cell_type": "markdown",
      "metadata": {
        "id": "hNQ8IC5xa2K8"
      },
      "source": [
        "##### y only contains sex"
      ]
    },
    {
      "cell_type": "code",
      "metadata": {
        "collapsed": true,
        "id": "jO91zzAZa2K9"
      },
      "source": [
        "y = data_array[:,1]"
      ],
      "execution_count": 33,
      "outputs": []
    },
    {
      "cell_type": "code",
      "metadata": {
        "id": "RjYKOlKsa2K9",
        "colab": {
          "base_uri": "https://localhost:8080/"
        },
        "outputId": "76342e0e-0268-4590-965e-2de863dbf167"
      },
      "source": [
        "y"
      ],
      "execution_count": 34,
      "outputs": [
        {
          "output_type": "execute_result",
          "data": {
            "text/plain": [
              "array([15, 28, 42, 64, 50, 58,  8, 54])"
            ]
          },
          "metadata": {},
          "execution_count": 34
        }
      ]
    },
    {
      "cell_type": "markdown",
      "metadata": {
        "id": "E8yKxeFra2K9"
      },
      "source": [
        "##### Merge x with y."
      ]
    },
    {
      "cell_type": "code",
      "metadata": {
        "collapsed": true,
        "id": "oiW_V2g4a2K9"
      },
      "source": [
        "normalized_data_array = np.column_stack((x_normalized[:,0], \\\n",
        "                                         y))"
      ],
      "execution_count": 35,
      "outputs": []
    },
    {
      "cell_type": "code",
      "metadata": {
        "id": "6n4AZoP1a2K-",
        "colab": {
          "base_uri": "https://localhost:8080/"
        },
        "outputId": "fdbc1b02-1ba2-44d5-d23a-e5cfb498081f"
      },
      "source": [
        "normalized_data_array"
      ],
      "execution_count": 36,
      "outputs": [
        {
          "output_type": "execute_result",
          "data": {
            "text/plain": [
              "array([[ 2, 15],\n",
              "       [ 3, 28],\n",
              "       [ 5, 42],\n",
              "       [13, 64],\n",
              "       [ 8, 50],\n",
              "       [16, 58],\n",
              "       [ 1,  8],\n",
              "       [ 9, 54]])"
            ]
          },
          "metadata": {},
          "execution_count": 36
        }
      ]
    },
    {
      "cell_type": "markdown",
      "metadata": {
        "id": "IT8GWHuga2K-"
      },
      "source": [
        "## 3. Define Algorithm's Parameters for Linear Function."
      ]
    },
    {
      "cell_type": "markdown",
      "metadata": {
        "id": "YAdwwQHUa2K-"
      },
      "source": [
        "##### Random generating many coefficiency"
      ]
    },
    {
      "cell_type": "code",
      "metadata": {
        "collapsed": true,
        "id": "Teu2zBITa2K-"
      },
      "source": [
        "np.random.seed(12345)"
      ],
      "execution_count": 37,
      "outputs": []
    },
    {
      "cell_type": "code",
      "metadata": {
        "collapsed": true,
        "id": "jVMn3p6Ja2K_"
      },
      "source": [
        "w1 = np.random.randn()\n",
        "b= np.random.randn()"
      ],
      "execution_count": 38,
      "outputs": []
    },
    {
      "cell_type": "code",
      "metadata": {
        "id": "VFvPYMGTa2K_",
        "colab": {
          "base_uri": "https://localhost:8080/"
        },
        "outputId": "ab0da865-3eb3-4771-93b4-1f94afd82a8d"
      },
      "source": [
        "print(w1, b)"
      ],
      "execution_count": 39,
      "outputs": [
        {
          "output_type": "stream",
          "name": "stdout",
          "text": [
            "-0.20470765948471295 0.47894333805754824\n"
          ]
        }
      ]
    },
    {
      "cell_type": "markdown",
      "metadata": {
        "id": "rM_pzlwTa2K_"
      },
      "source": [
        "## 4. Define Activate Function and its Derivation."
      ]
    },
    {
      "cell_type": "markdown",
      "metadata": {
        "id": "wHM4amkMa2K_"
      },
      "source": [
        "##### Declare Sigmoid functions and its derivation (Sigmoid derivative)."
      ]
    },
    {
      "cell_type": "markdown",
      "metadata": {
        "id": "NCd1UwPfa2LB"
      },
      "source": [
        "### 5. Launch the Deep Learning Algorithm:\n",
        "Calculating of Summation, Activation Function (Sigmoid) and Backpropagation (Sigmoid Derivative)"
      ]
    },
    {
      "cell_type": "code",
      "metadata": {
        "id": "Uk06IkZya2LB",
        "colab": {
          "base_uri": "https://localhost:8080/"
        },
        "outputId": "f807d3d5-aba6-42aa-a754-5f962a6e3b43"
      },
      "source": [
        "normalized_data_array"
      ],
      "execution_count": 40,
      "outputs": [
        {
          "output_type": "execute_result",
          "data": {
            "text/plain": [
              "array([[ 2, 15],\n",
              "       [ 3, 28],\n",
              "       [ 5, 42],\n",
              "       [13, 64],\n",
              "       [ 8, 50],\n",
              "       [16, 58],\n",
              "       [ 1,  8],\n",
              "       [ 9, 54]])"
            ]
          },
          "metadata": {},
          "execution_count": 40
        }
      ]
    },
    {
      "cell_type": "code",
      "metadata": {
        "id": "mF2ozwKaa2LB",
        "colab": {
          "base_uri": "https://localhost:8080/"
        },
        "outputId": "f4e67997-82f3-451b-9c0b-f3857f63d7a7"
      },
      "source": [
        "normalized_data_array.shape"
      ],
      "execution_count": 41,
      "outputs": [
        {
          "output_type": "execute_result",
          "data": {
            "text/plain": [
              "(8, 2)"
            ]
          },
          "metadata": {},
          "execution_count": 41
        }
      ]
    },
    {
      "cell_type": "code",
      "metadata": {
        "id": "UAwzZNb2a2LB",
        "colab": {
          "base_uri": "https://localhost:8080/"
        },
        "outputId": "1970c570-64ec-4202-8dde-5dd476bf4cdd"
      },
      "source": [
        "for i in range(100):\n",
        "    random_index = np.random.\\\n",
        "    randint(len(normalized_data_array))\n",
        "    point = normalized_data_array[random_index]\n",
        "    print(i, point)"
      ],
      "execution_count": 42,
      "outputs": [
        {
          "output_type": "stream",
          "name": "stdout",
          "text": [
            "0 [ 8 50]\n",
            "1 [ 3 28]\n",
            "2 [1 8]\n",
            "3 [1 8]\n",
            "4 [16 58]\n",
            "5 [ 5 42]\n",
            "6 [16 58]\n",
            "7 [ 3 28]\n",
            "8 [1 8]\n",
            "9 [ 3 28]\n",
            "10 [13 64]\n",
            "11 [1 8]\n",
            "12 [ 3 28]\n",
            "13 [13 64]\n",
            "14 [ 9 54]\n",
            "15 [1 8]\n",
            "16 [ 2 15]\n",
            "17 [ 5 42]\n",
            "18 [ 3 28]\n",
            "19 [13 64]\n",
            "20 [16 58]\n",
            "21 [ 5 42]\n",
            "22 [ 3 28]\n",
            "23 [ 5 42]\n",
            "24 [1 8]\n",
            "25 [ 9 54]\n",
            "26 [13 64]\n",
            "27 [ 9 54]\n",
            "28 [ 9 54]\n",
            "29 [16 58]\n",
            "30 [ 2 15]\n",
            "31 [ 9 54]\n",
            "32 [ 9 54]\n",
            "33 [16 58]\n",
            "34 [ 3 28]\n",
            "35 [13 64]\n",
            "36 [ 9 54]\n",
            "37 [ 8 50]\n",
            "38 [ 2 15]\n",
            "39 [ 9 54]\n",
            "40 [13 64]\n",
            "41 [ 8 50]\n",
            "42 [ 8 50]\n",
            "43 [16 58]\n",
            "44 [ 9 54]\n",
            "45 [ 9 54]\n",
            "46 [13 64]\n",
            "47 [1 8]\n",
            "48 [13 64]\n",
            "49 [ 3 28]\n",
            "50 [13 64]\n",
            "51 [16 58]\n",
            "52 [ 5 42]\n",
            "53 [16 58]\n",
            "54 [13 64]\n",
            "55 [ 2 15]\n",
            "56 [16 58]\n",
            "57 [ 5 42]\n",
            "58 [ 8 50]\n",
            "59 [16 58]\n",
            "60 [13 64]\n",
            "61 [13 64]\n",
            "62 [ 8 50]\n",
            "63 [1 8]\n",
            "64 [13 64]\n",
            "65 [ 2 15]\n",
            "66 [13 64]\n",
            "67 [1 8]\n",
            "68 [ 2 15]\n",
            "69 [ 2 15]\n",
            "70 [13 64]\n",
            "71 [16 58]\n",
            "72 [ 5 42]\n",
            "73 [ 8 50]\n",
            "74 [1 8]\n",
            "75 [ 8 50]\n",
            "76 [ 2 15]\n",
            "77 [1 8]\n",
            "78 [ 3 28]\n",
            "79 [ 5 42]\n",
            "80 [ 5 42]\n",
            "81 [ 5 42]\n",
            "82 [ 3 28]\n",
            "83 [1 8]\n",
            "84 [ 5 42]\n",
            "85 [ 9 54]\n",
            "86 [16 58]\n",
            "87 [ 9 54]\n",
            "88 [ 3 28]\n",
            "89 [ 9 54]\n",
            "90 [13 64]\n",
            "91 [ 2 15]\n",
            "92 [ 5 42]\n",
            "93 [ 8 50]\n",
            "94 [ 3 28]\n",
            "95 [1 8]\n",
            "96 [ 5 42]\n",
            "97 [13 64]\n",
            "98 [1 8]\n",
            "99 [13 64]\n"
          ]
        }
      ]
    },
    {
      "cell_type": "markdown",
      "metadata": {
        "id": "tA5WhaJpa2LC"
      },
      "source": [
        "##### w1, w2 and b will be adjusted using gradient descent to tweak their values and minimize the cost function."
      ]
    },
    {
      "cell_type": "code",
      "metadata": {
        "collapsed": true,
        "id": "UvBXWRnsa2LC"
      },
      "source": [
        "learning_rate = 0.001\n",
        "\n",
        "all_costs = []"
      ],
      "execution_count": 43,
      "outputs": []
    },
    {
      "cell_type": "code",
      "source": [
        "w1"
      ],
      "metadata": {
        "colab": {
          "base_uri": "https://localhost:8080/"
        },
        "id": "0Nqek028vf18",
        "outputId": "8c40944e-806f-4484-bab8-c91136d709c6"
      },
      "execution_count": 44,
      "outputs": [
        {
          "output_type": "execute_result",
          "data": {
            "text/plain": [
              "-0.20470765948471295"
            ]
          },
          "metadata": {},
          "execution_count": 44
        }
      ]
    },
    {
      "cell_type": "code",
      "metadata": {
        "collapsed": true,
        "id": "ghL8RTuta2LC"
      },
      "source": [
        "for i in range(10000000):\n",
        "    # set the random data points that will be used to calculate the summation\n",
        "    random_number = np.random.randint(len(normalized_data_array))\n",
        "    random_person = normalized_data_array[random_number]\n",
        "    \n",
        "    # the height and weight from the random individual are selected\n",
        "    height = random_person[0]\n",
        "    #weight = random_person[1]\n",
        "\n",
        "    #z = w1*height+w2*weight+b\n",
        "    predictedGender = w1*height+b\n",
        "    \n",
        "    actualGender = random_person[1]\n",
        "    \n",
        "    cost = (actualGender-predictedGender)\n",
        "\n",
        "    #print(cost)\n",
        "    \n",
        "    # the cost value is appended to the list\n",
        "    all_costs.append(cost)\n",
        "    \n",
        "    # partial derivatives of the cost function and summation are calculated\n",
        "    dcost_predictedGender = cost * (-1) *(height)\n",
        "    dcost_bias = cost * (-1)\n",
        "    #dpredictedGenger_dz = sigmoid_derivative(z)\n",
        "    #dz_dw1 = height\n",
        "    #dz_dw2 = weight\n",
        "    #dz_db = 1\n",
        "    \n",
        "    dcost_dw1 = dcost_predictedGender\n",
        "    dcost_db  = dcost_bias\n",
        "    \n",
        "    # gradient descent calculation\n",
        "    w1 = w1 - learning_rate * dcost_dw1\n",
        "    b  = b  - learning_rate * dcost_db"
      ],
      "execution_count": 45,
      "outputs": []
    },
    {
      "cell_type": "code",
      "source": [
        "height, actualGender"
      ],
      "metadata": {
        "colab": {
          "base_uri": "https://localhost:8080/"
        },
        "id": "X2wA6j5pu-gP",
        "outputId": "97c40cd7-31f2-40df-d9b8-5522a94c9de4"
      },
      "execution_count": 46,
      "outputs": [
        {
          "output_type": "execute_result",
          "data": {
            "text/plain": [
              "(16, 58)"
            ]
          },
          "metadata": {},
          "execution_count": 46
        }
      ]
    },
    {
      "cell_type": "code",
      "source": [
        "cost"
      ],
      "metadata": {
        "colab": {
          "base_uri": "https://localhost:8080/"
        },
        "id": "aZpqKXRwwP8v",
        "outputId": "77afb55b-a1e7-423f-e2ab-2466d79fe3d6"
      },
      "execution_count": 47,
      "outputs": [
        {
          "output_type": "execute_result",
          "data": {
            "text/plain": [
              "-14.51056575029044"
            ]
          },
          "metadata": {},
          "execution_count": 47
        }
      ]
    },
    {
      "cell_type": "code",
      "metadata": {
        "id": "mSmPD-Lta2LC",
        "colab": {
          "base_uri": "https://localhost:8080/",
          "height": 316
        },
        "outputId": "686b557f-7a0d-4dd8-f4e7-e066f7ed8a21"
      },
      "source": [
        "plt.plot(all_costs)\n",
        "plt.title('Cost Value over 100,000 iterations')\n",
        "plt.xlabel('Iteration')\n",
        "plt.ylabel('Cost Value')\n",
        "plt.show()"
      ],
      "execution_count": 48,
      "outputs": [
        {
          "output_type": "display_data",
          "data": {
            "image/png": "[encoded data removed]",
            "text/plain": [
              "<Figure size 432x288 with 1 Axes>"
            ]
          },
          "metadata": {
            "needs_background": "light"
          }
        }
      ]
    },
    {
      "cell_type": "code",
      "metadata": {
        "id": "vidlkqFva2LC",
        "colab": {
          "base_uri": "https://localhost:8080/"
        },
        "outputId": "b8835493-1107-44a4-c363-8d741b846e51"
      },
      "source": [
        "print('The final values of w1, w2, and b')\n",
        "print('---------------------------------')\n",
        "print('w1 = {}'.format(w1))\n",
        "\n",
        "print('b  = {}'.format(b))"
      ],
      "execution_count": 49,
      "outputs": [
        {
          "output_type": "stream",
          "name": "stdout",
          "text": [
            "The final values of w1, w2, and b\n",
            "---------------------------------\n",
            "w1 = 3.3402463004917315\n",
            "b  = 15.337409544598092\n"
          ]
        }
      ]
    },
    {
      "cell_type": "code",
      "source": [
        "from pyspark.sql import functions as sparkf\n",
        "from pyspark.sql.types import *"
      ],
      "metadata": {
        "id": "4ENBBdwGxfc_"
      },
      "execution_count": 50,
      "outputs": []
    },
    {
      "cell_type": "code",
      "source": [
        "w1"
      ],
      "metadata": {
        "colab": {
          "base_uri": "https://localhost:8080/"
        },
        "id": "WkvvePz48vJ3",
        "outputId": "39ddecc0-d9d0-42c9-8def-48d3a9571947"
      },
      "execution_count": 51,
      "outputs": [
        {
          "output_type": "execute_result",
          "data": {
            "text/plain": [
              "3.3402463004917315"
            ]
          },
          "metadata": {},
          "execution_count": 51
        }
      ]
    },
    {
      "cell_type": "code",
      "source": [
        "def lineareq(origi,m,b):\n",
        "  result = (origi*m)+b\n",
        "  return result\n",
        "sparkf_lineareq = sparkf.udf(lambda x,m,b: lineareq(x,m,b))"
      ],
      "metadata": {
        "id": "W2aFWv7qyRbM"
      },
      "execution_count": 52,
      "outputs": []
    },
    {
      "cell_type": "code",
      "source": [
        "lineareq(2,w1,b)"
      ],
      "metadata": {
        "colab": {
          "base_uri": "https://localhost:8080/"
        },
        "id": "GfKgVgVd6lsE",
        "outputId": "04ac56b8-efb8-4cef-dade-2915acfd76bb"
      },
      "execution_count": 53,
      "outputs": [
        {
          "output_type": "execute_result",
          "data": {
            "text/plain": [
              "22.017902145581555"
            ]
          },
          "metadata": {},
          "execution_count": 53
        }
      ]
    },
    {
      "cell_type": "code",
      "source": [
        "raw_df.show()"
      ],
      "metadata": {
        "colab": {
          "base_uri": "https://localhost:8080/"
        },
        "id": "U12GCGUO7zYO",
        "outputId": "df527b5d-6807-4183-c646-fb04fb22106a"
      },
      "execution_count": 54,
      "outputs": [
        {
          "output_type": "stream",
          "name": "stdout",
          "text": [
            "+---+------+\n",
            "|yoe|salary|\n",
            "+---+------+\n",
            "|  2|    15|\n",
            "|  3|    28|\n",
            "|  5|    42|\n",
            "| 13|    64|\n",
            "|  8|    50|\n",
            "| 16|    58|\n",
            "|  1|     8|\n",
            "|  9|    54|\n",
            "+---+------+\n",
            "\n"
          ]
        }
      ]
    },
    {
      "cell_type": "code",
      "source": [
        "raw_df.printSchema()"
      ],
      "metadata": {
        "colab": {
          "base_uri": "https://localhost:8080/"
        },
        "id": "v9QN3RT_8bBi",
        "outputId": "3632025b-b62d-4f92-d5d7-106aeb6126cd"
      },
      "execution_count": 55,
      "outputs": [
        {
          "output_type": "stream",
          "name": "stdout",
          "text": [
            "root\n",
            " |-- yoe: long (nullable = true)\n",
            " |-- salary: long (nullable = true)\n",
            "\n"
          ]
        }
      ]
    },
    {
      "cell_type": "code",
      "source": [
        "raw_df.withColumn('prediction',sparkf_lineareq(sparkf.col('yoe'),sparkf.lit(w1),sparkf.lit(b))).show()"
      ],
      "metadata": {
        "colab": {
          "base_uri": "https://localhost:8080/"
        },
        "id": "ET9zl77SxfaW",
        "outputId": "f2322e29-ebad-446f-f00f-8f7d8d15fd74"
      },
      "execution_count": 56,
      "outputs": [
        {
          "output_type": "stream",
          "name": "stdout",
          "text": [
            "+---+------+------------------+\n",
            "|yoe|salary|        prediction|\n",
            "+---+------+------------------+\n",
            "|  2|    15|22.017902145581555|\n",
            "|  3|    28|25.358148446073287|\n",
            "|  5|    42| 32.03864104705675|\n",
            "| 13|    64|58.760611450990595|\n",
            "|  8|    50| 42.05937994853194|\n",
            "| 16|    58|  68.7813503524658|\n",
            "|  1|     8|18.677655845089824|\n",
            "|  9|    54|45.399626249023676|\n",
            "+---+------+------------------+\n",
            "\n"
          ]
        }
      ]
    },
    {
      "cell_type": "code",
      "source": [
        ""
      ],
      "metadata": {
        "id": "uPZG1jz_xfXh"
      },
      "execution_count": 56,
      "outputs": []
    },
    {
      "cell_type": "code",
      "source": [
        ""
      ],
      "metadata": {
        "id": "s0Pnb_PrxfUY"
      },
      "execution_count": 56,
      "outputs": []
    },
    {
      "cell_type": "code",
      "metadata": {
        "collapsed": true,
        "id": "GsltUxZza2LE"
      },
      "source": [
        ""
      ],
      "execution_count": 56,
      "outputs": []
    }
  ]
}