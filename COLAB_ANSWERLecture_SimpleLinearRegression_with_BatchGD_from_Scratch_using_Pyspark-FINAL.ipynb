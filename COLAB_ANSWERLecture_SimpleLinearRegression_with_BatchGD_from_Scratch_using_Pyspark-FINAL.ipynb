{
  "nbformat": 4,
  "nbformat_minor": 0,
  "metadata": {
    "kernelspec": {
      "display_name": "Python 3",
      "language": "python",
      "name": "python3"
    },
    "language_info": {
      "codemirror_mode": {
        "name": "ipython",
        "version": 3
      },
      "file_extension": ".py",
      "mimetype": "text/x-python",
      "name": "python",
      "nbconvert_exporter": "python",
      "pygments_lexer": "ipython3",
      "version": "3.6.1"
    },
    "colab": {
      "name": "COLAB-NN_from_Scratch_using_Pyspark.ipynb",
      "provenance": [],
      "collapsed_sections": [
        "EQ2QjE8pa2K4",
        "NCd1UwPfa2LB"
      ],
      "include_colab_link": true
    }
  },
  "cells": [
    {
      "cell_type": "markdown",
      "metadata": {
        "id": "view-in-github",
        "colab_type": "text"
      },
      "source": [
        "<a href=\"https://colab.research.google.com/github/aekanun2020/2022-PSU-Data-Science-for-Tourism-Course2/blob/main/COLAB_ANSWERLecture_SimpleLinearRegression_with_BatchGD_from_Scratch_using_Pyspark-FINAL.ipynb\" target=\"_parent\"><img src=\"https://colab.research.google.com/assets/colab-badge.svg\" alt=\"Open In Colab\"/></a>"
      ]
    },
    {
      "cell_type": "code",
      "metadata": {
        "id": "0dTkA-bDa5bm"
      },
      "source": [
        "!apt-get install openjdk-8-jdk-headless -qq > /dev/null\n",
        "!wget -q https://archive.apache.org/dist/spark/spark-2.4.1/spark-2.4.1-bin-hadoop2.7.tgz\n",
        "!tar xf spark-2.4.1-bin-hadoop2.7.tgz\n",
        "!pip install -q findspark"
      ],
      "execution_count": 1,
      "outputs": []
    },
    {
      "cell_type": "code",
      "metadata": {
        "id": "cy4_WOqEa5GJ"
      },
      "source": [
        "import os\n",
        "os.environ[\"JAVA_HOME\"] = \"/usr/lib/jvm/java-8-openjdk-amd64\"\n",
        "os.environ[\"SPARK_HOME\"] = \"/content/spark-2.4.1-bin-hadoop2.7\""
      ],
      "execution_count": 2,
      "outputs": []
    },
    {
      "cell_type": "code",
      "metadata": {
        "id": "kI7zVpqja4du"
      },
      "source": [
        "import findspark\n",
        "findspark.init()\n",
        "from pyspark.sql import SparkSession\n",
        "spark = SparkSession.builder.master(\"local[*]\").getOrCreate()"
      ],
      "execution_count": 3,
      "outputs": []
    },
    {
      "cell_type": "code",
      "metadata": {
        "collapsed": true,
        "id": "gLOiqgf1a2Ku"
      },
      "source": [
        "from pyspark.sql import SparkSession"
      ],
      "execution_count": 4,
      "outputs": []
    },
    {
      "cell_type": "code",
      "metadata": {
        "collapsed": true,
        "id": "GBqMbCCxa2Kv"
      },
      "source": [
        "sc = spark.sparkContext"
      ],
      "execution_count": 5,
      "outputs": []
    },
    {
      "cell_type": "code",
      "metadata": {
        "id": "MjoDgjaja2Kv",
        "colab": {
          "base_uri": "https://localhost:8080/",
          "height": 210
        },
        "outputId": "9dbca6d2-b148-4916-9ca7-2fb81d1c6836"
      },
      "source": [
        "sc"
      ],
      "execution_count": 6,
      "outputs": [
        {
          "output_type": "execute_result",
          "data": {
            "text/html": [
              "\n",
              "        <div>\n",
              "            <p><b>SparkContext</b></p>\n",
              "\n",
              "            <p><a href=\"http://7a7bd92ef407:4040\">Spark UI</a></p>\n",
              "\n",
              "            <dl>\n",
              "              <dt>Version</dt>\n",
              "                <dd><code>v2.4.1</code></dd>\n",
              "              <dt>Master</dt>\n",
              "                <dd><code>local[*]</code></dd>\n",
              "              <dt>AppName</dt>\n",
              "                <dd><code>pyspark-shell</code></dd>\n",
              "            </dl>\n",
              "        </div>\n",
              "        "
            ],
            "text/plain": [
              "<SparkContext master=local[*] appName=pyspark-shell>"
            ]
          },
          "metadata": {},
          "execution_count": 6
        }
      ]
    },
    {
      "cell_type": "markdown",
      "metadata": {
        "id": "ny9-KLrFa2Kw"
      },
      "source": [
        "สร้างข้อมูลขึ้นมาเป็น Python's List of tuple แล้วให้ Spark ทำการ Load&Convert เป็น Spark's DataFrame"
      ]
    },
    {
      "cell_type": "code",
      "source": [
        "import numpy as np"
      ],
      "metadata": {
        "id": "EW1r9dFczMhn"
      },
      "execution_count": 7,
      "outputs": []
    },
    {
      "cell_type": "code",
      "metadata": {
        "collapsed": true,
        "id": "AW9nbKd9a2Kw"
      },
      "source": [
        "raw_df = spark.createDataFrame([(2,15)\\\n",
        "                                ,(3,28)\\\n",
        "                                ,(5,42)\\\n",
        "                                ,(13,64)\\\n",
        "                                ,(8,50)\\\n",
        "                                ,(16,90)\\\n",
        "                                ,(11,58)\\\n",
        "                                ,(1,8)\\\n",
        "                                ,(9,54)], \n",
        "                           ['yoe','salary'])"
      ],
      "execution_count": 8,
      "outputs": []
    },
    {
      "cell_type": "code",
      "metadata": {
        "id": "9UmmZAB_a2Kx",
        "colab": {
          "base_uri": "https://localhost:8080/"
        },
        "outputId": "6df6deba-db94-44e4-a062-c06d1929ad01"
      },
      "source": [
        "raw_df.show(20)"
      ],
      "execution_count": 9,
      "outputs": [
        {
          "output_type": "stream",
          "name": "stdout",
          "text": [
            "+---+------+\n",
            "|yoe|salary|\n",
            "+---+------+\n",
            "|  2|    15|\n",
            "|  3|    28|\n",
            "|  5|    42|\n",
            "| 13|    64|\n",
            "|  8|    50|\n",
            "| 16|    90|\n",
            "| 11|    58|\n",
            "|  1|     8|\n",
            "|  9|    54|\n",
            "+---+------+\n",
            "\n"
          ]
        }
      ]
    },
    {
      "cell_type": "markdown",
      "metadata": {
        "id": "v9MnNblOa2K0"
      },
      "source": [
        "แปลงจาก Spark’s DataFrame ไปเป็น Python Numpy’s Array."
      ]
    },
    {
      "cell_type": "code",
      "metadata": {
        "collapsed": true,
        "id": "lZClruLWa2K0"
      },
      "source": [
        "data_array = np.array(raw_df.collect())"
      ],
      "execution_count": 10,
      "outputs": []
    },
    {
      "cell_type": "markdown",
      "source": [
        "**Require: set of training instances D**"
      ],
      "metadata": {
        "id": "-b967vwOPHjt"
      }
    },
    {
      "cell_type": "code",
      "metadata": {
        "id": "WskuUp00a2K0",
        "colab": {
          "base_uri": "https://localhost:8080/"
        },
        "outputId": "29f6e290-ae3d-44b0-d706-f37d728304b8"
      },
      "source": [
        "data_array"
      ],
      "execution_count": 11,
      "outputs": [
        {
          "output_type": "execute_result",
          "data": {
            "text/plain": [
              "array([[ 2, 15],\n",
              "       [ 3, 28],\n",
              "       [ 5, 42],\n",
              "       [13, 64],\n",
              "       [ 8, 50],\n",
              "       [16, 90],\n",
              "       [11, 58],\n",
              "       [ 1,  8],\n",
              "       [ 9, 54]])"
            ]
          },
          "metadata": {},
          "execution_count": 11
        }
      ]
    },
    {
      "cell_type": "code",
      "metadata": {
        "id": "mF2ozwKaa2LB",
        "colab": {
          "base_uri": "https://localhost:8080/"
        },
        "outputId": "5ff7dbf0-5cda-44e4-cc48-f2a705e1e651"
      },
      "source": [
        "data_array.shape"
      ],
      "execution_count": 12,
      "outputs": [
        {
          "output_type": "execute_result",
          "data": {
            "text/plain": [
              "(9, 2)"
            ]
          },
          "metadata": {},
          "execution_count": 12
        }
      ]
    },
    {
      "cell_type": "markdown",
      "metadata": {
        "id": "YAdwwQHUa2K-"
      },
      "source": [
        "##### **Require: Random starting point in the weight space**"
      ]
    },
    {
      "cell_type": "code",
      "metadata": {
        "collapsed": true,
        "id": "Teu2zBITa2K-"
      },
      "source": [
        "np.random.seed(12345)"
      ],
      "execution_count": 13,
      "outputs": []
    },
    {
      "cell_type": "code",
      "metadata": {
        "collapsed": true,
        "id": "jVMn3p6Ja2K_"
      },
      "source": [
        "w1 = np.random.randn()\n",
        "w0 = np.random.randn()"
      ],
      "execution_count": 14,
      "outputs": []
    },
    {
      "cell_type": "code",
      "metadata": {
        "id": "VFvPYMGTa2K_",
        "colab": {
          "base_uri": "https://localhost:8080/"
        },
        "outputId": "47c73403-d3a5-49cb-ba72-42fbc5e9fb27"
      },
      "source": [
        "print(w1, w0)"
      ],
      "execution_count": 15,
      "outputs": [
        {
          "output_type": "stream",
          "name": "stdout",
          "text": [
            "-0.20470765948471295 0.47894333805754824\n"
          ]
        }
      ]
    },
    {
      "cell_type": "markdown",
      "source": [
        "**Require: a learning rate that controls how quickly the algorithm converges**"
      ],
      "metadata": {
        "id": "31TkxnDdH4bW"
      }
    },
    {
      "cell_type": "code",
      "metadata": {
        "collapsed": true,
        "id": "UvBXWRnsa2LC"
      },
      "source": [
        "learning_rate = 0.00000001"
      ],
      "execution_count": 16,
      "outputs": []
    },
    {
      "cell_type": "markdown",
      "source": [
        "กำหนดค่าเริ่มต้นอื่นๆ"
      ],
      "metadata": {
        "id": "4SKSbxM4fn3r"
      }
    },
    {
      "cell_type": "code",
      "source": [
        "all_errors = []\n",
        "multiple_deltaVal_w1_arr = np.array([])\n",
        "epoch = 500000"
      ],
      "metadata": {
        "id": "oqlkETORO1xg"
      },
      "execution_count": 17,
      "outputs": []
    },
    {
      "cell_type": "markdown",
      "source": [
        "Algorithm 4: Batch Gradient Descent"
      ],
      "metadata": {
        "id": "GtebyUDHfZMq"
      }
    },
    {
      "cell_type": "code",
      "metadata": {
        "collapsed": true,
        "id": "ghL8RTuta2LC"
      },
      "source": [
        "for i in range(epoch):\n",
        "  single_deltaVal_w0_arr = np.array([])\n",
        "  single_deltaVal_w1_arr = np.array([])\n",
        "\n",
        "  for obs in data_array:\n",
        "\n",
        "    d1 = obs[0]\n",
        "    target_var = obs[1]\n",
        "\n",
        "    ## (Candidate) Simple Linear Regression Model\n",
        "    pred_from_CandidateModel = w1*d1+w0  \n",
        "    \n",
        "    ## Require:\n",
        "    ## Optimization Algorithm: a function, errorDelta, that determines  \n",
        "    ##            the direction in which to adjust a given weight, w[j], \n",
        "    ##            so as to move down the slope of an error surface determined \n",
        "    ##            by the data, D.\n",
        "\n",
        "    ## Gradient of Error surface (Partial derivative of the error function with respect to weights on SINGLE training instances)\n",
        "    error_from_pred = (target_var-pred_from_CandidateModel)\n",
        "    single_deltaVal_w0_arr = np.append(single_deltaVal_w0_arr,error_from_pred*(-1))     ## The second parameter is equation 7.14\n",
        "    single_deltaVal_w1_arr = np.append(single_deltaVal_w1_arr,error_from_pred*d1*(-1))  ## The second parameter is equation 7.14   \n",
        "\n",
        "    ############################################################################\n",
        "\n",
        "  ## SSE\n",
        "  SSE_val = (single_deltaVal_w0_arr**2).sum()     ## SSE ในแต่ละ Epoch\n",
        "  all_errors.append(SSE_val)                      ## เก็บสะสม SSE จากแต่ละ Epoch ไว้ใน List\n",
        "\n",
        "  ## Gradient of Error surface (Partial derivative of the error function with respect to weights on MULTIPLE training instances)\n",
        "  multiple_deltaVal_w1_var = (single_deltaVal_w1_arr.sum()) ### The second parameter is equation 7.15\n",
        "  multiple_deltaVal_w0_var = (single_deltaVal_w0_arr.sum()) ### The second parameter is equation 7.15\n",
        "  multiple_deltaVal_w1_arr = np.append(multiple_deltaVal_w1_arr,multiple_deltaVal_w1_var) ## เก็บสะสม Gradient (Delta value) with w1  ของแต่ละ Epoch ไว้ใน Array\n",
        "\n",
        "  ## Gradient Descent Calculation ซึ่งมีการปรับค่า weight ในแต่ละ Epoch (1 Adjustment/Epoch)\n",
        "  w1 = w1 + ((-1)*(learning_rate) * multiple_deltaVal_w1_var) ### The (-1) is related to equation 7.16, and all is equation 7.17\n",
        "  w0 = w0 + ((-1)*(learning_rate) * multiple_deltaVal_w0_var) ### The (-1) is related to equation 7.16, and all is equation 7.17"
      ],
      "execution_count": 18,
      "outputs": []
    },
    {
      "cell_type": "code",
      "source": [
        "import matplotlib.pyplot as plt\n",
        "%matplotlib inline"
      ],
      "metadata": {
        "id": "lvhYLywqGg6G"
      },
      "execution_count": 19,
      "outputs": []
    },
    {
      "cell_type": "markdown",
      "source": [
        "เมื่อผ่านไปในแต่ละ Epoch แสดงให้เห็นว่า Error ลดต่ำลงเรื่อยๆ จนถึงจุด Global Minimum ซึ่ง Gradient เข้าใกล้ zero และได้ Error ที่ต่ำที่สุด"
      ],
      "metadata": {
        "id": "dAZ8W5OvheHB"
      }
    },
    {
      "cell_type": "code",
      "metadata": {
        "id": "mSmPD-Lta2LC",
        "colab": {
          "base_uri": "https://localhost:8080/",
          "height": 315
        },
        "outputId": "e4f6847d-2fe2-4b4a-b4c7-0e628931d3e0"
      },
      "source": [
        "plt.plot(all_errors)\n",
        "plt.title('SSE per Epoch')\n",
        "plt.xlabel('Epoch')\n",
        "plt.ylabel('Error')\n",
        "plt.show()"
      ],
      "execution_count": 20,
      "outputs": [
        {
          "output_type": "display_data",
          "data": {
            "image/png": "[encoded data removed]",
            "text/plain": [
              "<Figure size 432x288 with 1 Axes>"
            ]
          },
          "metadata": {
            "needs_background": "light"
          }
        }
      ]
    },
    {
      "cell_type": "code",
      "source": [
        "print('\\n multiple_deltaVal_w1_arr', multiple_deltaVal_w1_arr)\n",
        "import matplotlib.pyplot as plt\n",
        "%matplotlib inline\n",
        "#plt.plot(single_deltaVal_w1_arr,'b-o')\n",
        "plt.plot(multiple_deltaVal_w1_arr)\n",
        "plt.title('Gradient of Error surface per Epoch')\n",
        "plt.xlabel('Epochs')\n",
        "plt.ylabel('Gradient of Error surface')\n",
        "plt.show()"
      ],
      "metadata": {
        "colab": {
          "base_uri": "https://localhost:8080/",
          "height": 365
        },
        "id": "xYT-VdOZHIGH",
        "outputId": "2d4016d6-3b41-4fc7-9023-bc3c8c544cfb"
      },
      "execution_count": 21,
      "outputs": [
        {
          "output_type": "stream",
          "name": "stdout",
          "text": [
            "\n",
            " multiple_deltaVal_w1_arr [-4244.86844444 -4244.83717224 -4244.80590028 ...  -104.93853875\n",
            "  -104.93775142  -104.9369641 ]\n"
          ]
        },
        {
          "output_type": "display_data",
          "data": {
            "image/png": "[encoded data removed]",
            "text/plain": [
              "<Figure size 432x288 with 1 Axes>"
            ]
          },
          "metadata": {
            "needs_background": "light"
          }
        }
      ]
    },
    {
      "cell_type": "code",
      "metadata": {
        "id": "vidlkqFva2LC",
        "colab": {
          "base_uri": "https://localhost:8080/"
        },
        "outputId": "e2421a8d-6d3b-496d-d71b-c9d808c1ae0c"
      },
      "source": [
        "print('The final values of w1, and w0')\n",
        "print('---------------------------------')\n",
        "print('w1 = {}'.format(w1))\n",
        "\n",
        "print('w0  = {}'.format(w0))"
      ],
      "execution_count": 22,
      "outputs": [
        {
          "output_type": "stream",
          "name": "stdout",
          "text": [
            "The final values of w1, and w0\n",
            "---------------------------------\n",
            "w1 = 5.407489792584317\n",
            "w0  = 1.1117099209422643\n"
          ]
        }
      ]
    },
    {
      "cell_type": "code",
      "source": [
        "from pyspark.sql import functions as sparkf\n",
        "from pyspark.sql.types import *"
      ],
      "metadata": {
        "id": "4ENBBdwGxfc_"
      },
      "execution_count": 23,
      "outputs": []
    },
    {
      "cell_type": "code",
      "source": [
        "def lineareq(origi,m,b):\n",
        "  result = (origi*m)+b\n",
        "  return result\n",
        "sparkf_lineareq = sparkf.udf(lambda x,m,b: lineareq(x,m,b))"
      ],
      "metadata": {
        "id": "W2aFWv7qyRbM"
      },
      "execution_count": 24,
      "outputs": []
    },
    {
      "cell_type": "code",
      "source": [
        "raw_df.show()"
      ],
      "metadata": {
        "colab": {
          "base_uri": "https://localhost:8080/"
        },
        "id": "U12GCGUO7zYO",
        "outputId": "50a20088-57ca-45b1-8fb8-af1a7880c6fd"
      },
      "execution_count": 25,
      "outputs": [
        {
          "output_type": "stream",
          "name": "stdout",
          "text": [
            "+---+------+\n",
            "|yoe|salary|\n",
            "+---+------+\n",
            "|  2|    15|\n",
            "|  3|    28|\n",
            "|  5|    42|\n",
            "| 13|    64|\n",
            "|  8|    50|\n",
            "| 16|    90|\n",
            "| 11|    58|\n",
            "|  1|     8|\n",
            "|  9|    54|\n",
            "+---+------+\n",
            "\n"
          ]
        }
      ]
    },
    {
      "cell_type": "code",
      "source": [
        "raw_df.printSchema()"
      ],
      "metadata": {
        "colab": {
          "base_uri": "https://localhost:8080/"
        },
        "id": "v9QN3RT_8bBi",
        "outputId": "991ca4cb-80b2-4df7-de08-1d06a2f59107"
      },
      "execution_count": 26,
      "outputs": [
        {
          "output_type": "stream",
          "name": "stdout",
          "text": [
            "root\n",
            " |-- yoe: long (nullable = true)\n",
            " |-- salary: long (nullable = true)\n",
            "\n"
          ]
        }
      ]
    },
    {
      "cell_type": "code",
      "source": [
        "result_df = raw_df.withColumn('prediction',sparkf_lineareq(sparkf.col('yoe'),sparkf.lit(w1),sparkf.lit(w0)))"
      ],
      "metadata": {
        "id": "ET9zl77SxfaW"
      },
      "execution_count": 27,
      "outputs": []
    },
    {
      "cell_type": "code",
      "source": [
        "result_df.show()"
      ],
      "metadata": {
        "id": "HIW3e6CnGkeM",
        "outputId": "acf60325-3a88-4c4d-a347-2db6746b2ae6",
        "colab": {
          "base_uri": "https://localhost:8080/"
        }
      },
      "execution_count": 28,
      "outputs": [
        {
          "output_type": "stream",
          "name": "stdout",
          "text": [
            "+---+------+------------------+\n",
            "|yoe|salary|        prediction|\n",
            "+---+------+------------------+\n",
            "|  2|    15|11.926689506110899|\n",
            "|  3|    28|17.334179298695215|\n",
            "|  5|    42| 28.14915888386385|\n",
            "| 13|    64| 71.40907722453838|\n",
            "|  8|    50|44.371628261616806|\n",
            "| 16|    90| 87.63154660229134|\n",
            "| 11|    58| 60.59409763936976|\n",
            "|  1|     8| 6.519199713526581|\n",
            "|  9|    54| 49.77911805420112|\n",
            "+---+------+------------------+\n",
            "\n"
          ]
        }
      ]
    },
    {
      "cell_type": "code",
      "source": [
        "result_df.withColumn('Error',sparkf.col('salary')-sparkf.col('prediction'))\\\n",
        ".withColumn('square of Error',sparkf.col('Error')**2).show()"
      ],
      "metadata": {
        "id": "uPZG1jz_xfXh",
        "outputId": "753f8336-6b82-46d8-c406-7ecaf62092de",
        "colab": {
          "base_uri": "https://localhost:8080/"
        }
      },
      "execution_count": 29,
      "outputs": [
        {
          "output_type": "stream",
          "name": "stdout",
          "text": [
            "+---+------+------------------+------------------+------------------+\n",
            "|yoe|salary|        prediction|             Error|   square of Error|\n",
            "+---+------+------------------+------------------+------------------+\n",
            "|  2|    15|11.926689506110899|3.0733104938891014| 9.445237391848872|\n",
            "|  3|    28|17.334179298695215|10.665820701304785| 113.7597312323817|\n",
            "|  5|    42| 28.14915888386385|13.850841116136149|191.84579962444766|\n",
            "| 13|    64| 71.40907722453838|-7.409077224538379| 54.89442531917333|\n",
            "|  8|    50|44.371628261616806| 5.628371738383194|31.678568425430658|\n",
            "| 16|    90| 87.63154660229134| 2.368453397708663|  5.60957149711771|\n",
            "| 11|    58| 60.59409763936976|-2.594097639369757| 6.729342562583745|\n",
            "|  1|     8| 6.519199713526581|1.4808002864734187|2.1927694884197586|\n",
            "|  9|    54| 49.77911805420112|4.2208819457988795|17.815844400370935|\n",
            "+---+------+------------------+------------------+------------------+\n",
            "\n"
          ]
        }
      ]
    },
    {
      "cell_type": "markdown",
      "source": [
        "แสดง SSE จากการ Prediction บน training set ทั้งหมด ด้วย optimized weight"
      ],
      "metadata": {
        "id": "Re6n42fniQp6"
      }
    },
    {
      "cell_type": "code",
      "metadata": {
        "collapsed": true,
        "id": "GsltUxZza2LE",
        "outputId": "b9c17597-9921-43c8-f9d9-7a1496f916c2",
        "colab": {
          "base_uri": "https://localhost:8080/"
        }
      },
      "source": [
        "result_df.withColumn('Error',sparkf.col('salary')-sparkf.col('prediction'))\\\n",
        ".withColumn('square of Error',sparkf.col('Error')**2)\\\n",
        ".agg(sparkf.sum(sparkf.col('square of Error')).alias('SSE')).show()"
      ],
      "execution_count": 30,
      "outputs": [
        {
          "output_type": "stream",
          "name": "stdout",
          "text": [
            "+------------------+\n",
            "|               SSE|\n",
            "+------------------+\n",
            "|433.97128994177433|\n",
            "+------------------+\n",
            "\n"
          ]
        }
      ]
    },
    {
      "cell_type": "code",
      "source": [
        "multiple_deltaVal_w1_arr.min()"
      ],
      "metadata": {
        "id": "kHGZoombt2qj",
        "outputId": "c1cbf88b-eb35-4017-c056-24f477c943ed",
        "colab": {
          "base_uri": "https://localhost:8080/"
        }
      },
      "execution_count": 31,
      "outputs": [
        {
          "output_type": "execute_result",
          "data": {
            "text/plain": [
              "-4244.868444435927"
            ]
          },
          "metadata": {},
          "execution_count": 31
        }
      ]
    },
    {
      "cell_type": "markdown",
      "source": [
        "แสดง Gradient ที่เข้าใกล้ศูนย์"
      ],
      "metadata": {
        "id": "leGPA0mBiCIe"
      }
    },
    {
      "cell_type": "code",
      "source": [
        "(multiple_deltaVal_w1_arr*-1).min()"
      ],
      "metadata": {
        "id": "NJn5GyEKv25c",
        "colab": {
          "base_uri": "https://localhost:8080/"
        },
        "outputId": "3a2689a1-c159-468e-84e0-c85a712b3950"
      },
      "execution_count": 32,
      "outputs": [
        {
          "output_type": "execute_result",
          "data": {
            "text/plain": [
              "104.93696410326996"
            ]
          },
          "metadata": {},
          "execution_count": 32
        }
      ]
    },
    {
      "cell_type": "markdown",
      "source": [
        "แสดง Error ที่ต่ำที่สุด"
      ],
      "metadata": {
        "id": "kDXrit7gh9ne"
      }
    },
    {
      "cell_type": "code",
      "source": [
        "min(all_errors)"
      ],
      "metadata": {
        "colab": {
          "base_uri": "https://localhost:8080/"
        },
        "id": "fwfOo2-iST80",
        "outputId": "2365d630-45b7-4259-bd96-cc4442f3d886"
      },
      "execution_count": 33,
      "outputs": [
        {
          "output_type": "execute_result",
          "data": {
            "text/plain": [
              "433.97152975175254"
            ]
          },
          "metadata": {},
          "execution_count": 33
        }
      ]
    },
    {
      "cell_type": "code",
      "source": [
        ""
      ],
      "metadata": {
        "id": "ZSkSMi_xSp7q"
      },
      "execution_count": 33,
      "outputs": []
    }
  ]
}