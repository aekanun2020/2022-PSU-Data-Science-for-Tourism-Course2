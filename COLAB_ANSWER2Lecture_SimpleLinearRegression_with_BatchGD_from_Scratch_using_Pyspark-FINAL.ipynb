{
  "nbformat": 4,
  "nbformat_minor": 0,
  "metadata": {
    "kernelspec": {
      "display_name": "Python 3",
      "language": "python",
      "name": "python3"
    },
    "language_info": {
      "codemirror_mode": {
        "name": "ipython",
        "version": 3
      },
      "file_extension": ".py",
      "mimetype": "text/x-python",
      "name": "python",
      "nbconvert_exporter": "python",
      "pygments_lexer": "ipython3",
      "version": "3.6.1"
    },
    "colab": {
      "name": "COLAB-NN_from_Scratch_using_Pyspark.ipynb",
      "provenance": [],
      "collapsed_sections": [
        "EQ2QjE8pa2K4",
        "NCd1UwPfa2LB"
      ],
      "include_colab_link": true
    }
  },
  "cells": [
    {
      "cell_type": "markdown",
      "metadata": {
        "id": "view-in-github",
        "colab_type": "text"
      },
      "source": [
        "<a href=\"https://colab.research.google.com/github/aekanun2020/2022-PSU-Data-Science-for-Tourism-Course2/blob/main/COLAB_ANSWER2Lecture_SimpleLinearRegression_with_BatchGD_from_Scratch_using_Pyspark-FINAL.ipynb\" target=\"_parent\"><img src=\"https://colab.research.google.com/assets/colab-badge.svg\" alt=\"Open In Colab\"/></a>"
      ]
    },
    {
      "cell_type": "code",
      "metadata": {
        "id": "0dTkA-bDa5bm"
      },
      "source": [
        "!apt-get install openjdk-8-jdk-headless -qq > /dev/null\n",
        "!wget -q https://archive.apache.org/dist/spark/spark-2.4.1/spark-2.4.1-bin-hadoop2.7.tgz\n",
        "!tar xf spark-2.4.1-bin-hadoop2.7.tgz\n",
        "!pip install -q findspark"
      ],
      "execution_count": 34,
      "outputs": []
    },
    {
      "cell_type": "code",
      "metadata": {
        "id": "cy4_WOqEa5GJ"
      },
      "source": [
        "import os\n",
        "os.environ[\"JAVA_HOME\"] = \"/usr/lib/jvm/java-8-openjdk-amd64\"\n",
        "os.environ[\"SPARK_HOME\"] = \"/content/spark-2.4.1-bin-hadoop2.7\""
      ],
      "execution_count": 35,
      "outputs": []
    },
    {
      "cell_type": "code",
      "metadata": {
        "id": "kI7zVpqja4du"
      },
      "source": [
        "import findspark\n",
        "findspark.init()\n",
        "from pyspark.sql import SparkSession\n",
        "spark = SparkSession.builder.master(\"local[*]\").getOrCreate()"
      ],
      "execution_count": 36,
      "outputs": []
    },
    {
      "cell_type": "code",
      "metadata": {
        "collapsed": true,
        "id": "gLOiqgf1a2Ku"
      },
      "source": [
        "from pyspark.sql import SparkSession"
      ],
      "execution_count": 37,
      "outputs": []
    },
    {
      "cell_type": "code",
      "metadata": {
        "collapsed": true,
        "id": "GBqMbCCxa2Kv"
      },
      "source": [
        "sc = spark.sparkContext"
      ],
      "execution_count": 38,
      "outputs": []
    },
    {
      "cell_type": "code",
      "metadata": {
        "id": "MjoDgjaja2Kv",
        "colab": {
          "base_uri": "https://localhost:8080/",
          "height": 210
        },
        "outputId": "4330f59e-f67d-46a8-8d62-6df2a61685d2"
      },
      "source": [
        "sc"
      ],
      "execution_count": 39,
      "outputs": [
        {
          "output_type": "execute_result",
          "data": {
            "text/html": [
              "\n",
              "        <div>\n",
              "            <p><b>SparkContext</b></p>\n",
              "\n",
              "            <p><a href=\"http://7a7bd92ef407:4040\">Spark UI</a></p>\n",
              "\n",
              "            <dl>\n",
              "              <dt>Version</dt>\n",
              "                <dd><code>v2.4.1</code></dd>\n",
              "              <dt>Master</dt>\n",
              "                <dd><code>local[*]</code></dd>\n",
              "              <dt>AppName</dt>\n",
              "                <dd><code>pyspark-shell</code></dd>\n",
              "            </dl>\n",
              "        </div>\n",
              "        "
            ],
            "text/plain": [
              "<SparkContext master=local[*] appName=pyspark-shell>"
            ]
          },
          "metadata": {},
          "execution_count": 39
        }
      ]
    },
    {
      "cell_type": "markdown",
      "metadata": {
        "id": "ny9-KLrFa2Kw"
      },
      "source": [
        "สร้างข้อมูลขึ้นมาเป็น Python's List of tuple แล้วให้ Spark ทำการ Load&Convert เป็น Spark's DataFrame"
      ]
    },
    {
      "cell_type": "code",
      "source": [
        "import numpy as np"
      ],
      "metadata": {
        "id": "EW1r9dFczMhn"
      },
      "execution_count": 40,
      "outputs": []
    },
    {
      "cell_type": "code",
      "metadata": {
        "collapsed": true,
        "id": "AW9nbKd9a2Kw"
      },
      "source": [
        "raw_df = spark.createDataFrame([(2,15)\\\n",
        "                                ,(3,28)\\\n",
        "                                ,(5,42)\\\n",
        "                                ,(13,64)\\\n",
        "                                ,(8,50)\\\n",
        "                                ,(16,90)\\\n",
        "                                ,(11,58)\\\n",
        "                                ,(1,8)\\\n",
        "                                ,(9,54)], \n",
        "                           ['yoe','salary'])"
      ],
      "execution_count": 41,
      "outputs": []
    },
    {
      "cell_type": "code",
      "metadata": {
        "id": "9UmmZAB_a2Kx",
        "colab": {
          "base_uri": "https://localhost:8080/"
        },
        "outputId": "48ad0ae1-a7e0-4df8-f468-ad893a47b591"
      },
      "source": [
        "raw_df.show(20)"
      ],
      "execution_count": 42,
      "outputs": [
        {
          "output_type": "stream",
          "name": "stdout",
          "text": [
            "+---+------+\n",
            "|yoe|salary|\n",
            "+---+------+\n",
            "|  2|    15|\n",
            "|  3|    28|\n",
            "|  5|    42|\n",
            "| 13|    64|\n",
            "|  8|    50|\n",
            "| 16|    90|\n",
            "| 11|    58|\n",
            "|  1|     8|\n",
            "|  9|    54|\n",
            "+---+------+\n",
            "\n"
          ]
        }
      ]
    },
    {
      "cell_type": "markdown",
      "metadata": {
        "id": "v9MnNblOa2K0"
      },
      "source": [
        "แปลงจาก Spark’s DataFrame ไปเป็น Python Numpy’s Array."
      ]
    },
    {
      "cell_type": "code",
      "metadata": {
        "collapsed": true,
        "id": "lZClruLWa2K0"
      },
      "source": [
        "data_array = np.array(raw_df.collect())"
      ],
      "execution_count": 43,
      "outputs": []
    },
    {
      "cell_type": "markdown",
      "source": [
        "**Require: set of training instances D**"
      ],
      "metadata": {
        "id": "-b967vwOPHjt"
      }
    },
    {
      "cell_type": "code",
      "metadata": {
        "id": "WskuUp00a2K0",
        "colab": {
          "base_uri": "https://localhost:8080/"
        },
        "outputId": "08c26161-3f2f-44e4-b539-aab487e58aac"
      },
      "source": [
        "data_array"
      ],
      "execution_count": 44,
      "outputs": [
        {
          "output_type": "execute_result",
          "data": {
            "text/plain": [
              "array([[ 2, 15],\n",
              "       [ 3, 28],\n",
              "       [ 5, 42],\n",
              "       [13, 64],\n",
              "       [ 8, 50],\n",
              "       [16, 90],\n",
              "       [11, 58],\n",
              "       [ 1,  8],\n",
              "       [ 9, 54]])"
            ]
          },
          "metadata": {},
          "execution_count": 44
        }
      ]
    },
    {
      "cell_type": "code",
      "metadata": {
        "id": "mF2ozwKaa2LB",
        "colab": {
          "base_uri": "https://localhost:8080/"
        },
        "outputId": "52523a24-2bc3-46e5-e3f0-cf7463d2d050"
      },
      "source": [
        "data_array.shape"
      ],
      "execution_count": 45,
      "outputs": [
        {
          "output_type": "execute_result",
          "data": {
            "text/plain": [
              "(9, 2)"
            ]
          },
          "metadata": {},
          "execution_count": 45
        }
      ]
    },
    {
      "cell_type": "markdown",
      "metadata": {
        "id": "YAdwwQHUa2K-"
      },
      "source": [
        "##### **Require: Random starting point in the weight space**"
      ]
    },
    {
      "cell_type": "code",
      "metadata": {
        "collapsed": true,
        "id": "Teu2zBITa2K-"
      },
      "source": [
        "np.random.seed(12345)"
      ],
      "execution_count": 46,
      "outputs": []
    },
    {
      "cell_type": "code",
      "metadata": {
        "collapsed": true,
        "id": "jVMn3p6Ja2K_"
      },
      "source": [
        "w1 = np.random.randn()\n",
        "w0 = np.random.randn()"
      ],
      "execution_count": 47,
      "outputs": []
    },
    {
      "cell_type": "code",
      "metadata": {
        "id": "VFvPYMGTa2K_",
        "colab": {
          "base_uri": "https://localhost:8080/"
        },
        "outputId": "003acad8-cf8d-4ffa-952b-e0b0cff10fe3"
      },
      "source": [
        "print(w1, w0)"
      ],
      "execution_count": 48,
      "outputs": [
        {
          "output_type": "stream",
          "name": "stdout",
          "text": [
            "-0.20470765948471295 0.47894333805754824\n"
          ]
        }
      ]
    },
    {
      "cell_type": "markdown",
      "source": [
        "**Require: a learning rate that controls how quickly the algorithm converges**"
      ],
      "metadata": {
        "id": "31TkxnDdH4bW"
      }
    },
    {
      "cell_type": "code",
      "metadata": {
        "collapsed": true,
        "id": "UvBXWRnsa2LC"
      },
      "source": [
        "learning_rate = 0.00000001"
      ],
      "execution_count": 49,
      "outputs": []
    },
    {
      "cell_type": "markdown",
      "source": [
        "กำหนดค่าเริ่มต้นอื่นๆ"
      ],
      "metadata": {
        "id": "4SKSbxM4fn3r"
      }
    },
    {
      "cell_type": "code",
      "source": [
        "all_errors = []\n",
        "multiple_deltaVal_w1_arr = np.array([])\n",
        "epoch = 100000"
      ],
      "metadata": {
        "id": "oqlkETORO1xg"
      },
      "execution_count": 50,
      "outputs": []
    },
    {
      "cell_type": "markdown",
      "source": [
        "Algorithm 4: Batch Gradient Descent"
      ],
      "metadata": {
        "id": "GtebyUDHfZMq"
      }
    },
    {
      "cell_type": "code",
      "metadata": {
        "collapsed": true,
        "id": "ghL8RTuta2LC"
      },
      "source": [
        "for i in range(epoch):\n",
        "  single_deltaVal_w0_arr = np.array([])\n",
        "  single_deltaVal_w1_arr = np.array([])\n",
        "\n",
        "  for obs in data_array:\n",
        "\n",
        "    d1 = obs[0]\n",
        "    target_var = obs[1]\n",
        "\n",
        "    ## (Candidate) Simple Linear Regression Model\n",
        "    pred_from_CandidateModel = w1*d1+w0  \n",
        "    \n",
        "    ## Require:\n",
        "    ## Optimization Algorithm: a function, errorDelta, that determines  \n",
        "    ##            the direction in which to adjust a given weight, w[j], \n",
        "    ##            so as to move down the slope of an error surface determined \n",
        "    ##            by the data, D.\n",
        "\n",
        "    ## Gradient of Error surface (Partial derivative of the error function with respect to weights on SINGLE training instances)\n",
        "    error_from_pred = (target_var-pred_from_CandidateModel)\n",
        "    single_deltaVal_w0_arr = np.append(single_deltaVal_w0_arr,error_from_pred*(-1))     ## The second parameter is equation 7.14\n",
        "    single_deltaVal_w1_arr = np.append(single_deltaVal_w1_arr,error_from_pred*d1*(-1))  ## The second parameter is equation 7.14   \n",
        "\n",
        "    ############################################################################\n",
        "\n",
        "  ## SSE\n",
        "  SSE_val = (single_deltaVal_w0_arr**2).sum()     ## SSE ในแต่ละ Epoch\n",
        "  all_errors.append(SSE_val)                      ## เก็บสะสม SSE จากแต่ละ Epoch ไว้ใน List\n",
        "\n",
        "  ## Gradient of Error surface (Partial derivative of the error function with respect to weights on MULTIPLE training instances)\n",
        "  multiple_deltaVal_w1_var = (single_deltaVal_w1_arr.sum()) ### The second parameter is equation 7.15\n",
        "  multiple_deltaVal_w0_var = (single_deltaVal_w0_arr.sum()) ### The second parameter is equation 7.15\n",
        "  multiple_deltaVal_w1_arr = np.append(multiple_deltaVal_w1_arr,multiple_deltaVal_w1_var) ## เก็บสะสม Gradient (Delta value) with w1  ของแต่ละ Epoch ไว้ใน Array\n",
        "\n",
        "  ## Gradient Descent Calculation ซึ่งมีการปรับค่า weight ในแต่ละ Epoch (1 Adjustment/Epoch)\n",
        "  w1 = w1 + ((-1)*(learning_rate) * multiple_deltaVal_w1_var) ### The (-1) is related to equation 7.16, and all is equation 7.17\n",
        "  w0 = w0 + ((-1)*(learning_rate) * multiple_deltaVal_w0_var) ### The (-1) is related to equation 7.16, and all is equation 7.17"
      ],
      "execution_count": 51,
      "outputs": []
    },
    {
      "cell_type": "code",
      "source": [
        "import matplotlib.pyplot as plt\n",
        "%matplotlib inline"
      ],
      "metadata": {
        "id": "lvhYLywqGg6G"
      },
      "execution_count": 52,
      "outputs": []
    },
    {
      "cell_type": "markdown",
      "source": [
        "เมื่อผ่านไปในแต่ละ Epoch แสดงให้เห็นว่า Error ลดต่ำลงเรื่อยๆ จนถึงจุด Global Minimum ซึ่ง Gradient เข้าใกล้ zero และได้ Error ที่ต่ำที่สุด"
      ],
      "metadata": {
        "id": "dAZ8W5OvheHB"
      }
    },
    {
      "cell_type": "code",
      "metadata": {
        "id": "mSmPD-Lta2LC",
        "colab": {
          "base_uri": "https://localhost:8080/",
          "height": 315
        },
        "outputId": "da2631ba-a2c1-4d28-c1d8-56828609f915"
      },
      "source": [
        "plt.plot(all_errors)\n",
        "plt.title('SSE per Epoch')\n",
        "plt.xlabel('Epoch')\n",
        "plt.ylabel('Error')\n",
        "plt.show()"
      ],
      "execution_count": 53,
      "outputs": [
        {
          "output_type": "display_data",
          "data": {
            "image/png": "[encoded data removed]",
            "text/plain": [
              "<Figure size 432x288 with 1 Axes>"
            ]
          },
          "metadata": {
            "needs_background": "light"
          }
        }
      ]
    },
    {
      "cell_type": "code",
      "source": [
        "print('\\n multiple_deltaVal_w1_arr', multiple_deltaVal_w1_arr)\n",
        "import matplotlib.pyplot as plt\n",
        "%matplotlib inline\n",
        "#plt.plot(single_deltaVal_w1_arr,'b-o')\n",
        "plt.plot(multiple_deltaVal_w1_arr)\n",
        "plt.title('Gradient of Error surface per Epoch')\n",
        "plt.xlabel('Epochs')\n",
        "plt.ylabel('Gradient of Error surface')\n",
        "plt.show()"
      ],
      "metadata": {
        "colab": {
          "base_uri": "https://localhost:8080/",
          "height": 365
        },
        "id": "xYT-VdOZHIGH",
        "outputId": "0a0ce94e-dc10-47ab-96be-efa2022eda9f"
      },
      "execution_count": 54,
      "outputs": [
        {
          "output_type": "stream",
          "name": "stdout",
          "text": [
            "\n",
            " multiple_deltaVal_w1_arr [-4244.86844444 -4244.83717224 -4244.80590028 ... -2031.67056129\n",
            " -2031.65558618 -2031.64061118]\n"
          ]
        },
        {
          "output_type": "display_data",
          "data": {
            "image/png": "[encoded data removed]",
            "text/plain": [
              "<Figure size 432x288 with 1 Axes>"
            ]
          },
          "metadata": {
            "needs_background": "light"
          }
        }
      ]
    },
    {
      "cell_type": "code",
      "metadata": {
        "id": "vidlkqFva2LC",
        "colab": {
          "base_uri": "https://localhost:8080/"
        },
        "outputId": "7808d1bf-18be-4a77-b636-a47ddc9872d8"
      },
      "source": [
        "print('The final values of w1, and w0')\n",
        "print('---------------------------------')\n",
        "print('w1 = {}'.format(w1))\n",
        "\n",
        "print('w0  = {}'.format(w0))"
      ],
      "execution_count": 55,
      "outputs": [
        {
          "output_type": "stream",
          "name": "stdout",
          "text": [
            "The final values of w1, and w0\n",
            "---------------------------------\n",
            "w1 = 2.798949886395086\n",
            "w0  = 0.7814845094657518\n"
          ]
        }
      ]
    },
    {
      "cell_type": "code",
      "source": [
        "from pyspark.sql import functions as sparkf\n",
        "from pyspark.sql.types import *"
      ],
      "metadata": {
        "id": "4ENBBdwGxfc_"
      },
      "execution_count": 56,
      "outputs": []
    },
    {
      "cell_type": "code",
      "source": [
        "def lineareq(origi,m,b):\n",
        "  result = (origi*m)+b\n",
        "  return result\n",
        "sparkf_lineareq = sparkf.udf(lambda x,m,b: lineareq(x,m,b))"
      ],
      "metadata": {
        "id": "W2aFWv7qyRbM"
      },
      "execution_count": 57,
      "outputs": []
    },
    {
      "cell_type": "code",
      "source": [
        "raw_df.show()"
      ],
      "metadata": {
        "colab": {
          "base_uri": "https://localhost:8080/"
        },
        "id": "U12GCGUO7zYO",
        "outputId": "2250c2d5-32c4-4ea7-cb7a-74c283516bcd"
      },
      "execution_count": 58,
      "outputs": [
        {
          "output_type": "stream",
          "name": "stdout",
          "text": [
            "+---+------+\n",
            "|yoe|salary|\n",
            "+---+------+\n",
            "|  2|    15|\n",
            "|  3|    28|\n",
            "|  5|    42|\n",
            "| 13|    64|\n",
            "|  8|    50|\n",
            "| 16|    90|\n",
            "| 11|    58|\n",
            "|  1|     8|\n",
            "|  9|    54|\n",
            "+---+------+\n",
            "\n"
          ]
        }
      ]
    },
    {
      "cell_type": "code",
      "source": [
        "raw_df.printSchema()"
      ],
      "metadata": {
        "colab": {
          "base_uri": "https://localhost:8080/"
        },
        "id": "v9QN3RT_8bBi",
        "outputId": "ea823855-1d3a-461a-f2ba-99a7cca0ac03"
      },
      "execution_count": 59,
      "outputs": [
        {
          "output_type": "stream",
          "name": "stdout",
          "text": [
            "root\n",
            " |-- yoe: long (nullable = true)\n",
            " |-- salary: long (nullable = true)\n",
            "\n"
          ]
        }
      ]
    },
    {
      "cell_type": "code",
      "source": [
        "result_df = raw_df.withColumn('prediction',sparkf_lineareq(sparkf.col('yoe'),sparkf.lit(w1),sparkf.lit(w0)))"
      ],
      "metadata": {
        "id": "ET9zl77SxfaW"
      },
      "execution_count": 60,
      "outputs": []
    },
    {
      "cell_type": "code",
      "source": [
        "result_df.show()"
      ],
      "metadata": {
        "id": "HIW3e6CnGkeM",
        "outputId": "394eb9a9-917f-4113-941d-0cbd4cf07249",
        "colab": {
          "base_uri": "https://localhost:8080/"
        }
      },
      "execution_count": 61,
      "outputs": [
        {
          "output_type": "stream",
          "name": "stdout",
          "text": [
            "+---+------+------------------+\n",
            "|yoe|salary|        prediction|\n",
            "+---+------+------------------+\n",
            "|  2|    15| 6.379384282255924|\n",
            "|  3|    28| 9.178334168651011|\n",
            "|  5|    42|14.776233941441182|\n",
            "| 13|    64| 37.16783303260187|\n",
            "|  8|    50| 23.17308360062644|\n",
            "| 16|    90| 45.56468269178713|\n",
            "| 11|    58|31.569933259811698|\n",
            "|  1|     8| 3.580434395860838|\n",
            "|  9|    54|25.972033487021527|\n",
            "+---+------+------------------+\n",
            "\n"
          ]
        }
      ]
    },
    {
      "cell_type": "code",
      "source": [
        "result_df.withColumn('Error',sparkf.col('salary')-sparkf.col('prediction'))\\\n",
        ".withColumn('square of Error',sparkf.col('Error')**2).show()"
      ],
      "metadata": {
        "id": "uPZG1jz_xfXh",
        "outputId": "3a285e25-25a6-4b20-e02e-42bc8cadac67",
        "colab": {
          "base_uri": "https://localhost:8080/"
        }
      },
      "execution_count": 62,
      "outputs": [
        {
          "output_type": "stream",
          "name": "stdout",
          "text": [
            "+---+------+------------------+------------------+------------------+\n",
            "|yoe|salary|        prediction|             Error|   square of Error|\n",
            "+---+------+------------------+------------------+------------------+\n",
            "|  2|    15| 6.379384282255924| 8.620615717744077| 74.31501535301622|\n",
            "|  3|    28| 9.178334168651011|18.821665831348987|354.25510466696994|\n",
            "|  5|    42|14.776233941441182|27.223766058558816|  741.133438411139|\n",
            "| 13|    64| 37.16783303260187| 26.83216696739813| 719.9651841663314|\n",
            "|  8|    50| 23.17308360062644| 26.82691639937356|  719.683443498978|\n",
            "| 16|    90| 45.56468269178713| 44.43531730821287|1974.4974242815626|\n",
            "| 11|    58|31.569933259811698|26.430066740188302|  698.548427890808|\n",
            "|  1|     8| 3.580434395860838| 4.419565604139162| 19.53256012928996|\n",
            "|  9|    54|25.972033487021527|28.027966512978473| 785.5669068526427|\n",
            "+---+------+------------------+------------------+------------------+\n",
            "\n"
          ]
        }
      ]
    },
    {
      "cell_type": "markdown",
      "source": [
        "แสดง SSE จากการ Prediction บน training set ทั้งหมด ด้วย optimized weight"
      ],
      "metadata": {
        "id": "Re6n42fniQp6"
      }
    },
    {
      "cell_type": "code",
      "metadata": {
        "collapsed": true,
        "id": "GsltUxZza2LE",
        "outputId": "6afad8ce-3fdd-408a-a7d6-a45f309eb9cf",
        "colab": {
          "base_uri": "https://localhost:8080/"
        }
      },
      "source": [
        "result_df.withColumn('Error',sparkf.col('salary')-sparkf.col('prediction'))\\\n",
        ".withColumn('square of Error',sparkf.col('Error')**2)\\\n",
        ".agg(sparkf.sum(sparkf.col('square of Error')).alias('SSE')).show()"
      ],
      "execution_count": 63,
      "outputs": [
        {
          "output_type": "stream",
          "name": "stdout",
          "text": [
            "+-----------------+\n",
            "|              SSE|\n",
            "+-----------------+\n",
            "|6087.497505250738|\n",
            "+-----------------+\n",
            "\n"
          ]
        }
      ]
    },
    {
      "cell_type": "code",
      "source": [
        "multiple_deltaVal_w1_arr.min()"
      ],
      "metadata": {
        "id": "kHGZoombt2qj",
        "outputId": "984c6e41-97f7-4fa7-c6cd-4efd670cf18c",
        "colab": {
          "base_uri": "https://localhost:8080/"
        }
      },
      "execution_count": 64,
      "outputs": [
        {
          "output_type": "execute_result",
          "data": {
            "text/plain": [
              "-4244.868444435927"
            ]
          },
          "metadata": {},
          "execution_count": 64
        }
      ]
    },
    {
      "cell_type": "markdown",
      "source": [
        "แสดง Gradient ที่เข้าใกล้ศูนย์"
      ],
      "metadata": {
        "id": "leGPA0mBiCIe"
      }
    },
    {
      "cell_type": "code",
      "source": [
        "(multiple_deltaVal_w1_arr*-1).min()"
      ],
      "metadata": {
        "id": "NJn5GyEKv25c",
        "colab": {
          "base_uri": "https://localhost:8080/"
        },
        "outputId": "65a3d303-a619-4799-b9a2-ce860f655511"
      },
      "execution_count": 65,
      "outputs": [
        {
          "output_type": "execute_result",
          "data": {
            "text/plain": [
              "2031.6406111792019"
            ]
          },
          "metadata": {},
          "execution_count": 65
        }
      ]
    },
    {
      "cell_type": "markdown",
      "source": [
        "แสดง Error ที่ต่ำที่สุด"
      ],
      "metadata": {
        "id": "kDXrit7gh9ne"
      }
    },
    {
      "cell_type": "code",
      "source": [
        "min(all_errors)"
      ],
      "metadata": {
        "colab": {
          "base_uri": "https://localhost:8080/"
        },
        "id": "fwfOo2-iST80",
        "outputId": "4b80282f-c366-4d36-abf6-5df9bb31a2ff"
      },
      "execution_count": 66,
      "outputs": [
        {
          "output_type": "execute_result",
          "data": {
            "text/plain": [
              "6087.5809520401135"
            ]
          },
          "metadata": {},
          "execution_count": 66
        }
      ]
    },
    {
      "cell_type": "code",
      "source": [
        ""
      ],
      "metadata": {
        "id": "ZSkSMi_xSp7q"
      },
      "execution_count": 66,
      "outputs": []
    }
  ]
}