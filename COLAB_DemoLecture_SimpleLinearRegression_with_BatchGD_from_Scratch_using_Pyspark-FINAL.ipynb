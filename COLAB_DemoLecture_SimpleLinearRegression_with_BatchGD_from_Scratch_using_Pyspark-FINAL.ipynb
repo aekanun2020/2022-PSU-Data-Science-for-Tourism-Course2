{
  "nbformat": 4,
  "nbformat_minor": 0,
  "metadata": {
    "kernelspec": {
      "display_name": "Python 3",
      "language": "python",
      "name": "python3"
    },
    "language_info": {
      "codemirror_mode": {
        "name": "ipython",
        "version": 3
      },
      "file_extension": ".py",
      "mimetype": "text/x-python",
      "name": "python",
      "nbconvert_exporter": "python",
      "pygments_lexer": "ipython3",
      "version": "3.6.1"
    },
    "colab": {
      "name": "COLAB-NN_from_Scratch_using_Pyspark.ipynb",
      "provenance": [],
      "collapsed_sections": [
        "EQ2QjE8pa2K4",
        "NCd1UwPfa2LB"
      ],
      "include_colab_link": true
    }
  },
  "cells": [
    {
      "cell_type": "markdown",
      "metadata": {
        "id": "view-in-github",
        "colab_type": "text"
      },
      "source": [
        "<a href=\"https://colab.research.google.com/github/aekanun2020/2022-PSU-Data-Science-for-Tourism-Course2/blob/main/COLAB_DemoLecture_SimpleLinearRegression_with_BatchGD_from_Scratch_using_Pyspark-FINAL.ipynb\" target=\"_parent\"><img src=\"https://colab.research.google.com/assets/colab-badge.svg\" alt=\"Open In Colab\"/></a>"
      ]
    },
    {
      "cell_type": "code",
      "metadata": {
        "id": "0dTkA-bDa5bm"
      },
      "source": [
        "!apt-get install openjdk-8-jdk-headless -qq > /dev/null\n",
        "!wget -q https://archive.apache.org/dist/spark/spark-2.4.1/spark-2.4.1-bin-hadoop2.7.tgz\n",
        "!tar xf spark-2.4.1-bin-hadoop2.7.tgz\n",
        "!pip install -q findspark"
      ],
      "execution_count": 1,
      "outputs": []
    },
    {
      "cell_type": "code",
      "metadata": {
        "id": "cy4_WOqEa5GJ"
      },
      "source": [
        "import os\n",
        "os.environ[\"JAVA_HOME\"] = \"/usr/lib/jvm/java-8-openjdk-amd64\"\n",
        "os.environ[\"SPARK_HOME\"] = \"/content/spark-2.4.1-bin-hadoop2.7\""
      ],
      "execution_count": 2,
      "outputs": []
    },
    {
      "cell_type": "code",
      "metadata": {
        "id": "kI7zVpqja4du"
      },
      "source": [
        "import findspark\n",
        "findspark.init()\n",
        "from pyspark.sql import SparkSession\n",
        "spark = SparkSession.builder.master(\"local[*]\").getOrCreate()"
      ],
      "execution_count": 3,
      "outputs": []
    },
    {
      "cell_type": "code",
      "metadata": {
        "collapsed": true,
        "id": "gLOiqgf1a2Ku"
      },
      "source": [
        "from pyspark.sql import SparkSession"
      ],
      "execution_count": 4,
      "outputs": []
    },
    {
      "cell_type": "code",
      "metadata": {
        "collapsed": true,
        "id": "GBqMbCCxa2Kv"
      },
      "source": [
        "sc = spark.sparkContext"
      ],
      "execution_count": 5,
      "outputs": []
    },
    {
      "cell_type": "code",
      "metadata": {
        "id": "MjoDgjaja2Kv",
        "colab": {
          "base_uri": "https://localhost:8080/",
          "height": 218
        },
        "outputId": "0c28a121-a1f2-4def-ba83-c240862473f8"
      },
      "source": [
        "sc"
      ],
      "execution_count": 6,
      "outputs": [
        {
          "output_type": "execute_result",
          "data": {
            "text/html": [
              "\n",
              "        <div>\n",
              "            <p><b>SparkContext</b></p>\n",
              "\n",
              "            <p><a href=\"http://256003024a8a:4040\">Spark UI</a></p>\n",
              "\n",
              "            <dl>\n",
              "              <dt>Version</dt>\n",
              "                <dd><code>v2.4.1</code></dd>\n",
              "              <dt>Master</dt>\n",
              "                <dd><code>local[*]</code></dd>\n",
              "              <dt>AppName</dt>\n",
              "                <dd><code>pyspark-shell</code></dd>\n",
              "            </dl>\n",
              "        </div>\n",
              "        "
            ],
            "text/plain": [
              "<SparkContext master=local[*] appName=pyspark-shell>"
            ]
          },
          "metadata": {},
          "execution_count": 6
        }
      ]
    },
    {
      "cell_type": "markdown",
      "metadata": {
        "id": "ny9-KLrFa2Kw"
      },
      "source": [
        "สร้างข้อมูลขึ้นมาเป็น Python's List of tuple แล้วให้ Spark ทำการ Load&Convert เป็น Spark's DataFrame"
      ]
    },
    {
      "cell_type": "code",
      "source": [
        "import numpy as np"
      ],
      "metadata": {
        "id": "EW1r9dFczMhn"
      },
      "execution_count": 7,
      "outputs": []
    },
    {
      "cell_type": "code",
      "metadata": {
        "collapsed": true,
        "id": "AW9nbKd9a2Kw"
      },
      "source": [
        "raw_df = spark.createDataFrame([(2,15)\\\n",
        "                                ,(3,28)\\\n",
        "                                ,(5,42)\\\n",
        "                                ,(13,64)\\\n",
        "                                ,(8,50)\\\n",
        "                                ,(16,90)\\\n",
        "                                ,(11,58)\\\n",
        "                                ,(1,8)\\\n",
        "                                ,(9,54)], \n",
        "                           ['yoe','salary'])"
      ],
      "execution_count": 8,
      "outputs": []
    },
    {
      "cell_type": "code",
      "metadata": {
        "id": "9UmmZAB_a2Kx",
        "colab": {
          "base_uri": "https://localhost:8080/"
        },
        "outputId": "f8d77091-946c-4ed6-e7c2-5328f75b3ba1"
      },
      "source": [
        "raw_df.show(20)"
      ],
      "execution_count": 9,
      "outputs": [
        {
          "output_type": "stream",
          "name": "stdout",
          "text": [
            "+---+------+\n",
            "|yoe|salary|\n",
            "+---+------+\n",
            "|  2|    15|\n",
            "|  3|    28|\n",
            "|  5|    42|\n",
            "| 13|    64|\n",
            "|  8|    50|\n",
            "| 16|    90|\n",
            "| 11|    58|\n",
            "|  1|     8|\n",
            "|  9|    54|\n",
            "+---+------+\n",
            "\n"
          ]
        }
      ]
    },
    {
      "cell_type": "markdown",
      "metadata": {
        "id": "v9MnNblOa2K0"
      },
      "source": [
        "แปลงจาก Spark’s DataFrame ไปเป็น Python Numpy’s Array."
      ]
    },
    {
      "cell_type": "code",
      "metadata": {
        "collapsed": true,
        "id": "lZClruLWa2K0"
      },
      "source": [
        "data_array = np.array(raw_df.collect())"
      ],
      "execution_count": 10,
      "outputs": []
    },
    {
      "cell_type": "markdown",
      "source": [
        "**Require: set of training instances D**"
      ],
      "metadata": {
        "id": "-b967vwOPHjt"
      }
    },
    {
      "cell_type": "code",
      "metadata": {
        "id": "WskuUp00a2K0",
        "colab": {
          "base_uri": "https://localhost:8080/"
        },
        "outputId": "a0518c9a-b0d2-4f2f-e2a6-8ed7894b1539"
      },
      "source": [
        "data_array"
      ],
      "execution_count": 11,
      "outputs": [
        {
          "output_type": "execute_result",
          "data": {
            "text/plain": [
              "array([[ 2, 15],\n",
              "       [ 3, 28],\n",
              "       [ 5, 42],\n",
              "       [13, 64],\n",
              "       [ 8, 50],\n",
              "       [16, 90],\n",
              "       [11, 58],\n",
              "       [ 1,  8],\n",
              "       [ 9, 54]])"
            ]
          },
          "metadata": {},
          "execution_count": 11
        }
      ]
    },
    {
      "cell_type": "code",
      "metadata": {
        "id": "mF2ozwKaa2LB",
        "colab": {
          "base_uri": "https://localhost:8080/"
        },
        "outputId": "9885795d-f02a-48c6-9ad6-3f221d394c6b"
      },
      "source": [
        "data_array.shape"
      ],
      "execution_count": 12,
      "outputs": [
        {
          "output_type": "execute_result",
          "data": {
            "text/plain": [
              "(9, 2)"
            ]
          },
          "metadata": {},
          "execution_count": 12
        }
      ]
    },
    {
      "cell_type": "markdown",
      "metadata": {
        "id": "YAdwwQHUa2K-"
      },
      "source": [
        "##### **Require: Random starting point in the weight space**"
      ]
    },
    {
      "cell_type": "code",
      "metadata": {
        "collapsed": true,
        "id": "Teu2zBITa2K-"
      },
      "source": [
        "np.random.seed(12345)"
      ],
      "execution_count": 13,
      "outputs": []
    },
    {
      "cell_type": "code",
      "metadata": {
        "collapsed": true,
        "id": "jVMn3p6Ja2K_"
      },
      "source": [
        "w1 = np.random.randn()\n",
        "w0 = np.random.randn()"
      ],
      "execution_count": 14,
      "outputs": []
    },
    {
      "cell_type": "code",
      "metadata": {
        "id": "VFvPYMGTa2K_",
        "colab": {
          "base_uri": "https://localhost:8080/"
        },
        "outputId": "07aaa827-dd67-4e70-ee48-1db857945821"
      },
      "source": [
        "print(w1, w0)"
      ],
      "execution_count": 15,
      "outputs": [
        {
          "output_type": "stream",
          "name": "stdout",
          "text": [
            "-0.20470765948471295 0.47894333805754824\n"
          ]
        }
      ]
    },
    {
      "cell_type": "markdown",
      "source": [
        "**Require: a learning rate that controls how quickly the algorithm converges**"
      ],
      "metadata": {
        "id": "31TkxnDdH4bW"
      }
    },
    {
      "cell_type": "code",
      "metadata": {
        "collapsed": true,
        "id": "UvBXWRnsa2LC"
      },
      "source": [
        "learning_rate = 0.00000001"
      ],
      "execution_count": 16,
      "outputs": []
    },
    {
      "cell_type": "markdown",
      "source": [
        "กำหนดค่าเริ่มต้นอื่นๆ"
      ],
      "metadata": {
        "id": "4SKSbxM4fn3r"
      }
    },
    {
      "cell_type": "code",
      "source": [
        "all_errors = []\n",
        "multiple_deltaVal_w1_arr = np.array([])\n",
        "epoch = 1000000"
      ],
      "metadata": {
        "id": "oqlkETORO1xg"
      },
      "execution_count": 17,
      "outputs": []
    },
    {
      "cell_type": "markdown",
      "source": [
        "Algorithm 4: Batch Gradient Descent"
      ],
      "metadata": {
        "id": "GtebyUDHfZMq"
      }
    },
    {
      "cell_type": "code",
      "metadata": {
        "collapsed": true,
        "id": "ghL8RTuta2LC"
      },
      "source": [
        "for i in range(epoch):\n",
        "  single_deltaVal_w0_arr = np.array([])\n",
        "  single_deltaVal_w1_arr = np.array([])\n",
        "\n",
        "  for obs in data_array:\n",
        "\n",
        "    d1 = obs[0]\n",
        "    target_var = obs[1]\n",
        "\n",
        "    ## (Candidate) Simple Linear Regression Model\n",
        "    pred_from_CandidateModel = w1*d1+w0  \n",
        "    \n",
        "    ## Require:\n",
        "    ## Optimization Algorithm: a function, errorDelta, that determines  \n",
        "    ##            the direction in which to adjust a given weight, w[j], \n",
        "    ##            so as to move down the slope of an error surface determined \n",
        "    ##            by the data, D.\n",
        "\n",
        "    ## Gradient of Error surface (Partial derivative of the error function with respect to weights on SINGLE training instances)\n",
        "    error_from_pred = (target_var-pred_from_CandidateModel)\n",
        "    single_deltaVal_w0_arr = np.append(single_deltaVal_w0_arr,error_from_pred*(-1))     ## The second parameter is equation 7.14\n",
        "    single_deltaVal_w1_arr = np.append(single_deltaVal_w1_arr,error_from_pred*d1*(-1))  ## The second parameter is equation 7.14   \n",
        "\n",
        "    ############################################################################\n",
        "\n",
        "  ## SSE\n",
        "  SSE_val = (single_deltaVal_w0_arr**2).sum()     ## SSE ในแต่ละ Epoch\n",
        "  all_errors.append(SSE_val)                      ## เก็บสะสม SSE จากแต่ละ Epoch ไว้ใน List\n",
        "\n",
        "  ## Gradient of Error surface (Partial derivative of the error function with respect to weights on MULTIPLE training instances)\n",
        "  multiple_deltaVal_w1_var = (single_deltaVal_w1_arr.sum()) ### The second parameter is equation 7.15\n",
        "  multiple_deltaVal_w0_var = (single_deltaVal_w0_arr.sum()) ### The second parameter is equation 7.15\n",
        "  multiple_deltaVal_w1_arr = np.append(multiple_deltaVal_w1_arr,multiple_deltaVal_w1_var) ## เก็บสะสม Gradient (Delta value) with w1  ของแต่ละ Epoch ไว้ใน Array\n",
        "\n",
        "  ## Gradient Descent Calculation ซึ่งมีการปรับค่า weight ในแต่ละ Epoch (1 Adjustment/Epoch)\n",
        "  w1 = w1 + ((-1)*(learning_rate) * multiple_deltaVal_w1_var) ### The (-1) is related to equation 7.16, and all is equation 7.17\n",
        "  w0 = w0 + ((-1)*(learning_rate) * multiple_deltaVal_w0_var) ### The (-1) is related to equation 7.16, and all is equation 7.17"
      ],
      "execution_count": 18,
      "outputs": []
    },
    {
      "cell_type": "code",
      "source": [
        "import matplotlib.pyplot as plt\n",
        "%matplotlib inline"
      ],
      "metadata": {
        "id": "lvhYLywqGg6G"
      },
      "execution_count": 19,
      "outputs": []
    },
    {
      "cell_type": "markdown",
      "source": [
        "เมื่อผ่านไปในแต่ละ Epoch แสดงให้เห็นว่า Error ลดต่ำลงเรื่อยๆ จนถึงจุด Global Minimum ซึ่ง Gradient เข้าใกล้ zero และได้ Error ที่ต่ำที่สุด"
      ],
      "metadata": {
        "id": "dAZ8W5OvheHB"
      }
    },
    {
      "cell_type": "code",
      "metadata": {
        "id": "mSmPD-Lta2LC",
        "colab": {
          "base_uri": "https://localhost:8080/",
          "height": 316
        },
        "outputId": "399e0125-2717-44d0-dc77-b8684de745e1"
      },
      "source": [
        "plt.plot(all_errors)\n",
        "plt.title('SSE per Epoch')\n",
        "plt.xlabel('Epoch')\n",
        "plt.ylabel('Error')\n",
        "plt.show()"
      ],
      "execution_count": 20,
      "outputs": [
        {
          "output_type": "display_data",
          "data": {
            "image/png": "[encoded data removed]",
            "text/plain": [
              "<Figure size 432x288 with 1 Axes>"
            ]
          },
          "metadata": {
            "needs_background": "light"
          }
        }
      ]
    },
    {
      "cell_type": "code",
      "source": [
        "print('\\n multiple_deltaVal_w1_arr', multiple_deltaVal_w1_arr)\n",
        "import matplotlib.pyplot as plt\n",
        "%matplotlib inline\n",
        "#plt.plot(single_deltaVal_w1_arr,'b-o')\n",
        "plt.plot(multiple_deltaVal_w1_arr)\n",
        "plt.title('Gradient of Error surface per Epoch')\n",
        "plt.xlabel('Epochs')\n",
        "plt.ylabel('Gradient of Error surface')\n",
        "plt.show()"
      ],
      "metadata": {
        "colab": {
          "base_uri": "https://localhost:8080/",
          "height": 368
        },
        "id": "xYT-VdOZHIGH",
        "outputId": "f2d1b544-127e-4836-f18d-73e8985e8b26"
      },
      "execution_count": 21,
      "outputs": [
        {
          "output_type": "stream",
          "name": "stdout",
          "text": [
            "\n",
            " multiple_deltaVal_w1_arr [-4.24486844e+03 -4.24483717e+03 -4.24480590e+03 ... -7.28063046e-01\n",
            " -7.28043274e-01 -7.28023501e-01]\n"
          ]
        },
        {
          "output_type": "display_data",
          "data": {
            "image/png": "[encoded data removed]",
            "text/plain": [
              "<Figure size 432x288 with 1 Axes>"
            ]
          },
          "metadata": {
            "needs_background": "light"
          }
        }
      ]
    },
    {
      "cell_type": "code",
      "metadata": {
        "id": "vidlkqFva2LC",
        "colab": {
          "base_uri": "https://localhost:8080/"
        },
        "outputId": "a4da05c1-3492-46c8-d05d-2ff5ce732a43"
      },
      "source": [
        "print('The final values of w1, and w0')\n",
        "print('---------------------------------')\n",
        "print('w1 = {}'.format(w1))\n",
        "\n",
        "print('w0  = {}'.format(w0))"
      ],
      "execution_count": 22,
      "outputs": [
        {
          "output_type": "stream",
          "name": "stdout",
          "text": [
            "The final values of w1, and w0\n",
            "---------------------------------\n",
            "w1 = 5.539157850653172\n",
            "w0  = 1.2306877249121813\n"
          ]
        }
      ]
    },
    {
      "cell_type": "code",
      "source": [
        "from pyspark.sql import functions as sparkf\n",
        "from pyspark.sql.types import *"
      ],
      "metadata": {
        "id": "4ENBBdwGxfc_"
      },
      "execution_count": 23,
      "outputs": []
    },
    {
      "cell_type": "code",
      "source": [
        "def lineareq(origi,m,b):\n",
        "  result = (origi*m)+b\n",
        "  return result\n",
        "sparkf_lineareq = sparkf.udf(lambda x,m,b: lineareq(x,m,b))"
      ],
      "metadata": {
        "id": "W2aFWv7qyRbM"
      },
      "execution_count": 24,
      "outputs": []
    },
    {
      "cell_type": "code",
      "source": [
        "raw_df.show()"
      ],
      "metadata": {
        "colab": {
          "base_uri": "https://localhost:8080/"
        },
        "id": "U12GCGUO7zYO",
        "outputId": "860827ef-9ec5-4c92-ba5c-43c5ad79aa84"
      },
      "execution_count": 25,
      "outputs": [
        {
          "output_type": "stream",
          "name": "stdout",
          "text": [
            "+---+------+\n",
            "|yoe|salary|\n",
            "+---+------+\n",
            "|  2|    15|\n",
            "|  3|    28|\n",
            "|  5|    42|\n",
            "| 13|    64|\n",
            "|  8|    50|\n",
            "| 16|    90|\n",
            "| 11|    58|\n",
            "|  1|     8|\n",
            "|  9|    54|\n",
            "+---+------+\n",
            "\n"
          ]
        }
      ]
    },
    {
      "cell_type": "code",
      "source": [
        "raw_df.printSchema()"
      ],
      "metadata": {
        "colab": {
          "base_uri": "https://localhost:8080/"
        },
        "id": "v9QN3RT_8bBi",
        "outputId": "1b465102-7c90-437a-c2d3-9959e7fc5f6f"
      },
      "execution_count": 26,
      "outputs": [
        {
          "output_type": "stream",
          "name": "stdout",
          "text": [
            "root\n",
            " |-- yoe: long (nullable = true)\n",
            " |-- salary: long (nullable = true)\n",
            "\n"
          ]
        }
      ]
    },
    {
      "cell_type": "code",
      "source": [
        "result_df = raw_df.withColumn('prediction',sparkf_lineareq(sparkf.col('yoe'),sparkf.lit(w1),sparkf.lit(w0)))"
      ],
      "metadata": {
        "id": "ET9zl77SxfaW"
      },
      "execution_count": 27,
      "outputs": []
    },
    {
      "cell_type": "code",
      "source": [
        "result_df.show()"
      ],
      "metadata": {
        "id": "HIW3e6CnGkeM",
        "outputId": "6616fc9f-6789-4828-c739-bb24b3b67028",
        "colab": {
          "base_uri": "https://localhost:8080/"
        }
      },
      "execution_count": 28,
      "outputs": [
        {
          "output_type": "stream",
          "name": "stdout",
          "text": [
            "+---+------+------------------+\n",
            "|yoe|salary|        prediction|\n",
            "+---+------+------------------+\n",
            "|  2|    15|12.309003426218526|\n",
            "|  3|    28|17.848161276871696|\n",
            "|  5|    42| 28.92647697817804|\n",
            "| 13|    64| 73.23973978340342|\n",
            "|  8|    50| 45.54395053013756|\n",
            "| 16|    90| 89.85721333536294|\n",
            "| 11|    58| 62.16142408209708|\n",
            "|  1|     8| 6.769845575565354|\n",
            "|  9|    54|51.083108380790726|\n",
            "+---+------+------------------+\n",
            "\n"
          ]
        }
      ]
    },
    {
      "cell_type": "code",
      "source": [
        "result_df.withColumn('Error',sparkf.col('salary')-sparkf.col('prediction'))\\\n",
        ".withColumn('square of Error',sparkf.col('Error')**2).show()"
      ],
      "metadata": {
        "id": "uPZG1jz_xfXh",
        "outputId": "66bf914b-c166-4eeb-8f14-1b04fbba55ae",
        "colab": {
          "base_uri": "https://localhost:8080/"
        }
      },
      "execution_count": 29,
      "outputs": [
        {
          "output_type": "stream",
          "name": "stdout",
          "text": [
            "+---+------+------------------+-------------------+--------------------+\n",
            "|yoe|salary|        prediction|              Error|     square of Error|\n",
            "+---+------+------------------+-------------------+--------------------+\n",
            "|  2|    15|12.309003426218526|  2.690996573781474|   7.241462560103632|\n",
            "|  3|    28|17.848161276871696| 10.151838723128304|   103.0598294604073|\n",
            "|  5|    42| 28.92647697817804|  13.07352302182196|  170.91700420210876|\n",
            "| 13|    64| 73.23973978340342| -9.239739783403422|   85.37279126500792|\n",
            "|  8|    50| 45.54395053013756|  4.456049469862442|  19.856376877861354|\n",
            "| 16|    90| 89.85721333536294|0.14278666463705747|0.020388031598175517|\n",
            "| 11|    58| 62.16142408209708| -4.161424082097078|  17.317450391057505|\n",
            "|  1|     8| 6.769845575565354| 1.2301544244346463|  1.5132799079561359|\n",
            "|  9|    54|51.083108380790726| 2.9168916192092738|     8.5082567182133|\n",
            "+---+------+------------------+-------------------+--------------------+\n",
            "\n"
          ]
        }
      ]
    },
    {
      "cell_type": "markdown",
      "source": [
        "แสดง SSE จากการ Prediction บน training set ทั้งหมด ด้วย optimized weight"
      ],
      "metadata": {
        "id": "Re6n42fniQp6"
      }
    },
    {
      "cell_type": "code",
      "metadata": {
        "collapsed": true,
        "id": "GsltUxZza2LE",
        "outputId": "d5068783-fc98-470f-d50b-621b9ce01d47",
        "colab": {
          "base_uri": "https://localhost:8080/"
        }
      },
      "source": [
        "result_df.withColumn('Error',sparkf.col('salary')-sparkf.col('prediction'))\\\n",
        ".withColumn('square of Error',sparkf.col('Error')**2)\\\n",
        ".agg(sparkf.sum(sparkf.col('square of Error')).alias('SSE')).show()"
      ],
      "execution_count": 30,
      "outputs": [
        {
          "output_type": "stream",
          "name": "stdout",
          "text": [
            "+------------------+\n",
            "|               SSE|\n",
            "+------------------+\n",
            "|413.80683941431414|\n",
            "+------------------+\n",
            "\n"
          ]
        }
      ]
    },
    {
      "cell_type": "code",
      "source": [
        "multiple_deltaVal_w1_arr.min()"
      ],
      "metadata": {
        "id": "kHGZoombt2qj",
        "outputId": "fc73ba5d-d941-4694-907d-4b79d2a81c99",
        "colab": {
          "base_uri": "https://localhost:8080/"
        }
      },
      "execution_count": 31,
      "outputs": [
        {
          "output_type": "execute_result",
          "data": {
            "text/plain": [
              "-4244.868444435927"
            ]
          },
          "metadata": {},
          "execution_count": 31
        }
      ]
    },
    {
      "cell_type": "markdown",
      "source": [
        "แสดง Gradient ที่เข้าใกล้ศูนย์"
      ],
      "metadata": {
        "id": "leGPA0mBiCIe"
      }
    },
    {
      "cell_type": "code",
      "source": [
        "(multiple_deltaVal_w1_arr*-1).min()"
      ],
      "metadata": {
        "id": "NJn5GyEKv25c",
        "colab": {
          "base_uri": "https://localhost:8080/"
        },
        "outputId": "f379ff94-5092-4301-c74b-9a23615c0bce"
      },
      "execution_count": 32,
      "outputs": [
        {
          "output_type": "execute_result",
          "data": {
            "text/plain": [
              "0.72802350126139"
            ]
          },
          "metadata": {},
          "execution_count": 32
        }
      ]
    },
    {
      "cell_type": "markdown",
      "source": [
        "แสดง Error ที่ต่ำที่สุด"
      ],
      "metadata": {
        "id": "kDXrit7gh9ne"
      }
    },
    {
      "cell_type": "code",
      "source": [
        "min(all_errors)"
      ],
      "metadata": {
        "colab": {
          "base_uri": "https://localhost:8080/"
        },
        "id": "fwfOo2-iST80",
        "outputId": "6aa0f411-302c-4db4-e5f9-8a011c632a65"
      },
      "execution_count": 33,
      "outputs": [
        {
          "output_type": "execute_result",
          "data": {
            "text/plain": [
              "413.80684846558324"
            ]
          },
          "metadata": {},
          "execution_count": 33
        }
      ]
    },
    {
      "cell_type": "code",
      "source": [
        ""
      ],
      "metadata": {
        "id": "ZSkSMi_xSp7q"
      },
      "execution_count": 33,
      "outputs": []
    }
  ]
}