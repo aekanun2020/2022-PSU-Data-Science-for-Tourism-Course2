{
  "nbformat": 4,
  "nbformat_minor": 0,
  "metadata": {
    "kernelspec": {
      "display_name": "Python 3",
      "language": "python",
      "name": "python3"
    },
    "language_info": {
      "codemirror_mode": {
        "name": "ipython",
        "version": 3
      },
      "file_extension": ".py",
      "mimetype": "text/x-python",
      "name": "python",
      "nbconvert_exporter": "python",
      "pygments_lexer": "ipython3",
      "version": "3.6.1"
    },
    "colab": {
      "name": "01-049 Noppawat_PySpark-DataScience-onColab.ipynb",
      "provenance": [],
      "collapsed_sections": [
        "SYq4wBqPMeUF",
        "7OpgrJBRMZ0_",
        "hGSzhwXj3yeo",
        "QcjImh624NjJ",
        "lWRsq4oEOzoC",
        "Z5S0HOnVTh1O",
        "E5cguk7rNi3F"
      ]
    }
  },
  "cells": [
    {
      "cell_type": "markdown",
      "source": [
        "# Prerequisite"
      ],
      "metadata": {
        "id": "SYq4wBqPMeUF"
      }
    },
    {
      "cell_type": "code",
      "metadata": {
        "id": "0dTkA-bDa5bm"
      },
      "source": [
        "!apt-get install openjdk-8-jdk-headless -qq > /dev/null\n",
        "!wget -q https://archive.apache.org/dist/spark/spark-3.1.2/spark-3.1.2-bin-hadoop2.7.tgz\n",
        "!tar xf spark-3.1.2-bin-hadoop2.7.tgz\n",
        "!pip install -q findspark"
      ],
      "execution_count": null,
      "outputs": []
    },
    {
      "cell_type": "code",
      "metadata": {
        "id": "cy4_WOqEa5GJ"
      },
      "source": [
        "import os\n",
        "os.environ[\"JAVA_HOME\"] = \"/usr/lib/jvm/java-8-openjdk-amd64\"\n",
        "os.environ[\"SPARK_HOME\"] = \"/content/spark-3.1.2-bin-hadoop2.7\""
      ],
      "execution_count": null,
      "outputs": []
    },
    {
      "cell_type": "code",
      "metadata": {
        "id": "kI7zVpqja4du"
      },
      "source": [
        "import findspark\n",
        "findspark.init()\n",
        "from pyspark.sql import SparkSession\n",
        "spark = SparkSession.builder.master(\"local[*]\").getOrCreate()"
      ],
      "execution_count": null,
      "outputs": []
    },
    {
      "cell_type": "code",
      "metadata": {
        "collapsed": true,
        "id": "gLOiqgf1a2Ku"
      },
      "source": [
        "from pyspark.sql import SparkSession"
      ],
      "execution_count": null,
      "outputs": []
    },
    {
      "cell_type": "code",
      "metadata": {
        "collapsed": true,
        "id": "GBqMbCCxa2Kv"
      },
      "source": [
        "spark = SparkSession.builder \\\n",
        "   .appName(\"Neural Network Model\") \\\n",
        "   .config(\"spark.executor.memory\", \"3gb\") \\\n",
        "   .getOrCreate()\n",
        "   \n",
        "sc = spark.sparkContext"
      ],
      "execution_count": null,
      "outputs": []
    },
    {
      "cell_type": "code",
      "metadata": {
        "id": "MjoDgjaja2Kv",
        "colab": {
          "base_uri": "https://localhost:8080/"
        },
        "outputId": "beeeffa0-c6bd-4b02-d41d-ca1ea44cff9a"
      },
      "source": [
        "sc"
      ],
      "execution_count": null,
      "outputs": [
        {
          "output_type": "execute_result",
          "data": {
            "text/html": [
              "\n",
              "        <div>\n",
              "            <p><b>SparkContext</b></p>\n",
              "\n",
              "            <p><a href=\"http://1e93d7b2e3cf:4040\">Spark UI</a></p>\n",
              "\n",
              "            <dl>\n",
              "              <dt>Version</dt>\n",
              "                <dd><code>v3.1.2</code></dd>\n",
              "              <dt>Master</dt>\n",
              "                <dd><code>local[*]</code></dd>\n",
              "              <dt>AppName</dt>\n",
              "                <dd><code>pyspark-shell</code></dd>\n",
              "            </dl>\n",
              "        </div>\n",
              "        "
            ],
            "text/plain": [
              "<SparkContext master=local[*] appName=pyspark-shell>"
            ]
          },
          "metadata": {},
          "execution_count": 6
        }
      ]
    },
    {
      "cell_type": "markdown",
      "source": [
        "# Library"
      ],
      "metadata": {
        "id": "7OpgrJBRMZ0_"
      }
    },
    {
      "cell_type": "code",
      "source": [
        "import matplotlib.pyplot as plt\n",
        "from pyspark.sql.functions import *\n",
        "from pyspark.sql.types import *\n",
        "from pyspark.ml.feature import StringIndexer, OneHotEncoder\n",
        "from pyspark.mllib.linalg import Vectors\n",
        "from pyspark.ml.feature import VectorAssembler\n",
        "from pyspark.ml import Pipeline\n",
        "from pyspark.ml.classification import RandomForestClassifier\n",
        "from pyspark.ml.tuning import CrossValidator, ParamGridBuilder\n",
        "from pyspark.ml.evaluation import BinaryClassificationEvaluator, MulticlassClassificationEvaluator\n",
        "import pandas as pd"
      ],
      "metadata": {
        "id": "QeyucOzDM1hG"
      },
      "execution_count": null,
      "outputs": []
    },
    {
      "cell_type": "markdown",
      "metadata": {
        "id": "hGSzhwXj3yeo"
      },
      "source": [
        "# 1. Business Understanding"
      ]
    },
    {
      "cell_type": "markdown",
      "source": [
        "ธุรกิจต้องการได้รับ Machine Learning Model ที่ทำให้ทราบล่วงหน้าว่า ลูกค้าที่กำลังเลือกดูสินค้าอยู่ จะซื้อหรือไม่ซื้อสินค้าหรือไม่ (Binary Classification)"
      ],
      "metadata": {
        "id": "dDaZFOMCNNuP"
      }
    },
    {
      "cell_type": "markdown",
      "metadata": {
        "id": "QcjImh624NjJ"
      },
      "source": [
        "# 2. Data Understanding"
      ]
    },
    {
      "cell_type": "code",
      "metadata": {
        "collapsed": true,
        "id": "GsltUxZza2LE",
        "colab": {
          "base_uri": "https://localhost:8080/"
        },
        "outputId": "04fccd36-b4b7-4b4c-8bdc-aab279ebdd87"
      },
      "source": [
        "! wget https://storage.googleapis.com/class25jan2022/share/testfunnel.csv"
      ],
      "execution_count": null,
      "outputs": [
        {
          "output_type": "stream",
          "name": "stdout",
          "text": [
            "--2022-02-08 02:36:16--  https://storage.googleapis.com/class25jan2022/share/testfunnel.csv\n",
            "Resolving storage.googleapis.com (storage.googleapis.com)... 142.250.97.128, 142.251.107.128, 173.194.216.128, ...\n",
            "Connecting to storage.googleapis.com (storage.googleapis.com)|142.250.97.128|:443... connected.\n",
            "HTTP request sent, awaiting response... 200 OK\n",
            "Length: 1501012 (1.4M) [text/csv]\n",
            "Saving to: ‘testfunnel.csv’\n",
            "\n",
            "testfunnel.csv      100%[===================>]   1.43M  --.-KB/s    in 0.01s   \n",
            "\n",
            "2022-02-08 02:36:16 (146 MB/s) - ‘testfunnel.csv’ saved [1501012/1501012]\n",
            "\n"
          ]
        }
      ]
    },
    {
      "cell_type": "code",
      "metadata": {
        "colab": {
          "base_uri": "https://localhost:8080/"
        },
        "id": "Fn4-dQJpaeTW",
        "outputId": "f75b0c9c-3c89-4156-8ee8-e337d5f81141"
      },
      "source": [
        "! head -3 testfunnel.csv"
      ],
      "execution_count": null,
      "outputs": [
        {
          "output_type": "stream",
          "name": "stdout",
          "text": [
            "source,isTrueDirect,sourceKeyword,medium,isVideoAd,fullVisitorId,visitId,date,newVisits,hitReferer,hitType,hitAction_type,hitNumber,hitHour,hitMin,timeMicroSec,v2ProductName,productListName,isClick,isImpression,sessionQualityDim,timeOnScreen,timeOnSite,totalTransactionRevenue\n",
            "google,true,(not provided),organic,,4988612949713423910,1489617360,20170315,,,PAGE,0,28,15,46,608771,Google Accent Insulated Stainless Steel Bottle,Category,,true,,,1897,\n",
            "google,true,(not provided),organic,,4988612949713423910,1489617360,20170315,,,PAGE,0,27,15,46,605064,Google Pocket Bluetooth Speaker,Category,,true,,,1897,\n"
          ]
        }
      ]
    },
    {
      "cell_type": "code",
      "source": [
        "! wc -l testfunnel.csv"
      ],
      "metadata": {
        "id": "ZPIGtjCqEFmS",
        "outputId": "0ea4dc99-6890-424e-d173-4b0c3f0876d7",
        "colab": {
          "base_uri": "https://localhost:8080/"
        }
      },
      "execution_count": null,
      "outputs": [
        {
          "output_type": "stream",
          "name": "stdout",
          "text": [
            "10000 testfunnel.csv\n"
          ]
        }
      ]
    },
    {
      "cell_type": "code",
      "metadata": {
        "id": "DRVIPIh503XR"
      },
      "source": [
        "raw_df = spark.read.option('header','true')\\\n",
        ".option(\"inferSchema\" , \"true\")\\\n",
        ".format('csv').load('./testfunnel.csv')"
      ],
      "execution_count": null,
      "outputs": []
    },
    {
      "cell_type": "code",
      "metadata": {
        "colab": {
          "base_uri": "https://localhost:8080/"
        },
        "id": "0p6sML4L34WI",
        "outputId": "c45fda3b-abc3-4b0d-8ad5-ecab18a35e3f"
      },
      "source": [
        "raw_df.count()"
      ],
      "execution_count": null,
      "outputs": [
        {
          "output_type": "execute_result",
          "data": {
            "text/plain": [
              "9999"
            ]
          },
          "metadata": {},
          "execution_count": 12
        }
      ]
    },
    {
      "cell_type": "code",
      "metadata": {
        "colab": {
          "base_uri": "https://localhost:8080/"
        },
        "id": "mBjlU_WkckEg",
        "outputId": "b36648ba-de83-4252-cfa4-d190e68976f9"
      },
      "source": [
        "len(raw_df.columns)"
      ],
      "execution_count": null,
      "outputs": [
        {
          "output_type": "execute_result",
          "data": {
            "text/plain": [
              "24"
            ]
          },
          "metadata": {},
          "execution_count": 13
        }
      ]
    },
    {
      "cell_type": "code",
      "metadata": {
        "id": "eoEDqDr809CE",
        "colab": {
          "base_uri": "https://localhost:8080/",
          "height": 901
        },
        "outputId": "fd81b8dc-8bd3-448f-b43a-dc9238af1760"
      },
      "source": [
        "raw_df.sample(0.001).toPandas().transpose()"
      ],
      "execution_count": null,
      "outputs": [
        {
          "output_type": "execute_result",
          "data": {
            "text/html": [
              "\n",
              "  <div id=\"df-7fc42ef3-21f9-431f-b7a0-fd3e674e325a\">\n",
              "    <div class=\"colab-df-container\">\n",
              "      <div>\n",
              "<style scoped>\n",
              "    .dataframe tbody tr th:only-of-type {\n",
              "        vertical-align: middle;\n",
              "    }\n",
              "\n",
              "    .dataframe tbody tr th {\n",
              "        vertical-align: top;\n",
              "    }\n",
              "\n",
              "    .dataframe thead th {\n",
              "        text-align: right;\n",
              "    }\n",
              "</style>\n",
              "<table border=\"1\" class=\"dataframe\">\n",
              "  <thead>\n",
              "    <tr style=\"text-align: right;\">\n",
              "      <th></th>\n",
              "      <th>0</th>\n",
              "      <th>1</th>\n",
              "      <th>2</th>\n",
              "      <th>3</th>\n",
              "      <th>4</th>\n",
              "      <th>5</th>\n",
              "      <th>6</th>\n",
              "      <th>7</th>\n",
              "      <th>8</th>\n",
              "      <th>9</th>\n",
              "    </tr>\n",
              "  </thead>\n",
              "  <tbody>\n",
              "    <tr>\n",
              "      <th>source</th>\n",
              "      <td>google</td>\n",
              "      <td>(direct)</td>\n",
              "      <td>google</td>\n",
              "      <td>google</td>\n",
              "      <td>(direct)</td>\n",
              "      <td>(direct)</td>\n",
              "      <td>reddit.com</td>\n",
              "      <td>google</td>\n",
              "      <td>(direct)</td>\n",
              "      <td>dfa</td>\n",
              "    </tr>\n",
              "    <tr>\n",
              "      <th>isTrueDirect</th>\n",
              "      <td>None</td>\n",
              "      <td>True</td>\n",
              "      <td>None</td>\n",
              "      <td>None</td>\n",
              "      <td>None</td>\n",
              "      <td>None</td>\n",
              "      <td>None</td>\n",
              "      <td>None</td>\n",
              "      <td>None</td>\n",
              "      <td>None</td>\n",
              "    </tr>\n",
              "    <tr>\n",
              "      <th>sourceKeyword</th>\n",
              "      <td>(not provided)</td>\n",
              "      <td>None</td>\n",
              "      <td>(not provided)</td>\n",
              "      <td>(not provided)</td>\n",
              "      <td>None</td>\n",
              "      <td>None</td>\n",
              "      <td>None</td>\n",
              "      <td>(not provided)</td>\n",
              "      <td>None</td>\n",
              "      <td>None</td>\n",
              "    </tr>\n",
              "    <tr>\n",
              "      <th>medium</th>\n",
              "      <td>organic</td>\n",
              "      <td>(none)</td>\n",
              "      <td>organic</td>\n",
              "      <td>organic</td>\n",
              "      <td>(none)</td>\n",
              "      <td>(none)</td>\n",
              "      <td>referral</td>\n",
              "      <td>organic</td>\n",
              "      <td>(none)</td>\n",
              "      <td>cpm</td>\n",
              "    </tr>\n",
              "    <tr>\n",
              "      <th>isVideoAd</th>\n",
              "      <td>None</td>\n",
              "      <td>None</td>\n",
              "      <td>None</td>\n",
              "      <td>None</td>\n",
              "      <td>None</td>\n",
              "      <td>None</td>\n",
              "      <td>None</td>\n",
              "      <td>None</td>\n",
              "      <td>False</td>\n",
              "      <td>None</td>\n",
              "    </tr>\n",
              "    <tr>\n",
              "      <th>fullVisitorId</th>\n",
              "      <td>4988669503317981853</td>\n",
              "      <td>4989027615315057980</td>\n",
              "      <td>4989796484973187255</td>\n",
              "      <td>499016873304988410</td>\n",
              "      <td>4990803917337260315</td>\n",
              "      <td>499113371508163067</td>\n",
              "      <td>4991222072181495366</td>\n",
              "      <td>4991962803971844700</td>\n",
              "      <td>4992772271736200092</td>\n",
              "      <td>4992819126088253676</td>\n",
              "    </tr>\n",
              "    <tr>\n",
              "      <th>visitId</th>\n",
              "      <td>1491752911</td>\n",
              "      <td>1501423170</td>\n",
              "      <td>1473919452</td>\n",
              "      <td>1492370317</td>\n",
              "      <td>1475521726</td>\n",
              "      <td>1478638015</td>\n",
              "      <td>1472391078</td>\n",
              "      <td>1475876346</td>\n",
              "      <td>1478983581</td>\n",
              "      <td>1476945917</td>\n",
              "    </tr>\n",
              "    <tr>\n",
              "      <th>date</th>\n",
              "      <td>20170409</td>\n",
              "      <td>20170730</td>\n",
              "      <td>20160914</td>\n",
              "      <td>20170416</td>\n",
              "      <td>20161003</td>\n",
              "      <td>20161108</td>\n",
              "      <td>20160828</td>\n",
              "      <td>20161007</td>\n",
              "      <td>20161112</td>\n",
              "      <td>20161019</td>\n",
              "    </tr>\n",
              "    <tr>\n",
              "      <th>newVisits</th>\n",
              "      <td>1.0</td>\n",
              "      <td>1.0</td>\n",
              "      <td>1.0</td>\n",
              "      <td>1.0</td>\n",
              "      <td>1.0</td>\n",
              "      <td>1.0</td>\n",
              "      <td>1.0</td>\n",
              "      <td>1.0</td>\n",
              "      <td>1.0</td>\n",
              "      <td>NaN</td>\n",
              "    </tr>\n",
              "    <tr>\n",
              "      <th>hitReferer</th>\n",
              "      <td>https://www.google.com/</td>\n",
              "      <td>None</td>\n",
              "      <td>None</td>\n",
              "      <td>None</td>\n",
              "      <td>None</td>\n",
              "      <td>None</td>\n",
              "      <td>https://www.reddit.com/r/golang/comments/4zk0q...</td>\n",
              "      <td>None</td>\n",
              "      <td>None</td>\n",
              "      <td>None</td>\n",
              "    </tr>\n",
              "    <tr>\n",
              "      <th>hitType</th>\n",
              "      <td>PAGE</td>\n",
              "      <td>PAGE</td>\n",
              "      <td>PAGE</td>\n",
              "      <td>PAGE</td>\n",
              "      <td>PAGE</td>\n",
              "      <td>PAGE</td>\n",
              "      <td>PAGE</td>\n",
              "      <td>PAGE</td>\n",
              "      <td>PAGE</td>\n",
              "      <td>PAGE</td>\n",
              "    </tr>\n",
              "    <tr>\n",
              "      <th>hitAction_type</th>\n",
              "      <td>0</td>\n",
              "      <td>0</td>\n",
              "      <td>0</td>\n",
              "      <td>0</td>\n",
              "      <td>0</td>\n",
              "      <td>0</td>\n",
              "      <td>0</td>\n",
              "      <td>0</td>\n",
              "      <td>0</td>\n",
              "      <td>0</td>\n",
              "    </tr>\n",
              "    <tr>\n",
              "      <th>hitNumber</th>\n",
              "      <td>1</td>\n",
              "      <td>6</td>\n",
              "      <td>13</td>\n",
              "      <td>3</td>\n",
              "      <td>7</td>\n",
              "      <td>3</td>\n",
              "      <td>1</td>\n",
              "      <td>6</td>\n",
              "      <td>31</td>\n",
              "      <td>14</td>\n",
              "    </tr>\n",
              "    <tr>\n",
              "      <th>hitHour</th>\n",
              "      <td>8</td>\n",
              "      <td>7</td>\n",
              "      <td>23</td>\n",
              "      <td>12</td>\n",
              "      <td>12</td>\n",
              "      <td>12</td>\n",
              "      <td>6</td>\n",
              "      <td>14</td>\n",
              "      <td>12</td>\n",
              "      <td>23</td>\n",
              "    </tr>\n",
              "    <tr>\n",
              "      <th>hitMin</th>\n",
              "      <td>48</td>\n",
              "      <td>0</td>\n",
              "      <td>5</td>\n",
              "      <td>18</td>\n",
              "      <td>9</td>\n",
              "      <td>47</td>\n",
              "      <td>31</td>\n",
              "      <td>40</td>\n",
              "      <td>51</td>\n",
              "      <td>55</td>\n",
              "    </tr>\n",
              "    <tr>\n",
              "      <th>timeMicroSec</th>\n",
              "      <td>0</td>\n",
              "      <td>32812</td>\n",
              "      <td>76350</td>\n",
              "      <td>15739</td>\n",
              "      <td>38010</td>\n",
              "      <td>34915</td>\n",
              "      <td>0</td>\n",
              "      <td>108278</td>\n",
              "      <td>324561</td>\n",
              "      <td>611188</td>\n",
              "    </tr>\n",
              "    <tr>\n",
              "      <th>v2ProductName</th>\n",
              "      <td>YouTube Luggage Tag</td>\n",
              "      <td>Compact Selfie Stick</td>\n",
              "      <td>Plastic Sliding Flashlight</td>\n",
              "      <td>Google Men's Vintage Badge Tee Black</td>\n",
              "      <td>26 oz Double Wall Insulated Bottle</td>\n",
              "      <td>Android Men's  Zip Hoodie</td>\n",
              "      <td>Google Men's 100% Cotton Short Sleeve Hero Tee...</td>\n",
              "      <td>Google Laptop Backpack</td>\n",
              "      <td>Colored Pencil Set</td>\n",
              "      <td>Google Men's 100% Cotton Short Sleeve Hero Tee...</td>\n",
              "    </tr>\n",
              "    <tr>\n",
              "      <th>productListName</th>\n",
              "      <td>Category</td>\n",
              "      <td>Category</td>\n",
              "      <td>Category</td>\n",
              "      <td>Category</td>\n",
              "      <td>Category</td>\n",
              "      <td>Category</td>\n",
              "      <td>Category</td>\n",
              "      <td>Category</td>\n",
              "      <td>Category</td>\n",
              "      <td>Category</td>\n",
              "    </tr>\n",
              "    <tr>\n",
              "      <th>isClick</th>\n",
              "      <td>None</td>\n",
              "      <td>None</td>\n",
              "      <td>None</td>\n",
              "      <td>None</td>\n",
              "      <td>None</td>\n",
              "      <td>None</td>\n",
              "      <td>None</td>\n",
              "      <td>None</td>\n",
              "      <td>None</td>\n",
              "      <td>None</td>\n",
              "    </tr>\n",
              "    <tr>\n",
              "      <th>isImpression</th>\n",
              "      <td>True</td>\n",
              "      <td>True</td>\n",
              "      <td>True</td>\n",
              "      <td>True</td>\n",
              "      <td>True</td>\n",
              "      <td>True</td>\n",
              "      <td>True</td>\n",
              "      <td>True</td>\n",
              "      <td>True</td>\n",
              "      <td>True</td>\n",
              "    </tr>\n",
              "    <tr>\n",
              "      <th>sessionQualityDim</th>\n",
              "      <td>NaN</td>\n",
              "      <td>1.0</td>\n",
              "      <td>NaN</td>\n",
              "      <td>NaN</td>\n",
              "      <td>NaN</td>\n",
              "      <td>NaN</td>\n",
              "      <td>NaN</td>\n",
              "      <td>NaN</td>\n",
              "      <td>NaN</td>\n",
              "      <td>NaN</td>\n",
              "    </tr>\n",
              "    <tr>\n",
              "      <th>timeOnScreen</th>\n",
              "      <td>None</td>\n",
              "      <td>None</td>\n",
              "      <td>None</td>\n",
              "      <td>None</td>\n",
              "      <td>None</td>\n",
              "      <td>None</td>\n",
              "      <td>None</td>\n",
              "      <td>None</td>\n",
              "      <td>None</td>\n",
              "      <td>None</td>\n",
              "    </tr>\n",
              "    <tr>\n",
              "      <th>timeOnSite</th>\n",
              "      <td>1188.0</td>\n",
              "      <td>79.0</td>\n",
              "      <td>138.0</td>\n",
              "      <td>120.0</td>\n",
              "      <td>123.0</td>\n",
              "      <td>35.0</td>\n",
              "      <td>NaN</td>\n",
              "      <td>359.0</td>\n",
              "      <td>341.0</td>\n",
              "      <td>722.0</td>\n",
              "    </tr>\n",
              "    <tr>\n",
              "      <th>totalTransactionRevenue</th>\n",
              "      <td>NaN</td>\n",
              "      <td>NaN</td>\n",
              "      <td>NaN</td>\n",
              "      <td>NaN</td>\n",
              "      <td>NaN</td>\n",
              "      <td>NaN</td>\n",
              "      <td>NaN</td>\n",
              "      <td>NaN</td>\n",
              "      <td>NaN</td>\n",
              "      <td>NaN</td>\n",
              "    </tr>\n",
              "  </tbody>\n",
              "</table>\n",
              "</div>\n",
              "      <button class=\"colab-df-convert\" onclick=\"convertToInteractive('df-7fc42ef3-21f9-431f-b7a0-fd3e674e325a')\"\n",
              "              title=\"Convert this dataframe to an interactive table.\"\n",
              "              style=\"display:none;\">\n",
              "        \n",
              "  <svg xmlns=\"http://www.w3.org/2000/svg\" height=\"24px\"viewBox=\"0 0 24 24\"\n",
              "       width=\"24px\">\n",
              "    <path d=\"M0 0h24v24H0V0z\" fill=\"none\"/>\n",
              "    <path d=\"M18.56 5.44l.94 2.06.94-2.06 2.06-.94-2.06-.94-.94-2.06-.94 2.06-2.06.94zm-11 1L8.5 8.5l.94-2.06 2.06-.94-2.06-.94L8.5 2.5l-.94 2.06-2.06.94zm10 10l.94 2.06.94-2.06 2.06-.94-2.06-.94-.94-2.06-.94 2.06-2.06.94z\"/><path d=\"M17.41 7.96l-1.37-1.37c-.4-.4-.92-.59-1.43-.59-.52 0-1.04.2-1.43.59L10.3 9.45l-7.72 7.72c-.78.78-.78 2.05 0 2.83L4 21.41c.39.39.9.59 1.41.59.51 0 1.02-.2 1.41-.59l7.78-7.78 2.81-2.81c.8-.78.8-2.07 0-2.86zM5.41 20L4 18.59l7.72-7.72 1.47 1.35L5.41 20z\"/>\n",
              "  </svg>\n",
              "      </button>\n",
              "      \n",
              "  <style>\n",
              "    .colab-df-container {\n",
              "      display:flex;\n",
              "      flex-wrap:wrap;\n",
              "      gap: 12px;\n",
              "    }\n",
              "\n",
              "    .colab-df-convert {\n",
              "      background-color: #E8F0FE;\n",
              "      border: none;\n",
              "      border-radius: 50%;\n",
              "      cursor: pointer;\n",
              "      display: none;\n",
              "      fill: #1967D2;\n",
              "      height: 32px;\n",
              "      padding: 0 0 0 0;\n",
              "      width: 32px;\n",
              "    }\n",
              "\n",
              "    .colab-df-convert:hover {\n",
              "      background-color: #E2EBFA;\n",
              "      box-shadow: 0px 1px 2px rgba(60, 64, 67, 0.3), 0px 1px 3px 1px rgba(60, 64, 67, 0.15);\n",
              "      fill: #174EA6;\n",
              "    }\n",
              "\n",
              "    [theme=dark] .colab-df-convert {\n",
              "      background-color: #3B4455;\n",
              "      fill: #D2E3FC;\n",
              "    }\n",
              "\n",
              "    [theme=dark] .colab-df-convert:hover {\n",
              "      background-color: #434B5C;\n",
              "      box-shadow: 0px 1px 3px 1px rgba(0, 0, 0, 0.15);\n",
              "      filter: drop-shadow(0px 1px 2px rgba(0, 0, 0, 0.3));\n",
              "      fill: #FFFFFF;\n",
              "    }\n",
              "  </style>\n",
              "\n",
              "      <script>\n",
              "        const buttonEl =\n",
              "          document.querySelector('#df-7fc42ef3-21f9-431f-b7a0-fd3e674e325a button.colab-df-convert');\n",
              "        buttonEl.style.display =\n",
              "          google.colab.kernel.accessAllowed ? 'block' : 'none';\n",
              "\n",
              "        async function convertToInteractive(key) {\n",
              "          const element = document.querySelector('#df-7fc42ef3-21f9-431f-b7a0-fd3e674e325a');\n",
              "          const dataTable =\n",
              "            await google.colab.kernel.invokeFunction('convertToInteractive',\n",
              "                                                     [key], {});\n",
              "          if (!dataTable) return;\n",
              "\n",
              "          const docLinkHtml = 'Like what you see? Visit the ' +\n",
              "            '<a target=\"_blank\" href=https://colab.research.google.com/notebooks/data_table.ipynb>data table notebook</a>'\n",
              "            + ' to learn more about interactive tables.';\n",
              "          element.innerHTML = '';\n",
              "          dataTable['output_type'] = 'display_data';\n",
              "          await google.colab.output.renderOutput(dataTable, element);\n",
              "          const docLink = document.createElement('div');\n",
              "          docLink.innerHTML = docLinkHtml;\n",
              "          element.appendChild(docLink);\n",
              "        }\n",
              "      </script>\n",
              "    </div>\n",
              "  </div>\n",
              "  "
            ],
            "text/plain": [
              "                                               0  ...                                                  9\n",
              "source                                    google  ...                                                dfa\n",
              "isTrueDirect                                None  ...                                               None\n",
              "sourceKeyword                     (not provided)  ...                                               None\n",
              "medium                                   organic  ...                                                cpm\n",
              "isVideoAd                                   None  ...                                               None\n",
              "fullVisitorId                4988669503317981853  ...                                4992819126088253676\n",
              "visitId                               1491752911  ...                                         1476945917\n",
              "date                                    20170409  ...                                           20161019\n",
              "newVisits                                    1.0  ...                                                NaN\n",
              "hitReferer               https://www.google.com/  ...                                               None\n",
              "hitType                                     PAGE  ...                                               PAGE\n",
              "hitAction_type                                 0  ...                                                  0\n",
              "hitNumber                                      1  ...                                                 14\n",
              "hitHour                                        8  ...                                                 23\n",
              "hitMin                                        48  ...                                                 55\n",
              "timeMicroSec                                   0  ...                                             611188\n",
              "v2ProductName                YouTube Luggage Tag  ...  Google Men's 100% Cotton Short Sleeve Hero Tee...\n",
              "productListName                         Category  ...                                           Category\n",
              "isClick                                     None  ...                                               None\n",
              "isImpression                                True  ...                                               True\n",
              "sessionQualityDim                            NaN  ...                                                NaN\n",
              "timeOnScreen                                None  ...                                               None\n",
              "timeOnSite                                1188.0  ...                                              722.0\n",
              "totalTransactionRevenue                      NaN  ...                                                NaN\n",
              "\n",
              "[24 rows x 10 columns]"
            ]
          },
          "metadata": {},
          "execution_count": 14
        }
      ]
    },
    {
      "cell_type": "code",
      "metadata": {
        "colab": {
          "base_uri": "https://localhost:8080/",
          "height": 708
        },
        "id": "OITcXS_l4S9n",
        "outputId": "4f766c1c-3747-4937-e372-237365860b4c"
      },
      "source": [
        "raw_df.describe().toPandas().transpose()"
      ],
      "execution_count": null,
      "outputs": [
        {
          "output_type": "execute_result",
          "data": {
            "text/html": [
              "\n",
              "  <div id=\"df-86bd04f9-6ca2-44ac-b6b2-327e072c514d\">\n",
              "    <div class=\"colab-df-container\">\n",
              "      <div>\n",
              "<style scoped>\n",
              "    .dataframe tbody tr th:only-of-type {\n",
              "        vertical-align: middle;\n",
              "    }\n",
              "\n",
              "    .dataframe tbody tr th {\n",
              "        vertical-align: top;\n",
              "    }\n",
              "\n",
              "    .dataframe thead th {\n",
              "        text-align: right;\n",
              "    }\n",
              "</style>\n",
              "<table border=\"1\" class=\"dataframe\">\n",
              "  <thead>\n",
              "    <tr style=\"text-align: right;\">\n",
              "      <th></th>\n",
              "      <th>0</th>\n",
              "      <th>1</th>\n",
              "      <th>2</th>\n",
              "      <th>3</th>\n",
              "      <th>4</th>\n",
              "    </tr>\n",
              "  </thead>\n",
              "  <tbody>\n",
              "    <tr>\n",
              "      <th>summary</th>\n",
              "      <td>count</td>\n",
              "      <td>mean</td>\n",
              "      <td>stddev</td>\n",
              "      <td>min</td>\n",
              "      <td>max</td>\n",
              "    </tr>\n",
              "    <tr>\n",
              "      <th>source</th>\n",
              "      <td>9999</td>\n",
              "      <td>None</td>\n",
              "      <td>None</td>\n",
              "      <td>(direct)</td>\n",
              "      <td>youtube.com</td>\n",
              "    </tr>\n",
              "    <tr>\n",
              "      <th>sourceKeyword</th>\n",
              "      <td>4042</td>\n",
              "      <td>None</td>\n",
              "      <td>None</td>\n",
              "      <td>(not provided)</td>\n",
              "      <td>youtube merch</td>\n",
              "    </tr>\n",
              "    <tr>\n",
              "      <th>medium</th>\n",
              "      <td>9999</td>\n",
              "      <td>None</td>\n",
              "      <td>None</td>\n",
              "      <td>(none)</td>\n",
              "      <td>referral</td>\n",
              "    </tr>\n",
              "    <tr>\n",
              "      <th>fullVisitorId</th>\n",
              "      <td>9999</td>\n",
              "      <td>4.5067648825526333E18</td>\n",
              "      <td>1.39995873491150899E18</td>\n",
              "      <td>49898505875812980</td>\n",
              "      <td>4995924842281653133</td>\n",
              "    </tr>\n",
              "    <tr>\n",
              "      <th>visitId</th>\n",
              "      <td>9999</td>\n",
              "      <td>1.4850613864552455E9</td>\n",
              "      <td>9020666.664979974</td>\n",
              "      <td>1470106850</td>\n",
              "      <td>1501649190</td>\n",
              "    </tr>\n",
              "    <tr>\n",
              "      <th>date</th>\n",
              "      <td>9999</td>\n",
              "      <td>2.016601000310031E7</td>\n",
              "      <td>4694.944823979139</td>\n",
              "      <td>20160801</td>\n",
              "      <td>20170801</td>\n",
              "    </tr>\n",
              "    <tr>\n",
              "      <th>newVisits</th>\n",
              "      <td>7269</td>\n",
              "      <td>1.0</td>\n",
              "      <td>0.0</td>\n",
              "      <td>1</td>\n",
              "      <td>1</td>\n",
              "    </tr>\n",
              "    <tr>\n",
              "      <th>hitReferer</th>\n",
              "      <td>1333</td>\n",
              "      <td>None</td>\n",
              "      <td>None</td>\n",
              "      <td>http://images.google.co.in/imgres?imgurl=https...</td>\n",
              "      <td>https://www.youtube.com/yt/about/press/</td>\n",
              "    </tr>\n",
              "    <tr>\n",
              "      <th>hitType</th>\n",
              "      <td>9999</td>\n",
              "      <td>None</td>\n",
              "      <td>None</td>\n",
              "      <td>EVENT</td>\n",
              "      <td>PAGE</td>\n",
              "    </tr>\n",
              "    <tr>\n",
              "      <th>hitAction_type</th>\n",
              "      <td>9999</td>\n",
              "      <td>0.13831383138313832</td>\n",
              "      <td>0.6864877640641197</td>\n",
              "      <td>0</td>\n",
              "      <td>6</td>\n",
              "    </tr>\n",
              "    <tr>\n",
              "      <th>hitNumber</th>\n",
              "      <td>9999</td>\n",
              "      <td>8.662666266626662</td>\n",
              "      <td>9.871484517186275</td>\n",
              "      <td>1</td>\n",
              "      <td>56</td>\n",
              "    </tr>\n",
              "    <tr>\n",
              "      <th>hitHour</th>\n",
              "      <td>9999</td>\n",
              "      <td>12.168916891689168</td>\n",
              "      <td>5.910241630273632</td>\n",
              "      <td>0</td>\n",
              "      <td>23</td>\n",
              "    </tr>\n",
              "    <tr>\n",
              "      <th>hitMin</th>\n",
              "      <td>9999</td>\n",
              "      <td>31.84038403840384</td>\n",
              "      <td>16.330427485675383</td>\n",
              "      <td>0</td>\n",
              "      <td>59</td>\n",
              "    </tr>\n",
              "    <tr>\n",
              "      <th>timeMicroSec</th>\n",
              "      <td>9999</td>\n",
              "      <td>213867.12121212122</td>\n",
              "      <td>369723.31608154083</td>\n",
              "      <td>0</td>\n",
              "      <td>3513993</td>\n",
              "    </tr>\n",
              "    <tr>\n",
              "      <th>v2ProductName</th>\n",
              "      <td>9999</td>\n",
              "      <td>None</td>\n",
              "      <td>None</td>\n",
              "      <td>1 oz Hand Sanitizer</td>\n",
              "      <td>YouTube Youth Short Sleeve Tee Red</td>\n",
              "    </tr>\n",
              "    <tr>\n",
              "      <th>productListName</th>\n",
              "      <td>9999</td>\n",
              "      <td>None</td>\n",
              "      <td>None</td>\n",
              "      <td>(not set)</td>\n",
              "      <td>Search Results</td>\n",
              "    </tr>\n",
              "    <tr>\n",
              "      <th>sessionQualityDim</th>\n",
              "      <td>698</td>\n",
              "      <td>12.074498567335244</td>\n",
              "      <td>24.99957319792061</td>\n",
              "      <td>1</td>\n",
              "      <td>79</td>\n",
              "    </tr>\n",
              "    <tr>\n",
              "      <th>timeOnScreen</th>\n",
              "      <td>0</td>\n",
              "      <td>None</td>\n",
              "      <td>None</td>\n",
              "      <td>None</td>\n",
              "      <td>None</td>\n",
              "    </tr>\n",
              "    <tr>\n",
              "      <th>timeOnSite</th>\n",
              "      <td>8958</td>\n",
              "      <td>539.221478008484</td>\n",
              "      <td>689.0300130553856</td>\n",
              "      <td>3</td>\n",
              "      <td>3514</td>\n",
              "    </tr>\n",
              "    <tr>\n",
              "      <th>totalTransactionRevenue</th>\n",
              "      <td>707</td>\n",
              "      <td>4.211295615275814E7</td>\n",
              "      <td>2.4358685560020592E7</td>\n",
              "      <td>20580000</td>\n",
              "      <td>128970000</td>\n",
              "    </tr>\n",
              "  </tbody>\n",
              "</table>\n",
              "</div>\n",
              "      <button class=\"colab-df-convert\" onclick=\"convertToInteractive('df-86bd04f9-6ca2-44ac-b6b2-327e072c514d')\"\n",
              "              title=\"Convert this dataframe to an interactive table.\"\n",
              "              style=\"display:none;\">\n",
              "        \n",
              "  <svg xmlns=\"http://www.w3.org/2000/svg\" height=\"24px\"viewBox=\"0 0 24 24\"\n",
              "       width=\"24px\">\n",
              "    <path d=\"M0 0h24v24H0V0z\" fill=\"none\"/>\n",
              "    <path d=\"M18.56 5.44l.94 2.06.94-2.06 2.06-.94-2.06-.94-.94-2.06-.94 2.06-2.06.94zm-11 1L8.5 8.5l.94-2.06 2.06-.94-2.06-.94L8.5 2.5l-.94 2.06-2.06.94zm10 10l.94 2.06.94-2.06 2.06-.94-2.06-.94-.94-2.06-.94 2.06-2.06.94z\"/><path d=\"M17.41 7.96l-1.37-1.37c-.4-.4-.92-.59-1.43-.59-.52 0-1.04.2-1.43.59L10.3 9.45l-7.72 7.72c-.78.78-.78 2.05 0 2.83L4 21.41c.39.39.9.59 1.41.59.51 0 1.02-.2 1.41-.59l7.78-7.78 2.81-2.81c.8-.78.8-2.07 0-2.86zM5.41 20L4 18.59l7.72-7.72 1.47 1.35L5.41 20z\"/>\n",
              "  </svg>\n",
              "      </button>\n",
              "      \n",
              "  <style>\n",
              "    .colab-df-container {\n",
              "      display:flex;\n",
              "      flex-wrap:wrap;\n",
              "      gap: 12px;\n",
              "    }\n",
              "\n",
              "    .colab-df-convert {\n",
              "      background-color: #E8F0FE;\n",
              "      border: none;\n",
              "      border-radius: 50%;\n",
              "      cursor: pointer;\n",
              "      display: none;\n",
              "      fill: #1967D2;\n",
              "      height: 32px;\n",
              "      padding: 0 0 0 0;\n",
              "      width: 32px;\n",
              "    }\n",
              "\n",
              "    .colab-df-convert:hover {\n",
              "      background-color: #E2EBFA;\n",
              "      box-shadow: 0px 1px 2px rgba(60, 64, 67, 0.3), 0px 1px 3px 1px rgba(60, 64, 67, 0.15);\n",
              "      fill: #174EA6;\n",
              "    }\n",
              "\n",
              "    [theme=dark] .colab-df-convert {\n",
              "      background-color: #3B4455;\n",
              "      fill: #D2E3FC;\n",
              "    }\n",
              "\n",
              "    [theme=dark] .colab-df-convert:hover {\n",
              "      background-color: #434B5C;\n",
              "      box-shadow: 0px 1px 3px 1px rgba(0, 0, 0, 0.15);\n",
              "      filter: drop-shadow(0px 1px 2px rgba(0, 0, 0, 0.3));\n",
              "      fill: #FFFFFF;\n",
              "    }\n",
              "  </style>\n",
              "\n",
              "      <script>\n",
              "        const buttonEl =\n",
              "          document.querySelector('#df-86bd04f9-6ca2-44ac-b6b2-327e072c514d button.colab-df-convert');\n",
              "        buttonEl.style.display =\n",
              "          google.colab.kernel.accessAllowed ? 'block' : 'none';\n",
              "\n",
              "        async function convertToInteractive(key) {\n",
              "          const element = document.querySelector('#df-86bd04f9-6ca2-44ac-b6b2-327e072c514d');\n",
              "          const dataTable =\n",
              "            await google.colab.kernel.invokeFunction('convertToInteractive',\n",
              "                                                     [key], {});\n",
              "          if (!dataTable) return;\n",
              "\n",
              "          const docLinkHtml = 'Like what you see? Visit the ' +\n",
              "            '<a target=\"_blank\" href=https://colab.research.google.com/notebooks/data_table.ipynb>data table notebook</a>'\n",
              "            + ' to learn more about interactive tables.';\n",
              "          element.innerHTML = '';\n",
              "          dataTable['output_type'] = 'display_data';\n",
              "          await google.colab.output.renderOutput(dataTable, element);\n",
              "          const docLink = document.createElement('div');\n",
              "          docLink.innerHTML = docLinkHtml;\n",
              "          element.appendChild(docLink);\n",
              "        }\n",
              "      </script>\n",
              "    </div>\n",
              "  </div>\n",
              "  "
            ],
            "text/plain": [
              "                             0  ...                                        4\n",
              "summary                  count  ...                                      max\n",
              "source                    9999  ...                              youtube.com\n",
              "sourceKeyword             4042  ...                            youtube merch\n",
              "medium                    9999  ...                                 referral\n",
              "fullVisitorId             9999  ...                      4995924842281653133\n",
              "visitId                   9999  ...                               1501649190\n",
              "date                      9999  ...                                 20170801\n",
              "newVisits                 7269  ...                                        1\n",
              "hitReferer                1333  ...  https://www.youtube.com/yt/about/press/\n",
              "hitType                   9999  ...                                     PAGE\n",
              "hitAction_type            9999  ...                                        6\n",
              "hitNumber                 9999  ...                                       56\n",
              "hitHour                   9999  ...                                       23\n",
              "hitMin                    9999  ...                                       59\n",
              "timeMicroSec              9999  ...                                  3513993\n",
              "v2ProductName             9999  ...       YouTube Youth Short Sleeve Tee Red\n",
              "productListName           9999  ...                           Search Results\n",
              "sessionQualityDim          698  ...                                       79\n",
              "timeOnScreen                 0  ...                                     None\n",
              "timeOnSite                8958  ...                                     3514\n",
              "totalTransactionRevenue    707  ...                                128970000\n",
              "\n",
              "[21 rows x 5 columns]"
            ]
          },
          "metadata": {},
          "execution_count": 15
        }
      ]
    },
    {
      "cell_type": "code",
      "metadata": {
        "colab": {
          "base_uri": "https://localhost:8080/"
        },
        "id": "eH8yD5VU4X2_",
        "outputId": "cd806322-624f-4d64-91c8-0663078c03f3"
      },
      "source": [
        "raw_df.printSchema()"
      ],
      "execution_count": null,
      "outputs": [
        {
          "output_type": "stream",
          "name": "stdout",
          "text": [
            "root\n",
            " |-- source: string (nullable = true)\n",
            " |-- isTrueDirect: boolean (nullable = true)\n",
            " |-- sourceKeyword: string (nullable = true)\n",
            " |-- medium: string (nullable = true)\n",
            " |-- isVideoAd: boolean (nullable = true)\n",
            " |-- fullVisitorId: long (nullable = true)\n",
            " |-- visitId: integer (nullable = true)\n",
            " |-- date: integer (nullable = true)\n",
            " |-- newVisits: integer (nullable = true)\n",
            " |-- hitReferer: string (nullable = true)\n",
            " |-- hitType: string (nullable = true)\n",
            " |-- hitAction_type: integer (nullable = true)\n",
            " |-- hitNumber: integer (nullable = true)\n",
            " |-- hitHour: integer (nullable = true)\n",
            " |-- hitMin: integer (nullable = true)\n",
            " |-- timeMicroSec: integer (nullable = true)\n",
            " |-- v2ProductName: string (nullable = true)\n",
            " |-- productListName: string (nullable = true)\n",
            " |-- isClick: boolean (nullable = true)\n",
            " |-- isImpression: boolean (nullable = true)\n",
            " |-- sessionQualityDim: integer (nullable = true)\n",
            " |-- timeOnScreen: string (nullable = true)\n",
            " |-- timeOnSite: integer (nullable = true)\n",
            " |-- totalTransactionRevenue: integer (nullable = true)\n",
            "\n"
          ]
        }
      ]
    },
    {
      "cell_type": "markdown",
      "source": [
        "## EDA"
      ],
      "metadata": {
        "id": "aYgYTdPgPcai"
      }
    },
    {
      "cell_type": "code",
      "metadata": {
        "id": "I7c5vxPNAPVi",
        "colab": {
          "base_uri": "https://localhost:8080/"
        },
        "outputId": "b5fd78b3-d41c-40f9-a354-5467e66b2148"
      },
      "source": [
        "raw_df.groupBy('source').count().show()"
      ],
      "execution_count": null,
      "outputs": [
        {
          "output_type": "stream",
          "name": "stdout",
          "text": [
            "+--------------------+-----+\n",
            "|              source|count|\n",
            "+--------------------+-----+\n",
            "|           quora.com|   12|\n",
            "|         youtube.com|  346|\n",
            "|          google.com|   43|\n",
            "|analytics.google.com|   45|\n",
            "|                 dfa|  185|\n",
            "|          reddit.com|   58|\n",
            "|        facebook.com|    2|\n",
            "|            (direct)| 4972|\n",
            "|     blog.golang.org|   39|\n",
            "|   groups.google.com|    1|\n",
            "| images.google.co.in|   12|\n",
            "|      m.facebook.com|   19|\n",
            "|                t.co|    2|\n",
            "|            Partners|   84|\n",
            "|       images.google|   75|\n",
            "|              google| 4104|\n",
            "+--------------------+-----+\n",
            "\n"
          ]
        }
      ]
    },
    {
      "cell_type": "code",
      "source": [
        "raw_df.groupBy('isTrueDirect').count().show()"
      ],
      "metadata": {
        "colab": {
          "base_uri": "https://localhost:8080/"
        },
        "id": "4nrpUb6tNDDX",
        "outputId": "e8e7dbbb-12dc-4b6d-ebf0-956ed2e58bd6"
      },
      "execution_count": null,
      "outputs": [
        {
          "output_type": "stream",
          "name": "stdout",
          "text": [
            "+------------+-----+\n",
            "|isTrueDirect|count|\n",
            "+------------+-----+\n",
            "|        null| 6648|\n",
            "|        true| 3351|\n",
            "+------------+-----+\n",
            "\n"
          ]
        }
      ]
    },
    {
      "cell_type": "code",
      "source": [
        "raw_df.groupBy('medium').count().show()"
      ],
      "metadata": {
        "colab": {
          "base_uri": "https://localhost:8080/"
        },
        "id": "hceyKkVYORcJ",
        "outputId": "586c3264-04f5-4085-ade9-1530630763a3"
      },
      "execution_count": null,
      "outputs": [
        {
          "output_type": "stream",
          "name": "stdout",
          "text": [
            "+---------+-----+\n",
            "|   medium|count|\n",
            "+---------+-----+\n",
            "|   (none)| 4972|\n",
            "|      cpc|   90|\n",
            "| referral|  579|\n",
            "|  organic| 3977|\n",
            "|affiliate|   84|\n",
            "|      cpm|  297|\n",
            "+---------+-----+\n",
            "\n"
          ]
        }
      ]
    },
    {
      "cell_type": "code",
      "source": [
        "bins, counts = raw_df.select('hitNumber').rdd.flatMap(lambda x: x).histogram(10)\n",
        "plt.hist(bins[:-1], bins=bins, weights=counts)"
      ],
      "metadata": {
        "colab": {
          "base_uri": "https://localhost:8080/",
          "height": 334
        },
        "id": "gVVRx9oAcDTA",
        "outputId": "ab70f8f7-abd6-4213-903a-9bed8c0e29ad"
      },
      "execution_count": null,
      "outputs": [
        {
          "output_type": "execute_result",
          "data": {
            "text/plain": [
              "(array([6080., 1451.,  965.,  448.,  438.,  224.,  185.,  120.,   45.,\n",
              "          43.]),\n",
              " array([ 1. ,  6.5, 12. , 17.5, 23. , 28.5, 34. , 39.5, 45. , 50.5, 56. ]),\n",
              " <a list of 10 Patch objects>)"
            ]
          },
          "metadata": {},
          "execution_count": 19
        },
        {
          "output_type": "display_data",
          "data": {
            "image/png": "[encoded data removed]",
            "text/plain": [
              "<Figure size 432x288 with 1 Axes>"
            ]
          },
          "metadata": {
            "needs_background": "light"
          }
        }
      ]
    },
    {
      "cell_type": "code",
      "source": [
        "bins, counts = raw_df.select('hitNumber') \\\n",
        ".filter(raw_df.hitAction_type == 6).rdd.flatMap(lambda x: x).histogram(10)\n",
        "plt.hist(bins[:-1], bins=bins, weights=counts)"
      ],
      "metadata": {
        "colab": {
          "base_uri": "https://localhost:8080/",
          "height": 317
        },
        "id": "R8mDz3E0vkEM",
        "outputId": "e525f120-8b18-4465-ef19-2b7e29790178"
      },
      "execution_count": null,
      "outputs": [
        {
          "output_type": "execute_result",
          "data": {
            "text/plain": [
              "(array([ 3.,  9.,  2., 14.,  6.,  2.,  0.,  0.,  0.,  4.]),\n",
              " array([10, 14, 18, 22, 26, 30, 34, 38, 42, 46, 50]),\n",
              " <a list of 10 Patch objects>)"
            ]
          },
          "metadata": {},
          "execution_count": 20
        },
        {
          "output_type": "display_data",
          "data": {
            "image/png": "[encoded data removed]",
            "text/plain": [
              "<Figure size 432x288 with 1 Axes>"
            ]
          },
          "metadata": {
            "needs_background": "light"
          }
        }
      ]
    },
    {
      "cell_type": "code",
      "source": [
        "bins, counts = raw_df.select('hitHour').rdd.flatMap(lambda x: x).histogram(24)\n",
        "plt.hist(bins[:-1], bins=bins, weights=counts)"
      ],
      "metadata": {
        "colab": {
          "base_uri": "https://localhost:8080/",
          "height": 421
        },
        "id": "lMLRkT1ufK4Y",
        "outputId": "95d5e5f8-8992-481e-967d-ecaafb1e772e"
      },
      "execution_count": null,
      "outputs": [
        {
          "output_type": "execute_result",
          "data": {
            "text/plain": [
              "(array([302., 158.,  96., 112., 202., 319., 268., 431., 686., 942., 847.,\n",
              "        931., 576., 229., 492., 696., 316., 356., 188., 209., 395., 368.,\n",
              "        262., 618.]),\n",
              " array([ 0.        ,  0.95833333,  1.91666667,  2.875     ,  3.83333333,\n",
              "         4.79166667,  5.75      ,  6.70833333,  7.66666667,  8.625     ,\n",
              "         9.58333333, 10.54166667, 11.5       , 12.45833333, 13.41666667,\n",
              "        14.375     , 15.33333333, 16.29166667, 17.25      , 18.20833333,\n",
              "        19.16666667, 20.125     , 21.08333333, 22.04166667, 23.        ]),\n",
              " <a list of 24 Patch objects>)"
            ]
          },
          "metadata": {},
          "execution_count": 21
        },
        {
          "output_type": "display_data",
          "data": {
            "image/png": "[encoded data removed]",
            "text/plain": [
              "<Figure size 432x288 with 1 Axes>"
            ]
          },
          "metadata": {
            "needs_background": "light"
          }
        }
      ]
    },
    {
      "cell_type": "code",
      "source": [
        "bins, counts = raw_df.select('hitHour') \\\n",
        ".filter(raw_df.hitAction_type == 6).rdd.flatMap(lambda x: x).histogram(24)\n",
        "plt.hist(bins[:-1], bins=bins, weights=counts)"
      ],
      "metadata": {
        "colab": {
          "base_uri": "https://localhost:8080/",
          "height": 404
        },
        "id": "Gwsr8sQgvWZC",
        "outputId": "5a67db0f-92f6-47aa-9a33-906199288646"
      },
      "execution_count": null,
      "outputs": [
        {
          "output_type": "execute_result",
          "data": {
            "text/plain": [
              "(array([8., 4., 0., 0., 0., 0., 8., 0., 0., 0., 0., 0., 2., 6., 0., 0., 0.,\n",
              "        0., 0., 0., 2., 0., 4., 6.]),\n",
              " array([ 6.        ,  6.58333333,  7.16666667,  7.75      ,  8.33333333,\n",
              "         8.91666667,  9.5       , 10.08333333, 10.66666667, 11.25      ,\n",
              "        11.83333333, 12.41666667, 13.        , 13.58333333, 14.16666667,\n",
              "        14.75      , 15.33333333, 15.91666667, 16.5       , 17.08333333,\n",
              "        17.66666667, 18.25      , 18.83333333, 19.41666667, 20.        ]),\n",
              " <a list of 24 Patch objects>)"
            ]
          },
          "metadata": {},
          "execution_count": 22
        },
        {
          "output_type": "display_data",
          "data": {
            "image/png": "[encoded data removed]",
            "text/plain": [
              "<Figure size 432x288 with 1 Axes>"
            ]
          },
          "metadata": {
            "needs_background": "light"
          }
        }
      ]
    },
    {
      "cell_type": "code",
      "source": [
        "bins, counts = raw_df.select('hitMin') \\\n",
        ".rdd.flatMap(lambda x: x).histogram(4)\n",
        "plt.hist(bins[:-1], bins=bins, weights=counts)"
      ],
      "metadata": {
        "colab": {
          "base_uri": "https://localhost:8080/",
          "height": 317
        },
        "id": "SMlJZm6JvRKV",
        "outputId": "3a650b61-f139-4d9d-a4a3-1fba6d2978fc"
      },
      "execution_count": null,
      "outputs": [
        {
          "output_type": "execute_result",
          "data": {
            "text/plain": [
              "(array([1928., 2587., 2746., 2738.]),\n",
              " array([ 0.  , 14.75, 29.5 , 44.25, 59.  ]),\n",
              " <a list of 4 Patch objects>)"
            ]
          },
          "metadata": {},
          "execution_count": 23
        },
        {
          "output_type": "display_data",
          "data": {
            "image/png": "[encoded data removed]",
            "text/plain": [
              "<Figure size 432x288 with 1 Axes>"
            ]
          },
          "metadata": {
            "needs_background": "light"
          }
        }
      ]
    },
    {
      "cell_type": "code",
      "source": [
        "bins, counts = raw_df.select('hitMin') \\\n",
        ".filter(raw_df.hitAction_type == 6).rdd.flatMap(lambda x: x).histogram(4)\n",
        "plt.hist(bins[:-1], bins=bins, weights=counts)"
      ],
      "metadata": {
        "colab": {
          "base_uri": "https://localhost:8080/",
          "height": 317
        },
        "id": "b85AlAN7uD6v",
        "outputId": "99a07f4e-c424-4fbb-bf13-23edbded278e"
      },
      "execution_count": null,
      "outputs": [
        {
          "output_type": "execute_result",
          "data": {
            "text/plain": [
              "(array([10., 12., 12.,  6.]),\n",
              " array([ 3. , 15.5, 28. , 40.5, 53. ]),\n",
              " <a list of 4 Patch objects>)"
            ]
          },
          "metadata": {},
          "execution_count": 24
        },
        {
          "output_type": "display_data",
          "data": {
            "image/png": "[encoded data removed]",
            "text/plain": [
              "<Figure size 432x288 with 1 Axes>"
            ]
          },
          "metadata": {
            "needs_background": "light"
          }
        }
      ]
    },
    {
      "cell_type": "code",
      "source": [
        "raw_df.groupBy('v2ProductName').count().sort(desc('count')).show(10, False)"
      ],
      "metadata": {
        "colab": {
          "base_uri": "https://localhost:8080/"
        },
        "id": "pozk1sCha7_z",
        "outputId": "87b632a7-43ed-44b6-8ce3-678a177d40ed"
      },
      "execution_count": null,
      "outputs": [
        {
          "output_type": "stream",
          "name": "stdout",
          "text": [
            "+----------------------------------------------------+-----+\n",
            "|v2ProductName                                       |count|\n",
            "+----------------------------------------------------+-----+\n",
            "|Google Men's 100% Cotton Short Sleeve Hero Tee White|211  |\n",
            "|Google Men's 100% Cotton Short Sleeve Hero Tee Black|138  |\n",
            "|Google Men's 100% Cotton Short Sleeve Hero Tee Navy |135  |\n",
            "|Google Men's  Zip Hoodie                            |123  |\n",
            "|22 oz YouTube Bottle Infuser                        |119  |\n",
            "|Google Men's Watershed Full Zip Hoodie Grey         |119  |\n",
            "|YouTube Men's Short Sleeve Hero Tee Black           |118  |\n",
            "|YouTube Twill Cap                                   |107  |\n",
            "|Google Women's Short Sleeve Hero Tee White          |106  |\n",
            "|Google Women's Short Sleeve Hero Tee Black          |103  |\n",
            "+----------------------------------------------------+-----+\n",
            "only showing top 10 rows\n",
            "\n"
          ]
        }
      ]
    },
    {
      "cell_type": "code",
      "source": [
        "raw_df.filter(raw_df.hitAction_type == 6).describe().show()"
      ],
      "metadata": {
        "colab": {
          "base_uri": "https://localhost:8080/"
        },
        "id": "VRjx7RK1TT5I",
        "outputId": "2730b7ca-86a1-41d1-f81d-4e9f357c34c3"
      },
      "execution_count": null,
      "outputs": [
        {
          "output_type": "stream",
          "name": "stdout",
          "text": [
            "+-------+-----------+--------------+--------+--------------------+----------------+------------------+---------+----------+-------+--------------+------------------+-----------------+------------------+-----------------+--------------------+---------------+-----------------+------------+------------------+-----------------------+\n",
            "|summary|     source| sourceKeyword|  medium|       fullVisitorId|         visitId|              date|newVisits|hitReferer|hitType|hitAction_type|         hitNumber|          hitHour|            hitMin|     timeMicroSec|       v2ProductName|productListName|sessionQualityDim|timeOnScreen|        timeOnSite|totalTransactionRevenue|\n",
            "+-------+-----------+--------------+--------+--------------------+----------------+------------------+---------+----------+-------+--------------+------------------+-----------------+------------------+-----------------+--------------------+---------------+-----------------+------------+------------------+-----------------------+\n",
            "|  count|         40|            12|      40|                  40|              40|                40|       14|         0|     40|            40|                40|               40|                40|               40|                  40|             40|                0|           0|                40|                     40|\n",
            "|   mean|       null|          null|    null|4.992496528768147...| 1.48740920415E9|     2.016846215E7|      1.0|      null|   null|           6.0|            23.925|            12.45|             25.55|        934839.95|                null|           null|             null|        null|            1202.7|               4.9837E7|\n",
            "| stddev|       null|          null|    null|2.824291082841212...|7747203.52562047|3812.8169312572168|      0.0|      null|   null|           0.0|10.064885646490131|5.286412190337965|14.266600766682211|966249.9941933315|                null|           null|             null|        null|1038.8735072676386|   3.2335787604448423E7|\n",
            "|    min|   (direct)|(not provided)|  (none)| 4988612949713423910|      1470106850|          20160801|        1|      null|   PAGE|             6|                10|                6|                 3|           150020|      BLM Sweatshirt|      (not set)|             null|        null|               150|               20580000|\n",
            "|    max|youtube.com|(not provided)|referral| 4995924842281653133|      1498486477|          20170626|        1|      null|   PAGE|             6|                50|               20|                53|          3513993|YouTube Men's Sho...|      (not set)|             null|        null|              3514|              128970000|\n",
            "+-------+-----------+--------------+--------+--------------------+----------------+------------------+---------+----------+-------+--------------+------------------+-----------------+------------------+-----------------+--------------------+---------------+-----------------+------------+------------------+-----------------------+\n",
            "\n"
          ]
        }
      ]
    },
    {
      "cell_type": "markdown",
      "source": [
        "## Customer Behavior"
      ],
      "metadata": {
        "id": "VjyhhtffPWwo"
      }
    },
    {
      "cell_type": "code",
      "source": [
        "raw_df.select(countDistinct('fullVisitorId').alias('cnt_unique_user')).show()"
      ],
      "metadata": {
        "colab": {
          "base_uri": "https://localhost:8080/"
        },
        "id": "nMArXXKJNwJc",
        "outputId": "a53bef74-4e09-4af0-af87-84019892fa58"
      },
      "execution_count": null,
      "outputs": [
        {
          "output_type": "stream",
          "name": "stdout",
          "text": [
            "+---------------+\n",
            "|cnt_unique_user|\n",
            "+---------------+\n",
            "|            242|\n",
            "+---------------+\n",
            "\n"
          ]
        }
      ]
    },
    {
      "cell_type": "code",
      "source": [
        "raw_df.filter(raw_df.hitAction_type == 6) \\\n",
        ".groupBy('fullVisitorId').count() \\\n",
        ".withColumnRenamed('count', 'cnt_purchase').show()"
      ],
      "metadata": {
        "colab": {
          "base_uri": "https://localhost:8080/"
        },
        "id": "ItZfj25UO-Ky",
        "outputId": "532b893e-09d7-4275-ae71-dfbc60d6ce2d"
      },
      "execution_count": null,
      "outputs": [
        {
          "output_type": "stream",
          "name": "stdout",
          "text": [
            "+-------------------+------------+\n",
            "|      fullVisitorId|cnt_purchase|\n",
            "+-------------------+------------+\n",
            "|4990198874063509353|           4|\n",
            "|4993519711854402788|           2|\n",
            "|4989274933392395231|           6|\n",
            "|4995584940873803432|           6|\n",
            "|4993485206334150199|           2|\n",
            "|4995899860057743088|           2|\n",
            "|4988612949713423910|           4|\n",
            "|4993852637585406336|           4|\n",
            "|4995606827430436569|           2|\n",
            "|4995924842281653133|           2|\n",
            "|4993450863033496114|           4|\n",
            "|4988683855814257726|           2|\n",
            "+-------------------+------------+\n",
            "\n"
          ]
        }
      ]
    },
    {
      "cell_type": "code",
      "source": [
        "raw_df.filter(raw_df.hitAction_type == 6) \\\n",
        ".groupBy('visitId').count() \\\n",
        ".withColumnRenamed('count', 'cnt_purchase').show()"
      ],
      "metadata": {
        "colab": {
          "base_uri": "https://localhost:8080/"
        },
        "id": "lX-7xVCHVJl-",
        "outputId": "4661d6ab-5cc7-4c50-8f9b-fe38a5e0578d"
      },
      "execution_count": null,
      "outputs": [
        {
          "output_type": "stream",
          "name": "stdout",
          "text": [
            "+----------+------------+\n",
            "|   visitId|cnt_purchase|\n",
            "+----------+------------+\n",
            "|1486131356|           2|\n",
            "|1470106850|           2|\n",
            "|1490043910|           4|\n",
            "|1492045051|           2|\n",
            "|1498486477|           4|\n",
            "|1477021389|           4|\n",
            "|1474047117|           2|\n",
            "|1488143869|           2|\n",
            "|1485313789|           4|\n",
            "|1487773059|           6|\n",
            "|1487369367|           2|\n",
            "|1497289186|           2|\n",
            "|1494000490|           4|\n",
            "+----------+------------+\n",
            "\n"
          ]
        }
      ]
    },
    {
      "cell_type": "code",
      "source": [
        "raw_df.filter(raw_df.visitId == 1486131356).show(25)"
      ],
      "metadata": {
        "colab": {
          "base_uri": "https://localhost:8080/"
        },
        "id": "Go7sE7lNVXbc",
        "outputId": "6f4a9ee9-687c-40de-bcf8-c9dfbe5c7c47"
      },
      "execution_count": null,
      "outputs": [
        {
          "output_type": "stream",
          "name": "stdout",
          "text": [
            "+--------+------------+-------------+------+---------+-------------------+----------+--------+---------+----------+-------+--------------+---------+-------+------+------------+--------------------+---------------+-------+------------+-----------------+------------+----------+-----------------------+\n",
            "|  source|isTrueDirect|sourceKeyword|medium|isVideoAd|      fullVisitorId|   visitId|    date|newVisits|hitReferer|hitType|hitAction_type|hitNumber|hitHour|hitMin|timeMicroSec|       v2ProductName|productListName|isClick|isImpression|sessionQualityDim|timeOnScreen|timeOnSite|totalTransactionRevenue|\n",
            "+--------+------------+-------------+------+---------+-------------------+----------+--------+---------+----------+-------+--------------+---------+-------+------+------------+--------------------+---------------+-------+------------+-----------------+------------+----------+-----------------------+\n",
            "|(direct)|        true|         null|(none)|     null|4995924842281653133|1486131356|20170203|     null|      null|   PAGE|             0|       10|      6|    17|       81537|Google Men's Conv...|       Category|   null|        true|             null|        null|       360|              128970000|\n",
            "|(direct)|        true|         null|(none)|     null|4995924842281653133|1486131356|20170203|     null|      null|   PAGE|             0|        3|      6|    16|       31696|Google Men's  Zip...|       Category|   null|        true|             null|        null|       360|              128970000|\n",
            "|(direct)|        true|         null|(none)|     null|4995924842281653133|1486131356|20170203|     null|      null|   PAGE|             0|        2|      6|    16|       11890|Google Men's Conv...|       Category|   null|        true|             null|        null|       360|              128970000|\n",
            "|(direct)|        true|         null|(none)|     null|4995924842281653133|1486131356|20170203|     null|      null|   PAGE|             2|        4|      6|    16|       37239|Google Men's Pull...|       Category|   null|        null|             null|        null|       360|              128970000|\n",
            "|(direct)|        true|         null|(none)|     null|4995924842281653133|1486131356|20170203|     null|      null|   PAGE|             0|       10|      6|    17|       81537|Google Tri-blend ...|       Category|   null|        true|             null|        null|       360|              128970000|\n",
            "|(direct)|        true|         null|(none)|     null|4995924842281653133|1486131356|20170203|     null|      null|   PAGE|             0|       16|      6|    17|      116200|Google Women's 1/...|       Category|   null|        true|             null|        null|       360|              128970000|\n",
            "|(direct)|        true|         null|(none)|     null|4995924842281653133|1486131356|20170203|     null|      null|   PAGE|             5|       26|      6|    20|      281733|Google Women's Fl...|      (not set)|   null|        null|             null|        null|       360|              128970000|\n",
            "|(direct)|        true|         null|(none)|     null|4995924842281653133|1486131356|20170203|     null|      null|   PAGE|             0|       16|      6|    17|      116200|Google Women's Li...|       Category|   null|        true|             null|        null|       360|              128970000|\n",
            "|(direct)|        true|         null|(none)|     null|4995924842281653133|1486131356|20170203|     null|      null|   PAGE|             0|       16|      6|    17|      116200|Google Women's In...|       Category|   null|        true|             null|        null|       360|              128970000|\n",
            "|(direct)|        true|         null|(none)|     null|4995924842281653133|1486131356|20170203|     null|      null|   PAGE|             6|       30|      6|    21|      359711|Google Men's Pull...|      (not set)|   null|        null|             null|        null|       360|              128970000|\n",
            "|(direct)|        true|         null|(none)|     null|4995924842281653133|1486131356|20170203|     null|      null|   PAGE|             0|        3|      6|    16|       31696|Google Men's Conv...|       Category|   null|        true|             null|        null|       360|              128970000|\n",
            "|(direct)|        true|         null|(none)|     null|4995924842281653133|1486131356|20170203|     null|      null|   PAGE|             0|       16|      6|    17|      116200|Android Women's L...|       Category|   null|        true|             null|        null|       360|              128970000|\n",
            "|(direct)|        true|         null|(none)|     null|4995924842281653133|1486131356|20170203|     null|      null|   PAGE|             0|        3|      6|    16|       31696|Google Men's Micr...|       Category|   null|        true|             null|        null|       360|              128970000|\n",
            "|(direct)|        true|         null|(none)|     null|4995924842281653133|1486131356|20170203|     null|      null|   PAGE|             0|       10|      6|    17|       81537|Google Men's Micr...|       Category|   null|        true|             null|        null|       360|              128970000|\n",
            "|(direct)|        true|         null|(none)|     null|4995924842281653133|1486131356|20170203|     null|      null|   PAGE|             0|       10|      6|    17|       81537|Google Men's Quil...|       Category|   null|        true|             null|        null|       360|              128970000|\n",
            "|(direct)|        true|         null|(none)|     null|4995924842281653133|1486131356|20170203|     null|      null|   PAGE|             0|        3|      6|    16|       31696|Android Men's  Zi...|       Category|   null|        true|             null|        null|       360|              128970000|\n",
            "|(direct)|        true|         null|(none)|     null|4995924842281653133|1486131356|20170203|     null|      null|   PAGE|             0|       16|      6|    17|      116200|Google Women's Fl...|       Category|   null|        true|             null|        null|       360|              128970000|\n",
            "|(direct)|        true|         null|(none)|     null|4995924842281653133|1486131356|20170203|     null|      null|   PAGE|             0|       10|      6|    17|       81537|Google Men's Weat...|       Category|   null|        true|             null|        null|       360|              128970000|\n",
            "|(direct)|        true|         null|(none)|     null|4995924842281653133|1486131356|20170203|     null|      null|   PAGE|             6|       30|      6|    21|      359711|Google Women's Fl...|      (not set)|   null|        null|             null|        null|       360|              128970000|\n",
            "|(direct)|        true|         null|(none)|     null|4995924842281653133|1486131356|20170203|     null|      null|   PAGE|             5|       25|      6|    20|      253469|Google Men's Pull...|      (not set)|   null|        null|             null|        null|       360|              128970000|\n",
            "+--------+------------+-------------+------+---------+-------------------+----------+--------+---------+----------+-------+--------------+---------+-------+------+------------+--------------------+---------------+-------+------------+-----------------+------------+----------+-----------------------+\n",
            "\n"
          ]
        }
      ]
    },
    {
      "cell_type": "code",
      "source": [
        "raw_df.filter(raw_df.visitId == 1486131356).groupBy('hitAction_type').count().show()"
      ],
      "metadata": {
        "colab": {
          "base_uri": "https://localhost:8080/"
        },
        "id": "KNZmoyd4dKEc",
        "outputId": "fd91e0a4-9425-4958-f9bd-23b3a06442de"
      },
      "execution_count": null,
      "outputs": [
        {
          "output_type": "stream",
          "name": "stdout",
          "text": [
            "+--------------+-----+\n",
            "|hitAction_type|count|\n",
            "+--------------+-----+\n",
            "|             6|    2|\n",
            "|             5|    2|\n",
            "|             2|    1|\n",
            "|             0|   15|\n",
            "+--------------+-----+\n",
            "\n"
          ]
        }
      ]
    },
    {
      "cell_type": "code",
      "source": [
        "raw_df.groupBy('hitAction_type').count().show()"
      ],
      "metadata": {
        "colab": {
          "base_uri": "https://localhost:8080/"
        },
        "id": "GiFbaehVZQp5",
        "outputId": "07a12182-23ed-486a-9476-c777ac7844c5"
      },
      "execution_count": null,
      "outputs": [
        {
          "output_type": "stream",
          "name": "stdout",
          "text": [
            "+--------------+-----+\n",
            "|hitAction_type|count|\n",
            "+--------------+-----+\n",
            "|             1|  210|\n",
            "|             6|   40|\n",
            "|             3|   59|\n",
            "|             5|   70|\n",
            "|             4|   20|\n",
            "|             2|  163|\n",
            "|             0| 9437|\n",
            "+--------------+-----+\n",
            "\n"
          ]
        }
      ]
    },
    {
      "cell_type": "markdown",
      "source": [
        "# 3. Data Preparation"
      ],
      "metadata": {
        "id": "lWRsq4oEOzoC"
      }
    },
    {
      "cell_type": "code",
      "source": [
        "# Drop columns\n",
        "# 'source', 'sourceKeyword', 'isVideoAd', 'visitId', 'hitReferer', 'timeMicroSec', 'v2ProductName', 'timeOnScreen'\n",
        "\n",
        "# onehot\n",
        "# 'productListName', 'dayofweek', 'hitAction_type'\n",
        "\n",
        "# standardization (don't need)\n",
        "# 'timeOnSite', 'totalTransactionRevenue'"
      ],
      "metadata": {
        "id": "EJ7mXWCSN2XO"
      },
      "execution_count": null,
      "outputs": []
    },
    {
      "cell_type": "code",
      "source": [
        "df2 = raw_df.withColumn('isTrueDirect', when(raw_df.isTrueDirect == 'true', 1).otherwise(0)) \\\n",
        ".withColumn('medium_organic', when(raw_df.medium == 'organic', 1).otherwise(0)) \\\n",
        ".withColumn('dayofweek', dayofweek(to_date(col('date').cast('string'), 'yyyyMMdd'))) \\\n",
        ".withColumn('newVisits', when(raw_df.newVisits == '1', 1).otherwise(0)) \\\n",
        ".withColumn('hitType_page', when(raw_df.hitType == 'PAGE', 1).otherwise(0)) \\\n",
        ".withColumn('purchased', when(raw_df.hitAction_type == 6, 1).otherwise(0)) \\\n",
        ".withColumn('hitHour_00_02', when((raw_df.hitHour >= 0) & (raw_df.hitHour <= 2), 1).otherwise(0)) \\\n",
        ".withColumn('hitHour_03_05', when((raw_df.hitHour >= 3) & (raw_df.hitHour <= 5), 1).otherwise(0)) \\\n",
        ".withColumn('hitHour_06_08', when((raw_df.hitHour >= 6) & (raw_df.hitHour <= 8), 1).otherwise(0)) \\\n",
        ".withColumn('hitHour_09_11', when((raw_df.hitHour >= 9) & (raw_df.hitHour <= 11), 1).otherwise(0)) \\\n",
        ".withColumn('hitHour_12_14', when((raw_df.hitHour >= 12) & (raw_df.hitHour <= 14), 1).otherwise(0)) \\\n",
        ".withColumn('hitHour_15_17', when((raw_df.hitHour >= 15) & (raw_df.hitHour <= 17), 1).otherwise(0)) \\\n",
        ".withColumn('hitHour_18_20', when((raw_df.hitHour >= 18) & (raw_df.hitHour <= 20), 1).otherwise(0)) \\\n",
        ".withColumn('hitHour_21_23', when((raw_df.hitHour >= 21) & (raw_df.hitHour <= 23), 1).otherwise(0)) \\\n",
        ".withColumn('hitMin_00_14', when((raw_df.hitMin >= 0) & (raw_df.hitHour < 15), 1).otherwise(0)) \\\n",
        ".withColumn('hitMin_15_29', when((raw_df.hitMin >= 15) & (raw_df.hitHour < 30), 1).otherwise(0)) \\\n",
        ".withColumn('hitMin_30_44', when((raw_df.hitMin >= 30) & (raw_df.hitHour < 45), 1).otherwise(0)) \\\n",
        ".withColumn('hitMin_45_60', when((raw_df.hitMin >= 45) & (raw_df.hitHour < 60), 1).otherwise(0)) \\\n",
        ".withColumn('isClick', when(raw_df.isClick, 1).otherwise(0)) \\\n",
        ".withColumn('isImpression', when(raw_df.isImpression, 1).otherwise(0)) \\\n",
        ".withColumn('hitaction_1', when(raw_df.hitAction_type == 1, 1).otherwise(0)) \\\n",
        ".withColumn('hitaction_2', when(raw_df.hitAction_type == 2, 1).otherwise(0)) \\\n",
        ".withColumn('hitaction_3', when(raw_df.hitAction_type == 3, 1).otherwise(0)) \\\n",
        ".withColumn('hitaction_4', when(raw_df.hitAction_type == 4, 1).otherwise(0)) \\\n",
        ".withColumn('hitaction_5', when(raw_df.hitAction_type == 5, 1).otherwise(0)) \\\n",
        ".withColumn('hitaction_6', when(raw_df.hitAction_type == 6, 1).otherwise(0)) \\\n",
        ".na.fill(value=0, subset=['timeOnSite', 'sessionQualityDim', 'totalTransactionRevenue'])\n",
        "# .drop('source', 'medium', 'date', 'hitType', 'hitHour', 'hitMin', 'sourceKeyword', 'isVideoAd', 'fullVisitorId', 'visitId', 'hitReferer', 'timeMicroSec', 'v2ProductName', 'timeOnScreen')"
      ],
      "metadata": {
        "id": "G4R-a_OsRnCm"
      },
      "execution_count": null,
      "outputs": []
    },
    {
      "cell_type": "code",
      "source": [
        "df2.show()"
      ],
      "metadata": {
        "colab": {
          "base_uri": "https://localhost:8080/"
        },
        "id": "-yDVp_DEmOjS",
        "outputId": "f82268ae-f41e-41da-e7b1-21d1be1fbd0a"
      },
      "execution_count": null,
      "outputs": [
        {
          "output_type": "stream",
          "name": "stdout",
          "text": [
            "+------+------------+--------------+-------+---------+-------------------+----------+--------+---------+----------+-------+--------------+---------+-------+------+------------+--------------------+----------------+-------+------------+-----------------+------------+----------+-----------------------+--------------+---------+------------+---------+-------------+-------------+-------------+-------------+-------------+-------------+-------------+-------------+------------+------------+------------+------------+-----------+-----------+-----------+-----------+-----------+-----------+\n",
            "|source|isTrueDirect| sourceKeyword| medium|isVideoAd|      fullVisitorId|   visitId|    date|newVisits|hitReferer|hitType|hitAction_type|hitNumber|hitHour|hitMin|timeMicroSec|       v2ProductName| productListName|isClick|isImpression|sessionQualityDim|timeOnScreen|timeOnSite|totalTransactionRevenue|medium_organic|dayofweek|hitType_page|purchased|hitHour_00_02|hitHour_03_05|hitHour_06_08|hitHour_09_11|hitHour_12_14|hitHour_15_17|hitHour_18_20|hitHour_21_23|hitMin_00_14|hitMin_15_29|hitMin_30_44|hitMin_45_60|hitaction_1|hitaction_2|hitaction_3|hitaction_4|hitaction_5|hitaction_6|\n",
            "+------+------------+--------------+-------+---------+-------------------+----------+--------+---------+----------+-------+--------------+---------+-------+------+------------+--------------------+----------------+-------+------------+-----------------+------------+----------+-----------------------+--------------+---------+------------+---------+-------------+-------------+-------------+-------------+-------------+-------------+-------------+-------------+------------+------------+------------+------------+-----------+-----------+-----------+-----------+-----------+-----------+\n",
            "|google|           1|(not provided)|organic|     null|4988612949713423910|1489617360|20170315|        0|      null|   PAGE|             0|       28|     15|    46|      608771|Google Accent Ins...|        Category|      0|           1|                0|        null|      1897|                      0|             1|        4|           1|        0|            0|            0|            0|            0|            0|            1|            0|            0|           0|           1|           1|           1|          0|          0|          0|          0|          0|          0|\n",
            "|google|           1|(not provided)|organic|     null|4988612949713423910|1489617360|20170315|        0|      null|   PAGE|             0|       27|     15|    46|      605064|Google Pocket Blu...|        Category|      0|           1|                0|        null|      1897|                      0|             1|        4|           1|        0|            0|            0|            0|            0|            0|            1|            0|            0|           0|           1|           1|           1|          0|          0|          0|          0|          0|          0|\n",
            "|google|           1|(not provided)|organic|     null|4988612949713423910|1489617360|20170315|        0|      null|   PAGE|             0|       10|     15|    40|      264371| Android Luggage Tag|        Category|      0|           1|                0|        null|      1897|                      0|             1|        4|           1|        0|            0|            0|            0|            0|            0|            1|            0|            0|           0|           1|           1|           0|          0|          0|          0|          0|          0|          0|\n",
            "|google|           1|(not provided)|organic|     null|4988612949713423910|1489617360|20170315|        0|      null|   PAGE|             0|       44|     16|     6|     1814141| Red Shine 15 oz Mug|        Category|      0|           1|                0|        null|      1897|                      0|             1|        4|           1|        0|            0|            0|            0|            0|            0|            1|            0|            0|           0|           0|           0|           0|          0|          0|          0|          0|          0|          0|\n",
            "|google|           1|(not provided)|organic|     null|4988612949713423910|1489617360|20170315|        0|      null|   PAGE|             0|       22|     15|    43|      420004|Suitcase Organize...|        Category|      0|           1|                0|        null|      1897|                      0|             1|        4|           1|        0|            0|            0|            0|            0|            0|            1|            0|            0|           0|           1|           1|           0|          0|          0|          0|          0|          0|          0|\n",
            "|google|           1|(not provided)|organic|     null|4988612949713423910|1489617360|20170315|        0|      null|   PAGE|             0|       40|     15|    47|      668793|Micro Wireless Ea...|        Category|      0|           1|                0|        null|      1897|                      0|             1|        4|           1|        0|            0|            0|            0|            0|            0|            1|            0|            0|           0|           1|           1|           1|          0|          0|          0|          0|          0|          0|\n",
            "|google|           1|(not provided)|organic|     null|4988612949713423910|1489617360|20170315|        0|      null|   PAGE|             0|       23|     15|    43|      475751|Google Water Resi...|        Category|      0|           1|                0|        null|      1897|                      0|             1|        4|           1|        0|            0|            0|            0|            0|            0|            1|            0|            0|           0|           1|           1|           0|          0|          0|          0|          0|          0|          0|\n",
            "|google|           1|(not provided)|organic|     null|4988612949713423910|1489617360|20170315|        0|      null|   PAGE|             0|        7|     15|    38|      169534|Android Journal B...|        Category|      0|           1|                0|        null|      1897|                      0|             1|        4|           1|        0|            0|            0|            0|            0|            0|            1|            0|            0|           0|           1|           1|           0|          0|          0|          0|          0|          0|          0|\n",
            "|google|           1|(not provided)|organic|     null|4988612949713423910|1489617360|20170315|        0|      null|   PAGE|             0|       10|     15|    40|      264371|      Windup Android|        Category|      0|           1|                0|        null|      1897|                      0|             1|        4|           1|        0|            0|            0|            0|            0|            0|            1|            0|            0|           0|           1|           1|           0|          0|          0|          0|          0|          0|          0|\n",
            "|google|           1|(not provided)|organic|     null|4988612949713423910|1489617360|20170315|        0|      null|   PAGE|             0|        4|     15|    36|        6901|Google Laptop Bac...|Related Products|      0|           1|                0|        null|      1897|                      0|             1|        4|           1|        0|            0|            0|            0|            0|            0|            1|            0|            0|           0|           1|           1|           0|          0|          0|          0|          0|          0|          0|\n",
            "|google|           1|(not provided)|organic|     null|4988612949713423910|1489617360|20170315|        0|      null|   PAGE|             0|       20|     15|    41|      332236|YouTube Wool Heat...|        Category|      0|           1|                0|        null|      1897|                      0|             1|        4|           1|        0|            0|            0|            0|            0|            0|            1|            0|            0|           0|           1|           1|           0|          0|          0|          0|          0|          0|          0|\n",
            "|google|           1|(not provided)|organic|     null|4988612949713423910|1489617360|20170315|        0|      null|   PAGE|             0|       22|     15|    43|      420004| Waterproof Backpack|        Category|      0|           1|                0|        null|      1897|                      0|             1|        4|           1|        0|            0|            0|            0|            0|            0|            1|            0|            0|           0|           1|           1|           0|          0|          0|          0|          0|          0|          0|\n",
            "|google|           1|(not provided)|organic|     null|4988612949713423910|1489617360|20170315|        0|      null|   PAGE|             0|       23|     15|    43|      475751|Micro Wireless Ea...|        Category|      0|           1|                0|        null|      1897|                      0|             1|        4|           1|        0|            0|            0|            0|            0|            0|            1|            0|            0|           0|           1|           1|           0|          0|          0|          0|          0|          0|          0|\n",
            "|google|           1|(not provided)|organic|     null|4988612949713423910|1489617360|20170315|        0|      null|   PAGE|             0|       28|     15|    46|      608771|Google 17oz Stain...|        Category|      0|           1|                0|        null|      1897|                      0|             1|        4|           1|        0|            0|            0|            0|            0|            0|            1|            0|            0|           0|           1|           1|           1|          0|          0|          0|          0|          0|          0|\n",
            "|google|           1|(not provided)|organic|     null|4988612949713423910|1489617360|20170315|        0|      null|   PAGE|             0|       40|     15|    47|      668793|Google G Noise-re...|        Category|      0|           1|                0|        null|      1897|                      0|             1|        4|           1|        0|            0|            0|            0|            0|            0|            1|            0|            0|           0|           1|           1|           1|          0|          0|          0|          0|          0|          0|\n",
            "|google|           1|(not provided)|organic|     null|4988612949713423910|1489617360|20170315|        0|      null|   PAGE|             0|       23|     15|    43|      475751|Google Bluetooth ...|        Category|      0|           1|                0|        null|      1897|                      0|             1|        4|           1|        0|            0|            0|            0|            0|            0|            1|            0|            0|           0|           1|           1|           0|          0|          0|          0|          0|          0|          0|\n",
            "|google|           1|(not provided)|organic|     null|4988612949713423910|1489617360|20170315|        0|      null|   PAGE|             0|       27|     15|    46|      605064|Micro Wireless Ea...|        Category|      0|           1|                0|        null|      1897|                      0|             1|        4|           1|        0|            0|            0|            0|            0|            0|            1|            0|            0|           0|           1|           1|           1|          0|          0|          0|          0|          0|          0|\n",
            "|google|           1|(not provided)|organic|     null|4988612949713423910|1489617360|20170315|        0|      null|   PAGE|             0|       45|     16|     6|     1823878|Google Insulated ...|        Category|      0|           1|                0|        null|      1897|                      0|             1|        4|           1|        0|            0|            0|            0|            0|            0|            1|            0|            0|           0|           0|           0|           0|          0|          0|          0|          0|          0|          0|\n",
            "|google|           1|(not provided)|organic|     null|4988612949713423910|1489617360|20170315|        0|      null|   PAGE|             0|       21|     15|    41|      353052|Google Women's 3/...|        Category|      0|           1|                0|        null|      1897|                      0|             1|        4|           1|        0|            0|            0|            0|            0|            0|            1|            0|            0|           0|           1|           1|           0|          0|          0|          0|          0|          0|          0|\n",
            "|google|           1|(not provided)|organic|     null|4988612949713423910|1489617360|20170315|        0|      null|   PAGE|             0|        8|     15|    39|      205833|  Bottle Opener Clip|        Category|      0|           1|                0|        null|      1897|                      0|             1|        4|           1|        0|            0|            0|            0|            0|            0|            1|            0|            0|           0|           1|           1|           0|          0|          0|          0|          0|          0|          0|\n",
            "+------+------------+--------------+-------+---------+-------------------+----------+--------+---------+----------+-------+--------------+---------+-------+------+------------+--------------------+----------------+-------+------------+-----------------+------------+----------+-----------------------+--------------+---------+------------+---------+-------------+-------------+-------------+-------------+-------------+-------------+-------------+-------------+------------+------------+------------+------------+-----------+-----------+-----------+-----------+-----------+-----------+\n",
            "only showing top 20 rows\n",
            "\n"
          ]
        }
      ]
    },
    {
      "cell_type": "code",
      "source": [
        "df2.filter(df2.hitaction_6 >= 1).groupBy('productListName').count().show()"
      ],
      "metadata": {
        "colab": {
          "base_uri": "https://localhost:8080/"
        },
        "id": "O97qy_GP_EMv",
        "outputId": "7756c96c-952e-4f54-8b15-f77681751419"
      },
      "execution_count": null,
      "outputs": [
        {
          "output_type": "stream",
          "name": "stdout",
          "text": [
            "+---------------+-----+\n",
            "|productListName|count|\n",
            "+---------------+-----+\n",
            "|      (not set)|   40|\n",
            "+---------------+-----+\n",
            "\n"
          ]
        }
      ]
    },
    {
      "cell_type": "code",
      "source": [
        "df3 = df2.groupBy('fullVisitorId', 'visitId', 'v2ProductName', \n",
        "                  'isTrueDirect', 'medium_organic', 'dayofweek',\n",
        "                  'newVisits', 'hitType_page',\n",
        "                  'hitHour_00_02', 'hitHour_03_05', 'hitHour_06_08', 'hitHour_09_11', \n",
        "                  'hitHour_12_14', 'hitHour_15_17',  'hitHour_18_20', 'hitHour_21_23', \n",
        "                  ) \\\n",
        ".agg(sum('hitaction_1').alias('sum_hitaction_1')\n",
        ", sum('hitaction_2').alias('sum_hitaction_2')\n",
        ", sum('hitaction_3').alias('sum_hitaction_3')\n",
        ", sum('hitaction_4').alias('sum_hitaction_4')\n",
        ", sum('hitaction_5').alias('sum_hitaction_5')\n",
        ", sum('hitaction_6').alias('sum_hitaction_6')\n",
        ", max('hitNumber').alias('hitNumber')\n",
        ", max('timeOnSite').alias('timeOnSite')\n",
        ", max('sessionQualityDim').alias('sessionQualityDim')\n",
        ", max('totalTransactionRevenue').alias('totalTransactionRevenue')\n",
        ", max('isClick').alias('isClick')\n",
        ", max('isImpression').alias('isImpression')\n",
        ")"
      ],
      "metadata": {
        "id": "wu0bk49AeN5P"
      },
      "execution_count": null,
      "outputs": []
    },
    {
      "cell_type": "code",
      "source": [
        "df3 = df3.withColumn('target', when(df3.sum_hitaction_6 >= 1, 1).otherwise(0))"
      ],
      "metadata": {
        "id": "Lx84yeCDtEuH"
      },
      "execution_count": null,
      "outputs": []
    },
    {
      "cell_type": "code",
      "source": [
        "df3.filter(df3.visitId == 1486131356).show(25, False)"
      ],
      "metadata": {
        "colab": {
          "base_uri": "https://localhost:8080/"
        },
        "id": "9k7FH8wF0G0o",
        "outputId": "35a3f5cf-ca85-4215-f2e9-5826a910345d"
      },
      "execution_count": null,
      "outputs": [
        {
          "output_type": "stream",
          "name": "stdout",
          "text": [
            "+-------------------+----------+---------------------------------------------------+------------+--------------+---------+---------+------------+-------------+-------------+-------------+-------------+-------------+-------------+-------------+-------------+---------------+---------------+---------------+---------------+---------------+---------------+---------+----------+-----------------+-----------------------+-------+------------+------+\n",
            "|fullVisitorId      |visitId   |v2ProductName                                      |isTrueDirect|medium_organic|dayofweek|newVisits|hitType_page|hitHour_00_02|hitHour_03_05|hitHour_06_08|hitHour_09_11|hitHour_12_14|hitHour_15_17|hitHour_18_20|hitHour_21_23|sum_hitaction_1|sum_hitaction_2|sum_hitaction_3|sum_hitaction_4|sum_hitaction_5|sum_hitaction_6|hitNumber|timeOnSite|sessionQualityDim|totalTransactionRevenue|isClick|isImpression|target|\n",
            "+-------------------+----------+---------------------------------------------------+------------+--------------+---------+---------+------------+-------------+-------------+-------------+-------------+-------------+-------------+-------------+-------------+---------------+---------------+---------------+---------------+---------------+---------------+---------+----------+-----------------+-----------------------+-------+------------+------+\n",
            "|4995924842281653133|1486131356|Google Men's Pullover Hoodie Grey                  |1           |0             |6        |0        |1           |0            |0            |1            |0            |0            |0            |0            |0            |0              |1              |0              |0              |1              |1              |30       |360       |0                |128970000              |0      |0           |1     |\n",
            "|4995924842281653133|1486131356|Google Women's Lightweight Microfleece Jacket      |1           |0             |6        |0        |1           |0            |0            |1            |0            |0            |0            |0            |0            |0              |0              |0              |0              |0              |0              |16       |360       |0                |128970000              |0      |1           |0     |\n",
            "|4995924842281653133|1486131356|Google Men's  Zip Hoodie                           |1           |0             |6        |0        |1           |0            |0            |1            |0            |0            |0            |0            |0            |0              |0              |0              |0              |0              |0              |3        |360       |0                |128970000              |0      |1           |0     |\n",
            "|4995924842281653133|1486131356|Google Women's 1/4 Zip Jacket Charcoal             |1           |0             |6        |0        |1           |0            |0            |1            |0            |0            |0            |0            |0            |0              |0              |0              |0              |0              |0              |16       |360       |0                |128970000              |0      |1           |0     |\n",
            "|4995924842281653133|1486131356|Google Men's Quilted Insulated Vest Black          |1           |0             |6        |0        |1           |0            |0            |1            |0            |0            |0            |0            |0            |0              |0              |0              |0              |0              |0              |10       |360       |0                |128970000              |0      |1           |0     |\n",
            "|4995924842281653133|1486131356|Google Men's Microfiber 1/4 Zip Pullover Grey/Black|1           |0             |6        |0        |1           |0            |0            |1            |0            |0            |0            |0            |0            |0              |0              |0              |0              |0              |0              |10       |360       |0                |128970000              |0      |1           |0     |\n",
            "|4995924842281653133|1486131356|Google Women's Fleece Hoodie                       |1           |0             |6        |0        |1           |0            |0            |1            |0            |0            |0            |0            |0            |0              |0              |0              |0              |1              |1              |30       |360       |0                |128970000              |0      |1           |1     |\n",
            "|4995924842281653133|1486131356|Google Women's Insulated Thermal Vest Navy         |1           |0             |6        |0        |1           |0            |0            |1            |0            |0            |0            |0            |0            |0              |0              |0              |0              |0              |0              |16       |360       |0                |128970000              |0      |1           |0     |\n",
            "|4995924842281653133|1486131356|Google Men's Convertible Vest-Jacket Pewter        |1           |0             |6        |0        |1           |0            |0            |1            |0            |0            |0            |0            |0            |0              |0              |0              |0              |0              |0              |10       |360       |0                |128970000              |0      |1           |0     |\n",
            "|4995924842281653133|1486131356|Google Men's Weatherblock Shell Jacket Black       |1           |0             |6        |0        |1           |0            |0            |1            |0            |0            |0            |0            |0            |0              |0              |0              |0              |0              |0              |10       |360       |0                |128970000              |0      |1           |0     |\n",
            "|4995924842281653133|1486131356|Android Men's  Zip Hoodie                          |1           |0             |6        |0        |1           |0            |0            |1            |0            |0            |0            |0            |0            |0              |0              |0              |0              |0              |0              |3        |360       |0                |128970000              |0      |1           |0     |\n",
            "|4995924842281653133|1486131356|Android Women's Long Sleeve Blended Cardigan Grey  |1           |0             |6        |0        |1           |0            |0            |1            |0            |0            |0            |0            |0            |0              |0              |0              |0              |0              |0              |16       |360       |0                |128970000              |0      |1           |0     |\n",
            "|4995924842281653133|1486131356|Google Tri-blend Hoodie Grey                       |1           |0             |6        |0        |1           |0            |0            |1            |0            |0            |0            |0            |0            |0              |0              |0              |0              |0              |0              |10       |360       |0                |128970000              |0      |1           |0     |\n",
            "+-------------------+----------+---------------------------------------------------+------------+--------------+---------+---------+------------+-------------+-------------+-------------+-------------+-------------+-------------+-------------+-------------+---------------+---------------+---------------+---------------+---------------+---------------+---------+----------+-----------------+-----------------------+-------+------------+------+\n",
            "\n"
          ]
        }
      ]
    },
    {
      "cell_type": "code",
      "source": [
        "df3.describe().show()"
      ],
      "metadata": {
        "colab": {
          "base_uri": "https://localhost:8080/"
        },
        "id": "Nys18fuC2IZq",
        "outputId": "a0a76135-5180-405b-bfb9-d355d2650e23"
      },
      "execution_count": null,
      "outputs": [
        {
          "output_type": "stream",
          "name": "stdout",
          "text": [
            "+-------+--------------------+--------------------+--------------------+------------------+------------------+-----------------+------------------+-------------------+-------------------+-------------------+-------------------+-------------------+-------------------+------------------+-------------------+------------------+--------------------+--------------------+--------------------+--------------------+--------------------+--------------------+-----------------+-----------------+------------------+-----------------------+--------------------+-------------------+--------------------+\n",
            "|summary|       fullVisitorId|             visitId|       v2ProductName|      isTrueDirect|    medium_organic|        dayofweek|         newVisits|       hitType_page|      hitHour_00_02|      hitHour_03_05|      hitHour_06_08|      hitHour_09_11|      hitHour_12_14|     hitHour_15_17|      hitHour_18_20|     hitHour_21_23|     sum_hitaction_1|     sum_hitaction_2|     sum_hitaction_3|     sum_hitaction_4|     sum_hitaction_5|     sum_hitaction_6|        hitNumber|       timeOnSite| sessionQualityDim|totalTransactionRevenue|             isClick|       isImpression|              target|\n",
            "+-------+--------------------+--------------------+--------------------+------------------+------------------+-----------------+------------------+-------------------+-------------------+-------------------+-------------------+-------------------+-------------------+------------------+-------------------+------------------+--------------------+--------------------+--------------------+--------------------+--------------------+--------------------+-----------------+-----------------+------------------+-----------------------+--------------------+-------------------+--------------------+\n",
            "|  count|                7617|                7617|                7617|              7617|              7617|             7617|              7617|               7617|               7617|               7617|               7617|               7617|               7617|              7617|               7617|              7617|                7617|                7617|                7617|                7617|                7617|                7617|             7617|             7617|              7617|                   7617|                7617|               7617|                7617|\n",
            "|   mean|4.449349002104861...|1.4851405113559144E9|                null|0.3269003544702639| 0.398188263095707|3.703689116450046|0.7412367073651044| 0.9776815019036366|0.05894709203098333|0.07102533805960352|0.14703951687015884|0.23972692661152684|0.13653669423657608|0.1450702376263621|0.08336615465406327| 0.118288039910726|0.027569909413154785|0.021399501115924906|0.007745831692267297|0.002625705658395...|0.009189969804384928|0.005251411316791...|8.075882893527636|387.3942497046081|0.9569384272023106|     1947462.2554811605|0.017198372062491793|  0.978075357752396|0.002625705658395...|\n",
            "| stddev|1.470660423994067...|   9238452.484933373|                null|0.4691112917702084|0.4895567738531073|1.728416812128363|0.4379840584771589|0.14772693664443537|0.23554111324599095|0.25688402607119326|0.35416855473934045| 0.4269447952537219|0.34338011765212445|0.3521947594139856| 0.2764530205244161|0.3229700819733109|  0.2354512248503144| 0.18459296912044248|   0.104106212385313| 0.05607464015715315|   0.186660129524234| 0.10613404668122671|9.457057825300327|558.7784777710048|7.8426278391786886|   1.0417519797423013E7| 0.13001848873647112|0.14644715072311001| 0.05117768248680862|\n",
            "|    min|   49898505875812980|          1470106850| 1 oz Hand Sanitizer|                 0|                 0|                1|                 0|                  0|                  0|                  0|                  0|                  0|                  0|                 0|                  0|                 0|                   0|                   0|                   0|                   0|                   0|                   0|                1|                0|                 0|                      0|                   0|                  0|                   0|\n",
            "|    max| 4995924842281653133|          1501649190|YouTube Youth Sho...|                 1|                 1|                7|                 1|                  1|                  1|                  1|                  1|                  1|                  1|                 1|                  1|                 1|                   6|                   5|                   5|                   2|                   8|                   4|               56|             3514|                79|              128970000|                   1|                  1|                   1|\n",
            "+-------+--------------------+--------------------+--------------------+------------------+------------------+-----------------+------------------+-------------------+-------------------+-------------------+-------------------+-------------------+-------------------+------------------+-------------------+------------------+--------------------+--------------------+--------------------+--------------------+--------------------+--------------------+-----------------+-----------------+------------------+-----------------------+--------------------+-------------------+--------------------+\n",
            "\n"
          ]
        }
      ]
    },
    {
      "cell_type": "code",
      "source": [
        "df3.select([count(when(isnan(c), c)).alias(c) for c in df3.columns]).show()"
      ],
      "metadata": {
        "colab": {
          "base_uri": "https://localhost:8080/"
        },
        "id": "xceoVVL1Dh_C",
        "outputId": "adbb8a38-6065-426c-8689-6135670e08be"
      },
      "execution_count": null,
      "outputs": [
        {
          "output_type": "stream",
          "name": "stdout",
          "text": [
            "+-------------+-------+-------------+------------+--------------+---------+---------+------------+-------------+-------------+-------------+-------------+-------------+-------------+-------------+-------------+---------------+---------------+---------------+---------------+---------------+---------------+---------+----------+-----------------+-----------------------+-------+------------+------+\n",
            "|fullVisitorId|visitId|v2ProductName|isTrueDirect|medium_organic|dayofweek|newVisits|hitType_page|hitHour_00_02|hitHour_03_05|hitHour_06_08|hitHour_09_11|hitHour_12_14|hitHour_15_17|hitHour_18_20|hitHour_21_23|sum_hitaction_1|sum_hitaction_2|sum_hitaction_3|sum_hitaction_4|sum_hitaction_5|sum_hitaction_6|hitNumber|timeOnSite|sessionQualityDim|totalTransactionRevenue|isClick|isImpression|target|\n",
            "+-------------+-------+-------------+------------+--------------+---------+---------+------------+-------------+-------------+-------------+-------------+-------------+-------------+-------------+-------------+---------------+---------------+---------------+---------------+---------------+---------------+---------+----------+-----------------+-----------------------+-------+------------+------+\n",
            "|            0|      0|            0|           0|             0|        0|        0|           0|            0|            0|            0|            0|            0|            0|            0|            0|              0|              0|              0|              0|              0|              0|        0|         0|                0|                      0|      0|           0|     0|\n",
            "+-------------+-------+-------------+------------+--------------+---------+---------+------------+-------------+-------------+-------------+-------------+-------------+-------------+-------------+-------------+---------------+---------------+---------------+---------------+---------------+---------------+---------+----------+-----------------+-----------------------+-------+------------+------+\n",
            "\n"
          ]
        }
      ]
    },
    {
      "cell_type": "code",
      "source": [
        "df3.printSchema()"
      ],
      "metadata": {
        "colab": {
          "base_uri": "https://localhost:8080/"
        },
        "id": "i_oT-40t3h3w",
        "outputId": "a2ffc4b0-ca2c-4364-bb55-b8a7b4d91310"
      },
      "execution_count": null,
      "outputs": [
        {
          "output_type": "stream",
          "name": "stdout",
          "text": [
            "root\n",
            " |-- fullVisitorId: long (nullable = true)\n",
            " |-- visitId: integer (nullable = true)\n",
            " |-- v2ProductName: string (nullable = true)\n",
            " |-- isTrueDirect: integer (nullable = false)\n",
            " |-- medium_organic: integer (nullable = false)\n",
            " |-- dayofweek: integer (nullable = true)\n",
            " |-- newVisits: integer (nullable = false)\n",
            " |-- hitType_page: integer (nullable = false)\n",
            " |-- hitHour_00_02: integer (nullable = false)\n",
            " |-- hitHour_03_05: integer (nullable = false)\n",
            " |-- hitHour_06_08: integer (nullable = false)\n",
            " |-- hitHour_09_11: integer (nullable = false)\n",
            " |-- hitHour_12_14: integer (nullable = false)\n",
            " |-- hitHour_15_17: integer (nullable = false)\n",
            " |-- hitHour_18_20: integer (nullable = false)\n",
            " |-- hitHour_21_23: integer (nullable = false)\n",
            " |-- sum_hitaction_1: long (nullable = true)\n",
            " |-- sum_hitaction_2: long (nullable = true)\n",
            " |-- sum_hitaction_3: long (nullable = true)\n",
            " |-- sum_hitaction_4: long (nullable = true)\n",
            " |-- sum_hitaction_5: long (nullable = true)\n",
            " |-- sum_hitaction_6: long (nullable = true)\n",
            " |-- hitNumber: integer (nullable = true)\n",
            " |-- timeOnSite: integer (nullable = true)\n",
            " |-- sessionQualityDim: integer (nullable = true)\n",
            " |-- totalTransactionRevenue: integer (nullable = true)\n",
            " |-- isClick: integer (nullable = true)\n",
            " |-- isImpression: integer (nullable = true)\n",
            " |-- target: integer (nullable = false)\n",
            "\n"
          ]
        }
      ]
    },
    {
      "cell_type": "code",
      "source": [
        "df3.groupBy('sum_hitaction_1', 'target').count().sort('sum_hitaction_1').show()"
      ],
      "metadata": {
        "colab": {
          "base_uri": "https://localhost:8080/"
        },
        "id": "CQ8bs93SrFcF",
        "outputId": "5509035a-3e86-4c95-a9a6-d66107dde632"
      },
      "execution_count": null,
      "outputs": [
        {
          "output_type": "stream",
          "name": "stdout",
          "text": [
            "+---------------+------+-----+\n",
            "|sum_hitaction_1|target|count|\n",
            "+---------------+------+-----+\n",
            "|              0|     1|   20|\n",
            "|              0|     0| 7466|\n",
            "|              1|     0|   71|\n",
            "|              2|     0|   48|\n",
            "|              3|     0|    8|\n",
            "|              4|     0|    2|\n",
            "|              5|     0|    1|\n",
            "|              6|     0|    1|\n",
            "+---------------+------+-----+\n",
            "\n"
          ]
        }
      ]
    },
    {
      "cell_type": "code",
      "source": [
        "df3.groupBy('sum_hitaction_2', 'target').count().sort('sum_hitaction_2').show()"
      ],
      "metadata": {
        "colab": {
          "base_uri": "https://localhost:8080/"
        },
        "id": "X8hLxvlQtvuo",
        "outputId": "a1e42a5d-242d-449e-dce6-7413118df87f"
      },
      "execution_count": null,
      "outputs": [
        {
          "output_type": "stream",
          "name": "stdout",
          "text": [
            "+---------------+------+-----+\n",
            "|sum_hitaction_2|target|count|\n",
            "+---------------+------+-----+\n",
            "|              0|     1|    6|\n",
            "|              0|     0| 7478|\n",
            "|              1|     1|   13|\n",
            "|              1|     0|  103|\n",
            "|              2|     1|    1|\n",
            "|              2|     0|    8|\n",
            "|              3|     0|    5|\n",
            "|              4|     0|    1|\n",
            "|              5|     0|    2|\n",
            "+---------------+------+-----+\n",
            "\n"
          ]
        }
      ]
    },
    {
      "cell_type": "code",
      "source": [
        "df3.groupBy('sum_hitaction_3', 'target').count().sort('sum_hitaction_3').show()"
      ],
      "metadata": {
        "colab": {
          "base_uri": "https://localhost:8080/"
        },
        "id": "MX_-NZztuPY9",
        "outputId": "33eb56e8-9b03-4cea-ccb4-ae8c619a8251"
      },
      "execution_count": null,
      "outputs": [
        {
          "output_type": "stream",
          "name": "stdout",
          "text": [
            "+---------------+------+-----+\n",
            "|sum_hitaction_3|target|count|\n",
            "+---------------+------+-----+\n",
            "|              0|     1|   20|\n",
            "|              0|     0| 7544|\n",
            "|              1|     0|   50|\n",
            "|              2|     0|    2|\n",
            "|              5|     0|    1|\n",
            "+---------------+------+-----+\n",
            "\n"
          ]
        }
      ]
    },
    {
      "cell_type": "code",
      "source": [
        "df3.groupBy('sum_hitaction_4', 'target').count().sort('sum_hitaction_4').show()"
      ],
      "metadata": {
        "colab": {
          "base_uri": "https://localhost:8080/"
        },
        "id": "ABlgtL8quQel",
        "outputId": "41cd527d-264f-4f6c-8db0-1531488f28f0"
      },
      "execution_count": null,
      "outputs": [
        {
          "output_type": "stream",
          "name": "stdout",
          "text": [
            "+---------------+------+-----+\n",
            "|sum_hitaction_4|target|count|\n",
            "+---------------+------+-----+\n",
            "|              0|     0| 7579|\n",
            "|              0|     1|   20|\n",
            "|              1|     0|   16|\n",
            "|              2|     0|    2|\n",
            "+---------------+------+-----+\n",
            "\n"
          ]
        }
      ]
    },
    {
      "cell_type": "code",
      "source": [
        "df3.groupBy('sum_hitaction_5', 'target').count().sort('sum_hitaction_5').show()"
      ],
      "metadata": {
        "colab": {
          "base_uri": "https://localhost:8080/"
        },
        "id": "vVvqKMj2uQ42",
        "outputId": "d9362d70-db36-4447-ed3a-8e796b0662cb"
      },
      "execution_count": null,
      "outputs": [
        {
          "output_type": "stream",
          "name": "stdout",
          "text": [
            "+---------------+------+-----+\n",
            "|sum_hitaction_5|target|count|\n",
            "+---------------+------+-----+\n",
            "|              0|     0| 7593|\n",
            "|              1|     1|    3|\n",
            "|              1|     0|    2|\n",
            "|              2|     1|    5|\n",
            "|              2|     0|    1|\n",
            "|              3|     1|    3|\n",
            "|              3|     0|    1|\n",
            "|              4|     1|    7|\n",
            "|              5|     1|    1|\n",
            "|              8|     1|    1|\n",
            "+---------------+------+-----+\n",
            "\n"
          ]
        }
      ]
    },
    {
      "cell_type": "markdown",
      "source": [
        "## Data Encoding"
      ],
      "metadata": {
        "id": "pxz2VF4dPScX"
      }
    },
    {
      "cell_type": "code",
      "source": [
        "# productList_indexer = StringIndexer(inputCol='productListName', outputCol='productList_index')\n",
        "# productList_ohe = OneHotEncoder(inputCol='productList_index', outputCol='productList_vec')"
      ],
      "metadata": {
        "id": "XHR7ND2ww6h4"
      },
      "execution_count": null,
      "outputs": []
    },
    {
      "cell_type": "code",
      "source": [
        "# onehot_encoder = OneHotEncoder(inputCols=['hitAction_type', 'dayofweek'], outputCols=['hitAction_type_vec', 'dayofweek_vec'])\n",
        "onehot_encoder = OneHotEncoder(inputCols=['dayofweek'], outputCols=['dayofweek_vec'])"
      ],
      "metadata": {
        "id": "wfdEJg2uIAjr"
      },
      "execution_count": null,
      "outputs": []
    },
    {
      "cell_type": "code",
      "source": [
        "label_stringIdx = StringIndexer(inputCol = 'target', outputCol = 'label')"
      ],
      "metadata": {
        "id": "NJf6Ya4uKuLW"
      },
      "execution_count": null,
      "outputs": []
    },
    {
      "cell_type": "code",
      "source": [
        "df3.schema.names"
      ],
      "metadata": {
        "colab": {
          "base_uri": "https://localhost:8080/"
        },
        "id": "irKNLCkJ_6cV",
        "outputId": "bf552c1e-1b8c-4e7d-b4e0-cf5ded84cb8d"
      },
      "execution_count": null,
      "outputs": [
        {
          "output_type": "execute_result",
          "data": {
            "text/plain": [
              "['fullVisitorId',\n",
              " 'visitId',\n",
              " 'v2ProductName',\n",
              " 'isTrueDirect',\n",
              " 'medium_organic',\n",
              " 'dayofweek',\n",
              " 'newVisits',\n",
              " 'hitType_page',\n",
              " 'hitHour_00_02',\n",
              " 'hitHour_03_05',\n",
              " 'hitHour_06_08',\n",
              " 'hitHour_09_11',\n",
              " 'hitHour_12_14',\n",
              " 'hitHour_15_17',\n",
              " 'hitHour_18_20',\n",
              " 'hitHour_21_23',\n",
              " 'sum_hitaction_1',\n",
              " 'sum_hitaction_2',\n",
              " 'sum_hitaction_3',\n",
              " 'sum_hitaction_4',\n",
              " 'sum_hitaction_5',\n",
              " 'sum_hitaction_6',\n",
              " 'hitNumber',\n",
              " 'timeOnSite',\n",
              " 'sessionQualityDim',\n",
              " 'totalTransactionRevenue',\n",
              " 'isClick',\n",
              " 'isImpression',\n",
              " 'target']"
            ]
          },
          "metadata": {},
          "execution_count": 145
        }
      ]
    },
    {
      "cell_type": "code",
      "source": [
        "# vector_assembler = VectorAssembler\\\n",
        "# (inputCols = ['isTrueDirect', 'newVisits', 'hitAction_type_vec', 'hitNumber', 'isClick', 'isImpression', 'sessionQualityDim', 'timeOnSite', 'totalTransactionRevenue', \\\n",
        "#  'medium_organic', 'hitType_page', 'hitHour_00_02', 'hitHour_03_05', 'hitHour_06_08', 'hitHour_09_11', 'hitHour_12_14', 'hitHour_15_17', 'hitHour_18_20', \\\n",
        "#  'hitHour_21_23', 'hitMin_00_14', 'hitMin_15_29', 'hitMin_30_44', 'hitMin_45_60', \\\n",
        "#  'dayofweek_vec', 'hitAction_type_vec', 'productList_vec'], outputCol = 'features')"
      ],
      "metadata": {
        "id": "_96sxOWG93Ni"
      },
      "execution_count": null,
      "outputs": []
    },
    {
      "cell_type": "code",
      "source": [
        "vector_assembler = VectorAssembler\\\n",
        "(inputCols = ['isTrueDirect',\n",
        " 'medium_organic',\n",
        " 'dayofweek_vec',\n",
        " 'newVisits',\n",
        " 'hitType_page',\n",
        " 'hitHour_00_02',\n",
        " 'hitHour_03_05',\n",
        " 'hitHour_06_08',\n",
        " 'hitHour_09_11',\n",
        " 'hitHour_12_14',\n",
        " 'hitHour_15_17',\n",
        " 'hitHour_18_20',\n",
        " 'hitHour_21_23',\n",
        " 'sum_hitaction_1',\n",
        " 'sum_hitaction_2',\n",
        " 'sum_hitaction_3',\n",
        " 'sum_hitaction_4',\n",
        "#  'sum_hitaction_5',\n",
        "#  'sum_hitaction_6',\n",
        " 'hitNumber',\n",
        " 'timeOnSite',\n",
        " 'sessionQualityDim',\n",
        " 'isClick',\n",
        " 'isImpression'], outputCol = 'features')"
      ],
      "metadata": {
        "id": "aHFZAGYPALvj"
      },
      "execution_count": null,
      "outputs": []
    },
    {
      "cell_type": "code",
      "source": [
        "# pipeline = Pipeline(stages=[productList_indexer, productList_ohe, onehot_encoder, label_stringIdx, vector_assembler])\n",
        "pipeline = Pipeline(stages=[onehot_encoder, label_stringIdx, vector_assembler])\n"
      ],
      "metadata": {
        "id": "pTfJquqbIYn1"
      },
      "execution_count": null,
      "outputs": []
    },
    {
      "cell_type": "code",
      "source": [
        "final_df = pipeline.fit(df3).transform(df3)\n",
        "final_df.show()"
      ],
      "metadata": {
        "colab": {
          "base_uri": "https://localhost:8080/"
        },
        "id": "H4Bsa0_IIvvb",
        "outputId": "aab5ffe8-088c-4754-de7c-6e9ea206d1c2"
      },
      "execution_count": null,
      "outputs": [
        {
          "output_type": "stream",
          "name": "stdout",
          "text": [
            "+-------------------+----------+--------------------+------------+--------------+---------+---------+------------+-------------+-------------+-------------+-------------+-------------+-------------+-------------+-------------+---------------+---------------+---------------+---------------+---------------+---------------+---------+----------+-----------------+-----------------------+-------+------------+------+-------------+-----+--------------------+\n",
            "|      fullVisitorId|   visitId|       v2ProductName|isTrueDirect|medium_organic|dayofweek|newVisits|hitType_page|hitHour_00_02|hitHour_03_05|hitHour_06_08|hitHour_09_11|hitHour_12_14|hitHour_15_17|hitHour_18_20|hitHour_21_23|sum_hitaction_1|sum_hitaction_2|sum_hitaction_3|sum_hitaction_4|sum_hitaction_5|sum_hitaction_6|hitNumber|timeOnSite|sessionQualityDim|totalTransactionRevenue|isClick|isImpression|target|dayofweek_vec|label|            features|\n",
            "+-------------------+----------+--------------------+------------+--------------+---------+---------+------------+-------------+-------------+-------------+-------------+-------------+-------------+-------------+-------------+---------------+---------------+---------------+---------------+---------------+---------------+---------+----------+-----------------+-----------------------+-------+------------+------+-------------+-----+--------------------+\n",
            "|4988612949713423910|1490043910| Red Shine 15 oz Mug|           1|             1|        2|        0|           1|            0|            0|            0|            0|            1|            0|            0|            0|              0|              1|              0|              0|              4|              2|       26|      1721|                0|               36980000|      0|           1|     1|(7,[2],[1.0])|  1.0|(28,[0,1,4,10,15,...|\n",
            "|4988678797334870432|1482090260|Google Men's Perf...|           0|             0|        1|        1|           1|            0|            0|            0|            1|            0|            0|            0|            0|              0|              0|              0|              0|              0|              0|        4|       487|                0|                      0|      0|           1|     0|(7,[1],[1.0])|  0.0|(28,[3,9,10,14,23...|\n",
            "|4988726250599795681|1498359792|   Google Power Bank|           0|             0|        7|        1|           1|            0|            0|            0|            0|            0|            0|            1|            0|              0|              0|              0|              0|              0|              0|        6|        87|                0|                      0|      0|           1|     0|    (7,[],[])|  0.0|(28,[9,10,17,23,2...|\n",
            "|4988969836981282102|1499259209| Google RFID Journal|           1|             0|        4|        1|           1|            0|            1|            0|            0|            0|            0|            0|            0|              0|              0|              0|              0|              0|              0|        1|         0|                1|                      0|      0|           1|     0|(7,[4],[1.0])|  0.0|(28,[0,6,9,10,12,...|\n",
            "|4989128074131027088|1499254061|22 oz YouTube Bot...|           0|             0|        4|        1|           1|            0|            1|            0|            0|            0|            0|            0|            0|              0|              0|              0|              0|              0|              0|        1|         0|                1|                      0|      0|           1|     0|(7,[4],[1.0])|  0.0|(28,[6,9,10,12,23...|\n",
            "|4989396316959402298|1498665257|Google 25 oz Red ...|           0|             0|        4|        1|           1|            0|            0|            1|            0|            0|            0|            0|            0|              0|              0|              0|              0|              0|              0|        3|        86|                0|                      0|      0|           1|     0|(7,[4],[1.0])|  0.0|(28,[6,9,10,13,23...|\n",
            "|4990198874063509353|1477021389|26 oz Double Wall...|           0|             0|        5|        1|           1|            0|            0|            0|            0|            0|            0|            1|            0|              0|              0|              0|              0|              0|              0|       52|       875|                0|               29980000|      0|           1|     0|(7,[5],[1.0])|  0.0|(28,[7,9,10,17,23...|\n",
            "|4990224662018269743|1496756819|Google Men's Quil...|           0|             0|        3|        1|           1|            0|            0|            1|            0|            0|            0|            0|            0|              0|              0|              0|              0|              0|              0|        1|        14|                0|                      0|      0|           1|     0|(7,[3],[1.0])|  0.0|(28,[5,9,10,13,23...|\n",
            "|4990224662018269743|1496756819|YouTube Custom De...|           0|             0|        3|        1|           1|            0|            0|            1|            0|            0|            0|            0|            0|              0|              0|              0|              0|              0|              0|        2|        14|                0|                      0|      0|           1|     0|(7,[3],[1.0])|  0.0|(28,[5,9,10,13,23...|\n",
            "|4990224662018269743|1496756819|Google Men's Wate...|           0|             0|        3|        1|           1|            0|            0|            1|            0|            0|            0|            0|            0|              0|              0|              0|              0|              0|              0|        1|        14|                0|                      0|      0|           1|     0|(7,[3],[1.0])|  0.0|(28,[5,9,10,13,23...|\n",
            "|4990257633001131707|1485540848|Google Women's Sh...|           0|             0|        6|        1|           1|            0|            0|            0|            1|            0|            0|            0|            0|              0|              0|              0|              0|              0|              0|       25|       867|                0|                      0|      0|           1|     0|(7,[6],[1.0])|  0.0|(28,[8,9,10,14,23...|\n",
            "| 499053624239186718|1499280930|Android Stretch F...|           0|             0|        4|        1|           1|            0|            0|            0|            1|            0|            0|            0|            0|              0|              0|              0|              0|              0|              0|        1|         0|                1|                      0|      0|           1|     0|(7,[4],[1.0])|  0.0|(28,[6,9,10,14,23...|\n",
            "|4990634493822624181|1492621822| Android Luggage Tag|           0|             0|        4|        1|           1|            0|            0|            0|            1|            0|            0|            0|            0|              0|              0|              0|              0|              0|              0|       37|      1966|                0|                      0|      0|           1|     0|(7,[4],[1.0])|  0.0|(28,[6,9,10,14,23...|\n",
            "|4990803917337260315|1477067425|Google 17oz Stain...|           1|             0|        6|        0|           1|            0|            0|            0|            1|            0|            0|            0|            0|              0|              0|              0|              0|              0|              0|       10|       537|                0|                      0|      0|           1|     0|(7,[6],[1.0])|  0.0|(28,[0,8,10,14,23...|\n",
            "|4991105026836415438|1488300417|    Google Twill Cap|           0|             1|        3|        1|           1|            0|            0|            1|            0|            0|            0|            0|            0|              0|              0|              0|              0|              0|              0|       16|       436|                0|                      0|      0|           1|     0|(7,[3],[1.0])|  0.0|(28,[1,5,9,10,13,...|\n",
            "| 499124294013106751|1486481439|Women's YouTube S...|           1|             0|        3|        0|           1|            0|            0|            1|            0|            0|            0|            0|            0|              0|              0|              0|              0|              0|              0|       11|       394|                0|                      0|      0|           1|     0|(7,[3],[1.0])|  0.0|(28,[0,5,10,13,23...|\n",
            "|4991508383848014634|1498253209|Women's YouTube S...|           1|             0|        6|        1|           1|            0|            0|            0|            0|            1|            0|            0|            0|              0|              0|              0|              0|              0|              0|        1|         0|                0|                      0|      0|           1|     0|(7,[6],[1.0])|  0.0|(28,[0,8,9,10,15,...|\n",
            "|4991710110216617350|1471605830|Google Men's Vint...|           1|             0|        6|        1|           1|            0|            1|            0|            0|            0|            0|            0|            0|              0|              0|              0|              0|              0|              0|        1|         0|                0|                      0|      0|           1|     0|(7,[6],[1.0])|  0.0|(28,[0,8,9,10,12,...|\n",
            "|4991710110216617350|1471605830|Android Men's Vin...|           1|             0|        6|        1|           1|            0|            1|            0|            0|            0|            0|            0|            0|              0|              0|              0|              0|              0|              0|        1|         0|                0|                      0|      0|           1|     0|(7,[6],[1.0])|  0.0|(28,[0,8,9,10,12,...|\n",
            "|4992499749003799871|1472235854|Google Men's 100%...|           0|             1|        6|        1|           1|            0|            0|            0|            1|            0|            0|            0|            0|              0|              0|              0|              0|              0|              0|       11|       674|                0|                      0|      0|           1|     0|(7,[6],[1.0])|  0.0|(28,[1,8,9,10,14,...|\n",
            "+-------------------+----------+--------------------+------------+--------------+---------+---------+------------+-------------+-------------+-------------+-------------+-------------+-------------+-------------+-------------+---------------+---------------+---------------+---------------+---------------+---------------+---------+----------+-----------------+-----------------------+-------+------------+------+-------------+-----+--------------------+\n",
            "only showing top 20 rows\n",
            "\n"
          ]
        }
      ]
    },
    {
      "cell_type": "markdown",
      "source": [
        "## Split data"
      ],
      "metadata": {
        "id": "8n7AtuvkS2_-"
      }
    },
    {
      "cell_type": "code",
      "source": [
        "train_df, test_df = final_df.randomSplit([0.8, 0.2], seed=49)\n",
        "print(\"Training Dataset: \" + str(train_df.count()))\n",
        "print(\"Test Dataset: \" + str(test_df.count()))"
      ],
      "metadata": {
        "colab": {
          "base_uri": "https://localhost:8080/"
        },
        "id": "3Eu3D6tkS0K1",
        "outputId": "84d3ec2a-e605-45a3-dbc2-14931d868c23"
      },
      "execution_count": null,
      "outputs": [
        {
          "output_type": "stream",
          "name": "stdout",
          "text": [
            "Training Dataset: 6065\n",
            "Test Dataset: 1552\n"
          ]
        }
      ]
    },
    {
      "cell_type": "code",
      "source": [
        "train_df.groupBy('label').count().show()"
      ],
      "metadata": {
        "colab": {
          "base_uri": "https://localhost:8080/"
        },
        "id": "YfmB0yT-YLmH",
        "outputId": "83f07959-d35d-4987-ed39-6f6ea0a1e347"
      },
      "execution_count": null,
      "outputs": [
        {
          "output_type": "stream",
          "name": "stdout",
          "text": [
            "+-----+-----+\n",
            "|label|count|\n",
            "+-----+-----+\n",
            "|  0.0| 6047|\n",
            "|  1.0|   18|\n",
            "+-----+-----+\n",
            "\n"
          ]
        }
      ]
    },
    {
      "cell_type": "code",
      "source": [
        "test_df.groupBy('label').count().show()"
      ],
      "metadata": {
        "id": "lVTS3ynKYUIf",
        "outputId": "2c40f43e-ac02-4266-bfad-fba069d6c4a4",
        "colab": {
          "base_uri": "https://localhost:8080/"
        }
      },
      "execution_count": null,
      "outputs": [
        {
          "output_type": "stream",
          "name": "stdout",
          "text": [
            "+-----+-----+\n",
            "|label|count|\n",
            "+-----+-----+\n",
            "|  0.0| 1550|\n",
            "|  1.0|    2|\n",
            "+-----+-----+\n",
            "\n"
          ]
        }
      ]
    },
    {
      "cell_type": "markdown",
      "source": [
        "## Oversampling"
      ],
      "metadata": {
        "id": "kQ7Wji5mBqOd"
      }
    },
    {
      "cell_type": "code",
      "source": [
        "balanceRatio = train_df.filter(col('label') == 1).count() / train_df.count()"
      ],
      "metadata": {
        "id": "oKx_ak-SBpvk"
      },
      "execution_count": null,
      "outputs": []
    },
    {
      "cell_type": "code",
      "source": [
        "balanceRatio"
      ],
      "metadata": {
        "colab": {
          "base_uri": "https://localhost:8080/"
        },
        "id": "57yxF9McFR0O",
        "outputId": "6740474b-38d4-4091-f664-0befad179033"
      },
      "execution_count": null,
      "outputs": [
        {
          "output_type": "execute_result",
          "data": {
            "text/plain": [
              "0.002967848309975268"
            ]
          },
          "metadata": {},
          "execution_count": 196
        }
      ]
    },
    {
      "cell_type": "code",
      "source": [
        "calWeight = udf(lambda x: 1 * balanceRatio if x == 0 else (1 * (1.0 - balanceRatio)), DoubleType())"
      ],
      "metadata": {
        "id": "yh8IraJgFWvX"
      },
      "execution_count": null,
      "outputs": []
    },
    {
      "cell_type": "code",
      "source": [
        "weighted_df = train_df.withColumn('class_weight', calWeight('label'))"
      ],
      "metadata": {
        "id": "RlXlx1D1F4dg"
      },
      "execution_count": null,
      "outputs": []
    },
    {
      "cell_type": "markdown",
      "source": [
        "# 4. Modeling"
      ],
      "metadata": {
        "id": "eTmn1_BWP09F"
      }
    },
    {
      "cell_type": "code",
      "source": [
        "rf = RandomForestClassifier(labelCol='label', featuresCol='features', weightCol='class_weight', seed=49)"
      ],
      "metadata": {
        "id": "1-zY8HgZ6vc0"
      },
      "execution_count": null,
      "outputs": []
    },
    {
      "cell_type": "code",
      "source": [
        "rfModel = rf.fit(weighted_df)"
      ],
      "metadata": {
        "id": "Z7qKvgiVMPeA"
      },
      "execution_count": null,
      "outputs": []
    },
    {
      "cell_type": "code",
      "source": [
        "result_df = rfModel.transform(test_df.dropna())"
      ],
      "metadata": {
        "id": "2ixQ3FTAMwB4"
      },
      "execution_count": null,
      "outputs": []
    },
    {
      "cell_type": "code",
      "source": [
        "result_df.select(['label', 'prediction']).filter(result_df.label == 1).show()"
      ],
      "metadata": {
        "colab": {
          "base_uri": "https://localhost:8080/"
        },
        "id": "Uw42lnZgQ50W",
        "outputId": "67234710-f412-4d4c-c640-bc99ed20a21a"
      },
      "execution_count": null,
      "outputs": [
        {
          "output_type": "stream",
          "name": "stdout",
          "text": [
            "+-----+----------+\n",
            "|label|prediction|\n",
            "+-----+----------+\n",
            "|  1.0|       1.0|\n",
            "|  1.0|       0.0|\n",
            "+-----+----------+\n",
            "\n"
          ]
        }
      ]
    },
    {
      "cell_type": "code",
      "source": [
        "result_df.groupBy('prediction').count().show()"
      ],
      "metadata": {
        "colab": {
          "base_uri": "https://localhost:8080/"
        },
        "id": "Uepn0XeVJJhn",
        "outputId": "46cdd977-e587-459b-c5eb-d2daeda46f98"
      },
      "execution_count": null,
      "outputs": [
        {
          "output_type": "stream",
          "name": "stdout",
          "text": [
            "+----------+-----+\n",
            "|prediction|count|\n",
            "+----------+-----+\n",
            "|       0.0| 1543|\n",
            "|       1.0|    9|\n",
            "+----------+-----+\n",
            "\n"
          ]
        }
      ]
    },
    {
      "cell_type": "code",
      "source": [
        "rfModel.featureImportances"
      ],
      "metadata": {
        "colab": {
          "base_uri": "https://localhost:8080/"
        },
        "id": "8Phgb9g-TsAS",
        "outputId": "3ee9cbc9-6c72-48c2-fba1-1cefd70cbc89"
      },
      "execution_count": null,
      "outputs": [
        {
          "output_type": "execute_result",
          "data": {
            "text/plain": [
              "SparseVector(28, {0: 0.0283, 1: 0.0145, 3: 0.0029, 4: 0.0054, 5: 0.014, 6: 0.0157, 7: 0.0028, 8: 0.0184, 9: 0.0498, 10: 0.0021, 11: 0.0002, 12: 0.004, 13: 0.0071, 14: 0.0084, 15: 0.0033, 16: 0.0145, 17: 0.0715, 18: 0.0039, 19: 0.0039, 20: 0.1987, 21: 0.0003, 23: 0.3322, 24: 0.1417, 25: 0.0, 26: 0.0015, 27: 0.0549})"
            ]
          },
          "metadata": {},
          "execution_count": 204
        }
      ]
    },
    {
      "cell_type": "code",
      "source": [
        "rfModel.getNumTrees"
      ],
      "metadata": {
        "colab": {
          "base_uri": "https://localhost:8080/"
        },
        "id": "w6IBfpjKYck_",
        "outputId": "12397255-2545-4690-dfe0-2da921f2a62c"
      },
      "execution_count": null,
      "outputs": [
        {
          "output_type": "execute_result",
          "data": {
            "text/plain": [
              "20"
            ]
          },
          "metadata": {},
          "execution_count": 236
        }
      ]
    },
    {
      "cell_type": "markdown",
      "source": [
        "# 5. Evaluation"
      ],
      "metadata": {
        "id": "yOFhocs9SXjM"
      }
    },
    {
      "cell_type": "code",
      "source": [
        "evaluator = BinaryClassificationEvaluator(rawPredictionCol='prediction', labelCol='label', metricName='areaUnderROC')\n",
        "print('Area Under ROC = %g' % evaluator.evaluate(result_df))"
      ],
      "metadata": {
        "colab": {
          "base_uri": "https://localhost:8080/"
        },
        "id": "2R9hI32PSZwx",
        "outputId": "60d25ec5-faf3-444f-ce1e-a12882438afd"
      },
      "execution_count": null,
      "outputs": [
        {
          "output_type": "stream",
          "name": "stdout",
          "text": [
            "Area Under ROC = 0.747419\n"
          ]
        }
      ]
    },
    {
      "cell_type": "code",
      "source": [
        "evaluator = MulticlassClassificationEvaluator(predictionCol='prediction', labelCol='label')\n",
        "print('F1 score = %g' % evaluator.evaluate(result_df))\n",
        "print('Precision = %g' % evaluator.evaluate(result_df, {evaluator.metricName: 'precisionByLabel'}))\n",
        "print('Recall = %g' % evaluator.evaluate(result_df, {evaluator.metricName: 'recallByLabel'}))"
      ],
      "metadata": {
        "colab": {
          "base_uri": "https://localhost:8080/"
        },
        "id": "F87WSFDcSrcr",
        "outputId": "db6a186f-c778-4131-a617-5f771ffe7e55"
      },
      "execution_count": null,
      "outputs": [
        {
          "output_type": "stream",
          "name": "stdout",
          "text": [
            "F1 score = 0.99604\n",
            "Precision = 0.999352\n",
            "Recall = 0.994839\n"
          ]
        }
      ]
    },
    {
      "cell_type": "markdown",
      "source": [
        "## Tuning"
      ],
      "metadata": {
        "id": "Z5S0HOnVTh1O"
      }
    },
    {
      "cell_type": "code",
      "source": [
        "paramGrid = ParamGridBuilder() \\\n",
        ".addGrid(rf.numTrees, [20, 50, 100]) \\\n",
        ".build()"
      ],
      "metadata": {
        "id": "CEGokYijThJn"
      },
      "execution_count": null,
      "outputs": []
    },
    {
      "cell_type": "code",
      "source": [
        "crossval = CrossValidator(estimator=rf, \n",
        "                          estimatorParamMaps=paramGrid, \n",
        "                          evaluator=BinaryClassificationEvaluator(), \n",
        "                          numFolds=5)"
      ],
      "metadata": {
        "id": "B2psdRLzXYUZ"
      },
      "execution_count": null,
      "outputs": []
    },
    {
      "cell_type": "code",
      "source": [
        "cvModel = crossval.fit(weighted_df)"
      ],
      "metadata": {
        "id": "oKy5rZQ_YQeJ"
      },
      "execution_count": null,
      "outputs": []
    },
    {
      "cell_type": "code",
      "source": [
        "result_cv_df = cvModel.transform(test_df.dropna())"
      ],
      "metadata": {
        "id": "FP6vhz6gdlpa"
      },
      "execution_count": null,
      "outputs": []
    },
    {
      "cell_type": "code",
      "source": [
        "evaluator = BinaryClassificationEvaluator(rawPredictionCol='prediction', labelCol='label', metricName='areaUnderROC')\n",
        "print('Area Under ROC = %g' % evaluator.evaluate(result_cv_df))"
      ],
      "metadata": {
        "colab": {
          "base_uri": "https://localhost:8080/"
        },
        "id": "Yc8U6y09d1GX",
        "outputId": "3319914a-f41d-4b13-d330-6a895075d8b5"
      },
      "execution_count": null,
      "outputs": [
        {
          "output_type": "stream",
          "name": "stdout",
          "text": [
            "Area Under ROC = 0.747097\n"
          ]
        }
      ]
    },
    {
      "cell_type": "markdown",
      "source": [
        "# 6. Deployment"
      ],
      "metadata": {
        "id": "E5cguk7rNi3F"
      }
    },
    {
      "cell_type": "markdown",
      "source": [
        "REST API"
      ],
      "metadata": {
        "id": "lGJZf7BxNlvr"
      }
    }
  ]
}