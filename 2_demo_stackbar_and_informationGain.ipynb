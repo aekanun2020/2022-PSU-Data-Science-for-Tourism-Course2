{
  "nbformat": 4,
  "nbformat_minor": 0,
  "metadata": {
    "kernelspec": {
      "display_name": "Python 3",
      "language": "python",
      "name": "python3"
    },
    "language_info": {
      "codemirror_mode": {
        "name": "ipython",
        "version": 3
      },
      "file_extension": ".py",
      "mimetype": "text/x-python",
      "name": "python",
      "nbconvert_exporter": "python",
      "pygments_lexer": "ipython3",
      "version": "3.6.1"
    },
    "colab": {
      "name": "2.codeTemplate-PySpark-onColab.ipynb",
      "provenance": [],
      "collapsed_sections": [],
      "include_colab_link": true
    }
  },
  "cells": [
    {
      "cell_type": "markdown",
      "metadata": {
        "id": "view-in-github",
        "colab_type": "text"
      },
      "source": [
        "<a href=\"https://colab.research.google.com/github/aekanun2020/2022-PSU-Data-Science-for-Tourism-Course2/blob/main/2_demo_stackbar_and_informationGain.ipynb\" target=\"_parent\"><img src=\"https://colab.research.google.com/assets/colab-badge.svg\" alt=\"Open In Colab\"/></a>"
      ]
    },
    {
      "cell_type": "code",
      "metadata": {
        "id": "0dTkA-bDa5bm"
      },
      "source": [
        "!apt-get install openjdk-8-jdk-headless -qq > /dev/null\n",
        "!wget -q https://archive.apache.org/dist/spark/spark-2.4.1/spark-2.4.1-bin-hadoop2.7.tgz\n",
        "!tar xf spark-2.4.1-bin-hadoop2.7.tgz\n",
        "!pip install -q findspark"
      ],
      "execution_count": 1,
      "outputs": []
    },
    {
      "cell_type": "code",
      "metadata": {
        "id": "cy4_WOqEa5GJ"
      },
      "source": [
        "import os\n",
        "os.environ[\"JAVA_HOME\"] = \"/usr/lib/jvm/java-8-openjdk-amd64\"\n",
        "os.environ[\"SPARK_HOME\"] = \"/content/spark-2.4.1-bin-hadoop2.7\""
      ],
      "execution_count": 2,
      "outputs": []
    },
    {
      "cell_type": "code",
      "metadata": {
        "id": "kI7zVpqja4du"
      },
      "source": [
        "import findspark\n",
        "findspark.init()\n",
        "from pyspark.sql import SparkSession\n",
        "spark = SparkSession.builder.master(\"local[*]\").getOrCreate()"
      ],
      "execution_count": 3,
      "outputs": []
    },
    {
      "cell_type": "code",
      "metadata": {
        "collapsed": true,
        "id": "gLOiqgf1a2Ku"
      },
      "source": [
        "from pyspark.sql import SparkSession"
      ],
      "execution_count": 4,
      "outputs": []
    },
    {
      "cell_type": "code",
      "metadata": {
        "collapsed": true,
        "id": "GBqMbCCxa2Kv"
      },
      "source": [
        "spark = SparkSession.builder \\\n",
        "   .appName(\"Neural Network Model\") \\\n",
        "   .config(\"spark.executor.memory\", \"3gb\") \\\n",
        "   .getOrCreate()\n",
        "   \n",
        "sc = spark.sparkContext"
      ],
      "execution_count": 5,
      "outputs": []
    },
    {
      "cell_type": "code",
      "metadata": {
        "id": "MjoDgjaja2Kv",
        "colab": {
          "base_uri": "https://localhost:8080/",
          "height": 210
        },
        "outputId": "40e435b5-8a09-443e-fe33-9dbdf8989612"
      },
      "source": [
        "sc"
      ],
      "execution_count": 6,
      "outputs": [
        {
          "output_type": "execute_result",
          "data": {
            "text/html": [
              "\n",
              "        <div>\n",
              "            <p><b>SparkContext</b></p>\n",
              "\n",
              "            <p><a href=\"http://75a58371e9ea:4040\">Spark UI</a></p>\n",
              "\n",
              "            <dl>\n",
              "              <dt>Version</dt>\n",
              "                <dd><code>v2.4.1</code></dd>\n",
              "              <dt>Master</dt>\n",
              "                <dd><code>local[*]</code></dd>\n",
              "              <dt>AppName</dt>\n",
              "                <dd><code>pyspark-shell</code></dd>\n",
              "            </dl>\n",
              "        </div>\n",
              "        "
            ],
            "text/plain": [
              "<SparkContext master=local[*] appName=pyspark-shell>"
            ]
          },
          "metadata": {},
          "execution_count": 6
        }
      ]
    },
    {
      "cell_type": "code",
      "metadata": {
        "id": "I7c5vxPNAPVi"
      },
      "source": [
        "raw_dictionary_in_list = [\\\n",
        "                           {'Outlook':'sunny','Temperature':'hot','Humidity':'high','Windy':'FALSE','Game':'no'}\\\n",
        "                          ,{'Outlook':'sunny','Temperature':'hot','Humidity':'high','Windy':'TRUE','Game':'no'}\\\n",
        "                          ,{'Outlook':'overcast','Temperature':'hot','Humidity':'high','Windy':'FALSE','Game':'yes'}\\\n",
        "                          ,{'Outlook':'rainy','Temperature':'mild','Humidity':'high','Windy':'FALSE','Game':'yes'}\\\n",
        "                          ,{'Outlook':'rainy','Temperature':'cool','Humidity':'normal','Windy':'FALSE','Game':'yes'}\\\n",
        "                          ,{'Outlook':'rainy','Temperature':'cool','Humidity':'normal','Windy':'TRUE','Game':'no'}\\\n",
        "                          ,{'Outlook':'overcast','Temperature':'cool','Humidity':'normal','Windy':'TRUE','Game':'yes'}\\\n",
        "                          ,{'Outlook':'sunny','Temperature':'mild','Humidity':'high','Windy':'FALSE','Game':'no'}\\\n",
        "                          ,{'Outlook':'sunny','Temperature':'mild','Humidity':'normal','Windy':'FALSE','Game':'yes'}\\\n",
        "                          ,{'Outlook':'rainy','Temperature':'mild','Humidity':'normal','Windy':'FALSE','Game':'yes'}\\\n",
        "                          ,{'Outlook':'sunny','Temperature':'mild','Humidity':'normal','Windy':'TRUE','Game':'yes'}\\\n",
        "                          ,{'Outlook':'overcast','Temperature':'mild','Humidity':'high','Windy':'TRUE','Game':'yes'}\\\n",
        "                          ,{'Outlook':'overcast','Temperature':'hot','Humidity':'normal','Windy':'FALSE','Game':'yes'}\\\n",
        "                          ,{'Outlook':'rainy','Temperature':'mild','Humidity':'high','Windy':'TRUE','Game':'no'}\\\n",
        "                          ]"
      ],
      "execution_count": 13,
      "outputs": []
    },
    {
      "cell_type": "code",
      "source": [
        "raw_df = spark.createDataFrame(raw_dictionary_in_list)"
      ],
      "metadata": {
        "id": "hfQDYvESrHAt",
        "outputId": "a00b5179-c2ab-473f-9bb5-51a4ca074e1c",
        "colab": {
          "base_uri": "https://localhost:8080/"
        }
      },
      "execution_count": 14,
      "outputs": [
        {
          "output_type": "stream",
          "name": "stderr",
          "text": [
            "/content/spark-2.4.1-bin-hadoop2.7/python/pyspark/sql/session.py:346: UserWarning: inferring schema from dict is deprecated,please use pyspark.sql.Row instead\n",
            "  warnings.warn(\"inferring schema from dict is deprecated,\"\n"
          ]
        }
      ]
    },
    {
      "cell_type": "code",
      "source": [
        "raw_df.show()"
      ],
      "metadata": {
        "id": "0pie8A3prOMg",
        "outputId": "67a7be72-5328-47a5-a96c-2e64e6e45156",
        "colab": {
          "base_uri": "https://localhost:8080/"
        }
      },
      "execution_count": 15,
      "outputs": [
        {
          "output_type": "stream",
          "name": "stdout",
          "text": [
            "+----+--------+--------+-----------+-----+\n",
            "|Game|Humidity| Outlook|Temperature|Windy|\n",
            "+----+--------+--------+-----------+-----+\n",
            "|  no|    high|   sunny|        hot|FALSE|\n",
            "|  no|    high|   sunny|        hot| TRUE|\n",
            "| yes|    high|overcast|        hot|FALSE|\n",
            "| yes|    high|   rainy|       mild|FALSE|\n",
            "| yes|  normal|   rainy|       cool|FALSE|\n",
            "|  no|  normal|   rainy|       cool| TRUE|\n",
            "| yes|  normal|overcast|       cool| TRUE|\n",
            "|  no|    high|   sunny|       mild|FALSE|\n",
            "| yes|  normal|   sunny|       mild|FALSE|\n",
            "| yes|  normal|   rainy|       mild|FALSE|\n",
            "| yes|  normal|   sunny|       mild| TRUE|\n",
            "| yes|    high|overcast|       mild| TRUE|\n",
            "| yes|  normal|overcast|        hot|FALSE|\n",
            "|  no|    high|   rainy|       mild| TRUE|\n",
            "+----+--------+--------+-----------+-----+\n",
            "\n"
          ]
        }
      ]
    },
    {
      "cell_type": "code",
      "source": [
        ""
      ],
      "metadata": {
        "id": "I1Pr3F54rPFG"
      },
      "execution_count": null,
      "outputs": []
    }
  ]
}