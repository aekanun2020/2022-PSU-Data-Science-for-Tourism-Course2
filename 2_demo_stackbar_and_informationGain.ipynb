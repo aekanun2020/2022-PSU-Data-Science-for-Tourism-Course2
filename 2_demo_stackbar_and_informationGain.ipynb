{
  "nbformat": 4,
  "nbformat_minor": 0,
  "metadata": {
    "kernelspec": {
      "display_name": "Python 3",
      "language": "python",
      "name": "python3"
    },
    "language_info": {
      "codemirror_mode": {
        "name": "ipython",
        "version": 3
      },
      "file_extension": ".py",
      "mimetype": "text/x-python",
      "name": "python",
      "nbconvert_exporter": "python",
      "pygments_lexer": "ipython3",
      "version": "3.6.1"
    },
    "colab": {
      "name": "2.codeTemplate-PySpark-onColab.ipynb",
      "provenance": [],
      "collapsed_sections": [],
      "include_colab_link": true
    }
  },
  "cells": [
    {
      "cell_type": "markdown",
      "metadata": {
        "id": "view-in-github",
        "colab_type": "text"
      },
      "source": [
        "<a href=\"https://colab.research.google.com/github/aekanun2020/2022-PSU-Data-Science-for-Tourism-Course2/blob/main/2_demo_stackbar_and_informationGain.ipynb\" target=\"_parent\"><img src=\"https://colab.research.google.com/assets/colab-badge.svg\" alt=\"Open In Colab\"/></a>"
      ]
    },
    {
      "cell_type": "code",
      "metadata": {
        "id": "0dTkA-bDa5bm"
      },
      "source": [
        "!apt-get install openjdk-8-jdk-headless -qq > /dev/null\n",
        "!wget -q https://archive.apache.org/dist/spark/spark-2.4.1/spark-2.4.1-bin-hadoop2.7.tgz\n",
        "!tar xf spark-2.4.1-bin-hadoop2.7.tgz\n",
        "!pip install -q findspark"
      ],
      "execution_count": 1,
      "outputs": []
    },
    {
      "cell_type": "code",
      "metadata": {
        "id": "cy4_WOqEa5GJ"
      },
      "source": [
        "import os\n",
        "os.environ[\"JAVA_HOME\"] = \"/usr/lib/jvm/java-8-openjdk-amd64\"\n",
        "os.environ[\"SPARK_HOME\"] = \"/content/spark-2.4.1-bin-hadoop2.7\""
      ],
      "execution_count": 2,
      "outputs": []
    },
    {
      "cell_type": "code",
      "metadata": {
        "id": "kI7zVpqja4du"
      },
      "source": [
        "import findspark\n",
        "findspark.init()\n",
        "from pyspark.sql import SparkSession\n",
        "spark = SparkSession.builder.master(\"local[*]\").getOrCreate()"
      ],
      "execution_count": 3,
      "outputs": []
    },
    {
      "cell_type": "code",
      "metadata": {
        "collapsed": true,
        "id": "gLOiqgf1a2Ku"
      },
      "source": [
        "from pyspark.sql import SparkSession"
      ],
      "execution_count": 4,
      "outputs": []
    },
    {
      "cell_type": "code",
      "metadata": {
        "collapsed": true,
        "id": "GBqMbCCxa2Kv"
      },
      "source": [
        "spark = SparkSession.builder \\\n",
        "   .appName(\"Neural Network Model\") \\\n",
        "   .config(\"spark.executor.memory\", \"3gb\") \\\n",
        "   .getOrCreate()\n",
        "   \n",
        "sc = spark.sparkContext"
      ],
      "execution_count": 5,
      "outputs": []
    },
    {
      "cell_type": "code",
      "metadata": {
        "id": "MjoDgjaja2Kv",
        "colab": {
          "base_uri": "https://localhost:8080/",
          "height": 210
        },
        "outputId": "0d9288ed-b287-47fd-fef8-5d580c4cccf1"
      },
      "source": [
        "sc"
      ],
      "execution_count": 6,
      "outputs": [
        {
          "output_type": "execute_result",
          "data": {
            "text/html": [
              "\n",
              "        <div>\n",
              "            <p><b>SparkContext</b></p>\n",
              "\n",
              "            <p><a href=\"http://b86754a17016:4040\">Spark UI</a></p>\n",
              "\n",
              "            <dl>\n",
              "              <dt>Version</dt>\n",
              "                <dd><code>v2.4.1</code></dd>\n",
              "              <dt>Master</dt>\n",
              "                <dd><code>local[*]</code></dd>\n",
              "              <dt>AppName</dt>\n",
              "                <dd><code>pyspark-shell</code></dd>\n",
              "            </dl>\n",
              "        </div>\n",
              "        "
            ],
            "text/plain": [
              "<SparkContext master=local[*] appName=pyspark-shell>"
            ]
          },
          "metadata": {},
          "execution_count": 6
        }
      ]
    },
    {
      "cell_type": "code",
      "metadata": {
        "id": "I7c5vxPNAPVi"
      },
      "source": [
        "raw_dictionary_in_list = [\\\n",
        "                           {'Outlook':'sunny','Temperature':'hot','Humidity':'high','Windy':'FALSE','Game':'no'}\\\n",
        "                          ,{'Outlook':'sunny','Temperature':'hot','Humidity':'high','Windy':'TRUE','Game':'no'}\\\n",
        "                          ,{'Outlook':'overcast','Temperature':'hot','Humidity':'high','Windy':'FALSE','Game':'yes'}\\\n",
        "                          ,{'Outlook':'rainy','Temperature':'mild','Humidity':'high','Windy':'FALSE','Game':'yes'}\\\n",
        "                          ,{'Outlook':'rainy','Temperature':'cool','Humidity':'normal','Windy':'FALSE','Game':'yes'}\\\n",
        "                          ,{'Outlook':'rainy','Temperature':'cool','Humidity':'normal','Windy':'TRUE','Game':'no'}\\\n",
        "                          ,{'Outlook':'overcast','Temperature':'cool','Humidity':'normal','Windy':'TRUE','Game':'yes'}\\\n",
        "                          ,{'Outlook':'sunny','Temperature':'mild','Humidity':'high','Windy':'FALSE','Game':'no'}\\\n",
        "                          ,{'Outlook':'sunny','Temperature':'mild','Humidity':'normal','Windy':'FALSE','Game':'yes'}\\\n",
        "                          ,{'Outlook':'rainy','Temperature':'mild','Humidity':'normal','Windy':'FALSE','Game':'yes'}\\\n",
        "                          ,{'Outlook':'sunny','Temperature':'mild','Humidity':'normal','Windy':'TRUE','Game':'yes'}\\\n",
        "                          ,{'Outlook':'overcast','Temperature':'mild','Humidity':'high','Windy':'TRUE','Game':'yes'}\\\n",
        "                          ,{'Outlook':'overcast','Temperature':'hot','Humidity':'normal','Windy':'FALSE','Game':'yes'}\\\n",
        "                          ,{'Outlook':'rainy','Temperature':'mild','Humidity':'high','Windy':'TRUE','Game':'no'}\\\n",
        "                          ]"
      ],
      "execution_count": 7,
      "outputs": []
    },
    {
      "cell_type": "code",
      "source": [
        "from pyspark.sql import functions as sparkf"
      ],
      "metadata": {
        "id": "7xxuKTt2uTcC"
      },
      "execution_count": 8,
      "outputs": []
    },
    {
      "cell_type": "code",
      "source": [
        "import numpy as np\n",
        "import pandas as pd\n",
        "import matplotlib as mpl\n",
        "import matplotlib.pyplot as plt\n",
        "import seaborn as sns\n",
        "import warnings; warnings.filterwarnings(action='once')"
      ],
      "metadata": {
        "id": "MiECtaTdzg7w"
      },
      "execution_count": 9,
      "outputs": []
    },
    {
      "cell_type": "code",
      "source": [
        "raw_df = spark.createDataFrame(raw_dictionary_in_list)"
      ],
      "metadata": {
        "colab": {
          "base_uri": "https://localhost:8080/"
        },
        "id": "hfQDYvESrHAt",
        "outputId": "977a1690-07c4-404f-c62a-7997c025a191"
      },
      "execution_count": 10,
      "outputs": [
        {
          "output_type": "stream",
          "name": "stderr",
          "text": [
            "/content/spark-2.4.1-bin-hadoop2.7/python/pyspark/sql/session.py:346: UserWarning: inferring schema from dict is deprecated,please use pyspark.sql.Row instead\n",
            "  warnings.warn(\"inferring schema from dict is deprecated,\"\n"
          ]
        }
      ]
    },
    {
      "cell_type": "code",
      "source": [
        "raw_df.show()"
      ],
      "metadata": {
        "colab": {
          "base_uri": "https://localhost:8080/"
        },
        "id": "0pie8A3prOMg",
        "outputId": "61777020-4d24-4560-843a-d5f7ce5eb138"
      },
      "execution_count": 11,
      "outputs": [
        {
          "output_type": "stream",
          "name": "stdout",
          "text": [
            "+----+--------+--------+-----------+-----+\n",
            "|Game|Humidity| Outlook|Temperature|Windy|\n",
            "+----+--------+--------+-----------+-----+\n",
            "|  no|    high|   sunny|        hot|FALSE|\n",
            "|  no|    high|   sunny|        hot| TRUE|\n",
            "| yes|    high|overcast|        hot|FALSE|\n",
            "| yes|    high|   rainy|       mild|FALSE|\n",
            "| yes|  normal|   rainy|       cool|FALSE|\n",
            "|  no|  normal|   rainy|       cool| TRUE|\n",
            "| yes|  normal|overcast|       cool| TRUE|\n",
            "|  no|    high|   sunny|       mild|FALSE|\n",
            "| yes|  normal|   sunny|       mild|FALSE|\n",
            "| yes|  normal|   rainy|       mild|FALSE|\n",
            "| yes|  normal|   sunny|       mild| TRUE|\n",
            "| yes|    high|overcast|       mild| TRUE|\n",
            "| yes|  normal|overcast|        hot|FALSE|\n",
            "|  no|    high|   rainy|       mild| TRUE|\n",
            "+----+--------+--------+-----------+-----+\n",
            "\n"
          ]
        }
      ]
    },
    {
      "cell_type": "code",
      "source": [
        "raw_df.printSchema()"
      ],
      "metadata": {
        "colab": {
          "base_uri": "https://localhost:8080/"
        },
        "id": "I1Pr3F54rPFG",
        "outputId": "403548c9-947d-4f59-a050-f69789bf88ad"
      },
      "execution_count": 12,
      "outputs": [
        {
          "output_type": "stream",
          "name": "stdout",
          "text": [
            "root\n",
            " |-- Game: string (nullable = true)\n",
            " |-- Humidity: string (nullable = true)\n",
            " |-- Outlook: string (nullable = true)\n",
            " |-- Temperature: string (nullable = true)\n",
            " |-- Windy: string (nullable = true)\n",
            "\n"
          ]
        }
      ]
    },
    {
      "cell_type": "code",
      "source": [
        "raw_df.groupBy('Outlook','Game').agg(sparkf.count('Game'))\\\n",
        ".orderBy('Outlook').show()"
      ],
      "metadata": {
        "colab": {
          "base_uri": "https://localhost:8080/"
        },
        "id": "q9z8hmNPuJDc",
        "outputId": "140624f9-33a2-4bb0-c368-a19a9bd70364"
      },
      "execution_count": 13,
      "outputs": [
        {
          "output_type": "stream",
          "name": "stdout",
          "text": [
            "+--------+----+-----------+\n",
            "| Outlook|Game|count(Game)|\n",
            "+--------+----+-----------+\n",
            "|overcast| yes|          4|\n",
            "|   rainy|  no|          2|\n",
            "|   rainy| yes|          3|\n",
            "|   sunny| yes|          2|\n",
            "|   sunny|  no|          3|\n",
            "+--------+----+-----------+\n",
            "\n"
          ]
        }
      ]
    },
    {
      "cell_type": "code",
      "source": [
        "target_var = 'Game'\n",
        "\n",
        "for c in raw_df.columns:\n",
        "  raw_df.groupBy(c,target_var).agg(sparkf.count(target_var))\\\n",
        "  .orderBy(c).show()"
      ],
      "metadata": {
        "colab": {
          "base_uri": "https://localhost:8080/"
        },
        "id": "9a98njKeudBs",
        "outputId": "bf4e2a38-8c20-46a2-8967-925d3941f258"
      },
      "execution_count": 14,
      "outputs": [
        {
          "output_type": "stream",
          "name": "stdout",
          "text": [
            "+----+----+-----------+\n",
            "|Game|Game|count(Game)|\n",
            "+----+----+-----------+\n",
            "|  no|  no|          5|\n",
            "| yes| yes|          9|\n",
            "+----+----+-----------+\n",
            "\n",
            "+--------+----+-----------+\n",
            "|Humidity|Game|count(Game)|\n",
            "+--------+----+-----------+\n",
            "|    high|  no|          4|\n",
            "|    high| yes|          3|\n",
            "|  normal|  no|          1|\n",
            "|  normal| yes|          6|\n",
            "+--------+----+-----------+\n",
            "\n",
            "+--------+----+-----------+\n",
            "| Outlook|Game|count(Game)|\n",
            "+--------+----+-----------+\n",
            "|overcast| yes|          4|\n",
            "|   rainy| yes|          3|\n",
            "|   rainy|  no|          2|\n",
            "|   sunny| yes|          2|\n",
            "|   sunny|  no|          3|\n",
            "+--------+----+-----------+\n",
            "\n",
            "+-----------+----+-----------+\n",
            "|Temperature|Game|count(Game)|\n",
            "+-----------+----+-----------+\n",
            "|       cool|  no|          1|\n",
            "|       cool| yes|          2|\n",
            "|        hot|  no|          2|\n",
            "|        hot| yes|          2|\n",
            "|       mild|  no|          2|\n",
            "|       mild| yes|          5|\n",
            "+-----------+----+-----------+\n",
            "\n",
            "+-----+----+-----------+\n",
            "|Windy|Game|count(Game)|\n",
            "+-----+----+-----------+\n",
            "|FALSE|  no|          2|\n",
            "|FALSE| yes|          6|\n",
            "| TRUE| yes|          3|\n",
            "| TRUE|  no|          3|\n",
            "+-----+----+-----------+\n",
            "\n"
          ]
        }
      ]
    },
    {
      "cell_type": "code",
      "source": [
        "def draw_histogram_forCategoricalVar(x_var,groupby_var,df):\n",
        "  # Prepare data\n",
        "  #x_var = 'manufacturer'\n",
        "  #groupby_var = 'class'\n",
        "  df_agg = df.loc[:, [x_var, groupby_var]].groupby(groupby_var)\n",
        "  vals = [df[x_var].values.tolist() for i, df in df_agg]\n",
        "\n",
        "  # Draw\n",
        "  plt.figure(figsize=(16,9), dpi= 80)\n",
        "  colors = [plt.cm.Spectral(i/float(len(vals)-1)) for i in range(len(vals))]\n",
        "  n, bins, patches = plt.hist(vals, df[x_var].unique().__len__(), stacked=True, density=False, color=colors[:len(vals)])\n",
        "\n",
        "  # Decoration\n",
        "  plt.legend({group:col for group, col in zip(np.unique(df[groupby_var]).tolist(), colors[:len(vals)])})\n",
        "  plt.title(f\"Stacked Histogram of ${x_var}$ colored by ${groupby_var}$\", fontsize=22)\n",
        "  plt.xlabel(x_var)\n",
        "  plt.ylabel(\"Frequency\")\n",
        "  plt.ylim(0, 15)\n",
        "  plt.xticks(ticks=bins, labels=np.unique(df[x_var]).tolist(), rotation=90, horizontalalignment='left')\n",
        "  plt.show()"
      ],
      "metadata": {
        "id": "SlX4teDBvUvF"
      },
      "execution_count": 30,
      "outputs": []
    },
    {
      "cell_type": "code",
      "source": [
        "raw_pd = raw_df.toPandas()"
      ],
      "metadata": {
        "colab": {
          "base_uri": "https://localhost:8080/"
        },
        "id": "mbJulouSv9fC",
        "outputId": "09e8357b-93ce-4f63-a67f-7b7299ee153d"
      },
      "execution_count": 27,
      "outputs": [
        {
          "output_type": "stream",
          "name": "stderr",
          "text": [
            "/usr/lib/python3.7/socket.py:660: ResourceWarning: unclosed <socket.socket fd=70, family=AddressFamily.AF_INET, type=SocketKind.SOCK_STREAM, proto=6, laddr=('127.0.0.1', 54548), raddr=('127.0.0.1', 37937)>\n",
            "  self._sock = None\n",
            "ResourceWarning: Enable tracemalloc to get the object allocation traceback\n"
          ]
        }
      ]
    },
    {
      "cell_type": "code",
      "source": [
        "raw_pd"
      ],
      "metadata": {
        "colab": {
          "base_uri": "https://localhost:8080/",
          "height": 496
        },
        "id": "eKMaV7MWxe2c",
        "outputId": "a676c6aa-b46a-4b1d-f845-60e2f099e388"
      },
      "execution_count": 28,
      "outputs": [
        {
          "output_type": "execute_result",
          "data": {
            "text/html": [
              "\n",
              "  <div id=\"df-12b201c3-676f-4a40-ae89-42f5fd0e7c1d\">\n",
              "    <div class=\"colab-df-container\">\n",
              "      <div>\n",
              "<style scoped>\n",
              "    .dataframe tbody tr th:only-of-type {\n",
              "        vertical-align: middle;\n",
              "    }\n",
              "\n",
              "    .dataframe tbody tr th {\n",
              "        vertical-align: top;\n",
              "    }\n",
              "\n",
              "    .dataframe thead th {\n",
              "        text-align: right;\n",
              "    }\n",
              "</style>\n",
              "<table border=\"1\" class=\"dataframe\">\n",
              "  <thead>\n",
              "    <tr style=\"text-align: right;\">\n",
              "      <th></th>\n",
              "      <th>Game</th>\n",
              "      <th>Humidity</th>\n",
              "      <th>Outlook</th>\n",
              "      <th>Temperature</th>\n",
              "      <th>Windy</th>\n",
              "    </tr>\n",
              "  </thead>\n",
              "  <tbody>\n",
              "    <tr>\n",
              "      <th>0</th>\n",
              "      <td>no</td>\n",
              "      <td>high</td>\n",
              "      <td>sunny</td>\n",
              "      <td>hot</td>\n",
              "      <td>FALSE</td>\n",
              "    </tr>\n",
              "    <tr>\n",
              "      <th>1</th>\n",
              "      <td>no</td>\n",
              "      <td>high</td>\n",
              "      <td>sunny</td>\n",
              "      <td>hot</td>\n",
              "      <td>TRUE</td>\n",
              "    </tr>\n",
              "    <tr>\n",
              "      <th>2</th>\n",
              "      <td>yes</td>\n",
              "      <td>high</td>\n",
              "      <td>overcast</td>\n",
              "      <td>hot</td>\n",
              "      <td>FALSE</td>\n",
              "    </tr>\n",
              "    <tr>\n",
              "      <th>3</th>\n",
              "      <td>yes</td>\n",
              "      <td>high</td>\n",
              "      <td>rainy</td>\n",
              "      <td>mild</td>\n",
              "      <td>FALSE</td>\n",
              "    </tr>\n",
              "    <tr>\n",
              "      <th>4</th>\n",
              "      <td>yes</td>\n",
              "      <td>normal</td>\n",
              "      <td>rainy</td>\n",
              "      <td>cool</td>\n",
              "      <td>FALSE</td>\n",
              "    </tr>\n",
              "    <tr>\n",
              "      <th>5</th>\n",
              "      <td>no</td>\n",
              "      <td>normal</td>\n",
              "      <td>rainy</td>\n",
              "      <td>cool</td>\n",
              "      <td>TRUE</td>\n",
              "    </tr>\n",
              "    <tr>\n",
              "      <th>6</th>\n",
              "      <td>yes</td>\n",
              "      <td>normal</td>\n",
              "      <td>overcast</td>\n",
              "      <td>cool</td>\n",
              "      <td>TRUE</td>\n",
              "    </tr>\n",
              "    <tr>\n",
              "      <th>7</th>\n",
              "      <td>no</td>\n",
              "      <td>high</td>\n",
              "      <td>sunny</td>\n",
              "      <td>mild</td>\n",
              "      <td>FALSE</td>\n",
              "    </tr>\n",
              "    <tr>\n",
              "      <th>8</th>\n",
              "      <td>yes</td>\n",
              "      <td>normal</td>\n",
              "      <td>sunny</td>\n",
              "      <td>mild</td>\n",
              "      <td>FALSE</td>\n",
              "    </tr>\n",
              "    <tr>\n",
              "      <th>9</th>\n",
              "      <td>yes</td>\n",
              "      <td>normal</td>\n",
              "      <td>rainy</td>\n",
              "      <td>mild</td>\n",
              "      <td>FALSE</td>\n",
              "    </tr>\n",
              "    <tr>\n",
              "      <th>10</th>\n",
              "      <td>yes</td>\n",
              "      <td>normal</td>\n",
              "      <td>sunny</td>\n",
              "      <td>mild</td>\n",
              "      <td>TRUE</td>\n",
              "    </tr>\n",
              "    <tr>\n",
              "      <th>11</th>\n",
              "      <td>yes</td>\n",
              "      <td>high</td>\n",
              "      <td>overcast</td>\n",
              "      <td>mild</td>\n",
              "      <td>TRUE</td>\n",
              "    </tr>\n",
              "    <tr>\n",
              "      <th>12</th>\n",
              "      <td>yes</td>\n",
              "      <td>normal</td>\n",
              "      <td>overcast</td>\n",
              "      <td>hot</td>\n",
              "      <td>FALSE</td>\n",
              "    </tr>\n",
              "    <tr>\n",
              "      <th>13</th>\n",
              "      <td>no</td>\n",
              "      <td>high</td>\n",
              "      <td>rainy</td>\n",
              "      <td>mild</td>\n",
              "      <td>TRUE</td>\n",
              "    </tr>\n",
              "  </tbody>\n",
              "</table>\n",
              "</div>\n",
              "      <button class=\"colab-df-convert\" onclick=\"convertToInteractive('df-12b201c3-676f-4a40-ae89-42f5fd0e7c1d')\"\n",
              "              title=\"Convert this dataframe to an interactive table.\"\n",
              "              style=\"display:none;\">\n",
              "        \n",
              "  <svg xmlns=\"http://www.w3.org/2000/svg\" height=\"24px\"viewBox=\"0 0 24 24\"\n",
              "       width=\"24px\">\n",
              "    <path d=\"M0 0h24v24H0V0z\" fill=\"none\"/>\n",
              "    <path d=\"M18.56 5.44l.94 2.06.94-2.06 2.06-.94-2.06-.94-.94-2.06-.94 2.06-2.06.94zm-11 1L8.5 8.5l.94-2.06 2.06-.94-2.06-.94L8.5 2.5l-.94 2.06-2.06.94zm10 10l.94 2.06.94-2.06 2.06-.94-2.06-.94-.94-2.06-.94 2.06-2.06.94z\"/><path d=\"M17.41 7.96l-1.37-1.37c-.4-.4-.92-.59-1.43-.59-.52 0-1.04.2-1.43.59L10.3 9.45l-7.72 7.72c-.78.78-.78 2.05 0 2.83L4 21.41c.39.39.9.59 1.41.59.51 0 1.02-.2 1.41-.59l7.78-7.78 2.81-2.81c.8-.78.8-2.07 0-2.86zM5.41 20L4 18.59l7.72-7.72 1.47 1.35L5.41 20z\"/>\n",
              "  </svg>\n",
              "      </button>\n",
              "      \n",
              "  <style>\n",
              "    .colab-df-container {\n",
              "      display:flex;\n",
              "      flex-wrap:wrap;\n",
              "      gap: 12px;\n",
              "    }\n",
              "\n",
              "    .colab-df-convert {\n",
              "      background-color: #E8F0FE;\n",
              "      border: none;\n",
              "      border-radius: 50%;\n",
              "      cursor: pointer;\n",
              "      display: none;\n",
              "      fill: #1967D2;\n",
              "      height: 32px;\n",
              "      padding: 0 0 0 0;\n",
              "      width: 32px;\n",
              "    }\n",
              "\n",
              "    .colab-df-convert:hover {\n",
              "      background-color: #E2EBFA;\n",
              "      box-shadow: 0px 1px 2px rgba(60, 64, 67, 0.3), 0px 1px 3px 1px rgba(60, 64, 67, 0.15);\n",
              "      fill: #174EA6;\n",
              "    }\n",
              "\n",
              "    [theme=dark] .colab-df-convert {\n",
              "      background-color: #3B4455;\n",
              "      fill: #D2E3FC;\n",
              "    }\n",
              "\n",
              "    [theme=dark] .colab-df-convert:hover {\n",
              "      background-color: #434B5C;\n",
              "      box-shadow: 0px 1px 3px 1px rgba(0, 0, 0, 0.15);\n",
              "      filter: drop-shadow(0px 1px 2px rgba(0, 0, 0, 0.3));\n",
              "      fill: #FFFFFF;\n",
              "    }\n",
              "  </style>\n",
              "\n",
              "      <script>\n",
              "        const buttonEl =\n",
              "          document.querySelector('#df-12b201c3-676f-4a40-ae89-42f5fd0e7c1d button.colab-df-convert');\n",
              "        buttonEl.style.display =\n",
              "          google.colab.kernel.accessAllowed ? 'block' : 'none';\n",
              "\n",
              "        async function convertToInteractive(key) {\n",
              "          const element = document.querySelector('#df-12b201c3-676f-4a40-ae89-42f5fd0e7c1d');\n",
              "          const dataTable =\n",
              "            await google.colab.kernel.invokeFunction('convertToInteractive',\n",
              "                                                     [key], {});\n",
              "          if (!dataTable) return;\n",
              "\n",
              "          const docLinkHtml = 'Like what you see? Visit the ' +\n",
              "            '<a target=\"_blank\" href=https://colab.research.google.com/notebooks/data_table.ipynb>data table notebook</a>'\n",
              "            + ' to learn more about interactive tables.';\n",
              "          element.innerHTML = '';\n",
              "          dataTable['output_type'] = 'display_data';\n",
              "          await google.colab.output.renderOutput(dataTable, element);\n",
              "          const docLink = document.createElement('div');\n",
              "          docLink.innerHTML = docLinkHtml;\n",
              "          element.appendChild(docLink);\n",
              "        }\n",
              "      </script>\n",
              "    </div>\n",
              "  </div>\n",
              "  "
            ],
            "text/plain": [
              "   Game Humidity   Outlook Temperature  Windy\n",
              "0    no     high     sunny         hot  FALSE\n",
              "1    no     high     sunny         hot   TRUE\n",
              "2   yes     high  overcast         hot  FALSE\n",
              "3   yes     high     rainy        mild  FALSE\n",
              "4   yes   normal     rainy        cool  FALSE\n",
              "5    no   normal     rainy        cool   TRUE\n",
              "6   yes   normal  overcast        cool   TRUE\n",
              "7    no     high     sunny        mild  FALSE\n",
              "8   yes   normal     sunny        mild  FALSE\n",
              "9   yes   normal     rainy        mild  FALSE\n",
              "10  yes   normal     sunny        mild   TRUE\n",
              "11  yes     high  overcast        mild   TRUE\n",
              "12  yes   normal  overcast         hot  FALSE\n",
              "13   no     high     rainy        mild   TRUE"
            ]
          },
          "metadata": {},
          "execution_count": 28
        }
      ]
    },
    {
      "cell_type": "code",
      "source": [
        "for c in [x for x in raw_df.columns if x != 'Game']:\n",
        "  draw_histogram_forCategoricalVar(target_var,c,raw_pd)"
      ],
      "metadata": {
        "colab": {
          "base_uri": "https://localhost:8080/",
          "height": 1000
        },
        "id": "AZ7FF8YDwWvJ",
        "outputId": "4c300398-3f89-42c6-f843-9640e4d33096"
      },
      "execution_count": 31,
      "outputs": [
        {
          "output_type": "display_data",
          "data": {
            "image/png": "[encoded data removed]",
            "text/plain": [
              "<Figure size 1280x720 with 1 Axes>"
            ]
          },
          "metadata": {
            "needs_background": "light"
          }
        },
        {
          "output_type": "stream",
          "name": "stderr",
          "text": [
            "/usr/local/lib/python3.7/dist-packages/numpy/core/fromnumeric.py:3208: VisibleDeprecationWarning: Creating an ndarray from ragged nested sequences (which is a list-or-tuple of lists-or-tuples-or ndarrays with different lengths or shapes) is deprecated. If you meant to do this, you must specify 'dtype=object' when creating the ndarray.\n",
            "  return asarray(a).size\n",
            "/usr/local/lib/python3.7/dist-packages/matplotlib/cbook/__init__.py:1376: VisibleDeprecationWarning: Creating an ndarray from ragged nested sequences (which is a list-or-tuple of lists-or-tuples-or ndarrays with different lengths or shapes) is deprecated. If you meant to do this, you must specify 'dtype=object' when creating the ndarray.\n",
            "  X = np.atleast_1d(X.T if isinstance(X, np.ndarray) else np.asarray(X))\n"
          ]
        },
        {
          "output_type": "display_data",
          "data": {
            "image/png": "[encoded data removed]",
            "text/plain": [
              "<Figure size 1280x720 with 1 Axes>"
            ]
          },
          "metadata": {
            "needs_background": "light"
          }
        },
        {
          "output_type": "display_data",
          "data": {
            "image/png": "[encoded data removed]",
            "text/plain": [
              "<Figure size 1280x720 with 1 Axes>"
            ]
          },
          "metadata": {
            "needs_background": "light"
          }
        },
        {
          "output_type": "display_data",
          "data": {
            "image/png": "[encoded data removed]",
            "text/plain": [
              "<Figure size 1280x720 with 1 Axes>"
            ]
          },
          "metadata": {
            "needs_background": "light"
          }
        }
      ]
    },
    {
      "cell_type": "code",
      "source": [
        ""
      ],
      "metadata": {
        "id": "e3NS4t5W0ERR"
      },
      "execution_count": null,
      "outputs": []
    }
  ]
}