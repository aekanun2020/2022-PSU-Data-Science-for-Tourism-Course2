{
  "cells": [
    {
      "cell_type": "markdown",
      "metadata": {
        "id": "view-in-github",
        "colab_type": "text"
      },
      "source": [
        "<a href=\"https://colab.research.google.com/github/aekanun2020/2022-PSU-Data-Science-for-Tourism-Course2/blob/main/Colab_PySpark_Clustering%2Bof%2BNetwork%2BInteraction_Demo.ipynb\" target=\"_parent\"><img src=\"https://colab.research.google.com/assets/colab-badge.svg\" alt=\"Open In Colab\"/></a>"
      ]
    },
    {
      "cell_type": "markdown",
      "source": [
        "# Setting up Spark Environment"
      ],
      "metadata": {
        "id": "ddgUVUuiJW4a"
      }
    },
    {
      "cell_type": "code",
      "source": [
        "!apt-get install openjdk-8-jdk-headless -qq > /dev/null\n",
        "!wget -q https://archive.apache.org/dist/spark/spark-3.1.2/spark-3.1.2-bin-hadoop2.7.tgz\n",
        "!tar xf spark-3.1.2-bin-hadoop2.7.tgz\n",
        "!pip install -q findspark"
      ],
      "metadata": {
        "id": "-6nPwAPgJQS5"
      },
      "execution_count": 1,
      "outputs": []
    },
    {
      "cell_type": "code",
      "source": [
        "import os\n",
        "os.environ[\"JAVA_HOME\"] = \"/usr/lib/jvm/java-8-openjdk-amd64\"\n",
        "os.environ[\"SPARK_HOME\"] = \"/content/spark-3.1.2-bin-hadoop2.7\""
      ],
      "metadata": {
        "id": "If4IT7a1JQPz"
      },
      "execution_count": 2,
      "outputs": []
    },
    {
      "cell_type": "code",
      "source": [
        "import findspark\n",
        "findspark.init()\n",
        "from pyspark.sql import SparkSession\n",
        "spark = SparkSession.builder.master(\"local[*]\").getOrCreate()"
      ],
      "metadata": {
        "id": "f6vCFxG-JQMZ"
      },
      "execution_count": 3,
      "outputs": []
    },
    {
      "cell_type": "code",
      "source": [
        "from pyspark.sql import SparkSession"
      ],
      "metadata": {
        "id": "-N-w92MiJQJR"
      },
      "execution_count": 4,
      "outputs": []
    },
    {
      "cell_type": "code",
      "source": [
        "sc = spark.sparkContext"
      ],
      "metadata": {
        "id": "dOf1NYyxJQGD"
      },
      "execution_count": 5,
      "outputs": []
    },
    {
      "cell_type": "code",
      "source": [
        "sc"
      ],
      "metadata": {
        "colab": {
          "base_uri": "https://localhost:8080/",
          "height": 210
        },
        "id": "q46Bk0YSJP2Y",
        "outputId": "06e8facc-6549-4c8e-c35a-005bbc4cc414"
      },
      "execution_count": 6,
      "outputs": [
        {
          "output_type": "execute_result",
          "data": {
            "text/plain": [
              "<SparkContext master=local[*] appName=pyspark-shell>"
            ],
            "text/html": [
              "\n",
              "        <div>\n",
              "            <p><b>SparkContext</b></p>\n",
              "\n",
              "            <p><a href=\"http://039c7b06643c:4040\">Spark UI</a></p>\n",
              "\n",
              "            <dl>\n",
              "              <dt>Version</dt>\n",
              "                <dd><code>v3.1.2</code></dd>\n",
              "              <dt>Master</dt>\n",
              "                <dd><code>local[*]</code></dd>\n",
              "              <dt>AppName</dt>\n",
              "                <dd><code>pyspark-shell</code></dd>\n",
              "            </dl>\n",
              "        </div>\n",
              "        "
            ]
          },
          "metadata": {},
          "execution_count": 6
        }
      ]
    },
    {
      "cell_type": "code",
      "execution_count": 7,
      "metadata": {
        "collapsed": true,
        "id": "aoS-9AqEJJLv"
      },
      "outputs": [],
      "source": [
        "! rm -rf ./kddcup.data*"
      ]
    },
    {
      "cell_type": "code",
      "execution_count": 8,
      "metadata": {
        "collapsed": true,
        "id": "Cfo9X6sZJJLz"
      },
      "outputs": [],
      "source": [
        "! rm -rf kddcup.names*"
      ]
    },
    {
      "cell_type": "markdown",
      "metadata": {
        "id": "qnHzUgHKJJLr"
      },
      "source": [
        "http://kdd.ics.uci.edu/databases/kddcup99/"
      ]
    },
    {
      "cell_type": "code",
      "execution_count": 9,
      "metadata": {
        "collapsed": true,
        "id": "rJazE_swJJLt"
      },
      "outputs": [],
      "source": [
        "from pyspark.sql import Row"
      ]
    },
    {
      "cell_type": "code",
      "execution_count": 10,
      "metadata": {
        "collapsed": true,
        "id": "S48-o3eEJJLu"
      },
      "outputs": [],
      "source": [
        "max_k = 20\n",
        "data_file = '/rawzone/example/kddcup.data'"
      ]
    },
    {
      "cell_type": "code",
      "execution_count": 11,
      "metadata": {
        "colab": {
          "base_uri": "https://localhost:8080/"
        },
        "id": "R1hqz5V8JJLv",
        "outputId": "ff1ca233-2a4b-449d-a52e-dd1e301b5b8d"
      },
      "outputs": [
        {
          "output_type": "stream",
          "name": "stdout",
          "text": [
            "--2022-03-20 07:38:23--  http://kdd.ics.uci.edu/databases/kddcup99/kddcup.data.gz\n",
            "Resolving kdd.ics.uci.edu (kdd.ics.uci.edu)... 128.195.1.86\n",
            "Connecting to kdd.ics.uci.edu (kdd.ics.uci.edu)|128.195.1.86|:80... connected.\n",
            "HTTP request sent, awaiting response... 200 OK\n",
            "Length: 18115902 (17M) [application/x-gzip]\n",
            "Saving to: ‘kddcup.data.gz’\n",
            "\n",
            "kddcup.data.gz      100%[===================>]  17.28M  9.34MB/s    in 1.8s    \n",
            "\n",
            "2022-03-20 07:38:25 (9.34 MB/s) - ‘kddcup.data.gz’ saved [18115902/18115902]\n",
            "\n"
          ]
        }
      ],
      "source": [
        "! wget http://kdd.ics.uci.edu/databases/kddcup99/kddcup.data.gz"
      ]
    },
    {
      "cell_type": "code",
      "execution_count": 12,
      "metadata": {
        "colab": {
          "base_uri": "https://localhost:8080/"
        },
        "id": "9xwypOq1JJLw",
        "outputId": "34147e78-5ea2-4116-d9fa-25651b0bda46"
      },
      "outputs": [
        {
          "output_type": "stream",
          "name": "stdout",
          "text": [
            "-rw-r--r-- 1 root root 709M Jun 26  2007 ./kddcup.data\n"
          ]
        }
      ],
      "source": [
        "! gunzip kddcup.data.gz\n",
        "! ls ./kddcup.data* -lh"
      ]
    },
    {
      "cell_type": "code",
      "execution_count": 13,
      "metadata": {
        "colab": {
          "base_uri": "https://localhost:8080/"
        },
        "id": "YBDUwqeOJJLx",
        "outputId": "e2453ebf-7b37-4b21-be3c-a8b85877c5f0"
      },
      "outputs": [
        {
          "output_type": "stream",
          "name": "stdout",
          "text": [
            "0,tcp,http,SF,215,45076,0,0,0,0,0,1,0,0,0,0,0,0,0,0,0,0,1,1,0.00,0.00,0.00,0.00,1.00,0.00,0.00,0,0,0.00,0.00,0.00,0.00,0.00,0.00,0.00,0.00,normal.\n",
            "0,tcp,http,SF,162,4528,0,0,0,0,0,1,0,0,0,0,0,0,0,0,0,0,2,2,0.00,0.00,0.00,0.00,1.00,0.00,0.00,1,1,1.00,0.00,1.00,0.00,0.00,0.00,0.00,0.00,normal.\n",
            "0,tcp,http,SF,236,1228,0,0,0,0,0,1,0,0,0,0,0,0,0,0,0,0,1,1,0.00,0.00,0.00,0.00,1.00,0.00,0.00,2,2,1.00,0.00,0.50,0.00,0.00,0.00,0.00,0.00,normal.\n"
          ]
        }
      ],
      "source": [
        "! head -3 ./kddcup.data"
      ]
    },
    {
      "cell_type": "code",
      "execution_count": 14,
      "metadata": {
        "colab": {
          "base_uri": "https://localhost:8080/"
        },
        "id": "s14NDu2nJJLx",
        "outputId": "3d040114-f2dc-40f6-e76a-485852efddf6"
      },
      "outputs": [
        {
          "output_type": "stream",
          "name": "stdout",
          "text": [
            "4898431 kddcup.data\n"
          ]
        }
      ],
      "source": [
        "! wc -l kddcup.data"
      ]
    },
    {
      "cell_type": "code",
      "execution_count": 15,
      "metadata": {
        "colab": {
          "base_uri": "https://localhost:8080/"
        },
        "id": "CBBrBTL_JJLz",
        "outputId": "c195b875-5a2f-4c61-a542-89d7f5c76215"
      },
      "outputs": [
        {
          "output_type": "stream",
          "name": "stdout",
          "text": [
            "--2022-03-20 07:38:30--  http://kdd.ics.uci.edu/databases/kddcup99/kddcup.names\n",
            "Resolving kdd.ics.uci.edu (kdd.ics.uci.edu)... 128.195.1.86\n",
            "Connecting to kdd.ics.uci.edu (kdd.ics.uci.edu)|128.195.1.86|:80... connected.\n",
            "HTTP request sent, awaiting response... 200 OK\n",
            "Length: 1307 (1.3K)\n",
            "Saving to: ‘kddcup.names’\n",
            "\n",
            "kddcup.names        100%[===================>]   1.28K  --.-KB/s    in 0s      \n",
            "\n",
            "2022-03-20 07:38:30 (109 MB/s) - ‘kddcup.names’ saved [1307/1307]\n",
            "\n"
          ]
        }
      ],
      "source": [
        "! wget http://kdd.ics.uci.edu/databases/kddcup99/kddcup.names"
      ]
    },
    {
      "cell_type": "code",
      "execution_count": 16,
      "metadata": {
        "colab": {
          "base_uri": "https://localhost:8080/"
        },
        "id": "R8fKNH5eJJLz",
        "outputId": "f7b46111-6034-48e9-d33d-a41e3aa3da9e"
      },
      "outputs": [
        {
          "output_type": "stream",
          "name": "stdout",
          "text": [
            "back,buffer_overflow,ftp_write,guess_passwd,imap,ipsweep,land,loadmodule,multihop,neptune,nmap,normal,perl,phf,pod,portsweep,rootkit,satan,smurf,spy,teardrop,warezclient,warezmaster.\n",
            "duration: continuous.\n",
            "protocol_type: symbolic.\n",
            "service: symbolic.\n",
            "flag: symbolic.\n",
            "src_bytes: continuous.\n",
            "dst_bytes: continuous.\n",
            "land: symbolic.\n",
            "wrong_fragment: continuous.\n",
            "urgent: continuous.\n",
            "hot: continuous.\n",
            "num_failed_logins: continuous.\n",
            "logged_in: symbolic.\n",
            "num_compromised: continuous.\n",
            "root_shell: continuous.\n",
            "su_attempted: continuous.\n",
            "num_root: continuous.\n",
            "num_file_creations: continuous.\n",
            "num_shells: continuous.\n",
            "num_access_files: continuous.\n",
            "num_outbound_cmds: continuous.\n",
            "is_host_login: symbolic.\n",
            "is_guest_login: symbolic.\n",
            "count: continuous.\n",
            "srv_count: continuous.\n",
            "serror_rate: continuous.\n",
            "srv_serror_rate: continuous.\n",
            "rerror_rate: continuous.\n",
            "srv_rerror_rate: continuous.\n",
            "same_srv_rate: continuous.\n"
          ]
        }
      ],
      "source": [
        "! head -30 kddcup.names"
      ]
    },
    {
      "cell_type": "code",
      "execution_count": 17,
      "metadata": {
        "collapsed": true,
        "id": "VoNkapNuJJL1"
      },
      "outputs": [],
      "source": [
        "fieldname_raw_rdd = sc.textFile('kddcup.names')"
      ]
    },
    {
      "cell_type": "code",
      "execution_count": 18,
      "metadata": {
        "collapsed": true,
        "id": "hnzP3a31JJL1"
      },
      "outputs": [],
      "source": [
        "all_attack = str(fieldname_raw_rdd.take(1)[0])"
      ]
    },
    {
      "cell_type": "code",
      "execution_count": 19,
      "metadata": {
        "collapsed": true,
        "id": "BdgtWL3BJJL1"
      },
      "outputs": [],
      "source": [
        "fieldname_rdd = fieldname_raw_rdd.\\\n",
        "filter(lambda x: x != all_attack).\\\n",
        "map(lambda y: y.split(':')).\\\n",
        "map(lambda z:(z[0],z[1]))"
      ]
    },
    {
      "cell_type": "code",
      "execution_count": 20,
      "metadata": {
        "collapsed": true,
        "id": "1lxJ8ZG7JJL1"
      },
      "outputs": [],
      "source": [
        "from pyspark.sql.types import *"
      ]
    },
    {
      "cell_type": "code",
      "execution_count": 21,
      "metadata": {
        "collapsed": true,
        "id": "pM4bZoU5JJL1"
      },
      "outputs": [],
      "source": [
        "def createschema(item):\n",
        "    if item[1] == ' continuous.': \n",
        "        return StructField(item[0], FloatType(), True)\n",
        "    if item[1] == ' symbolic.': \n",
        "        return StructField(item[0], StringType(), True)\n",
        "    "
      ]
    },
    {
      "cell_type": "code",
      "execution_count": 22,
      "metadata": {
        "collapsed": true,
        "id": "8nQSKMpvJJL2"
      },
      "outputs": [],
      "source": [
        "fieldname_list = fieldname_rdd.map(createschema).collect()"
      ]
    },
    {
      "cell_type": "code",
      "execution_count": 23,
      "metadata": {
        "collapsed": true,
        "id": "IqMzhwgWJJL2"
      },
      "outputs": [],
      "source": [
        "fieldname_list.append(StructField('attack', StringType(), True))"
      ]
    },
    {
      "cell_type": "code",
      "execution_count": 24,
      "metadata": {
        "collapsed": true,
        "id": "fxOPheDYJJL2"
      },
      "outputs": [],
      "source": [
        "schema = StructType(fieldname_list)"
      ]
    },
    {
      "cell_type": "code",
      "execution_count": 25,
      "metadata": {
        "collapsed": true,
        "id": "i0Hy-QlZJJL2"
      },
      "outputs": [],
      "source": [
        "from pyspark.ml.feature import OneHotEncoder, StringIndexer\n",
        "from pyspark.ml.feature import VectorAssembler\n",
        "from pyspark.mllib.clustering import KMeans, KMeansModel\n",
        "from pyspark.ml.feature import StringIndexer, VectorAssembler,\\\n",
        "OneHotEncoder\n",
        "from pyspark.ml.tuning import ParamGridBuilder, CrossValidator\n",
        "from pyspark.ml.evaluation import MulticlassClassificationEvaluator,\\\n",
        "BinaryClassificationEvaluator\n",
        "from pyspark.ml.classification import LogisticRegression, GBTClassifier,\\\n",
        "NaiveBayes, RandomForestClassifier\n",
        "from pyspark.ml import Pipeline\n",
        "from pyspark.ml.clustering import *"
      ]
    },
    {
      "cell_type": "code",
      "source": [
        "from pyspark import SQLContext"
      ],
      "metadata": {
        "id": "lSCang05Ocm5"
      },
      "execution_count": 26,
      "outputs": []
    },
    {
      "cell_type": "code",
      "source": [
        "sqlContext = SQLContext(sc)"
      ],
      "metadata": {
        "id": "Uj8XL3SLOmBb"
      },
      "execution_count": 27,
      "outputs": []
    },
    {
      "cell_type": "code",
      "execution_count": 28,
      "metadata": {
        "collapsed": true,
        "id": "EY0ASHw2JJL3"
      },
      "outputs": [],
      "source": [
        "raw_df = sqlContext.read.format('com.databricks.spark.csv').\\\n",
        "options(header='false', inferschema='true').\\\n",
        "schema(schema).load('kddcup.data')"
      ]
    },
    {
      "cell_type": "code",
      "execution_count": 29,
      "metadata": {
        "collapsed": true,
        "id": "9_KMVRGaJJL3"
      },
      "outputs": [],
      "source": [
        "raw_df1 = raw_df.repartition(60)"
      ]
    },
    {
      "cell_type": "code",
      "execution_count": 30,
      "metadata": {
        "collapsed": true,
        "id": "BFGvR6lKJJL3"
      },
      "outputs": [],
      "source": [
        "raw_df2 = raw_df1.cache()"
      ]
    },
    {
      "cell_type": "code",
      "execution_count": 31,
      "metadata": {
        "colab": {
          "base_uri": "https://localhost:8080/"
        },
        "id": "C9uvwOspJJL3",
        "outputId": "eb39d6a8-e621-4c10-e1ec-7a2d93bfc1c5"
      },
      "outputs": [
        {
          "output_type": "stream",
          "name": "stdout",
          "text": [
            "root\n",
            " |-- duration: float (nullable = true)\n",
            " |-- protocol_type: string (nullable = true)\n",
            " |-- service: string (nullable = true)\n",
            " |-- flag: string (nullable = true)\n",
            " |-- src_bytes: float (nullable = true)\n",
            " |-- dst_bytes: float (nullable = true)\n",
            " |-- land: string (nullable = true)\n",
            " |-- wrong_fragment: float (nullable = true)\n",
            " |-- urgent: float (nullable = true)\n",
            " |-- hot: float (nullable = true)\n",
            " |-- num_failed_logins: float (nullable = true)\n",
            " |-- logged_in: string (nullable = true)\n",
            " |-- num_compromised: float (nullable = true)\n",
            " |-- root_shell: float (nullable = true)\n",
            " |-- su_attempted: float (nullable = true)\n",
            " |-- num_root: float (nullable = true)\n",
            " |-- num_file_creations: float (nullable = true)\n",
            " |-- num_shells: float (nullable = true)\n",
            " |-- num_access_files: float (nullable = true)\n",
            " |-- num_outbound_cmds: float (nullable = true)\n",
            " |-- is_host_login: string (nullable = true)\n",
            " |-- is_guest_login: string (nullable = true)\n",
            " |-- count: float (nullable = true)\n",
            " |-- srv_count: float (nullable = true)\n",
            " |-- serror_rate: float (nullable = true)\n",
            " |-- srv_serror_rate: float (nullable = true)\n",
            " |-- rerror_rate: float (nullable = true)\n",
            " |-- srv_rerror_rate: float (nullable = true)\n",
            " |-- same_srv_rate: float (nullable = true)\n",
            " |-- diff_srv_rate: float (nullable = true)\n",
            " |-- srv_diff_host_rate: float (nullable = true)\n",
            " |-- dst_host_count: float (nullable = true)\n",
            " |-- dst_host_srv_count: float (nullable = true)\n",
            " |-- dst_host_same_srv_rate: float (nullable = true)\n",
            " |-- dst_host_diff_srv_rate: float (nullable = true)\n",
            " |-- dst_host_same_src_port_rate: float (nullable = true)\n",
            " |-- dst_host_srv_diff_host_rate: float (nullable = true)\n",
            " |-- dst_host_serror_rate: float (nullable = true)\n",
            " |-- dst_host_srv_serror_rate: float (nullable = true)\n",
            " |-- dst_host_rerror_rate: float (nullable = true)\n",
            " |-- dst_host_srv_rerror_rate: float (nullable = true)\n",
            " |-- attack: string (nullable = true)\n",
            "\n"
          ]
        }
      ],
      "source": [
        "raw_df2.printSchema()"
      ]
    },
    {
      "cell_type": "markdown",
      "metadata": {
        "id": "QAjnTVdNJJL3"
      },
      "source": [
        "# Data Understanding with EDA"
      ]
    },
    {
      "cell_type": "code",
      "execution_count": 32,
      "metadata": {
        "scrolled": true,
        "colab": {
          "base_uri": "https://localhost:8080/",
          "height": 1000
        },
        "id": "zQpeEmt7JJL4",
        "outputId": "3dcbd442-bd68-4194-d01e-f24940e4325c"
      },
      "outputs": [
        {
          "output_type": "execute_result",
          "data": {
            "text/plain": [
              "                                   0                      1  \\\n",
              "summary                        count                   mean   \n",
              "duration                     4898431      48.34243046395876   \n",
              "protocol_type                4898431                   None   \n",
              "service                      4898431                   None   \n",
              "flag                         4898431                   None   \n",
              "src_bytes                    4898431     1834.6211678800823   \n",
              "dst_bytes                    4898431     1093.6228200417645   \n",
              "land                         4898431   5.716116037972159E-6   \n",
              "wrong_fragment               4898431   6.487791703098401E-4   \n",
              "urgent                       4898431   7.961733052889793E-6   \n",
              "hot                          4898431   0.012437656057623349   \n",
              "num_failed_logins            4898431   3.205107921291532E-5   \n",
              "logged_in                    4898431    0.14352901980246327   \n",
              "num_compromised              4898431   0.008088304193730605   \n",
              "root_shell                   4898431    6.81850984529536E-5   \n",
              "su_attempted                 4898431   3.674646024410674E-5   \n",
              "num_root                     4898431   0.012934958152926926   \n",
              "num_file_creations           4898431  0.0011887479888968528   \n",
              "num_shells                   4898431   7.430950849363806E-5   \n",
              "num_access_files             4898431   0.001021143300783455   \n",
              "num_outbound_cmds            4898431                    0.0   \n",
              "is_host_login                4898431   4.082940027122971E-7   \n",
              "is_guest_login               4898431   8.351653825480036E-4   \n",
              "count                        4898431     334.97344027097654   \n",
              "srv_count                    4898431     295.26708613431526   \n",
              "serror_rate                  4898431      0.177970280695684   \n",
              "srv_serror_rate              4898431     0.1780369530582431   \n",
              "rerror_rate                  4898431    0.05766509113306917   \n",
              "srv_rerror_rate              4898431     0.0577301017439945   \n",
              "same_srv_rate                4898431     0.7898841751246242   \n",
              "diff_srv_rate                4898431   0.021179606214381207   \n",
              "srv_diff_host_rate           4898431   0.028260804438505843   \n",
              "dst_host_count               4898431     232.98108271811932   \n",
              "dst_host_srv_count           4898431     189.21424492863122   \n",
              "dst_host_same_srv_rate       4898431     0.7537132359568831   \n",
              "dst_host_diff_srv_rate       4898431   0.030711105199577277   \n",
              "dst_host_same_src_port_rate  4898431     0.6050520115930491   \n",
              "dst_host_srv_diff_host_rate  4898431     0.0064641065376151   \n",
              "dst_host_serror_rate         4898431     0.1780911479605764   \n",
              "dst_host_srv_serror_rate     4898431    0.17788586181760885   \n",
              "dst_host_rerror_rate         4898431   0.057927803823320356   \n",
              "dst_host_srv_rerror_rate     4898431    0.05765941381908168   \n",
              "attack                       4898431                   None   \n",
              "\n",
              "                                                2      3             4  \n",
              "summary                                    stddev    min           max  \n",
              "duration                        723.3298112546697    0.0       58329.0  \n",
              "protocol_type                                None   icmp           udp  \n",
              "service                                      None    IRC         whois  \n",
              "flag                                         None    OTH            SH  \n",
              "src_bytes                        941431.070365538    0.0   1.3799639E9  \n",
              "dst_bytes                       645012.3396853015    0.0  1.30993741E9  \n",
              "land                          0.00239083343855467      0             1  \n",
              "wrong_fragment                0.04285433675493735    0.0           3.0  \n",
              "urgent                       0.007215083685169107    0.0          14.0  \n",
              "hot                            0.4689781645888022    0.0          77.0  \n",
              "num_failed_logins            0.007299407575927256    0.0           5.0  \n",
              "logged_in                      0.3506115590970801      0             1  \n",
              "num_compromised                3.8564810353262047    0.0        7479.0  \n",
              "root_shell                   0.008257146187644943    0.0           1.0  \n",
              "su_attempted                 0.008082431779339302    0.0           2.0  \n",
              "num_root                       3.9380753010059486    0.0        7468.0  \n",
              "num_file_creations            0.12418574848207323    0.0          43.0  \n",
              "num_shells                   0.008737589609832109    0.0           2.0  \n",
              "num_access_files              0.03551048135651186    0.0           9.0  \n",
              "num_outbound_cmds                             0.0    0.0           0.0  \n",
              "is_host_login                6.389788097897193E-4      0             1  \n",
              "is_guest_login                0.02888716067193084      0             1  \n",
              "count                          211.99078248048247    0.0         511.0  \n",
              "srv_count                      245.99271017842602    0.0         511.0  \n",
              "serror_rate                    0.3818755915520399    0.0           1.0  \n",
              "srv_serror_rate               0.38225408605304395    0.0           1.0  \n",
              "rerror_rate                    0.2322529232278027    0.0           1.0  \n",
              "srv_rerror_rate               0.23266040304182836    0.0           1.0  \n",
              "same_srv_rate                  0.3892958374900356    0.0           1.0  \n",
              "diff_srv_rate                 0.08271458378257947    0.0           1.0  \n",
              "srv_diff_host_rate            0.14055956519088267    0.0           1.0  \n",
              "dst_host_count                  64.02093735054571    0.0         255.0  \n",
              "dst_host_srv_count             105.91276735114639    0.0         255.0  \n",
              "dst_host_same_srv_rate         0.4111860148720998    0.0           1.0  \n",
              "dst_host_diff_srv_rate        0.10854321389091338    0.0           1.0  \n",
              "dst_host_same_src_port_rate    0.4809877182216777    0.0           1.0  \n",
              "dst_host_srv_diff_host_rate  0.041259779247308496    0.0           1.0  \n",
              "dst_host_serror_rate          0.38183820667506724    0.0           1.0  \n",
              "dst_host_srv_serror_rate      0.38217743828611345    0.0           1.0  \n",
              "dst_host_rerror_rate          0.23094281923049462    0.0           1.0  \n",
              "dst_host_srv_rerror_rate      0.23097770963677478    0.0           1.0  \n",
              "attack                                       None  back.  warezmaster.  "
            ],
            "text/html": [
              "\n",
              "  <div id=\"df-27467775-d718-4442-b1f8-cab1d8e868bd\">\n",
              "    <div class=\"colab-df-container\">\n",
              "      <div>\n",
              "<style scoped>\n",
              "    .dataframe tbody tr th:only-of-type {\n",
              "        vertical-align: middle;\n",
              "    }\n",
              "\n",
              "    .dataframe tbody tr th {\n",
              "        vertical-align: top;\n",
              "    }\n",
              "\n",
              "    .dataframe thead th {\n",
              "        text-align: right;\n",
              "    }\n",
              "</style>\n",
              "<table border=\"1\" class=\"dataframe\">\n",
              "  <thead>\n",
              "    <tr style=\"text-align: right;\">\n",
              "      <th></th>\n",
              "      <th>0</th>\n",
              "      <th>1</th>\n",
              "      <th>2</th>\n",
              "      <th>3</th>\n",
              "      <th>4</th>\n",
              "    </tr>\n",
              "  </thead>\n",
              "  <tbody>\n",
              "    <tr>\n",
              "      <th>summary</th>\n",
              "      <td>count</td>\n",
              "      <td>mean</td>\n",
              "      <td>stddev</td>\n",
              "      <td>min</td>\n",
              "      <td>max</td>\n",
              "    </tr>\n",
              "    <tr>\n",
              "      <th>duration</th>\n",
              "      <td>4898431</td>\n",
              "      <td>48.34243046395876</td>\n",
              "      <td>723.3298112546697</td>\n",
              "      <td>0.0</td>\n",
              "      <td>58329.0</td>\n",
              "    </tr>\n",
              "    <tr>\n",
              "      <th>protocol_type</th>\n",
              "      <td>4898431</td>\n",
              "      <td>None</td>\n",
              "      <td>None</td>\n",
              "      <td>icmp</td>\n",
              "      <td>udp</td>\n",
              "    </tr>\n",
              "    <tr>\n",
              "      <th>service</th>\n",
              "      <td>4898431</td>\n",
              "      <td>None</td>\n",
              "      <td>None</td>\n",
              "      <td>IRC</td>\n",
              "      <td>whois</td>\n",
              "    </tr>\n",
              "    <tr>\n",
              "      <th>flag</th>\n",
              "      <td>4898431</td>\n",
              "      <td>None</td>\n",
              "      <td>None</td>\n",
              "      <td>OTH</td>\n",
              "      <td>SH</td>\n",
              "    </tr>\n",
              "    <tr>\n",
              "      <th>src_bytes</th>\n",
              "      <td>4898431</td>\n",
              "      <td>1834.6211678800823</td>\n",
              "      <td>941431.070365538</td>\n",
              "      <td>0.0</td>\n",
              "      <td>1.3799639E9</td>\n",
              "    </tr>\n",
              "    <tr>\n",
              "      <th>dst_bytes</th>\n",
              "      <td>4898431</td>\n",
              "      <td>1093.6228200417645</td>\n",
              "      <td>645012.3396853015</td>\n",
              "      <td>0.0</td>\n",
              "      <td>1.30993741E9</td>\n",
              "    </tr>\n",
              "    <tr>\n",
              "      <th>land</th>\n",
              "      <td>4898431</td>\n",
              "      <td>5.716116037972159E-6</td>\n",
              "      <td>0.00239083343855467</td>\n",
              "      <td>0</td>\n",
              "      <td>1</td>\n",
              "    </tr>\n",
              "    <tr>\n",
              "      <th>wrong_fragment</th>\n",
              "      <td>4898431</td>\n",
              "      <td>6.487791703098401E-4</td>\n",
              "      <td>0.04285433675493735</td>\n",
              "      <td>0.0</td>\n",
              "      <td>3.0</td>\n",
              "    </tr>\n",
              "    <tr>\n",
              "      <th>urgent</th>\n",
              "      <td>4898431</td>\n",
              "      <td>7.961733052889793E-6</td>\n",
              "      <td>0.007215083685169107</td>\n",
              "      <td>0.0</td>\n",
              "      <td>14.0</td>\n",
              "    </tr>\n",
              "    <tr>\n",
              "      <th>hot</th>\n",
              "      <td>4898431</td>\n",
              "      <td>0.012437656057623349</td>\n",
              "      <td>0.4689781645888022</td>\n",
              "      <td>0.0</td>\n",
              "      <td>77.0</td>\n",
              "    </tr>\n",
              "    <tr>\n",
              "      <th>num_failed_logins</th>\n",
              "      <td>4898431</td>\n",
              "      <td>3.205107921291532E-5</td>\n",
              "      <td>0.007299407575927256</td>\n",
              "      <td>0.0</td>\n",
              "      <td>5.0</td>\n",
              "    </tr>\n",
              "    <tr>\n",
              "      <th>logged_in</th>\n",
              "      <td>4898431</td>\n",
              "      <td>0.14352901980246327</td>\n",
              "      <td>0.3506115590970801</td>\n",
              "      <td>0</td>\n",
              "      <td>1</td>\n",
              "    </tr>\n",
              "    <tr>\n",
              "      <th>num_compromised</th>\n",
              "      <td>4898431</td>\n",
              "      <td>0.008088304193730605</td>\n",
              "      <td>3.8564810353262047</td>\n",
              "      <td>0.0</td>\n",
              "      <td>7479.0</td>\n",
              "    </tr>\n",
              "    <tr>\n",
              "      <th>root_shell</th>\n",
              "      <td>4898431</td>\n",
              "      <td>6.81850984529536E-5</td>\n",
              "      <td>0.008257146187644943</td>\n",
              "      <td>0.0</td>\n",
              "      <td>1.0</td>\n",
              "    </tr>\n",
              "    <tr>\n",
              "      <th>su_attempted</th>\n",
              "      <td>4898431</td>\n",
              "      <td>3.674646024410674E-5</td>\n",
              "      <td>0.008082431779339302</td>\n",
              "      <td>0.0</td>\n",
              "      <td>2.0</td>\n",
              "    </tr>\n",
              "    <tr>\n",
              "      <th>num_root</th>\n",
              "      <td>4898431</td>\n",
              "      <td>0.012934958152926926</td>\n",
              "      <td>3.9380753010059486</td>\n",
              "      <td>0.0</td>\n",
              "      <td>7468.0</td>\n",
              "    </tr>\n",
              "    <tr>\n",
              "      <th>num_file_creations</th>\n",
              "      <td>4898431</td>\n",
              "      <td>0.0011887479888968528</td>\n",
              "      <td>0.12418574848207323</td>\n",
              "      <td>0.0</td>\n",
              "      <td>43.0</td>\n",
              "    </tr>\n",
              "    <tr>\n",
              "      <th>num_shells</th>\n",
              "      <td>4898431</td>\n",
              "      <td>7.430950849363806E-5</td>\n",
              "      <td>0.008737589609832109</td>\n",
              "      <td>0.0</td>\n",
              "      <td>2.0</td>\n",
              "    </tr>\n",
              "    <tr>\n",
              "      <th>num_access_files</th>\n",
              "      <td>4898431</td>\n",
              "      <td>0.001021143300783455</td>\n",
              "      <td>0.03551048135651186</td>\n",
              "      <td>0.0</td>\n",
              "      <td>9.0</td>\n",
              "    </tr>\n",
              "    <tr>\n",
              "      <th>num_outbound_cmds</th>\n",
              "      <td>4898431</td>\n",
              "      <td>0.0</td>\n",
              "      <td>0.0</td>\n",
              "      <td>0.0</td>\n",
              "      <td>0.0</td>\n",
              "    </tr>\n",
              "    <tr>\n",
              "      <th>is_host_login</th>\n",
              "      <td>4898431</td>\n",
              "      <td>4.082940027122971E-7</td>\n",
              "      <td>6.389788097897193E-4</td>\n",
              "      <td>0</td>\n",
              "      <td>1</td>\n",
              "    </tr>\n",
              "    <tr>\n",
              "      <th>is_guest_login</th>\n",
              "      <td>4898431</td>\n",
              "      <td>8.351653825480036E-4</td>\n",
              "      <td>0.02888716067193084</td>\n",
              "      <td>0</td>\n",
              "      <td>1</td>\n",
              "    </tr>\n",
              "    <tr>\n",
              "      <th>count</th>\n",
              "      <td>4898431</td>\n",
              "      <td>334.97344027097654</td>\n",
              "      <td>211.99078248048247</td>\n",
              "      <td>0.0</td>\n",
              "      <td>511.0</td>\n",
              "    </tr>\n",
              "    <tr>\n",
              "      <th>srv_count</th>\n",
              "      <td>4898431</td>\n",
              "      <td>295.26708613431526</td>\n",
              "      <td>245.99271017842602</td>\n",
              "      <td>0.0</td>\n",
              "      <td>511.0</td>\n",
              "    </tr>\n",
              "    <tr>\n",
              "      <th>serror_rate</th>\n",
              "      <td>4898431</td>\n",
              "      <td>0.177970280695684</td>\n",
              "      <td>0.3818755915520399</td>\n",
              "      <td>0.0</td>\n",
              "      <td>1.0</td>\n",
              "    </tr>\n",
              "    <tr>\n",
              "      <th>srv_serror_rate</th>\n",
              "      <td>4898431</td>\n",
              "      <td>0.1780369530582431</td>\n",
              "      <td>0.38225408605304395</td>\n",
              "      <td>0.0</td>\n",
              "      <td>1.0</td>\n",
              "    </tr>\n",
              "    <tr>\n",
              "      <th>rerror_rate</th>\n",
              "      <td>4898431</td>\n",
              "      <td>0.05766509113306917</td>\n",
              "      <td>0.2322529232278027</td>\n",
              "      <td>0.0</td>\n",
              "      <td>1.0</td>\n",
              "    </tr>\n",
              "    <tr>\n",
              "      <th>srv_rerror_rate</th>\n",
              "      <td>4898431</td>\n",
              "      <td>0.0577301017439945</td>\n",
              "      <td>0.23266040304182836</td>\n",
              "      <td>0.0</td>\n",
              "      <td>1.0</td>\n",
              "    </tr>\n",
              "    <tr>\n",
              "      <th>same_srv_rate</th>\n",
              "      <td>4898431</td>\n",
              "      <td>0.7898841751246242</td>\n",
              "      <td>0.3892958374900356</td>\n",
              "      <td>0.0</td>\n",
              "      <td>1.0</td>\n",
              "    </tr>\n",
              "    <tr>\n",
              "      <th>diff_srv_rate</th>\n",
              "      <td>4898431</td>\n",
              "      <td>0.021179606214381207</td>\n",
              "      <td>0.08271458378257947</td>\n",
              "      <td>0.0</td>\n",
              "      <td>1.0</td>\n",
              "    </tr>\n",
              "    <tr>\n",
              "      <th>srv_diff_host_rate</th>\n",
              "      <td>4898431</td>\n",
              "      <td>0.028260804438505843</td>\n",
              "      <td>0.14055956519088267</td>\n",
              "      <td>0.0</td>\n",
              "      <td>1.0</td>\n",
              "    </tr>\n",
              "    <tr>\n",
              "      <th>dst_host_count</th>\n",
              "      <td>4898431</td>\n",
              "      <td>232.98108271811932</td>\n",
              "      <td>64.02093735054571</td>\n",
              "      <td>0.0</td>\n",
              "      <td>255.0</td>\n",
              "    </tr>\n",
              "    <tr>\n",
              "      <th>dst_host_srv_count</th>\n",
              "      <td>4898431</td>\n",
              "      <td>189.21424492863122</td>\n",
              "      <td>105.91276735114639</td>\n",
              "      <td>0.0</td>\n",
              "      <td>255.0</td>\n",
              "    </tr>\n",
              "    <tr>\n",
              "      <th>dst_host_same_srv_rate</th>\n",
              "      <td>4898431</td>\n",
              "      <td>0.7537132359568831</td>\n",
              "      <td>0.4111860148720998</td>\n",
              "      <td>0.0</td>\n",
              "      <td>1.0</td>\n",
              "    </tr>\n",
              "    <tr>\n",
              "      <th>dst_host_diff_srv_rate</th>\n",
              "      <td>4898431</td>\n",
              "      <td>0.030711105199577277</td>\n",
              "      <td>0.10854321389091338</td>\n",
              "      <td>0.0</td>\n",
              "      <td>1.0</td>\n",
              "    </tr>\n",
              "    <tr>\n",
              "      <th>dst_host_same_src_port_rate</th>\n",
              "      <td>4898431</td>\n",
              "      <td>0.6050520115930491</td>\n",
              "      <td>0.4809877182216777</td>\n",
              "      <td>0.0</td>\n",
              "      <td>1.0</td>\n",
              "    </tr>\n",
              "    <tr>\n",
              "      <th>dst_host_srv_diff_host_rate</th>\n",
              "      <td>4898431</td>\n",
              "      <td>0.0064641065376151</td>\n",
              "      <td>0.041259779247308496</td>\n",
              "      <td>0.0</td>\n",
              "      <td>1.0</td>\n",
              "    </tr>\n",
              "    <tr>\n",
              "      <th>dst_host_serror_rate</th>\n",
              "      <td>4898431</td>\n",
              "      <td>0.1780911479605764</td>\n",
              "      <td>0.38183820667506724</td>\n",
              "      <td>0.0</td>\n",
              "      <td>1.0</td>\n",
              "    </tr>\n",
              "    <tr>\n",
              "      <th>dst_host_srv_serror_rate</th>\n",
              "      <td>4898431</td>\n",
              "      <td>0.17788586181760885</td>\n",
              "      <td>0.38217743828611345</td>\n",
              "      <td>0.0</td>\n",
              "      <td>1.0</td>\n",
              "    </tr>\n",
              "    <tr>\n",
              "      <th>dst_host_rerror_rate</th>\n",
              "      <td>4898431</td>\n",
              "      <td>0.057927803823320356</td>\n",
              "      <td>0.23094281923049462</td>\n",
              "      <td>0.0</td>\n",
              "      <td>1.0</td>\n",
              "    </tr>\n",
              "    <tr>\n",
              "      <th>dst_host_srv_rerror_rate</th>\n",
              "      <td>4898431</td>\n",
              "      <td>0.05765941381908168</td>\n",
              "      <td>0.23097770963677478</td>\n",
              "      <td>0.0</td>\n",
              "      <td>1.0</td>\n",
              "    </tr>\n",
              "    <tr>\n",
              "      <th>attack</th>\n",
              "      <td>4898431</td>\n",
              "      <td>None</td>\n",
              "      <td>None</td>\n",
              "      <td>back.</td>\n",
              "      <td>warezmaster.</td>\n",
              "    </tr>\n",
              "  </tbody>\n",
              "</table>\n",
              "</div>\n",
              "      <button class=\"colab-df-convert\" onclick=\"convertToInteractive('df-27467775-d718-4442-b1f8-cab1d8e868bd')\"\n",
              "              title=\"Convert this dataframe to an interactive table.\"\n",
              "              style=\"display:none;\">\n",
              "        \n",
              "  <svg xmlns=\"http://www.w3.org/2000/svg\" height=\"24px\"viewBox=\"0 0 24 24\"\n",
              "       width=\"24px\">\n",
              "    <path d=\"M0 0h24v24H0V0z\" fill=\"none\"/>\n",
              "    <path d=\"M18.56 5.44l.94 2.06.94-2.06 2.06-.94-2.06-.94-.94-2.06-.94 2.06-2.06.94zm-11 1L8.5 8.5l.94-2.06 2.06-.94-2.06-.94L8.5 2.5l-.94 2.06-2.06.94zm10 10l.94 2.06.94-2.06 2.06-.94-2.06-.94-.94-2.06-.94 2.06-2.06.94z\"/><path d=\"M17.41 7.96l-1.37-1.37c-.4-.4-.92-.59-1.43-.59-.52 0-1.04.2-1.43.59L10.3 9.45l-7.72 7.72c-.78.78-.78 2.05 0 2.83L4 21.41c.39.39.9.59 1.41.59.51 0 1.02-.2 1.41-.59l7.78-7.78 2.81-2.81c.8-.78.8-2.07 0-2.86zM5.41 20L4 18.59l7.72-7.72 1.47 1.35L5.41 20z\"/>\n",
              "  </svg>\n",
              "      </button>\n",
              "      \n",
              "  <style>\n",
              "    .colab-df-container {\n",
              "      display:flex;\n",
              "      flex-wrap:wrap;\n",
              "      gap: 12px;\n",
              "    }\n",
              "\n",
              "    .colab-df-convert {\n",
              "      background-color: #E8F0FE;\n",
              "      border: none;\n",
              "      border-radius: 50%;\n",
              "      cursor: pointer;\n",
              "      display: none;\n",
              "      fill: #1967D2;\n",
              "      height: 32px;\n",
              "      padding: 0 0 0 0;\n",
              "      width: 32px;\n",
              "    }\n",
              "\n",
              "    .colab-df-convert:hover {\n",
              "      background-color: #E2EBFA;\n",
              "      box-shadow: 0px 1px 2px rgba(60, 64, 67, 0.3), 0px 1px 3px 1px rgba(60, 64, 67, 0.15);\n",
              "      fill: #174EA6;\n",
              "    }\n",
              "\n",
              "    [theme=dark] .colab-df-convert {\n",
              "      background-color: #3B4455;\n",
              "      fill: #D2E3FC;\n",
              "    }\n",
              "\n",
              "    [theme=dark] .colab-df-convert:hover {\n",
              "      background-color: #434B5C;\n",
              "      box-shadow: 0px 1px 3px 1px rgba(0, 0, 0, 0.15);\n",
              "      filter: drop-shadow(0px 1px 2px rgba(0, 0, 0, 0.3));\n",
              "      fill: #FFFFFF;\n",
              "    }\n",
              "  </style>\n",
              "\n",
              "      <script>\n",
              "        const buttonEl =\n",
              "          document.querySelector('#df-27467775-d718-4442-b1f8-cab1d8e868bd button.colab-df-convert');\n",
              "        buttonEl.style.display =\n",
              "          google.colab.kernel.accessAllowed ? 'block' : 'none';\n",
              "\n",
              "        async function convertToInteractive(key) {\n",
              "          const element = document.querySelector('#df-27467775-d718-4442-b1f8-cab1d8e868bd');\n",
              "          const dataTable =\n",
              "            await google.colab.kernel.invokeFunction('convertToInteractive',\n",
              "                                                     [key], {});\n",
              "          if (!dataTable) return;\n",
              "\n",
              "          const docLinkHtml = 'Like what you see? Visit the ' +\n",
              "            '<a target=\"_blank\" href=https://colab.research.google.com/notebooks/data_table.ipynb>data table notebook</a>'\n",
              "            + ' to learn more about interactive tables.';\n",
              "          element.innerHTML = '';\n",
              "          dataTable['output_type'] = 'display_data';\n",
              "          await google.colab.output.renderOutput(dataTable, element);\n",
              "          const docLink = document.createElement('div');\n",
              "          docLink.innerHTML = docLinkHtml;\n",
              "          element.appendChild(docLink);\n",
              "        }\n",
              "      </script>\n",
              "    </div>\n",
              "  </div>\n",
              "  "
            ]
          },
          "metadata": {},
          "execution_count": 32
        }
      ],
      "source": [
        "raw_df2.describe().toPandas().transpose()"
      ]
    },
    {
      "cell_type": "code",
      "execution_count": 33,
      "metadata": {
        "colab": {
          "base_uri": "https://localhost:8080/"
        },
        "id": "Y77FwFKZJJL4",
        "outputId": "577cdaee-b21a-4136-db72-9bfcb5d037b3"
      },
      "outputs": [
        {
          "output_type": "execute_result",
          "data": {
            "text/plain": [
              "4898431"
            ]
          },
          "metadata": {},
          "execution_count": 33
        }
      ],
      "source": [
        "raw_df2.count()"
      ]
    },
    {
      "cell_type": "code",
      "execution_count": 34,
      "metadata": {
        "collapsed": true,
        "id": "0kBOHZEIJJL4"
      },
      "outputs": [],
      "source": [
        "nolabel_df = raw_df2.drop('attack').drop('service')"
      ]
    },
    {
      "cell_type": "code",
      "execution_count": 35,
      "metadata": {
        "colab": {
          "base_uri": "https://localhost:8080/"
        },
        "id": "iBtMYiqxJJL4",
        "outputId": "abef2976-9c6e-414c-85f3-26c8e7b83c7a"
      },
      "outputs": [
        {
          "output_type": "execute_result",
          "data": {
            "text/plain": [
              "4898431"
            ]
          },
          "metadata": {},
          "execution_count": 35
        }
      ],
      "source": [
        "nolabel_df.count()"
      ]
    },
    {
      "cell_type": "code",
      "execution_count": 36,
      "metadata": {
        "colab": {
          "base_uri": "https://localhost:8080/"
        },
        "id": "RwHdK_5RJJL4",
        "outputId": "0dd555a8-66fb-4663-a111-0e3f705cbd5e"
      },
      "outputs": [
        {
          "output_type": "execute_result",
          "data": {
            "text/plain": [
              "4898431"
            ]
          },
          "metadata": {},
          "execution_count": 36
        }
      ],
      "source": [
        "nolabel_df.dropna().count()"
      ]
    },
    {
      "cell_type": "code",
      "execution_count": 36,
      "metadata": {
        "collapsed": true,
        "id": "u8vWm25cJJL4"
      },
      "outputs": [],
      "source": [
        ""
      ]
    },
    {
      "cell_type": "markdown",
      "metadata": {
        "id": "aIo7WMD7JJL5"
      },
      "source": [
        "# Modeling with ML Pipeline and Unsupervised Learning"
      ]
    },
    {
      "cell_type": "code",
      "execution_count": 37,
      "metadata": {
        "collapsed": true,
        "id": "YmgEDLmqJJL5"
      },
      "outputs": [],
      "source": [
        "protocol_typeIndexer = StringIndexer(inputCol=\"protocol_type\", \\\n",
        "                                     outputCol=\"protocol_typeIndex\")\n",
        "protocol_typeVector = OneHotEncoder(inputCol='protocol_typeIndex', \\\n",
        "                                    outputCol='protocol_typeVec')\n",
        "\n",
        "flagIndexer = StringIndexer(inputCol=\"flag\", outputCol=\"flagIndex\")\n",
        "flagVector = OneHotEncoder(inputCol='flagIndex', outputCol='flagVec')"
      ]
    },
    {
      "cell_type": "code",
      "execution_count": 38,
      "metadata": {
        "collapsed": true,
        "id": "vprlO-rQJJL5"
      },
      "outputs": [],
      "source": [
        "assembler = VectorAssembler\\\n",
        "(inputCols=['duration', 'dst_bytes','wrong_fragment', 'urgent', \\\n",
        "            'hot', 'num_failed_logins', 'num_compromised', 'root_shell', \\\n",
        "            'su_attempted', 'num_root', 'num_file_creations', 'num_shells', \\\n",
        "            'num_access_files', 'num_outbound_cmds', 'count', 'srv_count', \\\n",
        "            'serror_rate', 'srv_serror_rate', 'rerror_rate', \\\n",
        "            'srv_rerror_rate', 'same_srv_rate', 'diff_srv_rate', \\\n",
        "            'srv_diff_host_rate', 'dst_host_count', 'dst_host_srv_count', \\\n",
        "            'dst_host_same_srv_rate', 'dst_host_diff_srv_rate', \\\n",
        "            'dst_host_same_src_port_rate', 'dst_host_srv_diff_host_rate', \\\n",
        "            'dst_host_serror_rate', 'dst_host_srv_serror_rate', \\\n",
        "            'dst_host_rerror_rate', 'dst_host_srv_rerror_rate',\\\n",
        "            'protocol_typeVec','flagVec'],outputCol='features')"
      ]
    },
    {
      "cell_type": "code",
      "execution_count": 39,
      "metadata": {
        "collapsed": true,
        "id": "BpgBzTkjJJL5"
      },
      "outputs": [],
      "source": [
        "kmeans = KMeans(featuresCol='features',\\\n",
        "                k=20,predictionCol='prediction',\\\n",
        "                maxIter=20,initMode=\"random\", \\\n",
        "                initSteps=5)"
      ]
    },
    {
      "cell_type": "code",
      "execution_count": 40,
      "metadata": {
        "collapsed": true,
        "id": "VemIPgI7JJL5"
      },
      "outputs": [],
      "source": [
        "pipeline = Pipeline().\\\n",
        "setStages([protocol_typeIndexer,protocol_typeVector,\\\n",
        "           flagIndexer,flagVector,assembler,kmeans])"
      ]
    },
    {
      "cell_type": "code",
      "execution_count": 41,
      "metadata": {
        "collapsed": true,
        "id": "JdKoxopVJJL5"
      },
      "outputs": [],
      "source": [
        "kMeansPredictionModel = pipeline.fit(nolabel_df)"
      ]
    },
    {
      "cell_type": "code",
      "execution_count": 42,
      "metadata": {
        "collapsed": true,
        "id": "2aqeFiYfJJL6"
      },
      "outputs": [],
      "source": [
        "predictionResult = kMeansPredictionModel.transform(raw_df2)"
      ]
    },
    {
      "cell_type": "markdown",
      "metadata": {
        "id": "bz00qI-0JJL6"
      },
      "source": [
        "# Model Evaluation - ประเมินจากมุมมองทางธุรกิจ"
      ]
    },
    {
      "cell_type": "code",
      "execution_count": 43,
      "metadata": {
        "collapsed": true,
        "id": "tYI_BsYWJJL6"
      },
      "outputs": [],
      "source": [
        "from pyspark.sql import functions as sparkf"
      ]
    },
    {
      "cell_type": "markdown",
      "metadata": {
        "id": "X3C--LOdJJL6"
      },
      "source": [
        "##### Data Scientist ดูว่า Group ID ไหน ที่มี Meaning เป็นประโยชน์กับธุรกิจ"
      ]
    },
    {
      "cell_type": "code",
      "execution_count": 44,
      "metadata": {
        "colab": {
          "base_uri": "https://localhost:8080/"
        },
        "id": "-s_ECaeUJJL6",
        "outputId": "beae61c3-64d8-4aec-c075-2285f0c110b4"
      },
      "outputs": [
        {
          "output_type": "stream",
          "name": "stdout",
          "text": [
            "+----------------+----------+-------+\n",
            "|          attack|prediction|  count|\n",
            "+----------------+----------+-------+\n",
            "|         normal.|        13|   7804|\n",
            "|    warezclient.|        13|     22|\n",
            "|      portsweep.|        13|    258|\n",
            "|    warezmaster.|        12|      1|\n",
            "|           back.|        12|     19|\n",
            "|buffer_overflow.|        12|     25|\n",
            "|          satan.|        12|      1|\n",
            "|   guess_passwd.|        12|      1|\n",
            "|     loadmodule.|        12|      3|\n",
            "|        rootkit.|        12|      2|\n",
            "|         normal.|        12| 189004|\n",
            "|      ftp_write.|        12|      1|\n",
            "|    warezclient.|        12|    275|\n",
            "|           perl.|        12|      3|\n",
            "|    warezclient.|        11|     70|\n",
            "|      portsweep.|        11|     97|\n",
            "|         normal.|        11|  30764|\n",
            "|        neptune.|        10| 602004|\n",
            "|          satan.|        10|  13635|\n",
            "|         normal.|        10|    208|\n",
            "|      portsweep.|        10|    533|\n",
            "|           nmap.|        10|      1|\n",
            "|       teardrop.|        10|     31|\n",
            "|          smurf.|        10|    131|\n",
            "|    warezmaster.|         9|     15|\n",
            "|         normal.|         9|    110|\n",
            "|         normal.|         8|    815|\n",
            "|      portsweep.|         8|    632|\n",
            "|    warezmaster.|         7|      1|\n",
            "|           back.|         7|      6|\n",
            "|     loadmodule.|         7|      5|\n",
            "|         normal.|         7| 366623|\n",
            "|       multihop.|         7|      2|\n",
            "|          satan.|         7|     12|\n",
            "|      ftp_write.|         7|      2|\n",
            "|        rootkit.|         7|      1|\n",
            "|        neptune.|         7|      1|\n",
            "|buffer_overflow.|         7|      2|\n",
            "|            spy.|         7|      2|\n",
            "|      portsweep.|         7|      2|\n",
            "|      portsweep.|         6|      3|\n",
            "|         normal.|         5|  17717|\n",
            "|buffer_overflow.|         5|      1|\n",
            "|      ftp_write.|         5|      1|\n",
            "|        rootkit.|         5|      1|\n",
            "|       multihop.|         5|      1|\n",
            "|        ipsweep.|         5|      1|\n",
            "|    warezmaster.|         4|      1|\n",
            "|         normal.|         4|    551|\n",
            "|           imap.|         4|      1|\n",
            "|       multihop.|         4|      2|\n",
            "|          satan.|         3|   2243|\n",
            "|           land.|         3|     21|\n",
            "|      portsweep.|         3|   8888|\n",
            "|       teardrop.|         3|    948|\n",
            "|        ipsweep.|         3|  12480|\n",
            "|    warezmaster.|         3|      1|\n",
            "|           imap.|         3|     10|\n",
            "|      ftp_write.|         3|      4|\n",
            "|            pod.|         3|    264|\n",
            "|          smurf.|         3|   2408|\n",
            "|   guess_passwd.|         3|     52|\n",
            "|           nmap.|         3|   2315|\n",
            "|    warezclient.|         3|    653|\n",
            "|       multihop.|         3|      1|\n",
            "|        rootkit.|         3|      5|\n",
            "|        neptune.|         3| 470012|\n",
            "|           back.|         3|      1|\n",
            "|         normal.|         3| 273494|\n",
            "|        rootkit.|         2|      1|\n",
            "|           back.|         2|   2177|\n",
            "|            phf.|         2|      4|\n",
            "|    warezmaster.|         2|      1|\n",
            "|buffer_overflow.|         2|      2|\n",
            "|     loadmodule.|         2|      1|\n",
            "|           imap.|         2|      1|\n",
            "|         normal.|         2|  84249|\n",
            "|       multihop.|         2|      1|\n",
            "|          satan.|         2|      1|\n",
            "|         normal.|         1|     19|\n",
            "|          smurf.|         1|2628267|\n",
            "|         normal.|         0|   1423|\n",
            "|          smurf.|         0| 177080|\n",
            "+----------------+----------+-------+\n",
            "\n"
          ]
        }
      ],
      "source": [
        "predictionResult.select(['attack','prediction'])\\\n",
        ".groupBy('attack','prediction').count().orderBy(sparkf.col('prediction'),ascending=False).show(100)"
      ]
    },
    {
      "cell_type": "markdown",
      "metadata": {
        "id": "V6ISs_OMJJL6"
      },
      "source": [
        "##### เลือกกลุ่มและทำความเข้าใจความหมายของกลุ่ม"
      ]
    },
    {
      "cell_type": "code",
      "execution_count": 45,
      "metadata": {
        "collapsed": true,
        "id": "qfKbmL1qJJL7"
      },
      "outputs": [],
      "source": [
        "potentialAttack_group = 1"
      ]
    },
    {
      "cell_type": "markdown",
      "metadata": {
        "id": "n-D_LRkuJJL7"
      },
      "source": [
        "##### กลุ่มหมายเลข ... นี้ (1) บรรจุ data point เกินครึ่งของ data ทั้งหมด และ (2) น่าสังเกตว่า data point ในกลุ่มนี้เกิน 95% เป็น smurf อีกทั้ง (3) smurf เกือบทั้งหมดอยู่ในกลุ่มนี้ "
      ]
    },
    {
      "cell_type": "code",
      "execution_count": 46,
      "metadata": {
        "colab": {
          "base_uri": "https://localhost:8080/"
        },
        "id": "w2x_1m3FJJL7",
        "outputId": "2f52cb9f-29f2-4e86-e0a7-fb57cb06cade"
      },
      "outputs": [
        {
          "output_type": "stream",
          "name": "stdout",
          "text": [
            "+-------+----------+-------+\n",
            "| attack|prediction|  count|\n",
            "+-------+----------+-------+\n",
            "|normal.|         1|     19|\n",
            "| smurf.|         1|2628267|\n",
            "+-------+----------+-------+\n",
            "\n"
          ]
        }
      ],
      "source": [
        "predictionResult.select(['attack','prediction'])\\\n",
        ".groupBy('attack','prediction').count()\\\n",
        ".filter(sparkf.col('prediction') == potentialAttack_group)\\\n",
        ".orderBy(sparkf.col('prediction'),ascending=False).show(100)"
      ]
    },
    {
      "cell_type": "markdown",
      "metadata": {
        "id": "12O8cYWeJJL7"
      },
      "source": [
        "##### พิสูจน์"
      ]
    },
    {
      "cell_type": "code",
      "execution_count": 47,
      "metadata": {
        "colab": {
          "base_uri": "https://localhost:8080/"
        },
        "id": "2NS4uCL5JJL7",
        "outputId": "5e046e33-71b0-4b00-a91d-7ad066d6e616"
      },
      "outputs": [
        {
          "output_type": "execute_result",
          "data": {
            "text/plain": [
              "4898431"
            ]
          },
          "metadata": {},
          "execution_count": 47
        }
      ],
      "source": [
        "predictionResult.count()"
      ]
    },
    {
      "cell_type": "code",
      "execution_count": 48,
      "metadata": {
        "colab": {
          "base_uri": "https://localhost:8080/"
        },
        "id": "u5a_mqMEJJL7",
        "outputId": "73d53ec7-74bc-4a28-f282-1133b8673378"
      },
      "outputs": [
        {
          "output_type": "stream",
          "name": "stdout",
          "text": [
            "+-----------------------+-------------------------------------------------+\n",
            "|ข้อมูลในกลุ่มนี้ทั้งหมด|(1) ข้อมูลในกลุ่มนี้คิดเป็นกี่ % ของข้อมูลทั้งหมด|\n",
            "+-----------------------+-------------------------------------------------+\n",
            "|                2628286|                                53.65567056063462|\n",
            "+-----------------------+-------------------------------------------------+\n",
            "\n"
          ]
        }
      ],
      "source": [
        "predictionResult.select(['attack','prediction'])\\\n",
        ".filter(sparkf.col('prediction') == potentialAttack_group)\\\n",
        ".agg(sparkf.count('prediction').alias('ข้อมูลในกลุ่มนี้ทั้งหมด')\\\n",
        "     ,((100/predictionResult.count())*sparkf.count('prediction')).alias('(1) ข้อมูลในกลุ่มนี้คิดเป็นกี่ % ของข้อมูลทั้งหมด'))\\\n",
        ".show()"
      ]
    },
    {
      "cell_type": "code",
      "execution_count": 49,
      "metadata": {
        "colab": {
          "base_uri": "https://localhost:8080/"
        },
        "id": "5pTQMJTAJJL8",
        "outputId": "123fa8d4-73e2-427d-bba7-0b3741c6c012"
      },
      "outputs": [
        {
          "output_type": "stream",
          "name": "stdout",
          "text": [
            "+-------+----------+------------------------------------+\n",
            "| attack|prediction|(2) เกือบทั้งหมดในกลุ่มนี้เป็น smurf|\n",
            "+-------+----------+------------------------------------+\n",
            "|normal.|         1|                              7.2E-4|\n",
            "| smurf.|         1|                            99.99928|\n",
            "+-------+----------+------------------------------------+\n",
            "\n"
          ]
        }
      ],
      "source": [
        "predictionResult.select(['attack','prediction'])\\\n",
        ".groupBy('attack','prediction')\\\n",
        ".agg(sparkf.round((100/predictionResult.filter(sparkf.col('prediction') == potentialAttack_group).count())\\\n",
        "                  *sparkf.count('prediction'),5).alias('(2) เกือบทั้งหมดในกลุ่มนี้เป็น smurf'))\\\n",
        ".filter(sparkf.col('prediction') == potentialAttack_group)\\\n",
        ".show()"
      ]
    },
    {
      "cell_type": "code",
      "execution_count": 50,
      "metadata": {
        "colab": {
          "base_uri": "https://localhost:8080/"
        },
        "id": "nsNIE6NAJJL8",
        "outputId": "6779976d-1e56-4301-fa6d-27394384385b"
      },
      "outputs": [
        {
          "output_type": "stream",
          "name": "stdout",
          "text": [
            "+----------------------+--------------------------------------------------+\n",
            "|จำนวน smurf ในกลุ่มนี้|(3) smurf ในกลุ่มนี้คิดเป็นกี่ % ของ smurf ทั้งหมด|\n",
            "+----------------------+--------------------------------------------------+\n",
            "|               2628267|                                 93.60305226066869|\n",
            "+----------------------+--------------------------------------------------+\n",
            "\n"
          ]
        }
      ],
      "source": [
        "predictionResult.select(['attack','prediction'])\\\n",
        ".filter(sparkf.col('prediction') == potentialAttack_group)\\\n",
        ".filter(sparkf.col('attack').startswith('smurf'))\\\n",
        ".agg(sparkf.count('prediction').alias('จำนวน smurf ในกลุ่มนี้')\\\n",
        "     ,((100/predictionResult.filter(sparkf.col('attack').startswith('smurf'))\\\n",
        "        .count())*sparkf.count('prediction')).alias('(3) smurf ในกลุ่มนี้คิดเป็นกี่ % ของ smurf ทั้งหมด'))\\\n",
        ".show()"
      ]
    },
    {
      "cell_type": "code",
      "execution_count": 50,
      "metadata": {
        "collapsed": true,
        "id": "dNLRB8yZJJL8"
      },
      "outputs": [],
      "source": [
        ""
      ]
    },
    {
      "cell_type": "code",
      "execution_count": 51,
      "metadata": {
        "colab": {
          "base_uri": "https://localhost:8080/"
        },
        "id": "bIg-2f3dJJL8",
        "outputId": "f3e8d7b4-0991-41fa-8a02-3f787a3097ab"
      },
      "outputs": [
        {
          "output_type": "stream",
          "name": "stdout",
          "text": [
            "--2022-03-20 08:15:24--  http://kdd.ics.uci.edu/databases/kddcup99/corrected.gz\n",
            "Resolving kdd.ics.uci.edu (kdd.ics.uci.edu)... 128.195.1.86\n",
            "Connecting to kdd.ics.uci.edu (kdd.ics.uci.edu)|128.195.1.86|:80... connected.\n",
            "HTTP request sent, awaiting response... 200 OK\n",
            "Length: 1409035 (1.3M) [application/x-gzip]\n",
            "Saving to: ‘corrected.gz’\n",
            "\n",
            "corrected.gz        100%[===================>]   1.34M  1.33MB/s    in 1.0s    \n",
            "\n",
            "2022-03-20 08:15:25 (1.33 MB/s) - ‘corrected.gz’ saved [1409035/1409035]\n",
            "\n"
          ]
        }
      ],
      "source": [
        "! wget http://kdd.ics.uci.edu/databases/kddcup99/corrected.gz"
      ]
    },
    {
      "cell_type": "code",
      "execution_count": 52,
      "metadata": {
        "collapsed": true,
        "id": "CWpMpMHiJJL9"
      },
      "outputs": [],
      "source": [
        "! gunzip corrected.gz"
      ]
    },
    {
      "cell_type": "code",
      "execution_count": 53,
      "metadata": {
        "colab": {
          "base_uri": "https://localhost:8080/"
        },
        "id": "LZ9iaxIUJJL9",
        "outputId": "81067e90-a2b1-433a-ba8c-fa3a94173629"
      },
      "outputs": [
        {
          "output_type": "stream",
          "name": "stdout",
          "text": [
            "-rw-r--r-- 1 root root 47251540 May 16  2000 corrected\n"
          ]
        }
      ],
      "source": [
        "! ls -l corrected*"
      ]
    },
    {
      "cell_type": "code",
      "execution_count": 54,
      "metadata": {
        "colab": {
          "base_uri": "https://localhost:8080/"
        },
        "id": "WDKVGketJJL9",
        "outputId": "8773f968-f236-4551-fa83-a46b8f59bb75"
      },
      "outputs": [
        {
          "output_type": "stream",
          "name": "stdout",
          "text": [
            "0,udp,private,SF,105,146,0,0,0,0,0,0,0,0,0,0,0,0,0,0,0,0,1,1,0.00,0.00,0.00,0.00,1.00,0.00,0.00,255,254,1.00,0.01,0.00,0.00,0.00,0.00,0.00,0.00,normal.\n",
            "0,udp,private,SF,105,146,0,0,0,0,0,0,0,0,0,0,0,0,0,0,0,0,1,1,0.00,0.00,0.00,0.00,1.00,0.00,0.00,255,254,1.00,0.01,0.00,0.00,0.00,0.00,0.00,0.00,normal.\n",
            "0,udp,private,SF,105,146,0,0,0,0,0,0,0,0,0,0,0,0,0,0,0,0,1,1,0.00,0.00,0.00,0.00,1.00,0.00,0.00,255,254,1.00,0.01,0.00,0.00,0.00,0.00,0.00,0.00,normal.\n"
          ]
        }
      ],
      "source": [
        "! head -3 corrected"
      ]
    },
    {
      "cell_type": "code",
      "execution_count": 55,
      "metadata": {
        "collapsed": true,
        "id": "nHwSvahtJJL9"
      },
      "outputs": [],
      "source": [
        "test_df = sqlContext.read.format('com.databricks.spark.csv').\\\n",
        "options(header='false', inferschema='true').schema(schema).\\\n",
        "load('corrected')"
      ]
    },
    {
      "cell_type": "code",
      "execution_count": 56,
      "metadata": {
        "collapsed": true,
        "id": "dhzOc-IuJJL9"
      },
      "outputs": [],
      "source": [
        "test_df1 = test_df.repartition(60)"
      ]
    },
    {
      "cell_type": "code",
      "execution_count": 57,
      "metadata": {
        "collapsed": true,
        "id": "O1YXq7iPJJL9"
      },
      "outputs": [],
      "source": [
        "test_df2 = test_df1.cache()"
      ]
    },
    {
      "cell_type": "code",
      "execution_count": 58,
      "metadata": {
        "colab": {
          "base_uri": "https://localhost:8080/"
        },
        "id": "rqkn3TBsJJL-",
        "outputId": "4bfa7252-40e8-4351-ccef-6c508da268f2"
      },
      "outputs": [
        {
          "output_type": "execute_result",
          "data": {
            "text/plain": [
              "311029"
            ]
          },
          "metadata": {},
          "execution_count": 58
        }
      ],
      "source": [
        "test_df2.count()"
      ]
    },
    {
      "cell_type": "code",
      "execution_count": 59,
      "metadata": {
        "collapsed": true,
        "id": "IcYbISDGJJL-"
      },
      "outputs": [],
      "source": [
        "test_result = kMeansPredictionModel.\\\n",
        "transform(test_df2)"
      ]
    },
    {
      "cell_type": "code",
      "execution_count": 60,
      "metadata": {
        "collapsed": true,
        "id": "LXG1OBgrJJL-"
      },
      "outputs": [],
      "source": [
        "final_result = test_result.\\\n",
        "groupBy('attack','prediction').count()"
      ]
    },
    {
      "cell_type": "markdown",
      "metadata": {
        "id": "NTl8xZdkJJL-"
      },
      "source": [
        "##### น่าสนใจมากที่ ข้อมูลที่ไม่เคยนำมาใช้สร้างโมเดล แต่เมื่อนำมาถามโมเดลแล้ว ให้คำตอบที่ค่อนข้างแม่นยำ"
      ]
    },
    {
      "cell_type": "code",
      "execution_count": 61,
      "metadata": {
        "colab": {
          "base_uri": "https://localhost:8080/"
        },
        "id": "_wE1l-IHJJL-",
        "outputId": "52e5063b-a596-4ef1-f61f-71726cd190d8"
      },
      "outputs": [
        {
          "output_type": "stream",
          "name": "stdout",
          "text": [
            "+--------+----------+------+\n",
            "|  attack|prediction| count|\n",
            "+--------+----------+------+\n",
            "| normal.|         1|   588|\n",
            "|  smurf.|         1|131114|\n",
            "|ipsweep.|         1|     3|\n",
            "+--------+----------+------+\n",
            "\n"
          ]
        }
      ],
      "source": [
        "final_result.filter(final_result['prediction'] == potentialAttack_group).\\\n",
        "orderBy(final_result['prediction'],ascending = False).show(150)"
      ]
    },
    {
      "cell_type": "markdown",
      "metadata": {
        "id": "KY5-rLcsJJL-"
      },
      "source": [
        "##### มี smurf ที่หลุดไปจากกลุ่มนี้หรือไม่"
      ]
    },
    {
      "cell_type": "code",
      "execution_count": 62,
      "metadata": {
        "colab": {
          "base_uri": "https://localhost:8080/"
        },
        "id": "hItdQc6DJJL-",
        "outputId": "784eda69-9a42-4aba-b566-0ebb7c510100"
      },
      "outputs": [
        {
          "output_type": "stream",
          "name": "stdout",
          "text": [
            "+------+----------+-----+\n",
            "|attack|prediction|count|\n",
            "+------+----------+-----+\n",
            "|smurf.|        10|    8|\n",
            "|smurf.|         3|32641|\n",
            "|smurf.|         0|  328|\n",
            "+------+----------+-----+\n",
            "\n"
          ]
        }
      ],
      "source": [
        "final_result.filter(final_result['prediction'] != potentialAttack_group)\\\n",
        ".filter(sparkf.col('attack').startswith('smurf'))\\\n",
        ".orderBy(final_result['prediction'],ascending = False).show(150)"
      ]
    },
    {
      "cell_type": "code",
      "execution_count": 62,
      "metadata": {
        "collapsed": true,
        "id": "ctMGQUEjJJL_"
      },
      "outputs": [],
      "source": [
        ""
      ]
    },
    {
      "cell_type": "code",
      "execution_count": null,
      "metadata": {
        "collapsed": true,
        "id": "d5HuYE7rJJL_"
      },
      "outputs": [],
      "source": [
        ""
      ]
    }
  ],
  "metadata": {
    "anaconda-cloud": {},
    "kernelspec": {
      "display_name": "Python 3",
      "language": "python",
      "name": "python3"
    },
    "language_info": {
      "codemirror_mode": {
        "name": "ipython",
        "version": 3
      },
      "file_extension": ".py",
      "mimetype": "text/x-python",
      "name": "python",
      "nbconvert_exporter": "python",
      "pygments_lexer": "ipython3",
      "version": "3.6.1"
    },
    "colab": {
      "name": "Colab-PySpark-Clustering+of+Network+Interaction-Demo.ipynb",
      "provenance": [],
      "collapsed_sections": [],
      "machine_shape": "hm",
      "include_colab_link": true
    }
  },
  "nbformat": 4,
  "nbformat_minor": 0
}