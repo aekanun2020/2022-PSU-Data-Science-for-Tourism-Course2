{
  "cells": [
    {
      "cell_type": "markdown",
      "metadata": {
        "id": "view-in-github",
        "colab_type": "text"
      },
      "source": [
        "<a href=\"https://colab.research.google.com/github/aekanun2020/2022-PSU-Data-Science-for-Tourism-Course2/blob/main/Starter-2022_Prediction_of_Customer_Behavior_onColab-ClassRev1-2.ipynb\" target=\"_parent\"><img src=\"https://colab.research.google.com/assets/colab-badge.svg\" alt=\"Open In Colab\"/></a>"
      ]
    },
    {
      "cell_type": "markdown",
      "metadata": {
        "id": "SYq4wBqPMeUF"
      },
      "source": [
        "# Setting up Spark Environment"
      ]
    },
    {
      "cell_type": "code",
      "source": [
        "!apt-get install openjdk-8-jdk-headless -qq > /dev/null\n",
        "!wget -q https://archive.apache.org/dist/spark/spark-3.1.2/spark-3.1.2-bin-hadoop2.7.tgz\n",
        "!tar xf spark-3.1.2-bin-hadoop2.7.tgz\n",
        "!pip install -q findspark"
      ],
      "metadata": {
        "id": "HPxsXZF68Y2W"
      },
      "execution_count": 1,
      "outputs": []
    },
    {
      "cell_type": "code",
      "source": [
        "import os\n",
        "os.environ[\"JAVA_HOME\"] = \"/usr/lib/jvm/java-8-openjdk-amd64\"\n",
        "os.environ[\"SPARK_HOME\"] = \"/content/spark-3.1.2-bin-hadoop2.7\""
      ],
      "metadata": {
        "id": "pPglG_-u8Yyb"
      },
      "execution_count": 2,
      "outputs": []
    },
    {
      "cell_type": "code",
      "source": [
        "import findspark\n",
        "findspark.init()\n",
        "from pyspark.sql import SparkSession\n",
        "spark = SparkSession.builder.master(\"local[*]\").getOrCreate()"
      ],
      "metadata": {
        "id": "evO23wAd8YvD"
      },
      "execution_count": 3,
      "outputs": []
    },
    {
      "cell_type": "code",
      "source": [
        "from pyspark.sql import SparkSession"
      ],
      "metadata": {
        "id": "q0tSHb8A8YpE"
      },
      "execution_count": 4,
      "outputs": []
    },
    {
      "cell_type": "code",
      "source": [
        ""
      ],
      "metadata": {
        "id": "1y8GJyuW8Ygv"
      },
      "execution_count": 4,
      "outputs": []
    },
    {
      "cell_type": "code",
      "source": [
        ""
      ],
      "metadata": {
        "id": "XyjLErWr8YV0"
      },
      "execution_count": 4,
      "outputs": []
    },
    {
      "cell_type": "code",
      "execution_count": 5,
      "metadata": {
        "id": "GBqMbCCxa2Kv"
      },
      "outputs": [],
      "source": [
        "sc = spark.sparkContext"
      ]
    },
    {
      "cell_type": "code",
      "execution_count": 6,
      "metadata": {
        "colab": {
          "base_uri": "https://localhost:8080/",
          "height": 197
        },
        "id": "MjoDgjaja2Kv",
        "outputId": "4a78e42a-02f1-4a90-b7d1-880719801793"
      },
      "outputs": [
        {
          "output_type": "execute_result",
          "data": {
            "text/html": [
              "\n",
              "        <div>\n",
              "            <p><b>SparkContext</b></p>\n",
              "\n",
              "            <p><a href=\"http://50ba1db4bfb1:4040\">Spark UI</a></p>\n",
              "\n",
              "            <dl>\n",
              "              <dt>Version</dt>\n",
              "                <dd><code>v3.1.2</code></dd>\n",
              "              <dt>Master</dt>\n",
              "                <dd><code>local[*]</code></dd>\n",
              "              <dt>AppName</dt>\n",
              "                <dd><code>pyspark-shell</code></dd>\n",
              "            </dl>\n",
              "        </div>\n",
              "        "
            ],
            "text/plain": [
              "<SparkContext master=local[*] appName=pyspark-shell>"
            ]
          },
          "metadata": {},
          "execution_count": 6
        }
      ],
      "source": [
        "sc"
      ]
    },
    {
      "cell_type": "markdown",
      "metadata": {
        "id": "7OpgrJBRMZ0_"
      },
      "source": [
        "# Libraries and Modules Installation"
      ]
    },
    {
      "cell_type": "code",
      "execution_count": 7,
      "metadata": {
        "id": "QeyucOzDM1hG"
      },
      "outputs": [],
      "source": [
        "#Spark\n",
        "from pyspark.sql import functions as sparkf\n",
        "from pyspark.sql import Window as W\n",
        "from pyspark.sql.types import *\n",
        "from pyspark.ml.feature import StringIndexer, OneHotEncoder\n",
        "from pyspark.mllib.linalg import Vectors\n",
        "from pyspark.ml.feature import VectorAssembler\n",
        "from pyspark.ml import Pipeline\n",
        "from pyspark.ml.classification import RandomForestClassifier\n",
        "from pyspark.ml.tuning import CrossValidator, ParamGridBuilder\n",
        "from pyspark.ml.evaluation import BinaryClassificationEvaluator, MulticlassClassificationEvaluator\n",
        "\n",
        "#Python\n",
        "import matplotlib.pyplot as plt\n",
        "import pandas as pd\n",
        "import numpy as np\n",
        "import sys\n",
        "from functools import reduce"
      ]
    },
    {
      "cell_type": "markdown",
      "metadata": {
        "id": "hGSzhwXj3yeo"
      },
      "source": [
        "# 1. Business Understanding"
      ]
    },
    {
      "cell_type": "markdown",
      "metadata": {
        "id": "dDaZFOMCNNuP"
      },
      "source": [
        "**Problem Statement-A: ธุรกิจต้องการได้รับ Machine Learning Model ที่ทำให้ทราบล่วงหน้าว่า ลูกค้าที่กำลังเลือกดูสินค้าอยู่ จะซื้อหรือไม่ซื้อสินค้าหรือไม่ (Binary Classification)**"
      ]
    },
    {
      "cell_type": "markdown",
      "metadata": {
        "id": "kEtZoJ0G7EwF"
      },
      "source": [
        "**Problem Statement-B: ธุรกิจต้องการได้รับ Machine Learning Model ที่ทำให้ทราบล่วงหน้าว่า ลูกค้าที่กำลังเลือกดูสินค้าอยู่ จะมีพฤติกรรมสุดท้าย (Last hitAction_type) เป็นอะไร เช่น ไม่ซื้อโดยมีพฤติกรรมสุดท้ายเป็นหยิบของใส่ตะกร้าไว้เฉยๆ หรือ ไม่ซื้อโดยมีพฤติกรรมอื่นๆ หรือซื้อสินค้า (Complete purchase)  (Multiclasses Classification)**"
      ]
    },
    {
      "cell_type": "markdown",
      "metadata": {
        "id": "1muUkZ-T7EwF"
      },
      "source": [
        "**Project Objectitves: (1) ธุรกิจต้องการ Offer อะไรสักอย่างให้ลูกค้าตัดสินใจซื้อได้รวดเร็วขึ้น - มุ่งคนที่ตั้งใจซื้ออยู่แล้ว (2) ธุรกิจต้องการให้เกิดการซื้อเพิ่ม (Up-Selling, Cross-Selling) - มุ่งคนที่ตั้งใจซื้ออยู่แล้ว ให้ซื้อมากขึ้น**"
      ]
    },
    {
      "cell_type": "markdown",
      "metadata": {
        "id": "AVV9-tap7EwF"
      },
      "source": [
        "*** Analytics Approach: A, B: Classification => Possible types of Algorithm: Supervised, Information-based, Error-based ***"
      ]
    },
    {
      "cell_type": "markdown",
      "metadata": {
        "id": "mecYv8Pf7EwG"
      },
      "source": [
        "**Requirement from Business Perspective: (1) ยังไม่ชัดเจนเรื่องข้อมูล รวมถึงคุณภาพข้อมูล (2) ปัจจัยที่มีอิทธิพลต่อการตัดสินใจซื้อหรือเลือกใช้บริการมีอะไรบ้าง และอะไรที่ไม่เกี่ยวข้องกับโจทย์นี้โดยตรงบ้าง**"
      ]
    },
    {
      "cell_type": "code",
      "execution_count": 8,
      "metadata": {
        "id": "6LNb4yc3GjN7"
      },
      "outputs": [],
      "source": [
        "business_NotRequired_col_list = [\\\n",
        "                        #'sourceKeyword'\\\n",
        "                        #,'fullVisitorId'\\\n",
        "                        #,'isVideoAd'\\\n",
        "                        #,'date'\\\n",
        "                        #,'isTrueDirect'\\\n",
        "                        #,'hitHour'\\\n",
        "                        #,'hitMin'\\\n",
        "                        #,'isClick'\\\n",
        "                        #,'productListName'\\\n",
        "                        #,'isImpression'\\\n",
        "                        #,'sessionQualityDim'\\\n",
        "                        #'timeOnScreen'\\\n",
        "                        #,'hitReferer'\\\n",
        "                        #,'medium'\\\n",
        "                        #,'hitType'\n",
        "                        ]\n",
        "\n",
        "business_Required_col_list = [\\\n",
        "                        #'sourceKeyword'\\\n",
        "                        #,'fullVisitorId'\\\n",
        "                        #,'isVideoAd'\\\n",
        "                        #,'date'\\\n",
        "                        #,'isTrueDirect'\\\n",
        "                        #,'hitHour'\\\n",
        "                        #,'hitMin'\\\n",
        "                        #,'isClick'\\\n",
        "                        #,'productListName'\\\n",
        "                        #,'isImpression'\\\n",
        "                        #,'sessionQualityDim'\\\n",
        "                        #'timeOnScreen'\\\n",
        "                        #,'hitReferer'\\\n",
        "                        #,'medium'\\\n",
        "                        #,'hitType'\n",
        "                        ]"
      ]
    },
    {
      "cell_type": "markdown",
      "metadata": {
        "id": "wd-tzpq37EwG"
      },
      "source": [
        "**Success Criteria: ต้องการให้มีการทดลองหลายๆ รอบ แล้วมีการทดสอบกับข้อมูลจริงโดยทีมนักการตลาด ซึ่งหากโมเดลไหน นักการตลาดพอใจก็จะเลือกโมเดลนั้น ในเบื้องต้นกำหนดไว้ว่า โมเดลจะต้องมีค่า Recall ไม่น้อยกว่า 0.7 จึงจะนำเข้าสู่กระบวนการทดสอบโดยนักการตลาดได้**"
      ]
    },
    {
      "cell_type": "code",
      "execution_count": 9,
      "metadata": {
        "id": "qhv2HdNz7EwH"
      },
      "outputs": [],
      "source": [
        "recallThreshold = 0.7"
      ]
    },
    {
      "cell_type": "markdown",
      "metadata": {
        "id": "QcjImh624NjJ"
      },
      "source": [
        "# 2. Data Understanding"
      ]
    },
    {
      "cell_type": "markdown",
      "metadata": {
        "id": "dGE-VXFnlt7O"
      },
      "source": [
        "### **2.1 Data Collection and Previewing Data**"
      ]
    },
    {
      "cell_type": "code",
      "execution_count": 10,
      "metadata": {
        "colab": {
          "base_uri": "https://localhost:8080/"
        },
        "id": "GsltUxZza2LE",
        "outputId": "901edbf6-7d04-40e8-e934-6248cec1a070"
      },
      "outputs": [
        {
          "output_type": "stream",
          "name": "stdout",
          "text": [
            "--2022-03-04 12:41:37--  https://storage.googleapis.com/class25jan2022/share/testfunnel.csv\n",
            "Resolving storage.googleapis.com (storage.googleapis.com)... 173.194.210.128, 173.194.211.128, 173.194.213.128, ...\n",
            "Connecting to storage.googleapis.com (storage.googleapis.com)|173.194.210.128|:443... connected.\n",
            "HTTP request sent, awaiting response... 200 OK\n",
            "Length: 1501012 (1.4M) [text/csv]\n",
            "Saving to: ‘testfunnel.csv’\n",
            "\n",
            "\rtestfunnel.csv        0%[                    ]       0  --.-KB/s               \rtestfunnel.csv      100%[===================>]   1.43M  --.-KB/s    in 0.01s   \n",
            "\n",
            "2022-03-04 12:41:37 (121 MB/s) - ‘testfunnel.csv’ saved [1501012/1501012]\n",
            "\n"
          ]
        }
      ],
      "source": [
        "! wget https://storage.googleapis.com/class25jan2022/share/testfunnel.csv"
      ]
    },
    {
      "cell_type": "code",
      "execution_count": 11,
      "metadata": {
        "colab": {
          "base_uri": "https://localhost:8080/"
        },
        "id": "Fn4-dQJpaeTW",
        "outputId": "3ff7cb91-2f98-4f95-8ae3-b84ed9cd0883"
      },
      "outputs": [
        {
          "output_type": "stream",
          "name": "stdout",
          "text": [
            "source,isTrueDirect,sourceKeyword,medium,isVideoAd,fullVisitorId,visitId,date,newVisits,hitReferer,hitType,hitAction_type,hitNumber,hitHour,hitMin,timeMicroSec,v2ProductName,productListName,isClick,isImpression,sessionQualityDim,timeOnScreen,timeOnSite,totalTransactionRevenue\n",
            "google,true,(not provided),organic,,4988612949713423910,1489617360,20170315,,,PAGE,0,28,15,46,608771,Google Accent Insulated Stainless Steel Bottle,Category,,true,,,1897,\n",
            "google,true,(not provided),organic,,4988612949713423910,1489617360,20170315,,,PAGE,0,27,15,46,605064,Google Pocket Bluetooth Speaker,Category,,true,,,1897,\n"
          ]
        }
      ],
      "source": [
        "! head -3 testfunnel.csv"
      ]
    },
    {
      "cell_type": "code",
      "execution_count": 12,
      "metadata": {
        "colab": {
          "base_uri": "https://localhost:8080/"
        },
        "id": "ZPIGtjCqEFmS",
        "outputId": "55ba1426-e3f1-491a-cb0a-a42689e18689"
      },
      "outputs": [
        {
          "output_type": "stream",
          "name": "stdout",
          "text": [
            "10000 testfunnel.csv\n"
          ]
        }
      ],
      "source": [
        "! wc -l testfunnel.csv"
      ]
    },
    {
      "cell_type": "code",
      "execution_count": 15,
      "metadata": {
        "id": "DRVIPIh503XR"
      },
      "outputs": [],
      "source": [
        "## Spark ทำการ Load & Convert .csv เป็น Spark's DataFrame\n",
        "source_df = spark.read.option('header','true')\\\n",
        ".option(\"inferSchema\" , \"true\")\\\n",
        ".format('csv').load('./testfunnel.csv')"
      ]
    },
    {
      "cell_type": "markdown",
      "metadata": {
        "id": "YOXlZnJLlqAz"
      },
      "source": [
        "### 2.2 EDA"
      ]
    },
    {
      "cell_type": "code",
      "execution_count": 14,
      "metadata": {
        "id": "iyzNvPhGlp90"
      },
      "outputs": [],
      "source": [
        ""
      ]
    },
    {
      "cell_type": "code",
      "execution_count": null,
      "metadata": {
        "id": "nkQ-avAOlp61"
      },
      "outputs": [],
      "source": [
        ""
      ]
    },
    {
      "cell_type": "code",
      "execution_count": null,
      "metadata": {
        "id": "YFeZBDIQlp31"
      },
      "outputs": [],
      "source": [
        ""
      ]
    },
    {
      "cell_type": "code",
      "execution_count": null,
      "metadata": {
        "id": "Km5Jd60zlp0h"
      },
      "outputs": [],
      "source": [
        ""
      ]
    },
    {
      "cell_type": "code",
      "execution_count": null,
      "metadata": {
        "id": "UxhNyCzTlpxq"
      },
      "outputs": [],
      "source": [
        ""
      ]
    },
    {
      "cell_type": "code",
      "execution_count": null,
      "metadata": {
        "id": "EvrZ855Slpud"
      },
      "outputs": [],
      "source": [
        ""
      ]
    },
    {
      "cell_type": "code",
      "execution_count": null,
      "metadata": {
        "id": "wkqkHDs5lpo6"
      },
      "outputs": [],
      "source": [
        ""
      ]
    },
    {
      "cell_type": "code",
      "execution_count": null,
      "metadata": {
        "id": "4SuqY0Hulpl0"
      },
      "outputs": [],
      "source": [
        ""
      ]
    }
  ],
  "metadata": {
    "colab": {
      "collapsed_sections": [],
      "machine_shape": "hm",
      "name": "2022_Prediction_of_Customer_Behavior_onColab_Rev3.4.ipynb",
      "provenance": [],
      "include_colab_link": true
    },
    "kernelspec": {
      "display_name": "Python 3",
      "name": "python3"
    },
    "language_info": {
      "name": "python"
    }
  },
  "nbformat": 4,
  "nbformat_minor": 0
}